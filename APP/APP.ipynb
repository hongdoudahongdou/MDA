{
 "cells": [
  {
   "cell_type": "code",
   "execution_count": 225,
   "id": "3d5a84c6",
   "metadata": {},
   "outputs": [
    {
     "name": "stdout",
     "output_type": "stream",
     "text": [
      "Note: you may need to restart the kernel to use updated packages.\n"
     ]
    }
   ],
   "source": [
    "pip list --format=freeze > requirements.txt"
   ]
  },
  {
   "cell_type": "code",
   "execution_count": 215,
   "id": "4dee0dbf",
   "metadata": {},
   "outputs": [],
   "source": [
    "from jupyter_dash import JupyterDash\n",
    "import dash_cytoscape as cyto\n",
    "from dash import html, dcc, Input, Output\n",
    "import pandas as pd\n",
    "import plotly.express as px\n",
    "import numpy as np\n",
    "import plotly.graph_objects as go\n",
    "import statsmodels.api as sm"
   ]
  },
  {
   "cell_type": "markdown",
   "id": "f6923c4b",
   "metadata": {},
   "source": [
    "## Heatwave Map"
   ]
  },
  {
   "cell_type": "code",
   "execution_count": 216,
   "id": "43a05c0d",
   "metadata": {},
   "outputs": [
    {
     "data": {
      "application/vnd.plotly.v1+json": {
       "config": {
        "plotlyServerURL": "https://plot.ly"
       },
       "data": [
        {
         "colorscale": [
          [
           0,
           "#636efa"
          ],
          [
           1,
           "#636efa"
          ]
         ],
         "geo": "geo",
         "hovertemplate": "Disaster Subtype=Heat wave<br>Year=1993<br>ISO=%{location}<extra></extra>",
         "locations": [
          "AUS",
          "USA"
         ],
         "name": "Heat wave",
         "showlegend": true,
         "showscale": false,
         "type": "choropleth",
         "z": [
          1,
          1
         ]
        }
       ],
       "frames": [
        {
         "data": [
          {
           "colorscale": [
            [
             0,
             "#636efa"
            ],
            [
             1,
             "#636efa"
            ]
           ],
           "geo": "geo",
           "hovertemplate": "Disaster Subtype=Heat wave<br>Year=1993<br>ISO=%{location}<extra></extra>",
           "locations": [
            "AUS",
            "USA"
           ],
           "name": "Heat wave",
           "showlegend": true,
           "showscale": false,
           "type": "choropleth",
           "z": [
            1,
            1
           ]
          }
         ],
         "name": "1993"
        },
        {
         "data": [
          {
           "colorscale": [
            [
             0,
             "#636efa"
            ],
            [
             1,
             "#636efa"
            ]
           ],
           "geo": "geo",
           "hovertemplate": "Disaster Subtype=Heat wave<br>Year=1990<br>ISO=%{location}<extra></extra>",
           "locations": [
            "MEX",
            "FRA",
            "KOR",
            "USA"
           ],
           "name": "Heat wave",
           "showlegend": true,
           "showscale": false,
           "type": "choropleth",
           "z": [
            1,
            1,
            1,
            1
           ]
          }
         ],
         "name": "1990"
        },
        {
         "data": [
          {
           "colorscale": [
            [
             0,
             "#636efa"
            ],
            [
             1,
             "#636efa"
            ]
           ],
           "geo": "geo",
           "hovertemplate": "Disaster Subtype=Heat wave<br>Year=1991<br>ISO=%{location}<extra></extra>",
           "locations": [
            "PAK"
           ],
           "name": "Heat wave",
           "showlegend": true,
           "showscale": false,
           "type": "choropleth",
           "z": [
            1
           ]
          }
         ],
         "name": "1991"
        },
        {
         "data": [
          {
           "colorscale": [
            [
             0,
             "#636efa"
            ],
            [
             1,
             "#636efa"
            ]
           ],
           "geo": "geo",
           "hovertemplate": "Disaster Subtype=Heat wave<br>Year=1994<br>ISO=%{location}<extra></extra>",
           "locations": [
            "AUS",
            "AUS",
            "CHN",
            "IND",
            "ROU"
           ],
           "name": "Heat wave",
           "showlegend": true,
           "showscale": false,
           "type": "choropleth",
           "z": [
            1,
            1,
            1,
            1,
            1
           ]
          }
         ],
         "name": "1994"
        },
        {
         "data": [
          {
           "colorscale": [
            [
             0,
             "#636efa"
            ],
            [
             1,
             "#636efa"
            ]
           ],
           "geo": "geo",
           "hovertemplate": "Disaster Subtype=Heat wave<br>Year=1995<br>ISO=%{location}<extra></extra>",
           "locations": [
            "AUS",
            "EGY",
            "ESP",
            "IND",
            "RUS",
            "USA"
           ],
           "name": "Heat wave",
           "showlegend": true,
           "showscale": false,
           "type": "choropleth",
           "z": [
            1,
            1,
            1,
            1,
            1,
            1
           ]
          }
         ],
         "name": "1995"
        },
        {
         "data": [
          {
           "colorscale": [
            [
             0,
             "#636efa"
            ],
            [
             1,
             "#636efa"
            ]
           ],
           "geo": "geo",
           "hovertemplate": "Disaster Subtype=Heat wave<br>Year=1997<br>ISO=%{location}<extra></extra>",
           "locations": [
            "CHN",
            "PAK"
           ],
           "name": "Heat wave",
           "showlegend": true,
           "showscale": false,
           "type": "choropleth",
           "z": [
            1,
            1
           ]
          }
         ],
         "name": "1997"
        },
        {
         "data": [
          {
           "colorscale": [
            [
             0,
             "#636efa"
            ],
            [
             1,
             "#636efa"
            ]
           ],
           "geo": "geo",
           "hovertemplate": "Disaster Subtype=Heat wave<br>Year=1996<br>ISO=%{location}<extra></extra>",
           "locations": [
            "EGY",
            "PAK",
            "ROU"
           ],
           "name": "Heat wave",
           "showlegend": true,
           "showscale": false,
           "type": "choropleth",
           "z": [
            1,
            1,
            1
           ]
          }
         ],
         "name": "1996"
        },
        {
         "data": [
          {
           "colorscale": [
            [
             0,
             "#636efa"
            ],
            [
             1,
             "#636efa"
            ]
           ],
           "geo": "geo",
           "hovertemplate": "Disaster Subtype=Heat wave<br>Year=1998<br>ISO=%{location}<extra></extra>",
           "locations": [
            "CYP",
            "IND",
            "ITA",
            "USA",
            "ROU"
           ],
           "name": "Heat wave",
           "showlegend": true,
           "showscale": false,
           "type": "choropleth",
           "z": [
            1,
            1,
            1,
            1,
            1
           ]
          }
         ],
         "name": "1998"
        },
        {
         "data": [
          {
           "colorscale": [
            [
             0,
             "#636efa"
            ],
            [
             1,
             "#636efa"
            ]
           ],
           "geo": "geo",
           "hovertemplate": "Disaster Subtype=Heat wave<br>Year=2000<br>ISO=%{location}<extra></extra>",
           "locations": [
            "BGR",
            "CYP",
            "GRC",
            "HRV",
            "ISR",
            "JOR",
            "MAR",
            "TUR",
            "PAK",
            "ROU",
            "USA"
           ],
           "name": "Heat wave",
           "showlegend": true,
           "showscale": false,
           "type": "choropleth",
           "z": [
            1,
            1,
            1,
            1,
            1,
            1,
            1,
            1,
            1,
            1,
            1
           ]
          }
         ],
         "name": "2000"
        },
        {
         "data": [
          {
           "colorscale": [
            [
             0,
             "#636efa"
            ],
            [
             1,
             "#636efa"
            ]
           ],
           "geo": "geo",
           "hovertemplate": "Disaster Subtype=Heat wave<br>Year=1999<br>ISO=%{location}<extra></extra>",
           "locations": [
            "IND",
            "LTU",
            "USA",
            "PAK"
           ],
           "name": "Heat wave",
           "showlegend": true,
           "showscale": false,
           "type": "choropleth",
           "z": [
            1,
            1,
            1,
            1
           ]
          }
         ],
         "name": "1999"
        },
        {
         "data": [
          {
           "colorscale": [
            [
             0,
             "#636efa"
            ],
            [
             1,
             "#636efa"
            ]
           ],
           "geo": "geo",
           "hovertemplate": "Disaster Subtype=Heat wave<br>Year=2002<br>ISO=%{location}<extra></extra>",
           "locations": [
            "CHN",
            "IND",
            "NGA",
            "PAK",
            "USA"
           ],
           "name": "Heat wave",
           "showlegend": true,
           "showscale": false,
           "type": "choropleth",
           "z": [
            1,
            1,
            1,
            1,
            1
           ]
          }
         ],
         "name": "2002"
        },
        {
         "data": [
          {
           "colorscale": [
            [
             0,
             "#636efa"
            ],
            [
             1,
             "#636efa"
            ]
           ],
           "geo": "geo",
           "hovertemplate": "Disaster Subtype=Heat wave<br>Year=2001<br>ISO=%{location}<extra></extra>",
           "locations": [
            "NZL",
            "RUS",
            "USA"
           ],
           "name": "Heat wave",
           "showlegend": true,
           "showscale": false,
           "type": "choropleth",
           "z": [
            1,
            1,
            1
           ]
          }
         ],
         "name": "2001"
        },
        {
         "data": [
          {
           "colorscale": [
            [
             0,
             "#636efa"
            ],
            [
             1,
             "#636efa"
            ]
           ],
           "geo": "geo",
           "hovertemplate": "Disaster Subtype=Heat wave<br>Year=2003<br>ISO=%{location}<extra></extra>",
           "locations": [
            "AUT",
            "BEL",
            "CHE",
            "DEU",
            "ESP",
            "FRA",
            "HRV",
            "IND",
            "ITA",
            "BGD",
            "CZE",
            "DZA",
            "GBR",
            "SVN",
            "SVK",
            "LUX",
            "NLD",
            "PAK",
            "PRT"
           ],
           "name": "Heat wave",
           "showlegend": true,
           "showscale": false,
           "type": "choropleth",
           "z": [
            1,
            1,
            1,
            1,
            1,
            1,
            1,
            1,
            1,
            1,
            1,
            1,
            1,
            1,
            1,
            1,
            1,
            1,
            1
           ]
          }
         ],
         "name": "2003"
        },
        {
         "data": [
          {
           "colorscale": [
            [
             0,
             "#636efa"
            ],
            [
             1,
             "#636efa"
            ]
           ],
           "geo": "geo",
           "hovertemplate": "Disaster Subtype=Heat wave<br>Year=2004<br>ISO=%{location}<extra></extra>",
           "locations": [
            "ALB",
            "CHN",
            "ESP",
            "JPN",
            "MKD",
            "ROU"
           ],
           "name": "Heat wave",
           "showlegend": true,
           "showscale": false,
           "type": "choropleth",
           "z": [
            1,
            1,
            1,
            1,
            1,
            1
           ]
          }
         ],
         "name": "2004"
        },
        {
         "data": [
          {
           "colorscale": [
            [
             0,
             "#636efa"
            ],
            [
             1,
             "#636efa"
            ]
           ],
           "geo": "geo",
           "hovertemplate": "Disaster Subtype=Heat wave<br>Year=2005<br>ISO=%{location}<extra></extra>",
           "locations": [
            "BGD",
            "CHN",
            "IND",
            "PAK",
            "PRT",
            "ROU",
            "USA"
           ],
           "name": "Heat wave",
           "showlegend": true,
           "showscale": false,
           "type": "choropleth",
           "z": [
            1,
            1,
            1,
            1,
            1,
            1,
            1
           ]
          }
         ],
         "name": "2005"
        },
        {
         "data": [
          {
           "colorscale": [
            [
             0,
             "#636efa"
            ],
            [
             1,
             "#636efa"
            ]
           ],
           "geo": "geo",
           "hovertemplate": "Disaster Subtype=Heat wave<br>Year=2006<br>ISO=%{location}<extra></extra>",
           "locations": [
            "BEL",
            "DEU",
            "ESP",
            "FRA",
            "IND",
            "NLD",
            "PAK",
            "PRT",
            "ROU",
            "USA",
            "USA"
           ],
           "name": "Heat wave",
           "showlegend": true,
           "showscale": false,
           "type": "choropleth",
           "z": [
            1,
            1,
            1,
            1,
            1,
            1,
            1,
            1,
            1,
            1,
            1
           ]
          }
         ],
         "name": "2006"
        },
        {
         "data": [
          {
           "colorscale": [
            [
             0,
             "#636efa"
            ],
            [
             1,
             "#636efa"
            ]
           ],
           "geo": "geo",
           "hovertemplate": "Disaster Subtype=Heat wave<br>Year=2007<br>ISO=%{location}<extra></extra>",
           "locations": [
            "BGR",
            "GRC",
            "ALB",
            "AUT",
            "BIH",
            "CYP",
            "HUN",
            "IND",
            "ROU",
            "ITA",
            "MKD",
            "TUR",
            "JPN",
            "SVK",
            "SRB"
           ],
           "name": "Heat wave",
           "showlegend": true,
           "showscale": false,
           "type": "choropleth",
           "z": [
            1,
            1,
            1,
            1,
            1,
            1,
            1,
            1,
            1,
            1,
            1,
            1,
            1,
            1,
            1
           ]
          }
         ],
         "name": "2007"
        },
        {
         "data": [
          {
           "colorscale": [
            [
             0,
             "#636efa"
            ],
            [
             1,
             "#636efa"
            ]
           ],
           "geo": "geo",
           "hovertemplate": "Disaster Subtype=Heat wave<br>Year=2008<br>ISO=%{location}<extra></extra>",
           "locations": [
            "JPN"
           ],
           "name": "Heat wave",
           "showlegend": true,
           "showscale": false,
           "type": "choropleth",
           "z": [
            1
           ]
          }
         ],
         "name": "2008"
        },
        {
         "data": [
          {
           "colorscale": [
            [
             0,
             "#636efa"
            ],
            [
             1,
             "#636efa"
            ]
           ],
           "geo": "geo",
           "hovertemplate": "Disaster Subtype=Heat wave<br>Year=2009<br>ISO=%{location}<extra></extra>",
           "locations": [
            "AUS",
            "IND",
            "JPN"
           ],
           "name": "Heat wave",
           "showlegend": true,
           "showscale": false,
           "type": "choropleth",
           "z": [
            1,
            1,
            1
           ]
          }
         ],
         "name": "2009"
        },
        {
         "data": [
          {
           "colorscale": [
            [
             0,
             "#636efa"
            ],
            [
             1,
             "#636efa"
            ]
           ],
           "geo": "geo",
           "hovertemplate": "Disaster Subtype=Heat wave<br>Year=2010<br>ISO=%{location}<extra></extra>",
           "locations": [
            "BRA",
            "IND",
            "JPN",
            "RUS"
           ],
           "name": "Heat wave",
           "showlegend": true,
           "showscale": false,
           "type": "choropleth",
           "z": [
            1,
            1,
            1,
            1
           ]
          }
         ],
         "name": "2010"
        },
        {
         "data": [
          {
           "colorscale": [
            [
             0,
             "#636efa"
            ],
            [
             1,
             "#636efa"
            ]
           ],
           "geo": "geo",
           "hovertemplate": "Disaster Subtype=Heat wave<br>Year=2011<br>ISO=%{location}<extra></extra>",
           "locations": [
            "USA",
            "ITA",
            "JPN"
           ],
           "name": "Heat wave",
           "showlegend": true,
           "showscale": false,
           "type": "choropleth",
           "z": [
            1,
            1,
            1
           ]
          }
         ],
         "name": "2011"
        },
        {
         "data": [
          {
           "colorscale": [
            [
             0,
             "#636efa"
            ],
            [
             1,
             "#636efa"
            ]
           ],
           "geo": "geo",
           "hovertemplate": "Disaster Subtype=Heat wave<br>Year=2013<br>ISO=%{location}<extra></extra>",
           "locations": [
            "BOL",
            "GBR",
            "IND",
            "JPN",
            "CHN"
           ],
           "name": "Heat wave",
           "showlegend": true,
           "showscale": false,
           "type": "choropleth",
           "z": [
            1,
            1,
            1,
            1,
            1
           ]
          }
         ],
         "name": "2013"
        },
        {
         "data": [
          {
           "colorscale": [
            [
             0,
             "#636efa"
            ],
            [
             1,
             "#636efa"
            ]
           ],
           "geo": "geo",
           "hovertemplate": "Disaster Subtype=Heat wave<br>Year=2012<br>ISO=%{location}<extra></extra>",
           "locations": [
            "USA"
           ],
           "name": "Heat wave",
           "showlegend": true,
           "showscale": false,
           "type": "choropleth",
           "z": [
            1
           ]
          }
         ],
         "name": "2012"
        },
        {
         "data": [
          {
           "colorscale": [
            [
             0,
             "#636efa"
            ],
            [
             1,
             "#636efa"
            ]
           ],
           "geo": "geo",
           "hovertemplate": "Disaster Subtype=Heat wave<br>Year=2014<br>ISO=%{location}<extra></extra>",
           "locations": [
            "AUS",
            "PAK",
            "JPN"
           ],
           "name": "Heat wave",
           "showlegend": true,
           "showscale": false,
           "type": "choropleth",
           "z": [
            1,
            1,
            1
           ]
          }
         ],
         "name": "2014"
        },
        {
         "data": [
          {
           "colorscale": [
            [
             0,
             "#636efa"
            ],
            [
             1,
             "#636efa"
            ]
           ],
           "geo": "geo",
           "hovertemplate": "Disaster Subtype=Heat wave<br>Year=2015<br>ISO=%{location}<extra></extra>",
           "locations": [
            "BEL",
            "EGY",
            "FRA",
            "IND",
            "JPN",
            "JPN",
            "JPN",
            "PAK",
            "SDN"
           ],
           "name": "Heat wave",
           "showlegend": true,
           "showscale": false,
           "type": "choropleth",
           "z": [
            1,
            1,
            1,
            1,
            1,
            1,
            1,
            1,
            1
           ]
          }
         ],
         "name": "2015"
        },
        {
         "data": [
          {
           "colorscale": [
            [
             0,
             "#636efa"
            ],
            [
             1,
             "#636efa"
            ]
           ],
           "geo": "geo",
           "hovertemplate": "Disaster Subtype=Heat wave<br>Year=2016<br>ISO=%{location}<extra></extra>",
           "locations": [
            "IND",
            "ZAF",
            "JPN"
           ],
           "name": "Heat wave",
           "showlegend": true,
           "showscale": false,
           "type": "choropleth",
           "z": [
            1,
            1,
            1
           ]
          }
         ],
         "name": "2016"
        },
        {
         "data": [
          {
           "colorscale": [
            [
             0,
             "#636efa"
            ],
            [
             1,
             "#636efa"
            ]
           ],
           "geo": "geo",
           "hovertemplate": "Disaster Subtype=Heat wave<br>Year=2018<br>ISO=%{location}<extra></extra>",
           "locations": [
            "AUS",
            "BEL",
            "CAN",
            "DEU",
            "ESP",
            "FRA",
            "GBR",
            "PRK",
            "ITA",
            "JPN",
            "KOR",
            "NLD",
            "PAK",
            "PRT"
           ],
           "name": "Heat wave",
           "showlegend": true,
           "showscale": false,
           "type": "choropleth",
           "z": [
            1,
            1,
            1,
            1,
            1,
            1,
            1,
            1,
            1,
            1,
            1,
            1,
            1,
            1
           ]
          }
         ],
         "name": "2018"
        },
        {
         "data": [
          {
           "colorscale": [
            [
             0,
             "#636efa"
            ],
            [
             1,
             "#636efa"
            ]
           ],
           "geo": "geo",
           "hovertemplate": "Disaster Subtype=Heat wave<br>Year=2017<br>ISO=%{location}<extra></extra>",
           "locations": [
            "IND"
           ],
           "name": "Heat wave",
           "showlegend": true,
           "showscale": false,
           "type": "choropleth",
           "z": [
            1
           ]
          }
         ],
         "name": "2017"
        },
        {
         "data": [
          {
           "colorscale": [
            [
             0,
             "#636efa"
            ],
            [
             1,
             "#636efa"
            ]
           ],
           "geo": "geo",
           "hovertemplate": "Disaster Subtype=Heat wave<br>Year=2019<br>ISO=%{location}<extra></extra>",
           "locations": [
            "IND",
            "IND",
            "AUT",
            "BEL",
            "BEL",
            "BEL",
            "DEU",
            "DEU",
            "ESP",
            "FRA",
            "FRA",
            "GBR",
            "GBR",
            "ITA",
            "JPN",
            "JPN",
            "NLD"
           ],
           "name": "Heat wave",
           "showlegend": true,
           "showscale": false,
           "type": "choropleth",
           "z": [
            1,
            1,
            1,
            1,
            1,
            1,
            1,
            1,
            1,
            1,
            1,
            1,
            1,
            1,
            1,
            1,
            1
           ]
          }
         ],
         "name": "2019"
        },
        {
         "data": [
          {
           "colorscale": [
            [
             0,
             "#636efa"
            ],
            [
             1,
             "#636efa"
            ]
           ],
           "geo": "geo",
           "hovertemplate": "Disaster Subtype=Heat wave<br>Year=2020<br>ISO=%{location}<extra></extra>",
           "locations": [
            "BEL",
            "FRA",
            "GBR",
            "NLD"
           ],
           "name": "Heat wave",
           "showlegend": true,
           "showscale": false,
           "type": "choropleth",
           "z": [
            1,
            1,
            1,
            1
           ]
          }
         ],
         "name": "2020"
        },
        {
         "data": [
          {
           "colorscale": [
            [
             0,
             "#636efa"
            ],
            [
             1,
             "#636efa"
            ]
           ],
           "geo": "geo",
           "hovertemplate": "Disaster Subtype=Heat wave<br>Year=2021<br>ISO=%{location}<extra></extra>",
           "locations": [
            "CAN",
            "USA"
           ],
           "name": "Heat wave",
           "showlegend": true,
           "showscale": false,
           "type": "choropleth",
           "z": [
            1,
            1
           ]
          }
         ],
         "name": "2021"
        },
        {
         "data": [
          {
           "colorscale": [
            [
             0,
             "#636efa"
            ],
            [
             1,
             "#636efa"
            ]
           ],
           "geo": "geo",
           "hovertemplate": "Disaster Subtype=Heat wave<br>Year=2022<br>ISO=%{location}<extra></extra>",
           "locations": [
            "ALB",
            "AUT",
            "BEL",
            "BGR",
            "CHE",
            "CYP",
            "CZE",
            "DEU",
            "DNK",
            "ESP",
            "EST",
            "FIN",
            "FRA",
            "GBR",
            "GRC",
            "HRV",
            "HUN",
            "IND",
            "IRL",
            "ITA",
            "JPN",
            "KGZ",
            "KOR",
            "NLD",
            "NOR",
            "PAK",
            "POL",
            "PRT",
            "ROU",
            "SVK",
            "SVN",
            "SWE",
            "SRB"
           ],
           "name": "Heat wave",
           "showlegend": true,
           "showscale": false,
           "type": "choropleth",
           "z": [
            1,
            1,
            1,
            1,
            1,
            1,
            1,
            1,
            1,
            1,
            1,
            1,
            1,
            1,
            1,
            1,
            1,
            1,
            1,
            1,
            1,
            1,
            1,
            1,
            1,
            1,
            1,
            1,
            1,
            1,
            1,
            1,
            1
           ]
          }
         ],
         "name": "2022"
        },
        {
         "data": [
          {
           "colorscale": [
            [
             0,
             "#636efa"
            ],
            [
             1,
             "#636efa"
            ]
           ],
           "geo": "geo",
           "hovertemplate": "Disaster Subtype=Heat wave<br>Year=2023<br>ISO=%{location}<extra></extra>",
           "locations": [
            "USA",
            "IND",
            "IND"
           ],
           "name": "Heat wave",
           "showlegend": true,
           "showscale": false,
           "type": "choropleth",
           "z": [
            1,
            1,
            1
           ]
          }
         ],
         "name": "2023"
        }
       ],
       "layout": {
        "geo": {
         "center": {},
         "domain": {
          "x": [
           0,
           1
          ],
          "y": [
           0,
           1
          ]
         }
        },
        "legend": {
         "title": {
          "text": "Disaster Subtype"
         },
         "tracegroupgap": 0
        },
        "margin": {
         "t": 60
        },
        "sliders": [
         {
          "active": 0,
          "currentvalue": {
           "prefix": "Year="
          },
          "len": 0.9,
          "pad": {
           "b": 10,
           "t": 60
          },
          "steps": [
           {
            "args": [
             [
              "1993"
             ],
             {
              "frame": {
               "duration": 0,
               "redraw": true
              },
              "fromcurrent": true,
              "mode": "immediate",
              "transition": {
               "duration": 0,
               "easing": "linear"
              }
             }
            ],
            "label": "1993",
            "method": "animate"
           },
           {
            "args": [
             [
              "1990"
             ],
             {
              "frame": {
               "duration": 0,
               "redraw": true
              },
              "fromcurrent": true,
              "mode": "immediate",
              "transition": {
               "duration": 0,
               "easing": "linear"
              }
             }
            ],
            "label": "1990",
            "method": "animate"
           },
           {
            "args": [
             [
              "1991"
             ],
             {
              "frame": {
               "duration": 0,
               "redraw": true
              },
              "fromcurrent": true,
              "mode": "immediate",
              "transition": {
               "duration": 0,
               "easing": "linear"
              }
             }
            ],
            "label": "1991",
            "method": "animate"
           },
           {
            "args": [
             [
              "1994"
             ],
             {
              "frame": {
               "duration": 0,
               "redraw": true
              },
              "fromcurrent": true,
              "mode": "immediate",
              "transition": {
               "duration": 0,
               "easing": "linear"
              }
             }
            ],
            "label": "1994",
            "method": "animate"
           },
           {
            "args": [
             [
              "1995"
             ],
             {
              "frame": {
               "duration": 0,
               "redraw": true
              },
              "fromcurrent": true,
              "mode": "immediate",
              "transition": {
               "duration": 0,
               "easing": "linear"
              }
             }
            ],
            "label": "1995",
            "method": "animate"
           },
           {
            "args": [
             [
              "1997"
             ],
             {
              "frame": {
               "duration": 0,
               "redraw": true
              },
              "fromcurrent": true,
              "mode": "immediate",
              "transition": {
               "duration": 0,
               "easing": "linear"
              }
             }
            ],
            "label": "1997",
            "method": "animate"
           },
           {
            "args": [
             [
              "1996"
             ],
             {
              "frame": {
               "duration": 0,
               "redraw": true
              },
              "fromcurrent": true,
              "mode": "immediate",
              "transition": {
               "duration": 0,
               "easing": "linear"
              }
             }
            ],
            "label": "1996",
            "method": "animate"
           },
           {
            "args": [
             [
              "1998"
             ],
             {
              "frame": {
               "duration": 0,
               "redraw": true
              },
              "fromcurrent": true,
              "mode": "immediate",
              "transition": {
               "duration": 0,
               "easing": "linear"
              }
             }
            ],
            "label": "1998",
            "method": "animate"
           },
           {
            "args": [
             [
              "2000"
             ],
             {
              "frame": {
               "duration": 0,
               "redraw": true
              },
              "fromcurrent": true,
              "mode": "immediate",
              "transition": {
               "duration": 0,
               "easing": "linear"
              }
             }
            ],
            "label": "2000",
            "method": "animate"
           },
           {
            "args": [
             [
              "1999"
             ],
             {
              "frame": {
               "duration": 0,
               "redraw": true
              },
              "fromcurrent": true,
              "mode": "immediate",
              "transition": {
               "duration": 0,
               "easing": "linear"
              }
             }
            ],
            "label": "1999",
            "method": "animate"
           },
           {
            "args": [
             [
              "2002"
             ],
             {
              "frame": {
               "duration": 0,
               "redraw": true
              },
              "fromcurrent": true,
              "mode": "immediate",
              "transition": {
               "duration": 0,
               "easing": "linear"
              }
             }
            ],
            "label": "2002",
            "method": "animate"
           },
           {
            "args": [
             [
              "2001"
             ],
             {
              "frame": {
               "duration": 0,
               "redraw": true
              },
              "fromcurrent": true,
              "mode": "immediate",
              "transition": {
               "duration": 0,
               "easing": "linear"
              }
             }
            ],
            "label": "2001",
            "method": "animate"
           },
           {
            "args": [
             [
              "2003"
             ],
             {
              "frame": {
               "duration": 0,
               "redraw": true
              },
              "fromcurrent": true,
              "mode": "immediate",
              "transition": {
               "duration": 0,
               "easing": "linear"
              }
             }
            ],
            "label": "2003",
            "method": "animate"
           },
           {
            "args": [
             [
              "2004"
             ],
             {
              "frame": {
               "duration": 0,
               "redraw": true
              },
              "fromcurrent": true,
              "mode": "immediate",
              "transition": {
               "duration": 0,
               "easing": "linear"
              }
             }
            ],
            "label": "2004",
            "method": "animate"
           },
           {
            "args": [
             [
              "2005"
             ],
             {
              "frame": {
               "duration": 0,
               "redraw": true
              },
              "fromcurrent": true,
              "mode": "immediate",
              "transition": {
               "duration": 0,
               "easing": "linear"
              }
             }
            ],
            "label": "2005",
            "method": "animate"
           },
           {
            "args": [
             [
              "2006"
             ],
             {
              "frame": {
               "duration": 0,
               "redraw": true
              },
              "fromcurrent": true,
              "mode": "immediate",
              "transition": {
               "duration": 0,
               "easing": "linear"
              }
             }
            ],
            "label": "2006",
            "method": "animate"
           },
           {
            "args": [
             [
              "2007"
             ],
             {
              "frame": {
               "duration": 0,
               "redraw": true
              },
              "fromcurrent": true,
              "mode": "immediate",
              "transition": {
               "duration": 0,
               "easing": "linear"
              }
             }
            ],
            "label": "2007",
            "method": "animate"
           },
           {
            "args": [
             [
              "2008"
             ],
             {
              "frame": {
               "duration": 0,
               "redraw": true
              },
              "fromcurrent": true,
              "mode": "immediate",
              "transition": {
               "duration": 0,
               "easing": "linear"
              }
             }
            ],
            "label": "2008",
            "method": "animate"
           },
           {
            "args": [
             [
              "2009"
             ],
             {
              "frame": {
               "duration": 0,
               "redraw": true
              },
              "fromcurrent": true,
              "mode": "immediate",
              "transition": {
               "duration": 0,
               "easing": "linear"
              }
             }
            ],
            "label": "2009",
            "method": "animate"
           },
           {
            "args": [
             [
              "2010"
             ],
             {
              "frame": {
               "duration": 0,
               "redraw": true
              },
              "fromcurrent": true,
              "mode": "immediate",
              "transition": {
               "duration": 0,
               "easing": "linear"
              }
             }
            ],
            "label": "2010",
            "method": "animate"
           },
           {
            "args": [
             [
              "2011"
             ],
             {
              "frame": {
               "duration": 0,
               "redraw": true
              },
              "fromcurrent": true,
              "mode": "immediate",
              "transition": {
               "duration": 0,
               "easing": "linear"
              }
             }
            ],
            "label": "2011",
            "method": "animate"
           },
           {
            "args": [
             [
              "2013"
             ],
             {
              "frame": {
               "duration": 0,
               "redraw": true
              },
              "fromcurrent": true,
              "mode": "immediate",
              "transition": {
               "duration": 0,
               "easing": "linear"
              }
             }
            ],
            "label": "2013",
            "method": "animate"
           },
           {
            "args": [
             [
              "2012"
             ],
             {
              "frame": {
               "duration": 0,
               "redraw": true
              },
              "fromcurrent": true,
              "mode": "immediate",
              "transition": {
               "duration": 0,
               "easing": "linear"
              }
             }
            ],
            "label": "2012",
            "method": "animate"
           },
           {
            "args": [
             [
              "2014"
             ],
             {
              "frame": {
               "duration": 0,
               "redraw": true
              },
              "fromcurrent": true,
              "mode": "immediate",
              "transition": {
               "duration": 0,
               "easing": "linear"
              }
             }
            ],
            "label": "2014",
            "method": "animate"
           },
           {
            "args": [
             [
              "2015"
             ],
             {
              "frame": {
               "duration": 0,
               "redraw": true
              },
              "fromcurrent": true,
              "mode": "immediate",
              "transition": {
               "duration": 0,
               "easing": "linear"
              }
             }
            ],
            "label": "2015",
            "method": "animate"
           },
           {
            "args": [
             [
              "2016"
             ],
             {
              "frame": {
               "duration": 0,
               "redraw": true
              },
              "fromcurrent": true,
              "mode": "immediate",
              "transition": {
               "duration": 0,
               "easing": "linear"
              }
             }
            ],
            "label": "2016",
            "method": "animate"
           },
           {
            "args": [
             [
              "2018"
             ],
             {
              "frame": {
               "duration": 0,
               "redraw": true
              },
              "fromcurrent": true,
              "mode": "immediate",
              "transition": {
               "duration": 0,
               "easing": "linear"
              }
             }
            ],
            "label": "2018",
            "method": "animate"
           },
           {
            "args": [
             [
              "2017"
             ],
             {
              "frame": {
               "duration": 0,
               "redraw": true
              },
              "fromcurrent": true,
              "mode": "immediate",
              "transition": {
               "duration": 0,
               "easing": "linear"
              }
             }
            ],
            "label": "2017",
            "method": "animate"
           },
           {
            "args": [
             [
              "2019"
             ],
             {
              "frame": {
               "duration": 0,
               "redraw": true
              },
              "fromcurrent": true,
              "mode": "immediate",
              "transition": {
               "duration": 0,
               "easing": "linear"
              }
             }
            ],
            "label": "2019",
            "method": "animate"
           },
           {
            "args": [
             [
              "2020"
             ],
             {
              "frame": {
               "duration": 0,
               "redraw": true
              },
              "fromcurrent": true,
              "mode": "immediate",
              "transition": {
               "duration": 0,
               "easing": "linear"
              }
             }
            ],
            "label": "2020",
            "method": "animate"
           },
           {
            "args": [
             [
              "2021"
             ],
             {
              "frame": {
               "duration": 0,
               "redraw": true
              },
              "fromcurrent": true,
              "mode": "immediate",
              "transition": {
               "duration": 0,
               "easing": "linear"
              }
             }
            ],
            "label": "2021",
            "method": "animate"
           },
           {
            "args": [
             [
              "2022"
             ],
             {
              "frame": {
               "duration": 0,
               "redraw": true
              },
              "fromcurrent": true,
              "mode": "immediate",
              "transition": {
               "duration": 0,
               "easing": "linear"
              }
             }
            ],
            "label": "2022",
            "method": "animate"
           },
           {
            "args": [
             [
              "2023"
             ],
             {
              "frame": {
               "duration": 0,
               "redraw": true
              },
              "fromcurrent": true,
              "mode": "immediate",
              "transition": {
               "duration": 0,
               "easing": "linear"
              }
             }
            ],
            "label": "2023",
            "method": "animate"
           }
          ],
          "x": 0.1,
          "xanchor": "left",
          "y": 0,
          "yanchor": "top"
         }
        ],
        "template": {
         "data": {
          "bar": [
           {
            "error_x": {
             "color": "#2a3f5f"
            },
            "error_y": {
             "color": "#2a3f5f"
            },
            "marker": {
             "line": {
              "color": "#E5ECF6",
              "width": 0.5
             },
             "pattern": {
              "fillmode": "overlay",
              "size": 10,
              "solidity": 0.2
             }
            },
            "type": "bar"
           }
          ],
          "barpolar": [
           {
            "marker": {
             "line": {
              "color": "#E5ECF6",
              "width": 0.5
             },
             "pattern": {
              "fillmode": "overlay",
              "size": 10,
              "solidity": 0.2
             }
            },
            "type": "barpolar"
           }
          ],
          "carpet": [
           {
            "aaxis": {
             "endlinecolor": "#2a3f5f",
             "gridcolor": "white",
             "linecolor": "white",
             "minorgridcolor": "white",
             "startlinecolor": "#2a3f5f"
            },
            "baxis": {
             "endlinecolor": "#2a3f5f",
             "gridcolor": "white",
             "linecolor": "white",
             "minorgridcolor": "white",
             "startlinecolor": "#2a3f5f"
            },
            "type": "carpet"
           }
          ],
          "choropleth": [
           {
            "colorbar": {
             "outlinewidth": 0,
             "ticks": ""
            },
            "type": "choropleth"
           }
          ],
          "contour": [
           {
            "colorbar": {
             "outlinewidth": 0,
             "ticks": ""
            },
            "colorscale": [
             [
              0,
              "#0d0887"
             ],
             [
              0.1111111111111111,
              "#46039f"
             ],
             [
              0.2222222222222222,
              "#7201a8"
             ],
             [
              0.3333333333333333,
              "#9c179e"
             ],
             [
              0.4444444444444444,
              "#bd3786"
             ],
             [
              0.5555555555555556,
              "#d8576b"
             ],
             [
              0.6666666666666666,
              "#ed7953"
             ],
             [
              0.7777777777777778,
              "#fb9f3a"
             ],
             [
              0.8888888888888888,
              "#fdca26"
             ],
             [
              1,
              "#f0f921"
             ]
            ],
            "type": "contour"
           }
          ],
          "contourcarpet": [
           {
            "colorbar": {
             "outlinewidth": 0,
             "ticks": ""
            },
            "type": "contourcarpet"
           }
          ],
          "heatmap": [
           {
            "colorbar": {
             "outlinewidth": 0,
             "ticks": ""
            },
            "colorscale": [
             [
              0,
              "#0d0887"
             ],
             [
              0.1111111111111111,
              "#46039f"
             ],
             [
              0.2222222222222222,
              "#7201a8"
             ],
             [
              0.3333333333333333,
              "#9c179e"
             ],
             [
              0.4444444444444444,
              "#bd3786"
             ],
             [
              0.5555555555555556,
              "#d8576b"
             ],
             [
              0.6666666666666666,
              "#ed7953"
             ],
             [
              0.7777777777777778,
              "#fb9f3a"
             ],
             [
              0.8888888888888888,
              "#fdca26"
             ],
             [
              1,
              "#f0f921"
             ]
            ],
            "type": "heatmap"
           }
          ],
          "heatmapgl": [
           {
            "colorbar": {
             "outlinewidth": 0,
             "ticks": ""
            },
            "colorscale": [
             [
              0,
              "#0d0887"
             ],
             [
              0.1111111111111111,
              "#46039f"
             ],
             [
              0.2222222222222222,
              "#7201a8"
             ],
             [
              0.3333333333333333,
              "#9c179e"
             ],
             [
              0.4444444444444444,
              "#bd3786"
             ],
             [
              0.5555555555555556,
              "#d8576b"
             ],
             [
              0.6666666666666666,
              "#ed7953"
             ],
             [
              0.7777777777777778,
              "#fb9f3a"
             ],
             [
              0.8888888888888888,
              "#fdca26"
             ],
             [
              1,
              "#f0f921"
             ]
            ],
            "type": "heatmapgl"
           }
          ],
          "histogram": [
           {
            "marker": {
             "pattern": {
              "fillmode": "overlay",
              "size": 10,
              "solidity": 0.2
             }
            },
            "type": "histogram"
           }
          ],
          "histogram2d": [
           {
            "colorbar": {
             "outlinewidth": 0,
             "ticks": ""
            },
            "colorscale": [
             [
              0,
              "#0d0887"
             ],
             [
              0.1111111111111111,
              "#46039f"
             ],
             [
              0.2222222222222222,
              "#7201a8"
             ],
             [
              0.3333333333333333,
              "#9c179e"
             ],
             [
              0.4444444444444444,
              "#bd3786"
             ],
             [
              0.5555555555555556,
              "#d8576b"
             ],
             [
              0.6666666666666666,
              "#ed7953"
             ],
             [
              0.7777777777777778,
              "#fb9f3a"
             ],
             [
              0.8888888888888888,
              "#fdca26"
             ],
             [
              1,
              "#f0f921"
             ]
            ],
            "type": "histogram2d"
           }
          ],
          "histogram2dcontour": [
           {
            "colorbar": {
             "outlinewidth": 0,
             "ticks": ""
            },
            "colorscale": [
             [
              0,
              "#0d0887"
             ],
             [
              0.1111111111111111,
              "#46039f"
             ],
             [
              0.2222222222222222,
              "#7201a8"
             ],
             [
              0.3333333333333333,
              "#9c179e"
             ],
             [
              0.4444444444444444,
              "#bd3786"
             ],
             [
              0.5555555555555556,
              "#d8576b"
             ],
             [
              0.6666666666666666,
              "#ed7953"
             ],
             [
              0.7777777777777778,
              "#fb9f3a"
             ],
             [
              0.8888888888888888,
              "#fdca26"
             ],
             [
              1,
              "#f0f921"
             ]
            ],
            "type": "histogram2dcontour"
           }
          ],
          "mesh3d": [
           {
            "colorbar": {
             "outlinewidth": 0,
             "ticks": ""
            },
            "type": "mesh3d"
           }
          ],
          "parcoords": [
           {
            "line": {
             "colorbar": {
              "outlinewidth": 0,
              "ticks": ""
             }
            },
            "type": "parcoords"
           }
          ],
          "pie": [
           {
            "automargin": true,
            "type": "pie"
           }
          ],
          "scatter": [
           {
            "fillpattern": {
             "fillmode": "overlay",
             "size": 10,
             "solidity": 0.2
            },
            "type": "scatter"
           }
          ],
          "scatter3d": [
           {
            "line": {
             "colorbar": {
              "outlinewidth": 0,
              "ticks": ""
             }
            },
            "marker": {
             "colorbar": {
              "outlinewidth": 0,
              "ticks": ""
             }
            },
            "type": "scatter3d"
           }
          ],
          "scattercarpet": [
           {
            "marker": {
             "colorbar": {
              "outlinewidth": 0,
              "ticks": ""
             }
            },
            "type": "scattercarpet"
           }
          ],
          "scattergeo": [
           {
            "marker": {
             "colorbar": {
              "outlinewidth": 0,
              "ticks": ""
             }
            },
            "type": "scattergeo"
           }
          ],
          "scattergl": [
           {
            "marker": {
             "colorbar": {
              "outlinewidth": 0,
              "ticks": ""
             }
            },
            "type": "scattergl"
           }
          ],
          "scattermapbox": [
           {
            "marker": {
             "colorbar": {
              "outlinewidth": 0,
              "ticks": ""
             }
            },
            "type": "scattermapbox"
           }
          ],
          "scatterpolar": [
           {
            "marker": {
             "colorbar": {
              "outlinewidth": 0,
              "ticks": ""
             }
            },
            "type": "scatterpolar"
           }
          ],
          "scatterpolargl": [
           {
            "marker": {
             "colorbar": {
              "outlinewidth": 0,
              "ticks": ""
             }
            },
            "type": "scatterpolargl"
           }
          ],
          "scatterternary": [
           {
            "marker": {
             "colorbar": {
              "outlinewidth": 0,
              "ticks": ""
             }
            },
            "type": "scatterternary"
           }
          ],
          "surface": [
           {
            "colorbar": {
             "outlinewidth": 0,
             "ticks": ""
            },
            "colorscale": [
             [
              0,
              "#0d0887"
             ],
             [
              0.1111111111111111,
              "#46039f"
             ],
             [
              0.2222222222222222,
              "#7201a8"
             ],
             [
              0.3333333333333333,
              "#9c179e"
             ],
             [
              0.4444444444444444,
              "#bd3786"
             ],
             [
              0.5555555555555556,
              "#d8576b"
             ],
             [
              0.6666666666666666,
              "#ed7953"
             ],
             [
              0.7777777777777778,
              "#fb9f3a"
             ],
             [
              0.8888888888888888,
              "#fdca26"
             ],
             [
              1,
              "#f0f921"
             ]
            ],
            "type": "surface"
           }
          ],
          "table": [
           {
            "cells": {
             "fill": {
              "color": "#EBF0F8"
             },
             "line": {
              "color": "white"
             }
            },
            "header": {
             "fill": {
              "color": "#C8D4E3"
             },
             "line": {
              "color": "white"
             }
            },
            "type": "table"
           }
          ]
         },
         "layout": {
          "annotationdefaults": {
           "arrowcolor": "#2a3f5f",
           "arrowhead": 0,
           "arrowwidth": 1
          },
          "autotypenumbers": "strict",
          "coloraxis": {
           "colorbar": {
            "outlinewidth": 0,
            "ticks": ""
           }
          },
          "colorscale": {
           "diverging": [
            [
             0,
             "#8e0152"
            ],
            [
             0.1,
             "#c51b7d"
            ],
            [
             0.2,
             "#de77ae"
            ],
            [
             0.3,
             "#f1b6da"
            ],
            [
             0.4,
             "#fde0ef"
            ],
            [
             0.5,
             "#f7f7f7"
            ],
            [
             0.6,
             "#e6f5d0"
            ],
            [
             0.7,
             "#b8e186"
            ],
            [
             0.8,
             "#7fbc41"
            ],
            [
             0.9,
             "#4d9221"
            ],
            [
             1,
             "#276419"
            ]
           ],
           "sequential": [
            [
             0,
             "#0d0887"
            ],
            [
             0.1111111111111111,
             "#46039f"
            ],
            [
             0.2222222222222222,
             "#7201a8"
            ],
            [
             0.3333333333333333,
             "#9c179e"
            ],
            [
             0.4444444444444444,
             "#bd3786"
            ],
            [
             0.5555555555555556,
             "#d8576b"
            ],
            [
             0.6666666666666666,
             "#ed7953"
            ],
            [
             0.7777777777777778,
             "#fb9f3a"
            ],
            [
             0.8888888888888888,
             "#fdca26"
            ],
            [
             1,
             "#f0f921"
            ]
           ],
           "sequentialminus": [
            [
             0,
             "#0d0887"
            ],
            [
             0.1111111111111111,
             "#46039f"
            ],
            [
             0.2222222222222222,
             "#7201a8"
            ],
            [
             0.3333333333333333,
             "#9c179e"
            ],
            [
             0.4444444444444444,
             "#bd3786"
            ],
            [
             0.5555555555555556,
             "#d8576b"
            ],
            [
             0.6666666666666666,
             "#ed7953"
            ],
            [
             0.7777777777777778,
             "#fb9f3a"
            ],
            [
             0.8888888888888888,
             "#fdca26"
            ],
            [
             1,
             "#f0f921"
            ]
           ]
          },
          "colorway": [
           "#636efa",
           "#EF553B",
           "#00cc96",
           "#ab63fa",
           "#FFA15A",
           "#19d3f3",
           "#FF6692",
           "#B6E880",
           "#FF97FF",
           "#FECB52"
          ],
          "font": {
           "color": "#2a3f5f"
          },
          "geo": {
           "bgcolor": "white",
           "lakecolor": "white",
           "landcolor": "#E5ECF6",
           "showlakes": true,
           "showland": true,
           "subunitcolor": "white"
          },
          "hoverlabel": {
           "align": "left"
          },
          "hovermode": "closest",
          "mapbox": {
           "style": "light"
          },
          "paper_bgcolor": "white",
          "plot_bgcolor": "#E5ECF6",
          "polar": {
           "angularaxis": {
            "gridcolor": "white",
            "linecolor": "white",
            "ticks": ""
           },
           "bgcolor": "#E5ECF6",
           "radialaxis": {
            "gridcolor": "white",
            "linecolor": "white",
            "ticks": ""
           }
          },
          "scene": {
           "xaxis": {
            "backgroundcolor": "#E5ECF6",
            "gridcolor": "white",
            "gridwidth": 2,
            "linecolor": "white",
            "showbackground": true,
            "ticks": "",
            "zerolinecolor": "white"
           },
           "yaxis": {
            "backgroundcolor": "#E5ECF6",
            "gridcolor": "white",
            "gridwidth": 2,
            "linecolor": "white",
            "showbackground": true,
            "ticks": "",
            "zerolinecolor": "white"
           },
           "zaxis": {
            "backgroundcolor": "#E5ECF6",
            "gridcolor": "white",
            "gridwidth": 2,
            "linecolor": "white",
            "showbackground": true,
            "ticks": "",
            "zerolinecolor": "white"
           }
          },
          "shapedefaults": {
           "line": {
            "color": "#2a3f5f"
           }
          },
          "ternary": {
           "aaxis": {
            "gridcolor": "white",
            "linecolor": "white",
            "ticks": ""
           },
           "baxis": {
            "gridcolor": "white",
            "linecolor": "white",
            "ticks": ""
           },
           "bgcolor": "#E5ECF6",
           "caxis": {
            "gridcolor": "white",
            "linecolor": "white",
            "ticks": ""
           }
          },
          "title": {
           "x": 0.05
          },
          "xaxis": {
           "automargin": true,
           "gridcolor": "white",
           "linecolor": "white",
           "ticks": "",
           "title": {
            "standoff": 15
           },
           "zerolinecolor": "white",
           "zerolinewidth": 2
          },
          "yaxis": {
           "automargin": true,
           "gridcolor": "white",
           "linecolor": "white",
           "ticks": "",
           "title": {
            "standoff": 15
           },
           "zerolinecolor": "white",
           "zerolinewidth": 2
          }
         }
        },
        "updatemenus": [
         {
          "buttons": [
           {
            "args": [
             null,
             {
              "frame": {
               "duration": 500,
               "redraw": true
              },
              "fromcurrent": true,
              "mode": "immediate",
              "transition": {
               "duration": 500,
               "easing": "linear"
              }
             }
            ],
            "label": "&#9654;",
            "method": "animate"
           },
           {
            "args": [
             [
              null
             ],
             {
              "frame": {
               "duration": 0,
               "redraw": true
              },
              "fromcurrent": true,
              "mode": "immediate",
              "transition": {
               "duration": 0,
               "easing": "linear"
              }
             }
            ],
            "label": "&#9724;",
            "method": "animate"
           }
          ],
          "direction": "left",
          "pad": {
           "r": 10,
           "t": 70
          },
          "showactive": false,
          "type": "buttons",
          "x": 0.1,
          "xanchor": "right",
          "y": 0,
          "yanchor": "top"
         }
        ]
       }
      },
      "text/html": [
       "<div>                            <div id=\"cae6ac02-2863-411a-9927-da80e1119cdf\" class=\"plotly-graph-div\" style=\"height:525px; width:100%;\"></div>            <script type=\"text/javascript\">                require([\"plotly\"], function(Plotly) {                    window.PLOTLYENV=window.PLOTLYENV || {};                                    if (document.getElementById(\"cae6ac02-2863-411a-9927-da80e1119cdf\")) {                    Plotly.newPlot(                        \"cae6ac02-2863-411a-9927-da80e1119cdf\",                        [{\"colorscale\":[[0.0,\"#636efa\"],[1.0,\"#636efa\"]],\"geo\":\"geo\",\"hovertemplate\":\"Disaster Subtype=Heat wave<br>Year=1993<br>ISO=%{location}<extra></extra>\",\"locations\":[\"AUS\",\"USA\"],\"name\":\"Heat wave\",\"showlegend\":true,\"showscale\":false,\"z\":[1,1],\"type\":\"choropleth\"}],                        {\"template\":{\"data\":{\"histogram2dcontour\":[{\"type\":\"histogram2dcontour\",\"colorbar\":{\"outlinewidth\":0,\"ticks\":\"\"},\"colorscale\":[[0.0,\"#0d0887\"],[0.1111111111111111,\"#46039f\"],[0.2222222222222222,\"#7201a8\"],[0.3333333333333333,\"#9c179e\"],[0.4444444444444444,\"#bd3786\"],[0.5555555555555556,\"#d8576b\"],[0.6666666666666666,\"#ed7953\"],[0.7777777777777778,\"#fb9f3a\"],[0.8888888888888888,\"#fdca26\"],[1.0,\"#f0f921\"]]}],\"choropleth\":[{\"type\":\"choropleth\",\"colorbar\":{\"outlinewidth\":0,\"ticks\":\"\"}}],\"histogram2d\":[{\"type\":\"histogram2d\",\"colorbar\":{\"outlinewidth\":0,\"ticks\":\"\"},\"colorscale\":[[0.0,\"#0d0887\"],[0.1111111111111111,\"#46039f\"],[0.2222222222222222,\"#7201a8\"],[0.3333333333333333,\"#9c179e\"],[0.4444444444444444,\"#bd3786\"],[0.5555555555555556,\"#d8576b\"],[0.6666666666666666,\"#ed7953\"],[0.7777777777777778,\"#fb9f3a\"],[0.8888888888888888,\"#fdca26\"],[1.0,\"#f0f921\"]]}],\"heatmap\":[{\"type\":\"heatmap\",\"colorbar\":{\"outlinewidth\":0,\"ticks\":\"\"},\"colorscale\":[[0.0,\"#0d0887\"],[0.1111111111111111,\"#46039f\"],[0.2222222222222222,\"#7201a8\"],[0.3333333333333333,\"#9c179e\"],[0.4444444444444444,\"#bd3786\"],[0.5555555555555556,\"#d8576b\"],[0.6666666666666666,\"#ed7953\"],[0.7777777777777778,\"#fb9f3a\"],[0.8888888888888888,\"#fdca26\"],[1.0,\"#f0f921\"]]}],\"heatmapgl\":[{\"type\":\"heatmapgl\",\"colorbar\":{\"outlinewidth\":0,\"ticks\":\"\"},\"colorscale\":[[0.0,\"#0d0887\"],[0.1111111111111111,\"#46039f\"],[0.2222222222222222,\"#7201a8\"],[0.3333333333333333,\"#9c179e\"],[0.4444444444444444,\"#bd3786\"],[0.5555555555555556,\"#d8576b\"],[0.6666666666666666,\"#ed7953\"],[0.7777777777777778,\"#fb9f3a\"],[0.8888888888888888,\"#fdca26\"],[1.0,\"#f0f921\"]]}],\"contourcarpet\":[{\"type\":\"contourcarpet\",\"colorbar\":{\"outlinewidth\":0,\"ticks\":\"\"}}],\"contour\":[{\"type\":\"contour\",\"colorbar\":{\"outlinewidth\":0,\"ticks\":\"\"},\"colorscale\":[[0.0,\"#0d0887\"],[0.1111111111111111,\"#46039f\"],[0.2222222222222222,\"#7201a8\"],[0.3333333333333333,\"#9c179e\"],[0.4444444444444444,\"#bd3786\"],[0.5555555555555556,\"#d8576b\"],[0.6666666666666666,\"#ed7953\"],[0.7777777777777778,\"#fb9f3a\"],[0.8888888888888888,\"#fdca26\"],[1.0,\"#f0f921\"]]}],\"surface\":[{\"type\":\"surface\",\"colorbar\":{\"outlinewidth\":0,\"ticks\":\"\"},\"colorscale\":[[0.0,\"#0d0887\"],[0.1111111111111111,\"#46039f\"],[0.2222222222222222,\"#7201a8\"],[0.3333333333333333,\"#9c179e\"],[0.4444444444444444,\"#bd3786\"],[0.5555555555555556,\"#d8576b\"],[0.6666666666666666,\"#ed7953\"],[0.7777777777777778,\"#fb9f3a\"],[0.8888888888888888,\"#fdca26\"],[1.0,\"#f0f921\"]]}],\"mesh3d\":[{\"type\":\"mesh3d\",\"colorbar\":{\"outlinewidth\":0,\"ticks\":\"\"}}],\"scatter\":[{\"fillpattern\":{\"fillmode\":\"overlay\",\"size\":10,\"solidity\":0.2},\"type\":\"scatter\"}],\"parcoords\":[{\"type\":\"parcoords\",\"line\":{\"colorbar\":{\"outlinewidth\":0,\"ticks\":\"\"}}}],\"scatterpolargl\":[{\"type\":\"scatterpolargl\",\"marker\":{\"colorbar\":{\"outlinewidth\":0,\"ticks\":\"\"}}}],\"bar\":[{\"error_x\":{\"color\":\"#2a3f5f\"},\"error_y\":{\"color\":\"#2a3f5f\"},\"marker\":{\"line\":{\"color\":\"#E5ECF6\",\"width\":0.5},\"pattern\":{\"fillmode\":\"overlay\",\"size\":10,\"solidity\":0.2}},\"type\":\"bar\"}],\"scattergeo\":[{\"type\":\"scattergeo\",\"marker\":{\"colorbar\":{\"outlinewidth\":0,\"ticks\":\"\"}}}],\"scatterpolar\":[{\"type\":\"scatterpolar\",\"marker\":{\"colorbar\":{\"outlinewidth\":0,\"ticks\":\"\"}}}],\"histogram\":[{\"marker\":{\"pattern\":{\"fillmode\":\"overlay\",\"size\":10,\"solidity\":0.2}},\"type\":\"histogram\"}],\"scattergl\":[{\"type\":\"scattergl\",\"marker\":{\"colorbar\":{\"outlinewidth\":0,\"ticks\":\"\"}}}],\"scatter3d\":[{\"type\":\"scatter3d\",\"line\":{\"colorbar\":{\"outlinewidth\":0,\"ticks\":\"\"}},\"marker\":{\"colorbar\":{\"outlinewidth\":0,\"ticks\":\"\"}}}],\"scattermapbox\":[{\"type\":\"scattermapbox\",\"marker\":{\"colorbar\":{\"outlinewidth\":0,\"ticks\":\"\"}}}],\"scatterternary\":[{\"type\":\"scatterternary\",\"marker\":{\"colorbar\":{\"outlinewidth\":0,\"ticks\":\"\"}}}],\"scattercarpet\":[{\"type\":\"scattercarpet\",\"marker\":{\"colorbar\":{\"outlinewidth\":0,\"ticks\":\"\"}}}],\"carpet\":[{\"aaxis\":{\"endlinecolor\":\"#2a3f5f\",\"gridcolor\":\"white\",\"linecolor\":\"white\",\"minorgridcolor\":\"white\",\"startlinecolor\":\"#2a3f5f\"},\"baxis\":{\"endlinecolor\":\"#2a3f5f\",\"gridcolor\":\"white\",\"linecolor\":\"white\",\"minorgridcolor\":\"white\",\"startlinecolor\":\"#2a3f5f\"},\"type\":\"carpet\"}],\"table\":[{\"cells\":{\"fill\":{\"color\":\"#EBF0F8\"},\"line\":{\"color\":\"white\"}},\"header\":{\"fill\":{\"color\":\"#C8D4E3\"},\"line\":{\"color\":\"white\"}},\"type\":\"table\"}],\"barpolar\":[{\"marker\":{\"line\":{\"color\":\"#E5ECF6\",\"width\":0.5},\"pattern\":{\"fillmode\":\"overlay\",\"size\":10,\"solidity\":0.2}},\"type\":\"barpolar\"}],\"pie\":[{\"automargin\":true,\"type\":\"pie\"}]},\"layout\":{\"autotypenumbers\":\"strict\",\"colorway\":[\"#636efa\",\"#EF553B\",\"#00cc96\",\"#ab63fa\",\"#FFA15A\",\"#19d3f3\",\"#FF6692\",\"#B6E880\",\"#FF97FF\",\"#FECB52\"],\"font\":{\"color\":\"#2a3f5f\"},\"hovermode\":\"closest\",\"hoverlabel\":{\"align\":\"left\"},\"paper_bgcolor\":\"white\",\"plot_bgcolor\":\"#E5ECF6\",\"polar\":{\"bgcolor\":\"#E5ECF6\",\"angularaxis\":{\"gridcolor\":\"white\",\"linecolor\":\"white\",\"ticks\":\"\"},\"radialaxis\":{\"gridcolor\":\"white\",\"linecolor\":\"white\",\"ticks\":\"\"}},\"ternary\":{\"bgcolor\":\"#E5ECF6\",\"aaxis\":{\"gridcolor\":\"white\",\"linecolor\":\"white\",\"ticks\":\"\"},\"baxis\":{\"gridcolor\":\"white\",\"linecolor\":\"white\",\"ticks\":\"\"},\"caxis\":{\"gridcolor\":\"white\",\"linecolor\":\"white\",\"ticks\":\"\"}},\"coloraxis\":{\"colorbar\":{\"outlinewidth\":0,\"ticks\":\"\"}},\"colorscale\":{\"sequential\":[[0.0,\"#0d0887\"],[0.1111111111111111,\"#46039f\"],[0.2222222222222222,\"#7201a8\"],[0.3333333333333333,\"#9c179e\"],[0.4444444444444444,\"#bd3786\"],[0.5555555555555556,\"#d8576b\"],[0.6666666666666666,\"#ed7953\"],[0.7777777777777778,\"#fb9f3a\"],[0.8888888888888888,\"#fdca26\"],[1.0,\"#f0f921\"]],\"sequentialminus\":[[0.0,\"#0d0887\"],[0.1111111111111111,\"#46039f\"],[0.2222222222222222,\"#7201a8\"],[0.3333333333333333,\"#9c179e\"],[0.4444444444444444,\"#bd3786\"],[0.5555555555555556,\"#d8576b\"],[0.6666666666666666,\"#ed7953\"],[0.7777777777777778,\"#fb9f3a\"],[0.8888888888888888,\"#fdca26\"],[1.0,\"#f0f921\"]],\"diverging\":[[0,\"#8e0152\"],[0.1,\"#c51b7d\"],[0.2,\"#de77ae\"],[0.3,\"#f1b6da\"],[0.4,\"#fde0ef\"],[0.5,\"#f7f7f7\"],[0.6,\"#e6f5d0\"],[0.7,\"#b8e186\"],[0.8,\"#7fbc41\"],[0.9,\"#4d9221\"],[1,\"#276419\"]]},\"xaxis\":{\"gridcolor\":\"white\",\"linecolor\":\"white\",\"ticks\":\"\",\"title\":{\"standoff\":15},\"zerolinecolor\":\"white\",\"automargin\":true,\"zerolinewidth\":2},\"yaxis\":{\"gridcolor\":\"white\",\"linecolor\":\"white\",\"ticks\":\"\",\"title\":{\"standoff\":15},\"zerolinecolor\":\"white\",\"automargin\":true,\"zerolinewidth\":2},\"scene\":{\"xaxis\":{\"backgroundcolor\":\"#E5ECF6\",\"gridcolor\":\"white\",\"linecolor\":\"white\",\"showbackground\":true,\"ticks\":\"\",\"zerolinecolor\":\"white\",\"gridwidth\":2},\"yaxis\":{\"backgroundcolor\":\"#E5ECF6\",\"gridcolor\":\"white\",\"linecolor\":\"white\",\"showbackground\":true,\"ticks\":\"\",\"zerolinecolor\":\"white\",\"gridwidth\":2},\"zaxis\":{\"backgroundcolor\":\"#E5ECF6\",\"gridcolor\":\"white\",\"linecolor\":\"white\",\"showbackground\":true,\"ticks\":\"\",\"zerolinecolor\":\"white\",\"gridwidth\":2}},\"shapedefaults\":{\"line\":{\"color\":\"#2a3f5f\"}},\"annotationdefaults\":{\"arrowcolor\":\"#2a3f5f\",\"arrowhead\":0,\"arrowwidth\":1},\"geo\":{\"bgcolor\":\"white\",\"landcolor\":\"#E5ECF6\",\"subunitcolor\":\"white\",\"showland\":true,\"showlakes\":true,\"lakecolor\":\"white\"},\"title\":{\"x\":0.05},\"mapbox\":{\"style\":\"light\"}}},\"geo\":{\"domain\":{\"x\":[0.0,1.0],\"y\":[0.0,1.0]},\"center\":{}},\"legend\":{\"title\":{\"text\":\"Disaster Subtype\"},\"tracegroupgap\":0},\"margin\":{\"t\":60},\"updatemenus\":[{\"buttons\":[{\"args\":[null,{\"frame\":{\"duration\":500,\"redraw\":true},\"mode\":\"immediate\",\"fromcurrent\":true,\"transition\":{\"duration\":500,\"easing\":\"linear\"}}],\"label\":\"&#9654;\",\"method\":\"animate\"},{\"args\":[[null],{\"frame\":{\"duration\":0,\"redraw\":true},\"mode\":\"immediate\",\"fromcurrent\":true,\"transition\":{\"duration\":0,\"easing\":\"linear\"}}],\"label\":\"&#9724;\",\"method\":\"animate\"}],\"direction\":\"left\",\"pad\":{\"r\":10,\"t\":70},\"showactive\":false,\"type\":\"buttons\",\"x\":0.1,\"xanchor\":\"right\",\"y\":0,\"yanchor\":\"top\"}],\"sliders\":[{\"active\":0,\"currentvalue\":{\"prefix\":\"Year=\"},\"len\":0.9,\"pad\":{\"b\":10,\"t\":60},\"steps\":[{\"args\":[[\"1993\"],{\"frame\":{\"duration\":0,\"redraw\":true},\"mode\":\"immediate\",\"fromcurrent\":true,\"transition\":{\"duration\":0,\"easing\":\"linear\"}}],\"label\":\"1993\",\"method\":\"animate\"},{\"args\":[[\"1990\"],{\"frame\":{\"duration\":0,\"redraw\":true},\"mode\":\"immediate\",\"fromcurrent\":true,\"transition\":{\"duration\":0,\"easing\":\"linear\"}}],\"label\":\"1990\",\"method\":\"animate\"},{\"args\":[[\"1991\"],{\"frame\":{\"duration\":0,\"redraw\":true},\"mode\":\"immediate\",\"fromcurrent\":true,\"transition\":{\"duration\":0,\"easing\":\"linear\"}}],\"label\":\"1991\",\"method\":\"animate\"},{\"args\":[[\"1994\"],{\"frame\":{\"duration\":0,\"redraw\":true},\"mode\":\"immediate\",\"fromcurrent\":true,\"transition\":{\"duration\":0,\"easing\":\"linear\"}}],\"label\":\"1994\",\"method\":\"animate\"},{\"args\":[[\"1995\"],{\"frame\":{\"duration\":0,\"redraw\":true},\"mode\":\"immediate\",\"fromcurrent\":true,\"transition\":{\"duration\":0,\"easing\":\"linear\"}}],\"label\":\"1995\",\"method\":\"animate\"},{\"args\":[[\"1997\"],{\"frame\":{\"duration\":0,\"redraw\":true},\"mode\":\"immediate\",\"fromcurrent\":true,\"transition\":{\"duration\":0,\"easing\":\"linear\"}}],\"label\":\"1997\",\"method\":\"animate\"},{\"args\":[[\"1996\"],{\"frame\":{\"duration\":0,\"redraw\":true},\"mode\":\"immediate\",\"fromcurrent\":true,\"transition\":{\"duration\":0,\"easing\":\"linear\"}}],\"label\":\"1996\",\"method\":\"animate\"},{\"args\":[[\"1998\"],{\"frame\":{\"duration\":0,\"redraw\":true},\"mode\":\"immediate\",\"fromcurrent\":true,\"transition\":{\"duration\":0,\"easing\":\"linear\"}}],\"label\":\"1998\",\"method\":\"animate\"},{\"args\":[[\"2000\"],{\"frame\":{\"duration\":0,\"redraw\":true},\"mode\":\"immediate\",\"fromcurrent\":true,\"transition\":{\"duration\":0,\"easing\":\"linear\"}}],\"label\":\"2000\",\"method\":\"animate\"},{\"args\":[[\"1999\"],{\"frame\":{\"duration\":0,\"redraw\":true},\"mode\":\"immediate\",\"fromcurrent\":true,\"transition\":{\"duration\":0,\"easing\":\"linear\"}}],\"label\":\"1999\",\"method\":\"animate\"},{\"args\":[[\"2002\"],{\"frame\":{\"duration\":0,\"redraw\":true},\"mode\":\"immediate\",\"fromcurrent\":true,\"transition\":{\"duration\":0,\"easing\":\"linear\"}}],\"label\":\"2002\",\"method\":\"animate\"},{\"args\":[[\"2001\"],{\"frame\":{\"duration\":0,\"redraw\":true},\"mode\":\"immediate\",\"fromcurrent\":true,\"transition\":{\"duration\":0,\"easing\":\"linear\"}}],\"label\":\"2001\",\"method\":\"animate\"},{\"args\":[[\"2003\"],{\"frame\":{\"duration\":0,\"redraw\":true},\"mode\":\"immediate\",\"fromcurrent\":true,\"transition\":{\"duration\":0,\"easing\":\"linear\"}}],\"label\":\"2003\",\"method\":\"animate\"},{\"args\":[[\"2004\"],{\"frame\":{\"duration\":0,\"redraw\":true},\"mode\":\"immediate\",\"fromcurrent\":true,\"transition\":{\"duration\":0,\"easing\":\"linear\"}}],\"label\":\"2004\",\"method\":\"animate\"},{\"args\":[[\"2005\"],{\"frame\":{\"duration\":0,\"redraw\":true},\"mode\":\"immediate\",\"fromcurrent\":true,\"transition\":{\"duration\":0,\"easing\":\"linear\"}}],\"label\":\"2005\",\"method\":\"animate\"},{\"args\":[[\"2006\"],{\"frame\":{\"duration\":0,\"redraw\":true},\"mode\":\"immediate\",\"fromcurrent\":true,\"transition\":{\"duration\":0,\"easing\":\"linear\"}}],\"label\":\"2006\",\"method\":\"animate\"},{\"args\":[[\"2007\"],{\"frame\":{\"duration\":0,\"redraw\":true},\"mode\":\"immediate\",\"fromcurrent\":true,\"transition\":{\"duration\":0,\"easing\":\"linear\"}}],\"label\":\"2007\",\"method\":\"animate\"},{\"args\":[[\"2008\"],{\"frame\":{\"duration\":0,\"redraw\":true},\"mode\":\"immediate\",\"fromcurrent\":true,\"transition\":{\"duration\":0,\"easing\":\"linear\"}}],\"label\":\"2008\",\"method\":\"animate\"},{\"args\":[[\"2009\"],{\"frame\":{\"duration\":0,\"redraw\":true},\"mode\":\"immediate\",\"fromcurrent\":true,\"transition\":{\"duration\":0,\"easing\":\"linear\"}}],\"label\":\"2009\",\"method\":\"animate\"},{\"args\":[[\"2010\"],{\"frame\":{\"duration\":0,\"redraw\":true},\"mode\":\"immediate\",\"fromcurrent\":true,\"transition\":{\"duration\":0,\"easing\":\"linear\"}}],\"label\":\"2010\",\"method\":\"animate\"},{\"args\":[[\"2011\"],{\"frame\":{\"duration\":0,\"redraw\":true},\"mode\":\"immediate\",\"fromcurrent\":true,\"transition\":{\"duration\":0,\"easing\":\"linear\"}}],\"label\":\"2011\",\"method\":\"animate\"},{\"args\":[[\"2013\"],{\"frame\":{\"duration\":0,\"redraw\":true},\"mode\":\"immediate\",\"fromcurrent\":true,\"transition\":{\"duration\":0,\"easing\":\"linear\"}}],\"label\":\"2013\",\"method\":\"animate\"},{\"args\":[[\"2012\"],{\"frame\":{\"duration\":0,\"redraw\":true},\"mode\":\"immediate\",\"fromcurrent\":true,\"transition\":{\"duration\":0,\"easing\":\"linear\"}}],\"label\":\"2012\",\"method\":\"animate\"},{\"args\":[[\"2014\"],{\"frame\":{\"duration\":0,\"redraw\":true},\"mode\":\"immediate\",\"fromcurrent\":true,\"transition\":{\"duration\":0,\"easing\":\"linear\"}}],\"label\":\"2014\",\"method\":\"animate\"},{\"args\":[[\"2015\"],{\"frame\":{\"duration\":0,\"redraw\":true},\"mode\":\"immediate\",\"fromcurrent\":true,\"transition\":{\"duration\":0,\"easing\":\"linear\"}}],\"label\":\"2015\",\"method\":\"animate\"},{\"args\":[[\"2016\"],{\"frame\":{\"duration\":0,\"redraw\":true},\"mode\":\"immediate\",\"fromcurrent\":true,\"transition\":{\"duration\":0,\"easing\":\"linear\"}}],\"label\":\"2016\",\"method\":\"animate\"},{\"args\":[[\"2018\"],{\"frame\":{\"duration\":0,\"redraw\":true},\"mode\":\"immediate\",\"fromcurrent\":true,\"transition\":{\"duration\":0,\"easing\":\"linear\"}}],\"label\":\"2018\",\"method\":\"animate\"},{\"args\":[[\"2017\"],{\"frame\":{\"duration\":0,\"redraw\":true},\"mode\":\"immediate\",\"fromcurrent\":true,\"transition\":{\"duration\":0,\"easing\":\"linear\"}}],\"label\":\"2017\",\"method\":\"animate\"},{\"args\":[[\"2019\"],{\"frame\":{\"duration\":0,\"redraw\":true},\"mode\":\"immediate\",\"fromcurrent\":true,\"transition\":{\"duration\":0,\"easing\":\"linear\"}}],\"label\":\"2019\",\"method\":\"animate\"},{\"args\":[[\"2020\"],{\"frame\":{\"duration\":0,\"redraw\":true},\"mode\":\"immediate\",\"fromcurrent\":true,\"transition\":{\"duration\":0,\"easing\":\"linear\"}}],\"label\":\"2020\",\"method\":\"animate\"},{\"args\":[[\"2021\"],{\"frame\":{\"duration\":0,\"redraw\":true},\"mode\":\"immediate\",\"fromcurrent\":true,\"transition\":{\"duration\":0,\"easing\":\"linear\"}}],\"label\":\"2021\",\"method\":\"animate\"},{\"args\":[[\"2022\"],{\"frame\":{\"duration\":0,\"redraw\":true},\"mode\":\"immediate\",\"fromcurrent\":true,\"transition\":{\"duration\":0,\"easing\":\"linear\"}}],\"label\":\"2022\",\"method\":\"animate\"},{\"args\":[[\"2023\"],{\"frame\":{\"duration\":0,\"redraw\":true},\"mode\":\"immediate\",\"fromcurrent\":true,\"transition\":{\"duration\":0,\"easing\":\"linear\"}}],\"label\":\"2023\",\"method\":\"animate\"}],\"x\":0.1,\"xanchor\":\"left\",\"y\":0,\"yanchor\":\"top\"}]},                        {\"responsive\": true}                    ).then(function(){\n",
       "                            Plotly.addFrames('cae6ac02-2863-411a-9927-da80e1119cdf', [{\"data\":[{\"colorscale\":[[0.0,\"#636efa\"],[1.0,\"#636efa\"]],\"geo\":\"geo\",\"hovertemplate\":\"Disaster Subtype=Heat wave<br>Year=1993<br>ISO=%{location}<extra></extra>\",\"locations\":[\"AUS\",\"USA\"],\"name\":\"Heat wave\",\"showlegend\":true,\"showscale\":false,\"z\":[1,1],\"type\":\"choropleth\"}],\"name\":\"1993\"},{\"data\":[{\"colorscale\":[[0.0,\"#636efa\"],[1.0,\"#636efa\"]],\"geo\":\"geo\",\"hovertemplate\":\"Disaster Subtype=Heat wave<br>Year=1990<br>ISO=%{location}<extra></extra>\",\"locations\":[\"MEX\",\"FRA\",\"KOR\",\"USA\"],\"name\":\"Heat wave\",\"showlegend\":true,\"showscale\":false,\"z\":[1,1,1,1],\"type\":\"choropleth\"}],\"name\":\"1990\"},{\"data\":[{\"colorscale\":[[0.0,\"#636efa\"],[1.0,\"#636efa\"]],\"geo\":\"geo\",\"hovertemplate\":\"Disaster Subtype=Heat wave<br>Year=1991<br>ISO=%{location}<extra></extra>\",\"locations\":[\"PAK\"],\"name\":\"Heat wave\",\"showlegend\":true,\"showscale\":false,\"z\":[1],\"type\":\"choropleth\"}],\"name\":\"1991\"},{\"data\":[{\"colorscale\":[[0.0,\"#636efa\"],[1.0,\"#636efa\"]],\"geo\":\"geo\",\"hovertemplate\":\"Disaster Subtype=Heat wave<br>Year=1994<br>ISO=%{location}<extra></extra>\",\"locations\":[\"AUS\",\"AUS\",\"CHN\",\"IND\",\"ROU\"],\"name\":\"Heat wave\",\"showlegend\":true,\"showscale\":false,\"z\":[1,1,1,1,1],\"type\":\"choropleth\"}],\"name\":\"1994\"},{\"data\":[{\"colorscale\":[[0.0,\"#636efa\"],[1.0,\"#636efa\"]],\"geo\":\"geo\",\"hovertemplate\":\"Disaster Subtype=Heat wave<br>Year=1995<br>ISO=%{location}<extra></extra>\",\"locations\":[\"AUS\",\"EGY\",\"ESP\",\"IND\",\"RUS\",\"USA\"],\"name\":\"Heat wave\",\"showlegend\":true,\"showscale\":false,\"z\":[1,1,1,1,1,1],\"type\":\"choropleth\"}],\"name\":\"1995\"},{\"data\":[{\"colorscale\":[[0.0,\"#636efa\"],[1.0,\"#636efa\"]],\"geo\":\"geo\",\"hovertemplate\":\"Disaster Subtype=Heat wave<br>Year=1997<br>ISO=%{location}<extra></extra>\",\"locations\":[\"CHN\",\"PAK\"],\"name\":\"Heat wave\",\"showlegend\":true,\"showscale\":false,\"z\":[1,1],\"type\":\"choropleth\"}],\"name\":\"1997\"},{\"data\":[{\"colorscale\":[[0.0,\"#636efa\"],[1.0,\"#636efa\"]],\"geo\":\"geo\",\"hovertemplate\":\"Disaster Subtype=Heat wave<br>Year=1996<br>ISO=%{location}<extra></extra>\",\"locations\":[\"EGY\",\"PAK\",\"ROU\"],\"name\":\"Heat wave\",\"showlegend\":true,\"showscale\":false,\"z\":[1,1,1],\"type\":\"choropleth\"}],\"name\":\"1996\"},{\"data\":[{\"colorscale\":[[0.0,\"#636efa\"],[1.0,\"#636efa\"]],\"geo\":\"geo\",\"hovertemplate\":\"Disaster Subtype=Heat wave<br>Year=1998<br>ISO=%{location}<extra></extra>\",\"locations\":[\"CYP\",\"IND\",\"ITA\",\"USA\",\"ROU\"],\"name\":\"Heat wave\",\"showlegend\":true,\"showscale\":false,\"z\":[1,1,1,1,1],\"type\":\"choropleth\"}],\"name\":\"1998\"},{\"data\":[{\"colorscale\":[[0.0,\"#636efa\"],[1.0,\"#636efa\"]],\"geo\":\"geo\",\"hovertemplate\":\"Disaster Subtype=Heat wave<br>Year=2000<br>ISO=%{location}<extra></extra>\",\"locations\":[\"BGR\",\"CYP\",\"GRC\",\"HRV\",\"ISR\",\"JOR\",\"MAR\",\"TUR\",\"PAK\",\"ROU\",\"USA\"],\"name\":\"Heat wave\",\"showlegend\":true,\"showscale\":false,\"z\":[1,1,1,1,1,1,1,1,1,1,1],\"type\":\"choropleth\"}],\"name\":\"2000\"},{\"data\":[{\"colorscale\":[[0.0,\"#636efa\"],[1.0,\"#636efa\"]],\"geo\":\"geo\",\"hovertemplate\":\"Disaster Subtype=Heat wave<br>Year=1999<br>ISO=%{location}<extra></extra>\",\"locations\":[\"IND\",\"LTU\",\"USA\",\"PAK\"],\"name\":\"Heat wave\",\"showlegend\":true,\"showscale\":false,\"z\":[1,1,1,1],\"type\":\"choropleth\"}],\"name\":\"1999\"},{\"data\":[{\"colorscale\":[[0.0,\"#636efa\"],[1.0,\"#636efa\"]],\"geo\":\"geo\",\"hovertemplate\":\"Disaster Subtype=Heat wave<br>Year=2002<br>ISO=%{location}<extra></extra>\",\"locations\":[\"CHN\",\"IND\",\"NGA\",\"PAK\",\"USA\"],\"name\":\"Heat wave\",\"showlegend\":true,\"showscale\":false,\"z\":[1,1,1,1,1],\"type\":\"choropleth\"}],\"name\":\"2002\"},{\"data\":[{\"colorscale\":[[0.0,\"#636efa\"],[1.0,\"#636efa\"]],\"geo\":\"geo\",\"hovertemplate\":\"Disaster Subtype=Heat wave<br>Year=2001<br>ISO=%{location}<extra></extra>\",\"locations\":[\"NZL\",\"RUS\",\"USA\"],\"name\":\"Heat wave\",\"showlegend\":true,\"showscale\":false,\"z\":[1,1,1],\"type\":\"choropleth\"}],\"name\":\"2001\"},{\"data\":[{\"colorscale\":[[0.0,\"#636efa\"],[1.0,\"#636efa\"]],\"geo\":\"geo\",\"hovertemplate\":\"Disaster Subtype=Heat wave<br>Year=2003<br>ISO=%{location}<extra></extra>\",\"locations\":[\"AUT\",\"BEL\",\"CHE\",\"DEU\",\"ESP\",\"FRA\",\"HRV\",\"IND\",\"ITA\",\"BGD\",\"CZE\",\"DZA\",\"GBR\",\"SVN\",\"SVK\",\"LUX\",\"NLD\",\"PAK\",\"PRT\"],\"name\":\"Heat wave\",\"showlegend\":true,\"showscale\":false,\"z\":[1,1,1,1,1,1,1,1,1,1,1,1,1,1,1,1,1,1,1],\"type\":\"choropleth\"}],\"name\":\"2003\"},{\"data\":[{\"colorscale\":[[0.0,\"#636efa\"],[1.0,\"#636efa\"]],\"geo\":\"geo\",\"hovertemplate\":\"Disaster Subtype=Heat wave<br>Year=2004<br>ISO=%{location}<extra></extra>\",\"locations\":[\"ALB\",\"CHN\",\"ESP\",\"JPN\",\"MKD\",\"ROU\"],\"name\":\"Heat wave\",\"showlegend\":true,\"showscale\":false,\"z\":[1,1,1,1,1,1],\"type\":\"choropleth\"}],\"name\":\"2004\"},{\"data\":[{\"colorscale\":[[0.0,\"#636efa\"],[1.0,\"#636efa\"]],\"geo\":\"geo\",\"hovertemplate\":\"Disaster Subtype=Heat wave<br>Year=2005<br>ISO=%{location}<extra></extra>\",\"locations\":[\"BGD\",\"CHN\",\"IND\",\"PAK\",\"PRT\",\"ROU\",\"USA\"],\"name\":\"Heat wave\",\"showlegend\":true,\"showscale\":false,\"z\":[1,1,1,1,1,1,1],\"type\":\"choropleth\"}],\"name\":\"2005\"},{\"data\":[{\"colorscale\":[[0.0,\"#636efa\"],[1.0,\"#636efa\"]],\"geo\":\"geo\",\"hovertemplate\":\"Disaster Subtype=Heat wave<br>Year=2006<br>ISO=%{location}<extra></extra>\",\"locations\":[\"BEL\",\"DEU\",\"ESP\",\"FRA\",\"IND\",\"NLD\",\"PAK\",\"PRT\",\"ROU\",\"USA\",\"USA\"],\"name\":\"Heat wave\",\"showlegend\":true,\"showscale\":false,\"z\":[1,1,1,1,1,1,1,1,1,1,1],\"type\":\"choropleth\"}],\"name\":\"2006\"},{\"data\":[{\"colorscale\":[[0.0,\"#636efa\"],[1.0,\"#636efa\"]],\"geo\":\"geo\",\"hovertemplate\":\"Disaster Subtype=Heat wave<br>Year=2007<br>ISO=%{location}<extra></extra>\",\"locations\":[\"BGR\",\"GRC\",\"ALB\",\"AUT\",\"BIH\",\"CYP\",\"HUN\",\"IND\",\"ROU\",\"ITA\",\"MKD\",\"TUR\",\"JPN\",\"SVK\",\"SRB\"],\"name\":\"Heat wave\",\"showlegend\":true,\"showscale\":false,\"z\":[1,1,1,1,1,1,1,1,1,1,1,1,1,1,1],\"type\":\"choropleth\"}],\"name\":\"2007\"},{\"data\":[{\"colorscale\":[[0.0,\"#636efa\"],[1.0,\"#636efa\"]],\"geo\":\"geo\",\"hovertemplate\":\"Disaster Subtype=Heat wave<br>Year=2008<br>ISO=%{location}<extra></extra>\",\"locations\":[\"JPN\"],\"name\":\"Heat wave\",\"showlegend\":true,\"showscale\":false,\"z\":[1],\"type\":\"choropleth\"}],\"name\":\"2008\"},{\"data\":[{\"colorscale\":[[0.0,\"#636efa\"],[1.0,\"#636efa\"]],\"geo\":\"geo\",\"hovertemplate\":\"Disaster Subtype=Heat wave<br>Year=2009<br>ISO=%{location}<extra></extra>\",\"locations\":[\"AUS\",\"IND\",\"JPN\"],\"name\":\"Heat wave\",\"showlegend\":true,\"showscale\":false,\"z\":[1,1,1],\"type\":\"choropleth\"}],\"name\":\"2009\"},{\"data\":[{\"colorscale\":[[0.0,\"#636efa\"],[1.0,\"#636efa\"]],\"geo\":\"geo\",\"hovertemplate\":\"Disaster Subtype=Heat wave<br>Year=2010<br>ISO=%{location}<extra></extra>\",\"locations\":[\"BRA\",\"IND\",\"JPN\",\"RUS\"],\"name\":\"Heat wave\",\"showlegend\":true,\"showscale\":false,\"z\":[1,1,1,1],\"type\":\"choropleth\"}],\"name\":\"2010\"},{\"data\":[{\"colorscale\":[[0.0,\"#636efa\"],[1.0,\"#636efa\"]],\"geo\":\"geo\",\"hovertemplate\":\"Disaster Subtype=Heat wave<br>Year=2011<br>ISO=%{location}<extra></extra>\",\"locations\":[\"USA\",\"ITA\",\"JPN\"],\"name\":\"Heat wave\",\"showlegend\":true,\"showscale\":false,\"z\":[1,1,1],\"type\":\"choropleth\"}],\"name\":\"2011\"},{\"data\":[{\"colorscale\":[[0.0,\"#636efa\"],[1.0,\"#636efa\"]],\"geo\":\"geo\",\"hovertemplate\":\"Disaster Subtype=Heat wave<br>Year=2013<br>ISO=%{location}<extra></extra>\",\"locations\":[\"BOL\",\"GBR\",\"IND\",\"JPN\",\"CHN\"],\"name\":\"Heat wave\",\"showlegend\":true,\"showscale\":false,\"z\":[1,1,1,1,1],\"type\":\"choropleth\"}],\"name\":\"2013\"},{\"data\":[{\"colorscale\":[[0.0,\"#636efa\"],[1.0,\"#636efa\"]],\"geo\":\"geo\",\"hovertemplate\":\"Disaster Subtype=Heat wave<br>Year=2012<br>ISO=%{location}<extra></extra>\",\"locations\":[\"USA\"],\"name\":\"Heat wave\",\"showlegend\":true,\"showscale\":false,\"z\":[1],\"type\":\"choropleth\"}],\"name\":\"2012\"},{\"data\":[{\"colorscale\":[[0.0,\"#636efa\"],[1.0,\"#636efa\"]],\"geo\":\"geo\",\"hovertemplate\":\"Disaster Subtype=Heat wave<br>Year=2014<br>ISO=%{location}<extra></extra>\",\"locations\":[\"AUS\",\"PAK\",\"JPN\"],\"name\":\"Heat wave\",\"showlegend\":true,\"showscale\":false,\"z\":[1,1,1],\"type\":\"choropleth\"}],\"name\":\"2014\"},{\"data\":[{\"colorscale\":[[0.0,\"#636efa\"],[1.0,\"#636efa\"]],\"geo\":\"geo\",\"hovertemplate\":\"Disaster Subtype=Heat wave<br>Year=2015<br>ISO=%{location}<extra></extra>\",\"locations\":[\"BEL\",\"EGY\",\"FRA\",\"IND\",\"JPN\",\"JPN\",\"JPN\",\"PAK\",\"SDN\"],\"name\":\"Heat wave\",\"showlegend\":true,\"showscale\":false,\"z\":[1,1,1,1,1,1,1,1,1],\"type\":\"choropleth\"}],\"name\":\"2015\"},{\"data\":[{\"colorscale\":[[0.0,\"#636efa\"],[1.0,\"#636efa\"]],\"geo\":\"geo\",\"hovertemplate\":\"Disaster Subtype=Heat wave<br>Year=2016<br>ISO=%{location}<extra></extra>\",\"locations\":[\"IND\",\"ZAF\",\"JPN\"],\"name\":\"Heat wave\",\"showlegend\":true,\"showscale\":false,\"z\":[1,1,1],\"type\":\"choropleth\"}],\"name\":\"2016\"},{\"data\":[{\"colorscale\":[[0.0,\"#636efa\"],[1.0,\"#636efa\"]],\"geo\":\"geo\",\"hovertemplate\":\"Disaster Subtype=Heat wave<br>Year=2018<br>ISO=%{location}<extra></extra>\",\"locations\":[\"AUS\",\"BEL\",\"CAN\",\"DEU\",\"ESP\",\"FRA\",\"GBR\",\"PRK\",\"ITA\",\"JPN\",\"KOR\",\"NLD\",\"PAK\",\"PRT\"],\"name\":\"Heat wave\",\"showlegend\":true,\"showscale\":false,\"z\":[1,1,1,1,1,1,1,1,1,1,1,1,1,1],\"type\":\"choropleth\"}],\"name\":\"2018\"},{\"data\":[{\"colorscale\":[[0.0,\"#636efa\"],[1.0,\"#636efa\"]],\"geo\":\"geo\",\"hovertemplate\":\"Disaster Subtype=Heat wave<br>Year=2017<br>ISO=%{location}<extra></extra>\",\"locations\":[\"IND\"],\"name\":\"Heat wave\",\"showlegend\":true,\"showscale\":false,\"z\":[1],\"type\":\"choropleth\"}],\"name\":\"2017\"},{\"data\":[{\"colorscale\":[[0.0,\"#636efa\"],[1.0,\"#636efa\"]],\"geo\":\"geo\",\"hovertemplate\":\"Disaster Subtype=Heat wave<br>Year=2019<br>ISO=%{location}<extra></extra>\",\"locations\":[\"IND\",\"IND\",\"AUT\",\"BEL\",\"BEL\",\"BEL\",\"DEU\",\"DEU\",\"ESP\",\"FRA\",\"FRA\",\"GBR\",\"GBR\",\"ITA\",\"JPN\",\"JPN\",\"NLD\"],\"name\":\"Heat wave\",\"showlegend\":true,\"showscale\":false,\"z\":[1,1,1,1,1,1,1,1,1,1,1,1,1,1,1,1,1],\"type\":\"choropleth\"}],\"name\":\"2019\"},{\"data\":[{\"colorscale\":[[0.0,\"#636efa\"],[1.0,\"#636efa\"]],\"geo\":\"geo\",\"hovertemplate\":\"Disaster Subtype=Heat wave<br>Year=2020<br>ISO=%{location}<extra></extra>\",\"locations\":[\"BEL\",\"FRA\",\"GBR\",\"NLD\"],\"name\":\"Heat wave\",\"showlegend\":true,\"showscale\":false,\"z\":[1,1,1,1],\"type\":\"choropleth\"}],\"name\":\"2020\"},{\"data\":[{\"colorscale\":[[0.0,\"#636efa\"],[1.0,\"#636efa\"]],\"geo\":\"geo\",\"hovertemplate\":\"Disaster Subtype=Heat wave<br>Year=2021<br>ISO=%{location}<extra></extra>\",\"locations\":[\"CAN\",\"USA\"],\"name\":\"Heat wave\",\"showlegend\":true,\"showscale\":false,\"z\":[1,1],\"type\":\"choropleth\"}],\"name\":\"2021\"},{\"data\":[{\"colorscale\":[[0.0,\"#636efa\"],[1.0,\"#636efa\"]],\"geo\":\"geo\",\"hovertemplate\":\"Disaster Subtype=Heat wave<br>Year=2022<br>ISO=%{location}<extra></extra>\",\"locations\":[\"ALB\",\"AUT\",\"BEL\",\"BGR\",\"CHE\",\"CYP\",\"CZE\",\"DEU\",\"DNK\",\"ESP\",\"EST\",\"FIN\",\"FRA\",\"GBR\",\"GRC\",\"HRV\",\"HUN\",\"IND\",\"IRL\",\"ITA\",\"JPN\",\"KGZ\",\"KOR\",\"NLD\",\"NOR\",\"PAK\",\"POL\",\"PRT\",\"ROU\",\"SVK\",\"SVN\",\"SWE\",\"SRB\"],\"name\":\"Heat wave\",\"showlegend\":true,\"showscale\":false,\"z\":[1,1,1,1,1,1,1,1,1,1,1,1,1,1,1,1,1,1,1,1,1,1,1,1,1,1,1,1,1,1,1,1,1],\"type\":\"choropleth\"}],\"name\":\"2022\"},{\"data\":[{\"colorscale\":[[0.0,\"#636efa\"],[1.0,\"#636efa\"]],\"geo\":\"geo\",\"hovertemplate\":\"Disaster Subtype=Heat wave<br>Year=2023<br>ISO=%{location}<extra></extra>\",\"locations\":[\"USA\",\"IND\",\"IND\"],\"name\":\"Heat wave\",\"showlegend\":true,\"showscale\":false,\"z\":[1,1,1],\"type\":\"choropleth\"}],\"name\":\"2023\"}]);\n",
       "                        }).then(function(){\n",
       "                            \n",
       "var gd = document.getElementById('cae6ac02-2863-411a-9927-da80e1119cdf');\n",
       "var x = new MutationObserver(function (mutations, observer) {{\n",
       "        var display = window.getComputedStyle(gd).display;\n",
       "        if (!display || display === 'none') {{\n",
       "            console.log([gd, 'removed!']);\n",
       "            Plotly.purge(gd);\n",
       "            observer.disconnect();\n",
       "        }}\n",
       "}});\n",
       "\n",
       "// Listen for the removal of the full notebook cells\n",
       "var notebookContainer = gd.closest('#notebook-container');\n",
       "if (notebookContainer) {{\n",
       "    x.observe(notebookContainer, {childList: true});\n",
       "}}\n",
       "\n",
       "// Listen for the clearing of the current output cell\n",
       "var outputEl = gd.closest('.output');\n",
       "if (outputEl) {{\n",
       "    x.observe(outputEl, {childList: true});\n",
       "}}\n",
       "\n",
       "                        })                };                });            </script>        </div>"
      ]
     },
     "metadata": {},
     "output_type": "display_data"
    }
   ],
   "source": [
    "df_heatwave = pd.read_csv('https://github.com/hongdoudahongdou/MDA/blob/main/data/heatwave.csv?raw=true')\n",
    "fig_map_heatwave=px.choropleth(df_heatwave , locations=\"ISO\",color=\"Disaster Subtype\",animation_frame=\"Year\")\n",
    "fig_map_heatwave"
   ]
  },
  {
   "cell_type": "markdown",
   "id": "f43a99ee",
   "metadata": {},
   "source": [
    "## Total Death Map"
   ]
  },
  {
   "cell_type": "code",
   "execution_count": 217,
   "id": "6a6488b2",
   "metadata": {
    "scrolled": true
   },
   "outputs": [
    {
     "data": {
      "application/vnd.plotly.v1+json": {
       "config": {
        "plotlyServerURL": "https://plot.ly"
       },
       "data": [
        {
         "coloraxis": "coloraxis",
         "geo": "geo",
         "hovertemplate": "Year=2000<br>ISO=%{location}<br>Total Deaths=%{z}<extra></extra>",
         "locations": [
          "BGR",
          "CYP",
          "GRC",
          "TUR"
         ],
         "name": "",
         "type": "choropleth",
         "z": [
          7,
          5,
          27,
          11
         ]
        }
       ],
       "frames": [
        {
         "data": [
          {
           "coloraxis": "coloraxis",
           "geo": "geo",
           "hovertemplate": "Year=2000<br>ISO=%{location}<br>Total Deaths=%{z}<extra></extra>",
           "locations": [
            "BGR",
            "CYP",
            "GRC",
            "TUR"
           ],
           "name": "",
           "type": "choropleth",
           "z": [
            7,
            5,
            27,
            11
           ]
          }
         ],
         "name": "2000"
        },
        {
         "data": [
          {
           "coloraxis": "coloraxis",
           "geo": "geo",
           "hovertemplate": "Year=2002<br>ISO=%{location}<br>Total Deaths=%{z}<extra></extra>",
           "locations": [
            "CHN",
            "IND",
            "PAK"
           ],
           "name": "",
           "type": "choropleth",
           "z": [
            7,
            1030,
            113
           ]
          }
         ],
         "name": "2002"
        },
        {
         "data": [
          {
           "coloraxis": "coloraxis",
           "geo": "geo",
           "hovertemplate": "Year=2001<br>ISO=%{location}<br>Total Deaths=%{z}<extra></extra>",
           "locations": [
            "RUS"
           ],
           "name": "",
           "type": "choropleth",
           "z": [
            276
           ]
          }
         ],
         "name": "2001"
        },
        {
         "data": [
          {
           "coloraxis": "coloraxis",
           "geo": "geo",
           "hovertemplate": "Year=2003<br>ISO=%{location}<br>Total Deaths=%{z}<extra></extra>",
           "locations": [
            "AUT",
            "BEL",
            "CHE",
            "DEU",
            "ESP",
            "FRA",
            "IND",
            "ITA",
            "BGD",
            "CZE",
            "DZA",
            "GBR",
            "SVN",
            "LUX",
            "NLD",
            "PAK",
            "PRT"
           ],
           "name": "",
           "type": "choropleth",
           "z": [
            345,
            1175,
            1039,
            9355,
            15090,
            19490,
            1210,
            20089,
            62,
            418,
            40,
            301,
            289,
            170,
            965,
            200,
            2696
           ]
          }
         ],
         "name": "2003"
        },
        {
         "data": [
          {
           "coloraxis": "coloraxis",
           "geo": "geo",
           "hovertemplate": "Year=2004<br>ISO=%{location}<br>Total Deaths=%{z}<extra></extra>",
           "locations": [
            "CHN",
            "ESP",
            "JPN",
            "MKD",
            "ROU"
           ],
           "name": "",
           "type": "choropleth",
           "z": [
            39,
            26,
            10,
            15,
            27
           ]
          }
         ],
         "name": "2004"
        },
        {
         "data": [
          {
           "coloraxis": "coloraxis",
           "geo": "geo",
           "hovertemplate": "Year=2005<br>ISO=%{location}<br>Total Deaths=%{z}<extra></extra>",
           "locations": [
            "IND",
            "PAK",
            "PRT",
            "ROU"
           ],
           "name": "",
           "type": "choropleth",
           "z": [
            329,
            106,
            462,
            13
           ]
          }
         ],
         "name": "2005"
        },
        {
         "data": [
          {
           "coloraxis": "coloraxis",
           "geo": "geo",
           "hovertemplate": "Year=2006<br>ISO=%{location}<br>Total Deaths=%{z}<extra></extra>",
           "locations": [
            "BEL",
            "DEU",
            "ESP",
            "FRA",
            "IND",
            "NLD",
            "PAK",
            "PRT",
            "ROU"
           ],
           "name": "",
           "type": "choropleth",
           "z": [
            940,
            2,
            21,
            1388,
            47,
            1000,
            84,
            41,
            26
           ]
          }
         ],
         "name": "2006"
        },
        {
         "data": [
          {
           "coloraxis": "coloraxis",
           "geo": "geo",
           "hovertemplate": "Year=2007<br>ISO=%{location}<br>Total Deaths=%{z}<extra></extra>",
           "locations": [
            "BGR",
            "GRC",
            "AUT",
            "CYP",
            "HUN",
            "IND",
            "ROU",
            "ITA",
            "TUR",
            "JPN",
            "SVK"
           ],
           "name": "",
           "type": "choropleth",
           "z": [
            2,
            16,
            5,
            4,
            500,
            72,
            30,
            6,
            3,
            62,
            1
           ]
          }
         ],
         "name": "2007"
        },
        {
         "data": [
          {
           "coloraxis": "coloraxis",
           "geo": "geo",
           "hovertemplate": "Year=2008<br>ISO=%{location}<br>Total Deaths=%{z}<extra></extra>",
           "locations": [
            "JPN"
           ],
           "name": "",
           "type": "choropleth",
           "z": [
            47
           ]
          }
         ],
         "name": "2008"
        },
        {
         "data": [
          {
           "coloraxis": "coloraxis",
           "geo": "geo",
           "hovertemplate": "Year=2009<br>ISO=%{location}<br>Total Deaths=%{z}<extra></extra>",
           "locations": [
            "AUS",
            "IND",
            "JPN"
           ],
           "name": "",
           "type": "choropleth",
           "z": [
            347,
            120,
            16
           ]
          }
         ],
         "name": "2009"
        },
        {
         "data": [
          {
           "coloraxis": "coloraxis",
           "geo": "geo",
           "hovertemplate": "Year=2010<br>ISO=%{location}<br>Total Deaths=%{z}<extra></extra>",
           "locations": [
            "IND",
            "JPN",
            "RUS"
           ],
           "name": "",
           "type": "choropleth",
           "z": [
            250,
            170,
            55736
           ]
          }
         ],
         "name": "2010"
        },
        {
         "data": [
          {
           "coloraxis": "coloraxis",
           "geo": "geo",
           "hovertemplate": "Year=2013<br>ISO=%{location}<br>Total Deaths=%{z}<extra></extra>",
           "locations": [
            "BOL",
            "GBR",
            "IND",
            "JPN",
            "CHN"
           ],
           "name": "",
           "type": "choropleth",
           "z": [
            18,
            760,
            557,
            338,
            40
           ]
          }
         ],
         "name": "2013"
        },
        {
         "data": [
          {
           "coloraxis": "coloraxis",
           "geo": "geo",
           "hovertemplate": "Year=2011<br>ISO=%{location}<br>Total Deaths=%{z}<extra></extra>",
           "locations": [
            "ITA",
            "JPN"
           ],
           "name": "",
           "type": "choropleth",
           "z": [
            10,
            36
           ]
          }
         ],
         "name": "2011"
        },
        {
         "data": [
          {
           "coloraxis": "coloraxis",
           "geo": "geo",
           "hovertemplate": "Year=2014<br>ISO=%{location}<br>Total Deaths=%{z}<extra></extra>",
           "locations": [
            "AUS",
            "PAK",
            "JPN"
           ],
           "name": "",
           "type": "choropleth",
           "z": [
            139,
            139,
            27
           ]
          }
         ],
         "name": "2014"
        },
        {
         "data": [
          {
           "coloraxis": "coloraxis",
           "geo": "geo",
           "hovertemplate": "Year=2015<br>ISO=%{location}<br>Total Deaths=%{z}<extra></extra>",
           "locations": [
            "BEL",
            "EGY",
            "FRA",
            "IND",
            "JPN",
            "JPN"
           ],
           "name": "",
           "type": "choropleth",
           "z": [
            410,
            110,
            3275,
            2248,
            32,
            5
           ]
          }
         ],
         "name": "2015"
        },
        {
         "data": [
          {
           "coloraxis": "coloraxis",
           "geo": "geo",
           "hovertemplate": "Year=2016<br>ISO=%{location}<br>Total Deaths=%{z}<extra></extra>",
           "locations": [
            "ZAF",
            "JPN"
           ],
           "name": "",
           "type": "choropleth",
           "z": [
            11,
            3
           ]
          }
         ],
         "name": "2016"
        },
        {
         "data": [
          {
           "coloraxis": "coloraxis",
           "geo": "geo",
           "hovertemplate": "Year=2018<br>ISO=%{location}<br>Total Deaths=%{z}<extra></extra>",
           "locations": [
            "CAN",
            "ESP",
            "JPN"
           ],
           "name": "",
           "type": "choropleth",
           "z": [
            70,
            9,
            119
           ]
          }
         ],
         "name": "2018"
        },
        {
         "data": [
          {
           "coloraxis": "coloraxis",
           "geo": "geo",
           "hovertemplate": "Year=2019<br>ISO=%{location}<br>Total Deaths=%{z}<extra></extra>",
           "locations": [
            "IND",
            "IND",
            "AUT",
            "BEL",
            "BEL",
            "BEL",
            "DEU",
            "ESP",
            "FRA",
            "FRA",
            "GBR",
            "ITA",
            "JPN",
            "JPN",
            "NLD"
           ],
           "name": "",
           "type": "choropleth",
           "z": [
            90,
            22,
            1,
            128,
            400,
            188,
            4,
            2,
            567,
            868,
            5,
            3,
            162,
            11,
            400
           ]
          }
         ],
         "name": "2019"
        },
        {
         "data": [
          {
           "coloraxis": "coloraxis",
           "geo": "geo",
           "hovertemplate": "Year=2020<br>ISO=%{location}<br>Total Deaths=%{z}<extra></extra>",
           "locations": [
            "BEL",
            "FRA",
            "GBR",
            "NLD"
           ],
           "name": "",
           "type": "choropleth",
           "z": [
            1460,
            1924,
            2556,
            400
           ]
          }
         ],
         "name": "2020"
        },
        {
         "data": [
          {
           "coloraxis": "coloraxis",
           "geo": "geo",
           "hovertemplate": "Year=2021<br>ISO=%{location}<br>Total Deaths=%{z}<extra></extra>",
           "locations": [
            "CAN"
           ],
           "name": "",
           "type": "choropleth",
           "z": [
            815
           ]
          }
         ],
         "name": "2021"
        }
       ],
       "layout": {
        "coloraxis": {
         "colorbar": {
          "title": {
           "text": "Total Deaths"
          }
         },
         "colorscale": [
          [
           0,
           "#0d0887"
          ],
          [
           0.1111111111111111,
           "#46039f"
          ],
          [
           0.2222222222222222,
           "#7201a8"
          ],
          [
           0.3333333333333333,
           "#9c179e"
          ],
          [
           0.4444444444444444,
           "#bd3786"
          ],
          [
           0.5555555555555556,
           "#d8576b"
          ],
          [
           0.6666666666666666,
           "#ed7953"
          ],
          [
           0.7777777777777778,
           "#fb9f3a"
          ],
          [
           0.8888888888888888,
           "#fdca26"
          ],
          [
           1,
           "#f0f921"
          ]
         ]
        },
        "geo": {
         "center": {},
         "domain": {
          "x": [
           0,
           1
          ],
          "y": [
           0,
           1
          ]
         }
        },
        "legend": {
         "tracegroupgap": 0
        },
        "margin": {
         "t": 60
        },
        "sliders": [
         {
          "active": 0,
          "currentvalue": {
           "prefix": "Year="
          },
          "len": 0.9,
          "pad": {
           "b": 10,
           "t": 60
          },
          "steps": [
           {
            "args": [
             [
              "2000"
             ],
             {
              "frame": {
               "duration": 0,
               "redraw": true
              },
              "fromcurrent": true,
              "mode": "immediate",
              "transition": {
               "duration": 0,
               "easing": "linear"
              }
             }
            ],
            "label": "2000",
            "method": "animate"
           },
           {
            "args": [
             [
              "2002"
             ],
             {
              "frame": {
               "duration": 0,
               "redraw": true
              },
              "fromcurrent": true,
              "mode": "immediate",
              "transition": {
               "duration": 0,
               "easing": "linear"
              }
             }
            ],
            "label": "2002",
            "method": "animate"
           },
           {
            "args": [
             [
              "2001"
             ],
             {
              "frame": {
               "duration": 0,
               "redraw": true
              },
              "fromcurrent": true,
              "mode": "immediate",
              "transition": {
               "duration": 0,
               "easing": "linear"
              }
             }
            ],
            "label": "2001",
            "method": "animate"
           },
           {
            "args": [
             [
              "2003"
             ],
             {
              "frame": {
               "duration": 0,
               "redraw": true
              },
              "fromcurrent": true,
              "mode": "immediate",
              "transition": {
               "duration": 0,
               "easing": "linear"
              }
             }
            ],
            "label": "2003",
            "method": "animate"
           },
           {
            "args": [
             [
              "2004"
             ],
             {
              "frame": {
               "duration": 0,
               "redraw": true
              },
              "fromcurrent": true,
              "mode": "immediate",
              "transition": {
               "duration": 0,
               "easing": "linear"
              }
             }
            ],
            "label": "2004",
            "method": "animate"
           },
           {
            "args": [
             [
              "2005"
             ],
             {
              "frame": {
               "duration": 0,
               "redraw": true
              },
              "fromcurrent": true,
              "mode": "immediate",
              "transition": {
               "duration": 0,
               "easing": "linear"
              }
             }
            ],
            "label": "2005",
            "method": "animate"
           },
           {
            "args": [
             [
              "2006"
             ],
             {
              "frame": {
               "duration": 0,
               "redraw": true
              },
              "fromcurrent": true,
              "mode": "immediate",
              "transition": {
               "duration": 0,
               "easing": "linear"
              }
             }
            ],
            "label": "2006",
            "method": "animate"
           },
           {
            "args": [
             [
              "2007"
             ],
             {
              "frame": {
               "duration": 0,
               "redraw": true
              },
              "fromcurrent": true,
              "mode": "immediate",
              "transition": {
               "duration": 0,
               "easing": "linear"
              }
             }
            ],
            "label": "2007",
            "method": "animate"
           },
           {
            "args": [
             [
              "2008"
             ],
             {
              "frame": {
               "duration": 0,
               "redraw": true
              },
              "fromcurrent": true,
              "mode": "immediate",
              "transition": {
               "duration": 0,
               "easing": "linear"
              }
             }
            ],
            "label": "2008",
            "method": "animate"
           },
           {
            "args": [
             [
              "2009"
             ],
             {
              "frame": {
               "duration": 0,
               "redraw": true
              },
              "fromcurrent": true,
              "mode": "immediate",
              "transition": {
               "duration": 0,
               "easing": "linear"
              }
             }
            ],
            "label": "2009",
            "method": "animate"
           },
           {
            "args": [
             [
              "2010"
             ],
             {
              "frame": {
               "duration": 0,
               "redraw": true
              },
              "fromcurrent": true,
              "mode": "immediate",
              "transition": {
               "duration": 0,
               "easing": "linear"
              }
             }
            ],
            "label": "2010",
            "method": "animate"
           },
           {
            "args": [
             [
              "2013"
             ],
             {
              "frame": {
               "duration": 0,
               "redraw": true
              },
              "fromcurrent": true,
              "mode": "immediate",
              "transition": {
               "duration": 0,
               "easing": "linear"
              }
             }
            ],
            "label": "2013",
            "method": "animate"
           },
           {
            "args": [
             [
              "2011"
             ],
             {
              "frame": {
               "duration": 0,
               "redraw": true
              },
              "fromcurrent": true,
              "mode": "immediate",
              "transition": {
               "duration": 0,
               "easing": "linear"
              }
             }
            ],
            "label": "2011",
            "method": "animate"
           },
           {
            "args": [
             [
              "2014"
             ],
             {
              "frame": {
               "duration": 0,
               "redraw": true
              },
              "fromcurrent": true,
              "mode": "immediate",
              "transition": {
               "duration": 0,
               "easing": "linear"
              }
             }
            ],
            "label": "2014",
            "method": "animate"
           },
           {
            "args": [
             [
              "2015"
             ],
             {
              "frame": {
               "duration": 0,
               "redraw": true
              },
              "fromcurrent": true,
              "mode": "immediate",
              "transition": {
               "duration": 0,
               "easing": "linear"
              }
             }
            ],
            "label": "2015",
            "method": "animate"
           },
           {
            "args": [
             [
              "2016"
             ],
             {
              "frame": {
               "duration": 0,
               "redraw": true
              },
              "fromcurrent": true,
              "mode": "immediate",
              "transition": {
               "duration": 0,
               "easing": "linear"
              }
             }
            ],
            "label": "2016",
            "method": "animate"
           },
           {
            "args": [
             [
              "2018"
             ],
             {
              "frame": {
               "duration": 0,
               "redraw": true
              },
              "fromcurrent": true,
              "mode": "immediate",
              "transition": {
               "duration": 0,
               "easing": "linear"
              }
             }
            ],
            "label": "2018",
            "method": "animate"
           },
           {
            "args": [
             [
              "2019"
             ],
             {
              "frame": {
               "duration": 0,
               "redraw": true
              },
              "fromcurrent": true,
              "mode": "immediate",
              "transition": {
               "duration": 0,
               "easing": "linear"
              }
             }
            ],
            "label": "2019",
            "method": "animate"
           },
           {
            "args": [
             [
              "2020"
             ],
             {
              "frame": {
               "duration": 0,
               "redraw": true
              },
              "fromcurrent": true,
              "mode": "immediate",
              "transition": {
               "duration": 0,
               "easing": "linear"
              }
             }
            ],
            "label": "2020",
            "method": "animate"
           },
           {
            "args": [
             [
              "2021"
             ],
             {
              "frame": {
               "duration": 0,
               "redraw": true
              },
              "fromcurrent": true,
              "mode": "immediate",
              "transition": {
               "duration": 0,
               "easing": "linear"
              }
             }
            ],
            "label": "2021",
            "method": "animate"
           }
          ],
          "x": 0.1,
          "xanchor": "left",
          "y": 0,
          "yanchor": "top"
         }
        ],
        "template": {
         "data": {
          "bar": [
           {
            "error_x": {
             "color": "#2a3f5f"
            },
            "error_y": {
             "color": "#2a3f5f"
            },
            "marker": {
             "line": {
              "color": "#E5ECF6",
              "width": 0.5
             },
             "pattern": {
              "fillmode": "overlay",
              "size": 10,
              "solidity": 0.2
             }
            },
            "type": "bar"
           }
          ],
          "barpolar": [
           {
            "marker": {
             "line": {
              "color": "#E5ECF6",
              "width": 0.5
             },
             "pattern": {
              "fillmode": "overlay",
              "size": 10,
              "solidity": 0.2
             }
            },
            "type": "barpolar"
           }
          ],
          "carpet": [
           {
            "aaxis": {
             "endlinecolor": "#2a3f5f",
             "gridcolor": "white",
             "linecolor": "white",
             "minorgridcolor": "white",
             "startlinecolor": "#2a3f5f"
            },
            "baxis": {
             "endlinecolor": "#2a3f5f",
             "gridcolor": "white",
             "linecolor": "white",
             "minorgridcolor": "white",
             "startlinecolor": "#2a3f5f"
            },
            "type": "carpet"
           }
          ],
          "choropleth": [
           {
            "colorbar": {
             "outlinewidth": 0,
             "ticks": ""
            },
            "type": "choropleth"
           }
          ],
          "contour": [
           {
            "colorbar": {
             "outlinewidth": 0,
             "ticks": ""
            },
            "colorscale": [
             [
              0,
              "#0d0887"
             ],
             [
              0.1111111111111111,
              "#46039f"
             ],
             [
              0.2222222222222222,
              "#7201a8"
             ],
             [
              0.3333333333333333,
              "#9c179e"
             ],
             [
              0.4444444444444444,
              "#bd3786"
             ],
             [
              0.5555555555555556,
              "#d8576b"
             ],
             [
              0.6666666666666666,
              "#ed7953"
             ],
             [
              0.7777777777777778,
              "#fb9f3a"
             ],
             [
              0.8888888888888888,
              "#fdca26"
             ],
             [
              1,
              "#f0f921"
             ]
            ],
            "type": "contour"
           }
          ],
          "contourcarpet": [
           {
            "colorbar": {
             "outlinewidth": 0,
             "ticks": ""
            },
            "type": "contourcarpet"
           }
          ],
          "heatmap": [
           {
            "colorbar": {
             "outlinewidth": 0,
             "ticks": ""
            },
            "colorscale": [
             [
              0,
              "#0d0887"
             ],
             [
              0.1111111111111111,
              "#46039f"
             ],
             [
              0.2222222222222222,
              "#7201a8"
             ],
             [
              0.3333333333333333,
              "#9c179e"
             ],
             [
              0.4444444444444444,
              "#bd3786"
             ],
             [
              0.5555555555555556,
              "#d8576b"
             ],
             [
              0.6666666666666666,
              "#ed7953"
             ],
             [
              0.7777777777777778,
              "#fb9f3a"
             ],
             [
              0.8888888888888888,
              "#fdca26"
             ],
             [
              1,
              "#f0f921"
             ]
            ],
            "type": "heatmap"
           }
          ],
          "heatmapgl": [
           {
            "colorbar": {
             "outlinewidth": 0,
             "ticks": ""
            },
            "colorscale": [
             [
              0,
              "#0d0887"
             ],
             [
              0.1111111111111111,
              "#46039f"
             ],
             [
              0.2222222222222222,
              "#7201a8"
             ],
             [
              0.3333333333333333,
              "#9c179e"
             ],
             [
              0.4444444444444444,
              "#bd3786"
             ],
             [
              0.5555555555555556,
              "#d8576b"
             ],
             [
              0.6666666666666666,
              "#ed7953"
             ],
             [
              0.7777777777777778,
              "#fb9f3a"
             ],
             [
              0.8888888888888888,
              "#fdca26"
             ],
             [
              1,
              "#f0f921"
             ]
            ],
            "type": "heatmapgl"
           }
          ],
          "histogram": [
           {
            "marker": {
             "pattern": {
              "fillmode": "overlay",
              "size": 10,
              "solidity": 0.2
             }
            },
            "type": "histogram"
           }
          ],
          "histogram2d": [
           {
            "colorbar": {
             "outlinewidth": 0,
             "ticks": ""
            },
            "colorscale": [
             [
              0,
              "#0d0887"
             ],
             [
              0.1111111111111111,
              "#46039f"
             ],
             [
              0.2222222222222222,
              "#7201a8"
             ],
             [
              0.3333333333333333,
              "#9c179e"
             ],
             [
              0.4444444444444444,
              "#bd3786"
             ],
             [
              0.5555555555555556,
              "#d8576b"
             ],
             [
              0.6666666666666666,
              "#ed7953"
             ],
             [
              0.7777777777777778,
              "#fb9f3a"
             ],
             [
              0.8888888888888888,
              "#fdca26"
             ],
             [
              1,
              "#f0f921"
             ]
            ],
            "type": "histogram2d"
           }
          ],
          "histogram2dcontour": [
           {
            "colorbar": {
             "outlinewidth": 0,
             "ticks": ""
            },
            "colorscale": [
             [
              0,
              "#0d0887"
             ],
             [
              0.1111111111111111,
              "#46039f"
             ],
             [
              0.2222222222222222,
              "#7201a8"
             ],
             [
              0.3333333333333333,
              "#9c179e"
             ],
             [
              0.4444444444444444,
              "#bd3786"
             ],
             [
              0.5555555555555556,
              "#d8576b"
             ],
             [
              0.6666666666666666,
              "#ed7953"
             ],
             [
              0.7777777777777778,
              "#fb9f3a"
             ],
             [
              0.8888888888888888,
              "#fdca26"
             ],
             [
              1,
              "#f0f921"
             ]
            ],
            "type": "histogram2dcontour"
           }
          ],
          "mesh3d": [
           {
            "colorbar": {
             "outlinewidth": 0,
             "ticks": ""
            },
            "type": "mesh3d"
           }
          ],
          "parcoords": [
           {
            "line": {
             "colorbar": {
              "outlinewidth": 0,
              "ticks": ""
             }
            },
            "type": "parcoords"
           }
          ],
          "pie": [
           {
            "automargin": true,
            "type": "pie"
           }
          ],
          "scatter": [
           {
            "fillpattern": {
             "fillmode": "overlay",
             "size": 10,
             "solidity": 0.2
            },
            "type": "scatter"
           }
          ],
          "scatter3d": [
           {
            "line": {
             "colorbar": {
              "outlinewidth": 0,
              "ticks": ""
             }
            },
            "marker": {
             "colorbar": {
              "outlinewidth": 0,
              "ticks": ""
             }
            },
            "type": "scatter3d"
           }
          ],
          "scattercarpet": [
           {
            "marker": {
             "colorbar": {
              "outlinewidth": 0,
              "ticks": ""
             }
            },
            "type": "scattercarpet"
           }
          ],
          "scattergeo": [
           {
            "marker": {
             "colorbar": {
              "outlinewidth": 0,
              "ticks": ""
             }
            },
            "type": "scattergeo"
           }
          ],
          "scattergl": [
           {
            "marker": {
             "colorbar": {
              "outlinewidth": 0,
              "ticks": ""
             }
            },
            "type": "scattergl"
           }
          ],
          "scattermapbox": [
           {
            "marker": {
             "colorbar": {
              "outlinewidth": 0,
              "ticks": ""
             }
            },
            "type": "scattermapbox"
           }
          ],
          "scatterpolar": [
           {
            "marker": {
             "colorbar": {
              "outlinewidth": 0,
              "ticks": ""
             }
            },
            "type": "scatterpolar"
           }
          ],
          "scatterpolargl": [
           {
            "marker": {
             "colorbar": {
              "outlinewidth": 0,
              "ticks": ""
             }
            },
            "type": "scatterpolargl"
           }
          ],
          "scatterternary": [
           {
            "marker": {
             "colorbar": {
              "outlinewidth": 0,
              "ticks": ""
             }
            },
            "type": "scatterternary"
           }
          ],
          "surface": [
           {
            "colorbar": {
             "outlinewidth": 0,
             "ticks": ""
            },
            "colorscale": [
             [
              0,
              "#0d0887"
             ],
             [
              0.1111111111111111,
              "#46039f"
             ],
             [
              0.2222222222222222,
              "#7201a8"
             ],
             [
              0.3333333333333333,
              "#9c179e"
             ],
             [
              0.4444444444444444,
              "#bd3786"
             ],
             [
              0.5555555555555556,
              "#d8576b"
             ],
             [
              0.6666666666666666,
              "#ed7953"
             ],
             [
              0.7777777777777778,
              "#fb9f3a"
             ],
             [
              0.8888888888888888,
              "#fdca26"
             ],
             [
              1,
              "#f0f921"
             ]
            ],
            "type": "surface"
           }
          ],
          "table": [
           {
            "cells": {
             "fill": {
              "color": "#EBF0F8"
             },
             "line": {
              "color": "white"
             }
            },
            "header": {
             "fill": {
              "color": "#C8D4E3"
             },
             "line": {
              "color": "white"
             }
            },
            "type": "table"
           }
          ]
         },
         "layout": {
          "annotationdefaults": {
           "arrowcolor": "#2a3f5f",
           "arrowhead": 0,
           "arrowwidth": 1
          },
          "autotypenumbers": "strict",
          "coloraxis": {
           "colorbar": {
            "outlinewidth": 0,
            "ticks": ""
           }
          },
          "colorscale": {
           "diverging": [
            [
             0,
             "#8e0152"
            ],
            [
             0.1,
             "#c51b7d"
            ],
            [
             0.2,
             "#de77ae"
            ],
            [
             0.3,
             "#f1b6da"
            ],
            [
             0.4,
             "#fde0ef"
            ],
            [
             0.5,
             "#f7f7f7"
            ],
            [
             0.6,
             "#e6f5d0"
            ],
            [
             0.7,
             "#b8e186"
            ],
            [
             0.8,
             "#7fbc41"
            ],
            [
             0.9,
             "#4d9221"
            ],
            [
             1,
             "#276419"
            ]
           ],
           "sequential": [
            [
             0,
             "#0d0887"
            ],
            [
             0.1111111111111111,
             "#46039f"
            ],
            [
             0.2222222222222222,
             "#7201a8"
            ],
            [
             0.3333333333333333,
             "#9c179e"
            ],
            [
             0.4444444444444444,
             "#bd3786"
            ],
            [
             0.5555555555555556,
             "#d8576b"
            ],
            [
             0.6666666666666666,
             "#ed7953"
            ],
            [
             0.7777777777777778,
             "#fb9f3a"
            ],
            [
             0.8888888888888888,
             "#fdca26"
            ],
            [
             1,
             "#f0f921"
            ]
           ],
           "sequentialminus": [
            [
             0,
             "#0d0887"
            ],
            [
             0.1111111111111111,
             "#46039f"
            ],
            [
             0.2222222222222222,
             "#7201a8"
            ],
            [
             0.3333333333333333,
             "#9c179e"
            ],
            [
             0.4444444444444444,
             "#bd3786"
            ],
            [
             0.5555555555555556,
             "#d8576b"
            ],
            [
             0.6666666666666666,
             "#ed7953"
            ],
            [
             0.7777777777777778,
             "#fb9f3a"
            ],
            [
             0.8888888888888888,
             "#fdca26"
            ],
            [
             1,
             "#f0f921"
            ]
           ]
          },
          "colorway": [
           "#636efa",
           "#EF553B",
           "#00cc96",
           "#ab63fa",
           "#FFA15A",
           "#19d3f3",
           "#FF6692",
           "#B6E880",
           "#FF97FF",
           "#FECB52"
          ],
          "font": {
           "color": "#2a3f5f"
          },
          "geo": {
           "bgcolor": "white",
           "lakecolor": "white",
           "landcolor": "#E5ECF6",
           "showlakes": true,
           "showland": true,
           "subunitcolor": "white"
          },
          "hoverlabel": {
           "align": "left"
          },
          "hovermode": "closest",
          "mapbox": {
           "style": "light"
          },
          "paper_bgcolor": "white",
          "plot_bgcolor": "#E5ECF6",
          "polar": {
           "angularaxis": {
            "gridcolor": "white",
            "linecolor": "white",
            "ticks": ""
           },
           "bgcolor": "#E5ECF6",
           "radialaxis": {
            "gridcolor": "white",
            "linecolor": "white",
            "ticks": ""
           }
          },
          "scene": {
           "xaxis": {
            "backgroundcolor": "#E5ECF6",
            "gridcolor": "white",
            "gridwidth": 2,
            "linecolor": "white",
            "showbackground": true,
            "ticks": "",
            "zerolinecolor": "white"
           },
           "yaxis": {
            "backgroundcolor": "#E5ECF6",
            "gridcolor": "white",
            "gridwidth": 2,
            "linecolor": "white",
            "showbackground": true,
            "ticks": "",
            "zerolinecolor": "white"
           },
           "zaxis": {
            "backgroundcolor": "#E5ECF6",
            "gridcolor": "white",
            "gridwidth": 2,
            "linecolor": "white",
            "showbackground": true,
            "ticks": "",
            "zerolinecolor": "white"
           }
          },
          "shapedefaults": {
           "line": {
            "color": "#2a3f5f"
           }
          },
          "ternary": {
           "aaxis": {
            "gridcolor": "white",
            "linecolor": "white",
            "ticks": ""
           },
           "baxis": {
            "gridcolor": "white",
            "linecolor": "white",
            "ticks": ""
           },
           "bgcolor": "#E5ECF6",
           "caxis": {
            "gridcolor": "white",
            "linecolor": "white",
            "ticks": ""
           }
          },
          "title": {
           "x": 0.05
          },
          "xaxis": {
           "automargin": true,
           "gridcolor": "white",
           "linecolor": "white",
           "ticks": "",
           "title": {
            "standoff": 15
           },
           "zerolinecolor": "white",
           "zerolinewidth": 2
          },
          "yaxis": {
           "automargin": true,
           "gridcolor": "white",
           "linecolor": "white",
           "ticks": "",
           "title": {
            "standoff": 15
           },
           "zerolinecolor": "white",
           "zerolinewidth": 2
          }
         }
        },
        "updatemenus": [
         {
          "buttons": [
           {
            "args": [
             null,
             {
              "frame": {
               "duration": 500,
               "redraw": true
              },
              "fromcurrent": true,
              "mode": "immediate",
              "transition": {
               "duration": 500,
               "easing": "linear"
              }
             }
            ],
            "label": "&#9654;",
            "method": "animate"
           },
           {
            "args": [
             [
              null
             ],
             {
              "frame": {
               "duration": 0,
               "redraw": true
              },
              "fromcurrent": true,
              "mode": "immediate",
              "transition": {
               "duration": 0,
               "easing": "linear"
              }
             }
            ],
            "label": "&#9724;",
            "method": "animate"
           }
          ],
          "direction": "left",
          "pad": {
           "r": 10,
           "t": 70
          },
          "showactive": false,
          "type": "buttons",
          "x": 0.1,
          "xanchor": "right",
          "y": 0,
          "yanchor": "top"
         }
        ]
       }
      },
      "text/html": [
       "<div>                            <div id=\"1f271992-913b-4cad-b402-811317cadae3\" class=\"plotly-graph-div\" style=\"height:525px; width:100%;\"></div>            <script type=\"text/javascript\">                require([\"plotly\"], function(Plotly) {                    window.PLOTLYENV=window.PLOTLYENV || {};                                    if (document.getElementById(\"1f271992-913b-4cad-b402-811317cadae3\")) {                    Plotly.newPlot(                        \"1f271992-913b-4cad-b402-811317cadae3\",                        [{\"coloraxis\":\"coloraxis\",\"geo\":\"geo\",\"hovertemplate\":\"Year=2000<br>ISO=%{location}<br>Total Deaths=%{z}<extra></extra>\",\"locations\":[\"BGR\",\"CYP\",\"GRC\",\"TUR\"],\"name\":\"\",\"z\":[7.0,5.0,27.0,11.0],\"type\":\"choropleth\"}],                        {\"template\":{\"data\":{\"histogram2dcontour\":[{\"type\":\"histogram2dcontour\",\"colorbar\":{\"outlinewidth\":0,\"ticks\":\"\"},\"colorscale\":[[0.0,\"#0d0887\"],[0.1111111111111111,\"#46039f\"],[0.2222222222222222,\"#7201a8\"],[0.3333333333333333,\"#9c179e\"],[0.4444444444444444,\"#bd3786\"],[0.5555555555555556,\"#d8576b\"],[0.6666666666666666,\"#ed7953\"],[0.7777777777777778,\"#fb9f3a\"],[0.8888888888888888,\"#fdca26\"],[1.0,\"#f0f921\"]]}],\"choropleth\":[{\"type\":\"choropleth\",\"colorbar\":{\"outlinewidth\":0,\"ticks\":\"\"}}],\"histogram2d\":[{\"type\":\"histogram2d\",\"colorbar\":{\"outlinewidth\":0,\"ticks\":\"\"},\"colorscale\":[[0.0,\"#0d0887\"],[0.1111111111111111,\"#46039f\"],[0.2222222222222222,\"#7201a8\"],[0.3333333333333333,\"#9c179e\"],[0.4444444444444444,\"#bd3786\"],[0.5555555555555556,\"#d8576b\"],[0.6666666666666666,\"#ed7953\"],[0.7777777777777778,\"#fb9f3a\"],[0.8888888888888888,\"#fdca26\"],[1.0,\"#f0f921\"]]}],\"heatmap\":[{\"type\":\"heatmap\",\"colorbar\":{\"outlinewidth\":0,\"ticks\":\"\"},\"colorscale\":[[0.0,\"#0d0887\"],[0.1111111111111111,\"#46039f\"],[0.2222222222222222,\"#7201a8\"],[0.3333333333333333,\"#9c179e\"],[0.4444444444444444,\"#bd3786\"],[0.5555555555555556,\"#d8576b\"],[0.6666666666666666,\"#ed7953\"],[0.7777777777777778,\"#fb9f3a\"],[0.8888888888888888,\"#fdca26\"],[1.0,\"#f0f921\"]]}],\"heatmapgl\":[{\"type\":\"heatmapgl\",\"colorbar\":{\"outlinewidth\":0,\"ticks\":\"\"},\"colorscale\":[[0.0,\"#0d0887\"],[0.1111111111111111,\"#46039f\"],[0.2222222222222222,\"#7201a8\"],[0.3333333333333333,\"#9c179e\"],[0.4444444444444444,\"#bd3786\"],[0.5555555555555556,\"#d8576b\"],[0.6666666666666666,\"#ed7953\"],[0.7777777777777778,\"#fb9f3a\"],[0.8888888888888888,\"#fdca26\"],[1.0,\"#f0f921\"]]}],\"contourcarpet\":[{\"type\":\"contourcarpet\",\"colorbar\":{\"outlinewidth\":0,\"ticks\":\"\"}}],\"contour\":[{\"type\":\"contour\",\"colorbar\":{\"outlinewidth\":0,\"ticks\":\"\"},\"colorscale\":[[0.0,\"#0d0887\"],[0.1111111111111111,\"#46039f\"],[0.2222222222222222,\"#7201a8\"],[0.3333333333333333,\"#9c179e\"],[0.4444444444444444,\"#bd3786\"],[0.5555555555555556,\"#d8576b\"],[0.6666666666666666,\"#ed7953\"],[0.7777777777777778,\"#fb9f3a\"],[0.8888888888888888,\"#fdca26\"],[1.0,\"#f0f921\"]]}],\"surface\":[{\"type\":\"surface\",\"colorbar\":{\"outlinewidth\":0,\"ticks\":\"\"},\"colorscale\":[[0.0,\"#0d0887\"],[0.1111111111111111,\"#46039f\"],[0.2222222222222222,\"#7201a8\"],[0.3333333333333333,\"#9c179e\"],[0.4444444444444444,\"#bd3786\"],[0.5555555555555556,\"#d8576b\"],[0.6666666666666666,\"#ed7953\"],[0.7777777777777778,\"#fb9f3a\"],[0.8888888888888888,\"#fdca26\"],[1.0,\"#f0f921\"]]}],\"mesh3d\":[{\"type\":\"mesh3d\",\"colorbar\":{\"outlinewidth\":0,\"ticks\":\"\"}}],\"scatter\":[{\"fillpattern\":{\"fillmode\":\"overlay\",\"size\":10,\"solidity\":0.2},\"type\":\"scatter\"}],\"parcoords\":[{\"type\":\"parcoords\",\"line\":{\"colorbar\":{\"outlinewidth\":0,\"ticks\":\"\"}}}],\"scatterpolargl\":[{\"type\":\"scatterpolargl\",\"marker\":{\"colorbar\":{\"outlinewidth\":0,\"ticks\":\"\"}}}],\"bar\":[{\"error_x\":{\"color\":\"#2a3f5f\"},\"error_y\":{\"color\":\"#2a3f5f\"},\"marker\":{\"line\":{\"color\":\"#E5ECF6\",\"width\":0.5},\"pattern\":{\"fillmode\":\"overlay\",\"size\":10,\"solidity\":0.2}},\"type\":\"bar\"}],\"scattergeo\":[{\"type\":\"scattergeo\",\"marker\":{\"colorbar\":{\"outlinewidth\":0,\"ticks\":\"\"}}}],\"scatterpolar\":[{\"type\":\"scatterpolar\",\"marker\":{\"colorbar\":{\"outlinewidth\":0,\"ticks\":\"\"}}}],\"histogram\":[{\"marker\":{\"pattern\":{\"fillmode\":\"overlay\",\"size\":10,\"solidity\":0.2}},\"type\":\"histogram\"}],\"scattergl\":[{\"type\":\"scattergl\",\"marker\":{\"colorbar\":{\"outlinewidth\":0,\"ticks\":\"\"}}}],\"scatter3d\":[{\"type\":\"scatter3d\",\"line\":{\"colorbar\":{\"outlinewidth\":0,\"ticks\":\"\"}},\"marker\":{\"colorbar\":{\"outlinewidth\":0,\"ticks\":\"\"}}}],\"scattermapbox\":[{\"type\":\"scattermapbox\",\"marker\":{\"colorbar\":{\"outlinewidth\":0,\"ticks\":\"\"}}}],\"scatterternary\":[{\"type\":\"scatterternary\",\"marker\":{\"colorbar\":{\"outlinewidth\":0,\"ticks\":\"\"}}}],\"scattercarpet\":[{\"type\":\"scattercarpet\",\"marker\":{\"colorbar\":{\"outlinewidth\":0,\"ticks\":\"\"}}}],\"carpet\":[{\"aaxis\":{\"endlinecolor\":\"#2a3f5f\",\"gridcolor\":\"white\",\"linecolor\":\"white\",\"minorgridcolor\":\"white\",\"startlinecolor\":\"#2a3f5f\"},\"baxis\":{\"endlinecolor\":\"#2a3f5f\",\"gridcolor\":\"white\",\"linecolor\":\"white\",\"minorgridcolor\":\"white\",\"startlinecolor\":\"#2a3f5f\"},\"type\":\"carpet\"}],\"table\":[{\"cells\":{\"fill\":{\"color\":\"#EBF0F8\"},\"line\":{\"color\":\"white\"}},\"header\":{\"fill\":{\"color\":\"#C8D4E3\"},\"line\":{\"color\":\"white\"}},\"type\":\"table\"}],\"barpolar\":[{\"marker\":{\"line\":{\"color\":\"#E5ECF6\",\"width\":0.5},\"pattern\":{\"fillmode\":\"overlay\",\"size\":10,\"solidity\":0.2}},\"type\":\"barpolar\"}],\"pie\":[{\"automargin\":true,\"type\":\"pie\"}]},\"layout\":{\"autotypenumbers\":\"strict\",\"colorway\":[\"#636efa\",\"#EF553B\",\"#00cc96\",\"#ab63fa\",\"#FFA15A\",\"#19d3f3\",\"#FF6692\",\"#B6E880\",\"#FF97FF\",\"#FECB52\"],\"font\":{\"color\":\"#2a3f5f\"},\"hovermode\":\"closest\",\"hoverlabel\":{\"align\":\"left\"},\"paper_bgcolor\":\"white\",\"plot_bgcolor\":\"#E5ECF6\",\"polar\":{\"bgcolor\":\"#E5ECF6\",\"angularaxis\":{\"gridcolor\":\"white\",\"linecolor\":\"white\",\"ticks\":\"\"},\"radialaxis\":{\"gridcolor\":\"white\",\"linecolor\":\"white\",\"ticks\":\"\"}},\"ternary\":{\"bgcolor\":\"#E5ECF6\",\"aaxis\":{\"gridcolor\":\"white\",\"linecolor\":\"white\",\"ticks\":\"\"},\"baxis\":{\"gridcolor\":\"white\",\"linecolor\":\"white\",\"ticks\":\"\"},\"caxis\":{\"gridcolor\":\"white\",\"linecolor\":\"white\",\"ticks\":\"\"}},\"coloraxis\":{\"colorbar\":{\"outlinewidth\":0,\"ticks\":\"\"}},\"colorscale\":{\"sequential\":[[0.0,\"#0d0887\"],[0.1111111111111111,\"#46039f\"],[0.2222222222222222,\"#7201a8\"],[0.3333333333333333,\"#9c179e\"],[0.4444444444444444,\"#bd3786\"],[0.5555555555555556,\"#d8576b\"],[0.6666666666666666,\"#ed7953\"],[0.7777777777777778,\"#fb9f3a\"],[0.8888888888888888,\"#fdca26\"],[1.0,\"#f0f921\"]],\"sequentialminus\":[[0.0,\"#0d0887\"],[0.1111111111111111,\"#46039f\"],[0.2222222222222222,\"#7201a8\"],[0.3333333333333333,\"#9c179e\"],[0.4444444444444444,\"#bd3786\"],[0.5555555555555556,\"#d8576b\"],[0.6666666666666666,\"#ed7953\"],[0.7777777777777778,\"#fb9f3a\"],[0.8888888888888888,\"#fdca26\"],[1.0,\"#f0f921\"]],\"diverging\":[[0,\"#8e0152\"],[0.1,\"#c51b7d\"],[0.2,\"#de77ae\"],[0.3,\"#f1b6da\"],[0.4,\"#fde0ef\"],[0.5,\"#f7f7f7\"],[0.6,\"#e6f5d0\"],[0.7,\"#b8e186\"],[0.8,\"#7fbc41\"],[0.9,\"#4d9221\"],[1,\"#276419\"]]},\"xaxis\":{\"gridcolor\":\"white\",\"linecolor\":\"white\",\"ticks\":\"\",\"title\":{\"standoff\":15},\"zerolinecolor\":\"white\",\"automargin\":true,\"zerolinewidth\":2},\"yaxis\":{\"gridcolor\":\"white\",\"linecolor\":\"white\",\"ticks\":\"\",\"title\":{\"standoff\":15},\"zerolinecolor\":\"white\",\"automargin\":true,\"zerolinewidth\":2},\"scene\":{\"xaxis\":{\"backgroundcolor\":\"#E5ECF6\",\"gridcolor\":\"white\",\"linecolor\":\"white\",\"showbackground\":true,\"ticks\":\"\",\"zerolinecolor\":\"white\",\"gridwidth\":2},\"yaxis\":{\"backgroundcolor\":\"#E5ECF6\",\"gridcolor\":\"white\",\"linecolor\":\"white\",\"showbackground\":true,\"ticks\":\"\",\"zerolinecolor\":\"white\",\"gridwidth\":2},\"zaxis\":{\"backgroundcolor\":\"#E5ECF6\",\"gridcolor\":\"white\",\"linecolor\":\"white\",\"showbackground\":true,\"ticks\":\"\",\"zerolinecolor\":\"white\",\"gridwidth\":2}},\"shapedefaults\":{\"line\":{\"color\":\"#2a3f5f\"}},\"annotationdefaults\":{\"arrowcolor\":\"#2a3f5f\",\"arrowhead\":0,\"arrowwidth\":1},\"geo\":{\"bgcolor\":\"white\",\"landcolor\":\"#E5ECF6\",\"subunitcolor\":\"white\",\"showland\":true,\"showlakes\":true,\"lakecolor\":\"white\"},\"title\":{\"x\":0.05},\"mapbox\":{\"style\":\"light\"}}},\"geo\":{\"domain\":{\"x\":[0.0,1.0],\"y\":[0.0,1.0]},\"center\":{}},\"coloraxis\":{\"colorbar\":{\"title\":{\"text\":\"Total Deaths\"}},\"colorscale\":[[0.0,\"#0d0887\"],[0.1111111111111111,\"#46039f\"],[0.2222222222222222,\"#7201a8\"],[0.3333333333333333,\"#9c179e\"],[0.4444444444444444,\"#bd3786\"],[0.5555555555555556,\"#d8576b\"],[0.6666666666666666,\"#ed7953\"],[0.7777777777777778,\"#fb9f3a\"],[0.8888888888888888,\"#fdca26\"],[1.0,\"#f0f921\"]]},\"legend\":{\"tracegroupgap\":0},\"margin\":{\"t\":60},\"updatemenus\":[{\"buttons\":[{\"args\":[null,{\"frame\":{\"duration\":500,\"redraw\":true},\"mode\":\"immediate\",\"fromcurrent\":true,\"transition\":{\"duration\":500,\"easing\":\"linear\"}}],\"label\":\"&#9654;\",\"method\":\"animate\"},{\"args\":[[null],{\"frame\":{\"duration\":0,\"redraw\":true},\"mode\":\"immediate\",\"fromcurrent\":true,\"transition\":{\"duration\":0,\"easing\":\"linear\"}}],\"label\":\"&#9724;\",\"method\":\"animate\"}],\"direction\":\"left\",\"pad\":{\"r\":10,\"t\":70},\"showactive\":false,\"type\":\"buttons\",\"x\":0.1,\"xanchor\":\"right\",\"y\":0,\"yanchor\":\"top\"}],\"sliders\":[{\"active\":0,\"currentvalue\":{\"prefix\":\"Year=\"},\"len\":0.9,\"pad\":{\"b\":10,\"t\":60},\"steps\":[{\"args\":[[\"2000\"],{\"frame\":{\"duration\":0,\"redraw\":true},\"mode\":\"immediate\",\"fromcurrent\":true,\"transition\":{\"duration\":0,\"easing\":\"linear\"}}],\"label\":\"2000\",\"method\":\"animate\"},{\"args\":[[\"2002\"],{\"frame\":{\"duration\":0,\"redraw\":true},\"mode\":\"immediate\",\"fromcurrent\":true,\"transition\":{\"duration\":0,\"easing\":\"linear\"}}],\"label\":\"2002\",\"method\":\"animate\"},{\"args\":[[\"2001\"],{\"frame\":{\"duration\":0,\"redraw\":true},\"mode\":\"immediate\",\"fromcurrent\":true,\"transition\":{\"duration\":0,\"easing\":\"linear\"}}],\"label\":\"2001\",\"method\":\"animate\"},{\"args\":[[\"2003\"],{\"frame\":{\"duration\":0,\"redraw\":true},\"mode\":\"immediate\",\"fromcurrent\":true,\"transition\":{\"duration\":0,\"easing\":\"linear\"}}],\"label\":\"2003\",\"method\":\"animate\"},{\"args\":[[\"2004\"],{\"frame\":{\"duration\":0,\"redraw\":true},\"mode\":\"immediate\",\"fromcurrent\":true,\"transition\":{\"duration\":0,\"easing\":\"linear\"}}],\"label\":\"2004\",\"method\":\"animate\"},{\"args\":[[\"2005\"],{\"frame\":{\"duration\":0,\"redraw\":true},\"mode\":\"immediate\",\"fromcurrent\":true,\"transition\":{\"duration\":0,\"easing\":\"linear\"}}],\"label\":\"2005\",\"method\":\"animate\"},{\"args\":[[\"2006\"],{\"frame\":{\"duration\":0,\"redraw\":true},\"mode\":\"immediate\",\"fromcurrent\":true,\"transition\":{\"duration\":0,\"easing\":\"linear\"}}],\"label\":\"2006\",\"method\":\"animate\"},{\"args\":[[\"2007\"],{\"frame\":{\"duration\":0,\"redraw\":true},\"mode\":\"immediate\",\"fromcurrent\":true,\"transition\":{\"duration\":0,\"easing\":\"linear\"}}],\"label\":\"2007\",\"method\":\"animate\"},{\"args\":[[\"2008\"],{\"frame\":{\"duration\":0,\"redraw\":true},\"mode\":\"immediate\",\"fromcurrent\":true,\"transition\":{\"duration\":0,\"easing\":\"linear\"}}],\"label\":\"2008\",\"method\":\"animate\"},{\"args\":[[\"2009\"],{\"frame\":{\"duration\":0,\"redraw\":true},\"mode\":\"immediate\",\"fromcurrent\":true,\"transition\":{\"duration\":0,\"easing\":\"linear\"}}],\"label\":\"2009\",\"method\":\"animate\"},{\"args\":[[\"2010\"],{\"frame\":{\"duration\":0,\"redraw\":true},\"mode\":\"immediate\",\"fromcurrent\":true,\"transition\":{\"duration\":0,\"easing\":\"linear\"}}],\"label\":\"2010\",\"method\":\"animate\"},{\"args\":[[\"2013\"],{\"frame\":{\"duration\":0,\"redraw\":true},\"mode\":\"immediate\",\"fromcurrent\":true,\"transition\":{\"duration\":0,\"easing\":\"linear\"}}],\"label\":\"2013\",\"method\":\"animate\"},{\"args\":[[\"2011\"],{\"frame\":{\"duration\":0,\"redraw\":true},\"mode\":\"immediate\",\"fromcurrent\":true,\"transition\":{\"duration\":0,\"easing\":\"linear\"}}],\"label\":\"2011\",\"method\":\"animate\"},{\"args\":[[\"2014\"],{\"frame\":{\"duration\":0,\"redraw\":true},\"mode\":\"immediate\",\"fromcurrent\":true,\"transition\":{\"duration\":0,\"easing\":\"linear\"}}],\"label\":\"2014\",\"method\":\"animate\"},{\"args\":[[\"2015\"],{\"frame\":{\"duration\":0,\"redraw\":true},\"mode\":\"immediate\",\"fromcurrent\":true,\"transition\":{\"duration\":0,\"easing\":\"linear\"}}],\"label\":\"2015\",\"method\":\"animate\"},{\"args\":[[\"2016\"],{\"frame\":{\"duration\":0,\"redraw\":true},\"mode\":\"immediate\",\"fromcurrent\":true,\"transition\":{\"duration\":0,\"easing\":\"linear\"}}],\"label\":\"2016\",\"method\":\"animate\"},{\"args\":[[\"2018\"],{\"frame\":{\"duration\":0,\"redraw\":true},\"mode\":\"immediate\",\"fromcurrent\":true,\"transition\":{\"duration\":0,\"easing\":\"linear\"}}],\"label\":\"2018\",\"method\":\"animate\"},{\"args\":[[\"2019\"],{\"frame\":{\"duration\":0,\"redraw\":true},\"mode\":\"immediate\",\"fromcurrent\":true,\"transition\":{\"duration\":0,\"easing\":\"linear\"}}],\"label\":\"2019\",\"method\":\"animate\"},{\"args\":[[\"2020\"],{\"frame\":{\"duration\":0,\"redraw\":true},\"mode\":\"immediate\",\"fromcurrent\":true,\"transition\":{\"duration\":0,\"easing\":\"linear\"}}],\"label\":\"2020\",\"method\":\"animate\"},{\"args\":[[\"2021\"],{\"frame\":{\"duration\":0,\"redraw\":true},\"mode\":\"immediate\",\"fromcurrent\":true,\"transition\":{\"duration\":0,\"easing\":\"linear\"}}],\"label\":\"2021\",\"method\":\"animate\"}],\"x\":0.1,\"xanchor\":\"left\",\"y\":0,\"yanchor\":\"top\"}]},                        {\"responsive\": true}                    ).then(function(){\n",
       "                            Plotly.addFrames('1f271992-913b-4cad-b402-811317cadae3', [{\"data\":[{\"coloraxis\":\"coloraxis\",\"geo\":\"geo\",\"hovertemplate\":\"Year=2000<br>ISO=%{location}<br>Total Deaths=%{z}<extra></extra>\",\"locations\":[\"BGR\",\"CYP\",\"GRC\",\"TUR\"],\"name\":\"\",\"z\":[7.0,5.0,27.0,11.0],\"type\":\"choropleth\"}],\"name\":\"2000\"},{\"data\":[{\"coloraxis\":\"coloraxis\",\"geo\":\"geo\",\"hovertemplate\":\"Year=2002<br>ISO=%{location}<br>Total Deaths=%{z}<extra></extra>\",\"locations\":[\"CHN\",\"IND\",\"PAK\"],\"name\":\"\",\"z\":[7.0,1030.0,113.0],\"type\":\"choropleth\"}],\"name\":\"2002\"},{\"data\":[{\"coloraxis\":\"coloraxis\",\"geo\":\"geo\",\"hovertemplate\":\"Year=2001<br>ISO=%{location}<br>Total Deaths=%{z}<extra></extra>\",\"locations\":[\"RUS\"],\"name\":\"\",\"z\":[276.0],\"type\":\"choropleth\"}],\"name\":\"2001\"},{\"data\":[{\"coloraxis\":\"coloraxis\",\"geo\":\"geo\",\"hovertemplate\":\"Year=2003<br>ISO=%{location}<br>Total Deaths=%{z}<extra></extra>\",\"locations\":[\"AUT\",\"BEL\",\"CHE\",\"DEU\",\"ESP\",\"FRA\",\"IND\",\"ITA\",\"BGD\",\"CZE\",\"DZA\",\"GBR\",\"SVN\",\"LUX\",\"NLD\",\"PAK\",\"PRT\"],\"name\":\"\",\"z\":[345.0,1175.0,1039.0,9355.0,15090.0,19490.0,1210.0,20089.0,62.0,418.0,40.0,301.0,289.0,170.0,965.0,200.0,2696.0],\"type\":\"choropleth\"}],\"name\":\"2003\"},{\"data\":[{\"coloraxis\":\"coloraxis\",\"geo\":\"geo\",\"hovertemplate\":\"Year=2004<br>ISO=%{location}<br>Total Deaths=%{z}<extra></extra>\",\"locations\":[\"CHN\",\"ESP\",\"JPN\",\"MKD\",\"ROU\"],\"name\":\"\",\"z\":[39.0,26.0,10.0,15.0,27.0],\"type\":\"choropleth\"}],\"name\":\"2004\"},{\"data\":[{\"coloraxis\":\"coloraxis\",\"geo\":\"geo\",\"hovertemplate\":\"Year=2005<br>ISO=%{location}<br>Total Deaths=%{z}<extra></extra>\",\"locations\":[\"IND\",\"PAK\",\"PRT\",\"ROU\"],\"name\":\"\",\"z\":[329.0,106.0,462.0,13.0],\"type\":\"choropleth\"}],\"name\":\"2005\"},{\"data\":[{\"coloraxis\":\"coloraxis\",\"geo\":\"geo\",\"hovertemplate\":\"Year=2006<br>ISO=%{location}<br>Total Deaths=%{z}<extra></extra>\",\"locations\":[\"BEL\",\"DEU\",\"ESP\",\"FRA\",\"IND\",\"NLD\",\"PAK\",\"PRT\",\"ROU\"],\"name\":\"\",\"z\":[940.0,2.0,21.0,1388.0,47.0,1000.0,84.0,41.0,26.0],\"type\":\"choropleth\"}],\"name\":\"2006\"},{\"data\":[{\"coloraxis\":\"coloraxis\",\"geo\":\"geo\",\"hovertemplate\":\"Year=2007<br>ISO=%{location}<br>Total Deaths=%{z}<extra></extra>\",\"locations\":[\"BGR\",\"GRC\",\"AUT\",\"CYP\",\"HUN\",\"IND\",\"ROU\",\"ITA\",\"TUR\",\"JPN\",\"SVK\"],\"name\":\"\",\"z\":[2.0,16.0,5.0,4.0,500.0,72.0,30.0,6.0,3.0,62.0,1.0],\"type\":\"choropleth\"}],\"name\":\"2007\"},{\"data\":[{\"coloraxis\":\"coloraxis\",\"geo\":\"geo\",\"hovertemplate\":\"Year=2008<br>ISO=%{location}<br>Total Deaths=%{z}<extra></extra>\",\"locations\":[\"JPN\"],\"name\":\"\",\"z\":[47.0],\"type\":\"choropleth\"}],\"name\":\"2008\"},{\"data\":[{\"coloraxis\":\"coloraxis\",\"geo\":\"geo\",\"hovertemplate\":\"Year=2009<br>ISO=%{location}<br>Total Deaths=%{z}<extra></extra>\",\"locations\":[\"AUS\",\"IND\",\"JPN\"],\"name\":\"\",\"z\":[347.0,120.0,16.0],\"type\":\"choropleth\"}],\"name\":\"2009\"},{\"data\":[{\"coloraxis\":\"coloraxis\",\"geo\":\"geo\",\"hovertemplate\":\"Year=2010<br>ISO=%{location}<br>Total Deaths=%{z}<extra></extra>\",\"locations\":[\"IND\",\"JPN\",\"RUS\"],\"name\":\"\",\"z\":[250.0,170.0,55736.0],\"type\":\"choropleth\"}],\"name\":\"2010\"},{\"data\":[{\"coloraxis\":\"coloraxis\",\"geo\":\"geo\",\"hovertemplate\":\"Year=2013<br>ISO=%{location}<br>Total Deaths=%{z}<extra></extra>\",\"locations\":[\"BOL\",\"GBR\",\"IND\",\"JPN\",\"CHN\"],\"name\":\"\",\"z\":[18.0,760.0,557.0,338.0,40.0],\"type\":\"choropleth\"}],\"name\":\"2013\"},{\"data\":[{\"coloraxis\":\"coloraxis\",\"geo\":\"geo\",\"hovertemplate\":\"Year=2011<br>ISO=%{location}<br>Total Deaths=%{z}<extra></extra>\",\"locations\":[\"ITA\",\"JPN\"],\"name\":\"\",\"z\":[10.0,36.0],\"type\":\"choropleth\"}],\"name\":\"2011\"},{\"data\":[{\"coloraxis\":\"coloraxis\",\"geo\":\"geo\",\"hovertemplate\":\"Year=2014<br>ISO=%{location}<br>Total Deaths=%{z}<extra></extra>\",\"locations\":[\"AUS\",\"PAK\",\"JPN\"],\"name\":\"\",\"z\":[139.0,139.0,27.0],\"type\":\"choropleth\"}],\"name\":\"2014\"},{\"data\":[{\"coloraxis\":\"coloraxis\",\"geo\":\"geo\",\"hovertemplate\":\"Year=2015<br>ISO=%{location}<br>Total Deaths=%{z}<extra></extra>\",\"locations\":[\"BEL\",\"EGY\",\"FRA\",\"IND\",\"JPN\",\"JPN\"],\"name\":\"\",\"z\":[410.0,110.0,3275.0,2248.0,32.0,5.0],\"type\":\"choropleth\"}],\"name\":\"2015\"},{\"data\":[{\"coloraxis\":\"coloraxis\",\"geo\":\"geo\",\"hovertemplate\":\"Year=2016<br>ISO=%{location}<br>Total Deaths=%{z}<extra></extra>\",\"locations\":[\"ZAF\",\"JPN\"],\"name\":\"\",\"z\":[11.0,3.0],\"type\":\"choropleth\"}],\"name\":\"2016\"},{\"data\":[{\"coloraxis\":\"coloraxis\",\"geo\":\"geo\",\"hovertemplate\":\"Year=2018<br>ISO=%{location}<br>Total Deaths=%{z}<extra></extra>\",\"locations\":[\"CAN\",\"ESP\",\"JPN\"],\"name\":\"\",\"z\":[70.0,9.0,119.0],\"type\":\"choropleth\"}],\"name\":\"2018\"},{\"data\":[{\"coloraxis\":\"coloraxis\",\"geo\":\"geo\",\"hovertemplate\":\"Year=2019<br>ISO=%{location}<br>Total Deaths=%{z}<extra></extra>\",\"locations\":[\"IND\",\"IND\",\"AUT\",\"BEL\",\"BEL\",\"BEL\",\"DEU\",\"ESP\",\"FRA\",\"FRA\",\"GBR\",\"ITA\",\"JPN\",\"JPN\",\"NLD\"],\"name\":\"\",\"z\":[90.0,22.0,1.0,128.0,400.0,188.0,4.0,2.0,567.0,868.0,5.0,3.0,162.0,11.0,400.0],\"type\":\"choropleth\"}],\"name\":\"2019\"},{\"data\":[{\"coloraxis\":\"coloraxis\",\"geo\":\"geo\",\"hovertemplate\":\"Year=2020<br>ISO=%{location}<br>Total Deaths=%{z}<extra></extra>\",\"locations\":[\"BEL\",\"FRA\",\"GBR\",\"NLD\"],\"name\":\"\",\"z\":[1460.0,1924.0,2556.0,400.0],\"type\":\"choropleth\"}],\"name\":\"2020\"},{\"data\":[{\"coloraxis\":\"coloraxis\",\"geo\":\"geo\",\"hovertemplate\":\"Year=2021<br>ISO=%{location}<br>Total Deaths=%{z}<extra></extra>\",\"locations\":[\"CAN\"],\"name\":\"\",\"z\":[815.0],\"type\":\"choropleth\"}],\"name\":\"2021\"}]);\n",
       "                        }).then(function(){\n",
       "                            \n",
       "var gd = document.getElementById('1f271992-913b-4cad-b402-811317cadae3');\n",
       "var x = new MutationObserver(function (mutations, observer) {{\n",
       "        var display = window.getComputedStyle(gd).display;\n",
       "        if (!display || display === 'none') {{\n",
       "            console.log([gd, 'removed!']);\n",
       "            Plotly.purge(gd);\n",
       "            observer.disconnect();\n",
       "        }}\n",
       "}});\n",
       "\n",
       "// Listen for the removal of the full notebook cells\n",
       "var notebookContainer = gd.closest('#notebook-container');\n",
       "if (notebookContainer) {{\n",
       "    x.observe(notebookContainer, {childList: true});\n",
       "}}\n",
       "\n",
       "// Listen for the clearing of the current output cell\n",
       "var outputEl = gd.closest('.output');\n",
       "if (outputEl) {{\n",
       "    x.observe(outputEl, {childList: true});\n",
       "}}\n",
       "\n",
       "                        })                };                });            </script>        </div>"
      ]
     },
     "metadata": {},
     "output_type": "display_data"
    }
   ],
   "source": [
    "df_death=pd.read_csv(\"https://github.com/hongdoudahongdou/MDA/blob/main/data/df_death.csv?raw=true\")\n",
    "fig_death_map=px.choropleth(df_death, locations=\"ISO\",color=\"Total Deaths\",animation_frame=\"Year\")\n",
    "fig_death_map"
   ]
  },
  {
   "cell_type": "code",
   "execution_count": 218,
   "id": "218b2c4d",
   "metadata": {},
   "outputs": [],
   "source": [
    "#nb_model\n",
    "df1=pd.read_csv('https://github.com/hongdoudahongdou/MDA/blob/main/data/train_data.csv?raw=true')\n",
    "x = df1[['log_GDP(million dollars)','log_Population(e+07)','Health expenditure (% of GDP)','max_temperature','Associated Drought','Associated Wildfire',\n",
    "        'Appeal or Declaration','duration']]\n",
    "y = df1[['Total Deaths']]\n",
    "model = sm.GLM(y,x,family=sm.families.NegativeBinomial())\n",
    "results = model.fit()\n",
    "def pred_death(x):\n",
    "    return round(results.predict(x))"
   ]
  },
  {
   "cell_type": "code",
   "execution_count": 219,
   "id": "3f5d0e19",
   "metadata": {
    "scrolled": true
   },
   "outputs": [
    {
     "data": {
      "text/html": [
       "<div>\n",
       "<style scoped>\n",
       "    .dataframe tbody tr th:only-of-type {\n",
       "        vertical-align: middle;\n",
       "    }\n",
       "\n",
       "    .dataframe tbody tr th {\n",
       "        vertical-align: top;\n",
       "    }\n",
       "\n",
       "    .dataframe thead th {\n",
       "        text-align: right;\n",
       "    }\n",
       "</style>\n",
       "<table border=\"1\" class=\"dataframe\">\n",
       "  <thead>\n",
       "    <tr style=\"text-align: right;\">\n",
       "      <th></th>\n",
       "      <th>Country</th>\n",
       "      <th>ISO</th>\n",
       "      <th>Health expenditure (% of GDP)</th>\n",
       "      <th>log_GDP(million dollars)</th>\n",
       "      <th>log_Population(e+07)</th>\n",
       "      <th>duration</th>\n",
       "    </tr>\n",
       "  </thead>\n",
       "  <tbody>\n",
       "    <tr>\n",
       "      <th>13</th>\n",
       "      <td>Australia</td>\n",
       "      <td>AUS</td>\n",
       "      <td>10.648995</td>\n",
       "      <td>27.916200</td>\n",
       "      <td>17.060260</td>\n",
       "      <td>5</td>\n",
       "    </tr>\n",
       "    <tr>\n",
       "      <th>14</th>\n",
       "      <td>Austria</td>\n",
       "      <td>AUT</td>\n",
       "      <td>11.474260</td>\n",
       "      <td>26.798612</td>\n",
       "      <td>16.003455</td>\n",
       "      <td>5</td>\n",
       "    </tr>\n",
       "    <tr>\n",
       "      <th>17</th>\n",
       "      <td>Belgium</td>\n",
       "      <td>BEL</td>\n",
       "      <td>11.064532</td>\n",
       "      <td>26.986664</td>\n",
       "      <td>16.261209</td>\n",
       "      <td>5</td>\n",
       "    </tr>\n",
       "    <tr>\n",
       "      <th>20</th>\n",
       "      <td>Bangladesh</td>\n",
       "      <td>BGD</td>\n",
       "      <td>2.628010</td>\n",
       "      <td>26.647522</td>\n",
       "      <td>18.936022</td>\n",
       "      <td>5</td>\n",
       "    </tr>\n",
       "    <tr>\n",
       "      <th>21</th>\n",
       "      <td>Bulgaria</td>\n",
       "      <td>BGR</td>\n",
       "      <td>8.520638</td>\n",
       "      <td>24.977521</td>\n",
       "      <td>15.751950</td>\n",
       "      <td>5</td>\n",
       "    </tr>\n",
       "    <tr>\n",
       "      <th>24</th>\n",
       "      <td>Bosnia and Herzegovina</td>\n",
       "      <td>BIH</td>\n",
       "      <td>9.841127</td>\n",
       "      <td>23.730236</td>\n",
       "      <td>15.014995</td>\n",
       "      <td>5</td>\n",
       "    </tr>\n",
       "    <tr>\n",
       "      <th>28</th>\n",
       "      <td>Bolivia</td>\n",
       "      <td>BOL</td>\n",
       "      <td>7.857059</td>\n",
       "      <td>24.324129</td>\n",
       "      <td>16.295083</td>\n",
       "      <td>5</td>\n",
       "    </tr>\n",
       "    <tr>\n",
       "      <th>29</th>\n",
       "      <td>Brazil</td>\n",
       "      <td>BRA</td>\n",
       "      <td>10.312917</td>\n",
       "      <td>28.023063</td>\n",
       "      <td>19.177724</td>\n",
       "      <td>5</td>\n",
       "    </tr>\n",
       "    <tr>\n",
       "      <th>35</th>\n",
       "      <td>Canada</td>\n",
       "      <td>CAN</td>\n",
       "      <td>12.939675</td>\n",
       "      <td>28.131796</td>\n",
       "      <td>17.453285</td>\n",
       "      <td>5</td>\n",
       "    </tr>\n",
       "    <tr>\n",
       "      <th>37</th>\n",
       "      <td>Switzerland</td>\n",
       "      <td>CHE</td>\n",
       "      <td>11.796350</td>\n",
       "      <td>27.329916</td>\n",
       "      <td>15.971701</td>\n",
       "      <td>5</td>\n",
       "    </tr>\n",
       "    <tr>\n",
       "      <th>40</th>\n",
       "      <td>China</td>\n",
       "      <td>CHN</td>\n",
       "      <td>5.593597</td>\n",
       "      <td>30.318869</td>\n",
       "      <td>21.067635</td>\n",
       "      <td>5</td>\n",
       "    </tr>\n",
       "    <tr>\n",
       "      <th>53</th>\n",
       "      <td>Cyprus</td>\n",
       "      <td>CYP</td>\n",
       "      <td>8.093478</td>\n",
       "      <td>23.942472</td>\n",
       "      <td>14.028634</td>\n",
       "      <td>5</td>\n",
       "    </tr>\n",
       "    <tr>\n",
       "      <th>54</th>\n",
       "      <td>Czechia</td>\n",
       "      <td>CZE</td>\n",
       "      <td>9.240072</td>\n",
       "      <td>26.228597</td>\n",
       "      <td>16.185554</td>\n",
       "      <td>5</td>\n",
       "    </tr>\n",
       "    <tr>\n",
       "      <th>55</th>\n",
       "      <td>Germany</td>\n",
       "      <td>DEU</td>\n",
       "      <td>12.822489</td>\n",
       "      <td>28.989430</td>\n",
       "      <td>18.236287</td>\n",
       "      <td>5</td>\n",
       "    </tr>\n",
       "    <tr>\n",
       "      <th>58</th>\n",
       "      <td>Denmark</td>\n",
       "      <td>DNK</td>\n",
       "      <td>10.528175</td>\n",
       "      <td>26.595384</td>\n",
       "      <td>15.578768</td>\n",
       "      <td>5</td>\n",
       "    </tr>\n",
       "    <tr>\n",
       "      <th>60</th>\n",
       "      <td>Algeria</td>\n",
       "      <td>DZA</td>\n",
       "      <td>6.321180</td>\n",
       "      <td>25.706872</td>\n",
       "      <td>17.587160</td>\n",
       "      <td>5</td>\n",
       "    </tr>\n",
       "    <tr>\n",
       "      <th>67</th>\n",
       "      <td>Egypt, Arab Rep.</td>\n",
       "      <td>EGY</td>\n",
       "      <td>4.364980</td>\n",
       "      <td>26.673908</td>\n",
       "      <td>18.492677</td>\n",
       "      <td>5</td>\n",
       "    </tr>\n",
       "    <tr>\n",
       "      <th>70</th>\n",
       "      <td>Spain</td>\n",
       "      <td>ESP</td>\n",
       "      <td>10.713750</td>\n",
       "      <td>27.877881</td>\n",
       "      <td>17.673408</td>\n",
       "      <td>5</td>\n",
       "    </tr>\n",
       "    <tr>\n",
       "      <th>71</th>\n",
       "      <td>Estonia</td>\n",
       "      <td>EST</td>\n",
       "      <td>7.752067</td>\n",
       "      <td>24.169130</td>\n",
       "      <td>14.100330</td>\n",
       "      <td>5</td>\n",
       "    </tr>\n",
       "    <tr>\n",
       "      <th>75</th>\n",
       "      <td>Finland</td>\n",
       "      <td>FIN</td>\n",
       "      <td>9.613496</td>\n",
       "      <td>26.329068</td>\n",
       "      <td>15.525616</td>\n",
       "      <td>5</td>\n",
       "    </tr>\n",
       "    <tr>\n",
       "      <th>77</th>\n",
       "      <td>France</td>\n",
       "      <td>FRA</td>\n",
       "      <td>12.205050</td>\n",
       "      <td>28.601800</td>\n",
       "      <td>18.028691</td>\n",
       "      <td>5</td>\n",
       "    </tr>\n",
       "    <tr>\n",
       "      <th>81</th>\n",
       "      <td>United Kingdom</td>\n",
       "      <td>GBR</td>\n",
       "      <td>11.977593</td>\n",
       "      <td>28.624273</td>\n",
       "      <td>18.021415</td>\n",
       "      <td>5</td>\n",
       "    </tr>\n",
       "    <tr>\n",
       "      <th>89</th>\n",
       "      <td>Greece</td>\n",
       "      <td>GRC</td>\n",
       "      <td>9.508207</td>\n",
       "      <td>25.965013</td>\n",
       "      <td>16.185623</td>\n",
       "      <td>5</td>\n",
       "    </tr>\n",
       "    <tr>\n",
       "      <th>99</th>\n",
       "      <td>Croatia</td>\n",
       "      <td>HRV</td>\n",
       "      <td>7.765023</td>\n",
       "      <td>24.777221</td>\n",
       "      <td>15.213654</td>\n",
       "      <td>5</td>\n",
       "    </tr>\n",
       "    <tr>\n",
       "      <th>101</th>\n",
       "      <td>Hungary</td>\n",
       "      <td>HUN</td>\n",
       "      <td>7.250314</td>\n",
       "      <td>25.779512</td>\n",
       "      <td>16.092793</td>\n",
       "      <td>5</td>\n",
       "    </tr>\n",
       "    <tr>\n",
       "      <th>109</th>\n",
       "      <td>India</td>\n",
       "      <td>IND</td>\n",
       "      <td>2.959190</td>\n",
       "      <td>28.613100</td>\n",
       "      <td>21.057154</td>\n",
       "      <td>5</td>\n",
       "    </tr>\n",
       "    <tr>\n",
       "      <th>111</th>\n",
       "      <td>Ireland</td>\n",
       "      <td>IRL</td>\n",
       "      <td>7.101437</td>\n",
       "      <td>26.777705</td>\n",
       "      <td>15.422021</td>\n",
       "      <td>5</td>\n",
       "    </tr>\n",
       "    <tr>\n",
       "      <th>115</th>\n",
       "      <td>Israel</td>\n",
       "      <td>ISR</td>\n",
       "      <td>8.319502</td>\n",
       "      <td>26.746713</td>\n",
       "      <td>16.036354</td>\n",
       "      <td>5</td>\n",
       "    </tr>\n",
       "    <tr>\n",
       "      <th>116</th>\n",
       "      <td>Italy</td>\n",
       "      <td>ITA</td>\n",
       "      <td>9.633783</td>\n",
       "      <td>28.272875</td>\n",
       "      <td>17.900459</td>\n",
       "      <td>5</td>\n",
       "    </tr>\n",
       "    <tr>\n",
       "      <th>118</th>\n",
       "      <td>Jordan</td>\n",
       "      <td>JOR</td>\n",
       "      <td>7.469139</td>\n",
       "      <td>24.497862</td>\n",
       "      <td>16.206905</td>\n",
       "      <td>5</td>\n",
       "    </tr>\n",
       "    <tr>\n",
       "      <th>119</th>\n",
       "      <td>Japan</td>\n",
       "      <td>JPN</td>\n",
       "      <td>10.904251</td>\n",
       "      <td>29.250409</td>\n",
       "      <td>18.653862</td>\n",
       "      <td>5</td>\n",
       "    </tr>\n",
       "    <tr>\n",
       "      <th>122</th>\n",
       "      <td>Kyrgyz Republic</td>\n",
       "      <td>KGZ</td>\n",
       "      <td>5.259337</td>\n",
       "      <td>22.774934</td>\n",
       "      <td>15.699530</td>\n",
       "      <td>5</td>\n",
       "    </tr>\n",
       "    <tr>\n",
       "      <th>126</th>\n",
       "      <td>Korea, Rep.</td>\n",
       "      <td>KOR</td>\n",
       "      <td>8.364096</td>\n",
       "      <td>28.125717</td>\n",
       "      <td>17.763600</td>\n",
       "      <td>5</td>\n",
       "    </tr>\n",
       "    <tr>\n",
       "      <th>143</th>\n",
       "      <td>Lithuania</td>\n",
       "      <td>LTU</td>\n",
       "      <td>7.538444</td>\n",
       "      <td>24.764822</td>\n",
       "      <td>14.843302</td>\n",
       "      <td>5</td>\n",
       "    </tr>\n",
       "    <tr>\n",
       "      <th>144</th>\n",
       "      <td>Luxembourg</td>\n",
       "      <td>LUX</td>\n",
       "      <td>5.767456</td>\n",
       "      <td>25.027231</td>\n",
       "      <td>13.354140</td>\n",
       "      <td>5</td>\n",
       "    </tr>\n",
       "    <tr>\n",
       "      <th>148</th>\n",
       "      <td>Morocco</td>\n",
       "      <td>MAR</td>\n",
       "      <td>5.993161</td>\n",
       "      <td>25.519056</td>\n",
       "      <td>17.417981</td>\n",
       "      <td>5</td>\n",
       "    </tr>\n",
       "    <tr>\n",
       "      <th>154</th>\n",
       "      <td>Mexico</td>\n",
       "      <td>MEX</td>\n",
       "      <td>6.242148</td>\n",
       "      <td>27.717199</td>\n",
       "      <td>18.651779</td>\n",
       "      <td>5</td>\n",
       "    </tr>\n",
       "    <tr>\n",
       "      <th>157</th>\n",
       "      <td>North Macedonia</td>\n",
       "      <td>MKD</td>\n",
       "      <td>7.889482</td>\n",
       "      <td>23.238021</td>\n",
       "      <td>14.544281</td>\n",
       "      <td>5</td>\n",
       "    </tr>\n",
       "    <tr>\n",
       "      <th>174</th>\n",
       "      <td>Nigeria</td>\n",
       "      <td>NGA</td>\n",
       "      <td>3.380634</td>\n",
       "      <td>26.791691</td>\n",
       "      <td>19.154621</td>\n",
       "      <td>5</td>\n",
       "    </tr>\n",
       "    <tr>\n",
       "      <th>176</th>\n",
       "      <td>Netherlands</td>\n",
       "      <td>NLD</td>\n",
       "      <td>11.135927</td>\n",
       "      <td>27.536710</td>\n",
       "      <td>16.674363</td>\n",
       "      <td>5</td>\n",
       "    </tr>\n",
       "    <tr>\n",
       "      <th>177</th>\n",
       "      <td>Norway</td>\n",
       "      <td>NOR</td>\n",
       "      <td>11.417550</td>\n",
       "      <td>26.631349</td>\n",
       "      <td>15.498101</td>\n",
       "      <td>5</td>\n",
       "    </tr>\n",
       "    <tr>\n",
       "      <th>180</th>\n",
       "      <td>New Zealand</td>\n",
       "      <td>NZL</td>\n",
       "      <td>10.028587</td>\n",
       "      <td>26.084558</td>\n",
       "      <td>15.442828</td>\n",
       "      <td>5</td>\n",
       "    </tr>\n",
       "    <tr>\n",
       "      <th>184</th>\n",
       "      <td>Pakistan</td>\n",
       "      <td>PAK</td>\n",
       "      <td>2.953904</td>\n",
       "      <td>26.427048</td>\n",
       "      <td>19.241327</td>\n",
       "      <td>5</td>\n",
       "    </tr>\n",
       "    <tr>\n",
       "      <th>190</th>\n",
       "      <td>Poland</td>\n",
       "      <td>POL</td>\n",
       "      <td>6.493102</td>\n",
       "      <td>27.118527</td>\n",
       "      <td>17.450437</td>\n",
       "      <td>5</td>\n",
       "    </tr>\n",
       "    <tr>\n",
       "      <th>194</th>\n",
       "      <td>Portugal</td>\n",
       "      <td>PRT</td>\n",
       "      <td>10.549306</td>\n",
       "      <td>26.156988</td>\n",
       "      <td>16.147371</td>\n",
       "      <td>5</td>\n",
       "    </tr>\n",
       "    <tr>\n",
       "      <th>201</th>\n",
       "      <td>Romania</td>\n",
       "      <td>ROU</td>\n",
       "      <td>6.272362</td>\n",
       "      <td>26.248719</td>\n",
       "      <td>16.773814</td>\n",
       "      <td>5</td>\n",
       "    </tr>\n",
       "    <tr>\n",
       "      <th>202</th>\n",
       "      <td>Russian Federation</td>\n",
       "      <td>RUS</td>\n",
       "      <td>7.596243</td>\n",
       "      <td>28.029797</td>\n",
       "      <td>18.785832</td>\n",
       "      <td>5</td>\n",
       "    </tr>\n",
       "    <tr>\n",
       "      <th>206</th>\n",
       "      <td>Sudan</td>\n",
       "      <td>SDN</td>\n",
       "      <td>3.017477</td>\n",
       "      <td>24.020383</td>\n",
       "      <td>17.609661</td>\n",
       "      <td>5</td>\n",
       "    </tr>\n",
       "    <tr>\n",
       "      <th>214</th>\n",
       "      <td>Serbia</td>\n",
       "      <td>SRB</td>\n",
       "      <td>8.731617</td>\n",
       "      <td>24.700261</td>\n",
       "      <td>15.746905</td>\n",
       "      <td>5</td>\n",
       "    </tr>\n",
       "    <tr>\n",
       "      <th>221</th>\n",
       "      <td>Slovak Republic</td>\n",
       "      <td>SVK</td>\n",
       "      <td>7.232134</td>\n",
       "      <td>25.396095</td>\n",
       "      <td>15.512744</td>\n",
       "      <td>5</td>\n",
       "    </tr>\n",
       "    <tr>\n",
       "      <th>222</th>\n",
       "      <td>Slovenia</td>\n",
       "      <td>SVN</td>\n",
       "      <td>9.453579</td>\n",
       "      <td>24.706805</td>\n",
       "      <td>14.558599</td>\n",
       "      <td>5</td>\n",
       "    </tr>\n",
       "    <tr>\n",
       "      <th>223</th>\n",
       "      <td>Sweden</td>\n",
       "      <td>SWE</td>\n",
       "      <td>11.379928</td>\n",
       "      <td>27.027715</td>\n",
       "      <td>16.152830</td>\n",
       "      <td>5</td>\n",
       "    </tr>\n",
       "    <tr>\n",
       "      <th>244</th>\n",
       "      <td>Turkiye</td>\n",
       "      <td>TUR</td>\n",
       "      <td>4.617943</td>\n",
       "      <td>27.302517</td>\n",
       "      <td>18.247938</td>\n",
       "      <td>5</td>\n",
       "    </tr>\n",
       "    <tr>\n",
       "      <th>251</th>\n",
       "      <td>United States</td>\n",
       "      <td>USA</td>\n",
       "      <td>18.815826</td>\n",
       "      <td>30.680294</td>\n",
       "      <td>19.619173</td>\n",
       "      <td>5</td>\n",
       "    </tr>\n",
       "    <tr>\n",
       "      <th>263</th>\n",
       "      <td>South Africa</td>\n",
       "      <td>ZAF</td>\n",
       "      <td>8.583298</td>\n",
       "      <td>26.546312</td>\n",
       "      <td>17.889685</td>\n",
       "      <td>5</td>\n",
       "    </tr>\n",
       "  </tbody>\n",
       "</table>\n",
       "</div>"
      ],
      "text/plain": [
       "                    Country  ISO  Health expenditure (% of GDP)  \\\n",
       "13                Australia  AUS                      10.648995   \n",
       "14                  Austria  AUT                      11.474260   \n",
       "17                  Belgium  BEL                      11.064532   \n",
       "20               Bangladesh  BGD                       2.628010   \n",
       "21                 Bulgaria  BGR                       8.520638   \n",
       "24   Bosnia and Herzegovina  BIH                       9.841127   \n",
       "28                  Bolivia  BOL                       7.857059   \n",
       "29                   Brazil  BRA                      10.312917   \n",
       "35                   Canada  CAN                      12.939675   \n",
       "37              Switzerland  CHE                      11.796350   \n",
       "40                    China  CHN                       5.593597   \n",
       "53                   Cyprus  CYP                       8.093478   \n",
       "54                  Czechia  CZE                       9.240072   \n",
       "55                  Germany  DEU                      12.822489   \n",
       "58                  Denmark  DNK                      10.528175   \n",
       "60                  Algeria  DZA                       6.321180   \n",
       "67         Egypt, Arab Rep.  EGY                       4.364980   \n",
       "70                    Spain  ESP                      10.713750   \n",
       "71                  Estonia  EST                       7.752067   \n",
       "75                  Finland  FIN                       9.613496   \n",
       "77                   France  FRA                      12.205050   \n",
       "81           United Kingdom  GBR                      11.977593   \n",
       "89                   Greece  GRC                       9.508207   \n",
       "99                  Croatia  HRV                       7.765023   \n",
       "101                 Hungary  HUN                       7.250314   \n",
       "109                   India  IND                       2.959190   \n",
       "111                 Ireland  IRL                       7.101437   \n",
       "115                  Israel  ISR                       8.319502   \n",
       "116                   Italy  ITA                       9.633783   \n",
       "118                  Jordan  JOR                       7.469139   \n",
       "119                   Japan  JPN                      10.904251   \n",
       "122         Kyrgyz Republic  KGZ                       5.259337   \n",
       "126             Korea, Rep.  KOR                       8.364096   \n",
       "143               Lithuania  LTU                       7.538444   \n",
       "144              Luxembourg  LUX                       5.767456   \n",
       "148                 Morocco  MAR                       5.993161   \n",
       "154                  Mexico  MEX                       6.242148   \n",
       "157         North Macedonia  MKD                       7.889482   \n",
       "174                 Nigeria  NGA                       3.380634   \n",
       "176             Netherlands  NLD                      11.135927   \n",
       "177                  Norway  NOR                      11.417550   \n",
       "180             New Zealand  NZL                      10.028587   \n",
       "184                Pakistan  PAK                       2.953904   \n",
       "190                  Poland  POL                       6.493102   \n",
       "194                Portugal  PRT                      10.549306   \n",
       "201                 Romania  ROU                       6.272362   \n",
       "202      Russian Federation  RUS                       7.596243   \n",
       "206                   Sudan  SDN                       3.017477   \n",
       "214                  Serbia  SRB                       8.731617   \n",
       "221         Slovak Republic  SVK                       7.232134   \n",
       "222                Slovenia  SVN                       9.453579   \n",
       "223                  Sweden  SWE                      11.379928   \n",
       "244                 Turkiye  TUR                       4.617943   \n",
       "251           United States  USA                      18.815826   \n",
       "263            South Africa  ZAF                       8.583298   \n",
       "\n",
       "     log_GDP(million dollars)  log_Population(e+07)  duration  \n",
       "13                  27.916200             17.060260         5  \n",
       "14                  26.798612             16.003455         5  \n",
       "17                  26.986664             16.261209         5  \n",
       "20                  26.647522             18.936022         5  \n",
       "21                  24.977521             15.751950         5  \n",
       "24                  23.730236             15.014995         5  \n",
       "28                  24.324129             16.295083         5  \n",
       "29                  28.023063             19.177724         5  \n",
       "35                  28.131796             17.453285         5  \n",
       "37                  27.329916             15.971701         5  \n",
       "40                  30.318869             21.067635         5  \n",
       "53                  23.942472             14.028634         5  \n",
       "54                  26.228597             16.185554         5  \n",
       "55                  28.989430             18.236287         5  \n",
       "58                  26.595384             15.578768         5  \n",
       "60                  25.706872             17.587160         5  \n",
       "67                  26.673908             18.492677         5  \n",
       "70                  27.877881             17.673408         5  \n",
       "71                  24.169130             14.100330         5  \n",
       "75                  26.329068             15.525616         5  \n",
       "77                  28.601800             18.028691         5  \n",
       "81                  28.624273             18.021415         5  \n",
       "89                  25.965013             16.185623         5  \n",
       "99                  24.777221             15.213654         5  \n",
       "101                 25.779512             16.092793         5  \n",
       "109                 28.613100             21.057154         5  \n",
       "111                 26.777705             15.422021         5  \n",
       "115                 26.746713             16.036354         5  \n",
       "116                 28.272875             17.900459         5  \n",
       "118                 24.497862             16.206905         5  \n",
       "119                 29.250409             18.653862         5  \n",
       "122                 22.774934             15.699530         5  \n",
       "126                 28.125717             17.763600         5  \n",
       "143                 24.764822             14.843302         5  \n",
       "144                 25.027231             13.354140         5  \n",
       "148                 25.519056             17.417981         5  \n",
       "154                 27.717199             18.651779         5  \n",
       "157                 23.238021             14.544281         5  \n",
       "174                 26.791691             19.154621         5  \n",
       "176                 27.536710             16.674363         5  \n",
       "177                 26.631349             15.498101         5  \n",
       "180                 26.084558             15.442828         5  \n",
       "184                 26.427048             19.241327         5  \n",
       "190                 27.118527             17.450437         5  \n",
       "194                 26.156988             16.147371         5  \n",
       "201                 26.248719             16.773814         5  \n",
       "202                 28.029797             18.785832         5  \n",
       "206                 24.020383             17.609661         5  \n",
       "214                 24.700261             15.746905         5  \n",
       "221                 25.396095             15.512744         5  \n",
       "222                 24.706805             14.558599         5  \n",
       "223                 27.027715             16.152830         5  \n",
       "244                 27.302517             18.247938         5  \n",
       "251                 30.680294             19.619173         5  \n",
       "263                 26.546312             17.889685         5  "
      ]
     },
     "execution_count": 219,
     "metadata": {},
     "output_type": "execute_result"
    }
   ],
   "source": [
    "#prepare the data\n",
    "df_2020=pd.read_csv(\"https://github.com/hongdoudahongdou/MDA/blob/main/data/df_2020.csv/?raw=true\")\n",
    "df_new = df_2020[df_2020['ISO'].isin(df_heatwave['ISO'])]\n",
    "df_new = df_new.dropna()\n",
    "df_new['log_GDP(million dollars)']=df_new['GDP(million dollars)'].apply(np.log)\n",
    "df_new['log_Population(e+07)']=df_new['Population'].apply(np.log)\n",
    "df_new.drop(['GDP(million dollars)','Population'],axis=1,inplace=True)\n",
    "df_new['duration']=5\n",
    "df_new"
   ]
  },
  {
   "cell_type": "markdown",
   "id": "afd92786",
   "metadata": {},
   "source": [
    "## Temperature Prediction"
   ]
  },
  {
   "cell_type": "code",
   "execution_count": 197,
   "id": "6ac8fc38",
   "metadata": {},
   "outputs": [
    {
     "data": {
      "application/vnd.plotly.v1+json": {
       "config": {
        "plotlyServerURL": "https://plot.ly"
       },
       "data": [
        {
         "mode": "lines",
         "name": "True value",
         "type": "scatter",
         "x": [
          "2022-06-30T00:00:00",
          "2022-07-01T00:00:00",
          "2022-07-02T00:00:00",
          "2022-07-03T00:00:00",
          "2022-07-04T00:00:00",
          "2022-07-05T00:00:00",
          "2022-07-06T00:00:00",
          "2022-07-07T00:00:00",
          "2022-07-08T00:00:00",
          "2022-07-09T00:00:00",
          "2022-07-10T00:00:00",
          "2022-07-11T00:00:00",
          "2022-07-12T00:00:00",
          "2022-07-13T00:00:00",
          "2022-07-14T00:00:00",
          "2022-07-15T00:00:00",
          "2022-07-16T00:00:00",
          "2022-07-17T00:00:00",
          "2022-07-18T00:00:00",
          "2022-07-19T00:00:00",
          "2022-07-20T00:00:00",
          "2022-07-21T00:00:00",
          "2022-07-22T00:00:00",
          "2022-07-23T00:00:00",
          "2022-07-24T00:00:00",
          "2022-07-25T00:00:00",
          "2022-07-26T00:00:00",
          "2022-07-27T00:00:00",
          "2022-07-28T00:00:00",
          "2022-07-29T00:00:00",
          "2022-07-30T00:00:00",
          "2022-07-31T00:00:00",
          "2022-08-01T00:00:00",
          "2022-08-02T00:00:00",
          "2022-08-03T00:00:00",
          "2022-08-04T00:00:00",
          "2022-08-05T00:00:00",
          "2022-08-06T00:00:00",
          "2022-08-07T00:00:00",
          "2022-08-08T00:00:00",
          "2022-08-09T00:00:00",
          "2022-08-10T00:00:00",
          "2022-08-11T00:00:00",
          "2022-08-12T00:00:00",
          "2022-08-13T00:00:00",
          "2022-08-14T00:00:00",
          "2022-08-15T00:00:00",
          "2022-08-16T00:00:00",
          "2022-08-17T00:00:00",
          "2022-08-18T00:00:00",
          "2022-08-19T00:00:00",
          "2022-08-20T00:00:00",
          "2022-08-21T00:00:00",
          "2022-08-22T00:00:00",
          "2022-08-23T00:00:00",
          "2022-08-24T00:00:00",
          "2022-08-25T00:00:00",
          "2022-08-26T00:00:00",
          "2022-08-27T00:00:00",
          "2022-08-28T00:00:00",
          "2022-08-29T00:00:00",
          "2022-08-30T00:00:00",
          "2022-08-31T00:00:00",
          "2022-09-01T00:00:00",
          "2022-09-02T00:00:00",
          "2022-09-03T00:00:00",
          "2022-09-04T00:00:00",
          "2022-09-05T00:00:00",
          "2022-09-06T00:00:00",
          "2022-09-07T00:00:00",
          "2022-09-08T00:00:00",
          "2022-09-09T00:00:00",
          "2022-09-10T00:00:00",
          "2022-09-11T00:00:00",
          "2022-09-12T00:00:00",
          "2022-09-13T00:00:00",
          "2022-09-14T00:00:00",
          "2022-09-15T00:00:00",
          "2022-09-16T00:00:00",
          "2022-09-17T00:00:00",
          "2022-09-18T00:00:00",
          "2022-09-19T00:00:00",
          "2022-09-20T00:00:00",
          "2022-09-21T00:00:00",
          "2022-09-22T00:00:00",
          "2022-09-23T00:00:00",
          "2022-09-24T00:00:00",
          "2022-09-25T00:00:00",
          "2022-09-26T00:00:00",
          "2022-09-27T00:00:00",
          "2022-09-28T00:00:00",
          "2022-09-29T00:00:00",
          "2022-09-30T00:00:00",
          "2022-10-01T00:00:00",
          "2022-10-02T00:00:00",
          "2022-10-03T00:00:00",
          "2022-10-04T00:00:00",
          "2022-10-05T00:00:00",
          "2022-10-06T00:00:00",
          "2022-10-07T00:00:00",
          "2022-10-08T00:00:00",
          "2022-10-09T00:00:00",
          "2022-10-10T00:00:00",
          "2022-10-11T00:00:00",
          "2022-10-12T00:00:00",
          "2022-10-13T00:00:00",
          "2022-10-14T00:00:00",
          "2022-10-15T00:00:00",
          "2022-10-16T00:00:00",
          "2022-10-17T00:00:00",
          "2022-10-18T00:00:00",
          "2022-10-19T00:00:00",
          "2022-10-20T00:00:00",
          "2022-10-21T00:00:00",
          "2022-10-22T00:00:00",
          "2022-10-23T00:00:00",
          "2022-10-24T00:00:00",
          "2022-10-25T00:00:00",
          "2022-10-26T00:00:00",
          "2022-10-27T00:00:00",
          "2022-10-28T00:00:00",
          "2022-10-29T00:00:00",
          "2022-10-30T00:00:00",
          "2022-10-31T00:00:00",
          "2022-11-01T00:00:00",
          "2022-11-02T00:00:00",
          "2022-11-03T00:00:00",
          "2022-11-04T00:00:00",
          "2022-11-05T00:00:00",
          "2022-11-06T00:00:00",
          "2022-11-07T00:00:00",
          "2022-11-08T00:00:00",
          "2022-11-09T00:00:00",
          "2022-11-10T00:00:00",
          "2022-11-11T00:00:00",
          "2022-11-12T00:00:00",
          "2022-11-13T00:00:00",
          "2022-11-14T00:00:00",
          "2022-11-15T00:00:00",
          "2022-11-16T00:00:00",
          "2022-11-17T00:00:00",
          "2022-11-18T00:00:00",
          "2022-11-19T00:00:00",
          "2022-11-20T00:00:00",
          "2022-11-21T00:00:00",
          "2022-11-22T00:00:00",
          "2022-11-23T00:00:00",
          "2022-11-24T00:00:00",
          "2022-11-25T00:00:00",
          "2022-11-26T00:00:00",
          "2022-11-27T00:00:00",
          "2022-11-28T00:00:00",
          "2022-11-29T00:00:00",
          "2022-11-30T00:00:00",
          "2022-12-01T00:00:00",
          "2022-12-02T00:00:00",
          "2022-12-03T00:00:00",
          "2022-12-04T00:00:00",
          "2022-12-05T00:00:00",
          "2022-12-06T00:00:00",
          "2022-12-07T00:00:00",
          "2022-12-08T00:00:00",
          "2022-12-09T00:00:00",
          "2022-12-10T00:00:00",
          "2022-12-11T00:00:00",
          "2022-12-12T00:00:00",
          "2022-12-13T00:00:00",
          "2022-12-14T00:00:00",
          "2022-12-15T00:00:00",
          "2022-12-16T00:00:00",
          "2022-12-17T00:00:00",
          "2022-12-18T00:00:00",
          "2022-12-19T00:00:00",
          "2022-12-20T00:00:00",
          "2022-12-21T00:00:00",
          "2022-12-22T00:00:00",
          "2022-12-23T00:00:00",
          "2022-12-24T00:00:00",
          "2022-12-25T00:00:00",
          "2022-12-26T00:00:00",
          "2022-12-27T00:00:00",
          "2022-12-28T00:00:00",
          "2022-12-29T00:00:00",
          "2022-12-30T00:00:00",
          "2022-12-31T00:00:00",
          "2023-01-01T00:00:00",
          "2023-01-02T00:00:00",
          "2023-01-03T00:00:00",
          "2023-01-04T00:00:00",
          "2023-01-05T00:00:00",
          "2023-01-06T00:00:00",
          "2023-01-07T00:00:00",
          "2023-01-08T00:00:00",
          "2023-01-09T00:00:00",
          "2023-01-10T00:00:00",
          "2023-01-11T00:00:00",
          "2023-01-12T00:00:00",
          "2023-01-13T00:00:00",
          "2023-01-14T00:00:00",
          "2023-01-15T00:00:00",
          "2023-01-16T00:00:00",
          "2023-01-17T00:00:00",
          "2023-01-18T00:00:00",
          "2023-01-19T00:00:00",
          "2023-01-20T00:00:00",
          "2023-01-21T00:00:00",
          "2023-01-22T00:00:00",
          "2023-01-23T00:00:00",
          "2023-01-24T00:00:00",
          "2023-01-25T00:00:00",
          "2023-01-26T00:00:00",
          "2023-01-27T00:00:00",
          "2023-01-28T00:00:00",
          "2023-01-29T00:00:00",
          "2023-01-30T00:00:00",
          "2023-01-31T00:00:00",
          "2023-02-01T00:00:00",
          "2023-02-02T00:00:00",
          "2023-02-03T00:00:00",
          "2023-02-04T00:00:00",
          "2023-02-05T00:00:00",
          "2023-02-06T00:00:00",
          "2023-02-07T00:00:00",
          "2023-02-08T00:00:00",
          "2023-02-09T00:00:00",
          "2023-02-10T00:00:00",
          "2023-02-11T00:00:00",
          "2023-02-12T00:00:00",
          "2023-02-13T00:00:00",
          "2023-02-14T00:00:00",
          "2023-02-15T00:00:00",
          "2023-02-16T00:00:00",
          "2023-02-17T00:00:00",
          "2023-02-18T00:00:00",
          "2023-02-19T00:00:00",
          "2023-02-20T00:00:00",
          "2023-02-21T00:00:00",
          "2023-02-22T00:00:00",
          "2023-02-23T00:00:00",
          "2023-02-24T00:00:00",
          "2023-02-25T00:00:00",
          "2023-02-26T00:00:00",
          "2023-02-27T00:00:00",
          "2023-02-28T00:00:00",
          "2023-03-01T00:00:00",
          "2023-03-02T00:00:00",
          "2023-03-03T00:00:00",
          "2023-03-04T00:00:00",
          "2023-03-05T00:00:00",
          "2023-03-06T00:00:00",
          "2023-03-07T00:00:00",
          "2023-03-08T00:00:00",
          "2023-03-09T00:00:00",
          "2023-03-10T00:00:00",
          "2023-03-11T00:00:00",
          "2023-03-12T00:00:00",
          "2023-03-13T00:00:00",
          "2023-03-14T00:00:00",
          "2023-03-15T00:00:00",
          "2023-03-16T00:00:00",
          "2023-03-17T00:00:00",
          "2023-03-18T00:00:00",
          "2023-03-19T00:00:00",
          "2023-03-20T00:00:00",
          "2023-03-21T00:00:00",
          "2023-03-22T00:00:00",
          "2023-03-23T00:00:00",
          "2023-03-24T00:00:00",
          "2023-03-25T00:00:00",
          "2023-03-26T00:00:00",
          "2023-03-27T00:00:00",
          "2023-03-28T00:00:00",
          "2023-03-29T00:00:00",
          "2023-03-30T00:00:00",
          "2023-03-31T00:00:00",
          "2023-04-01T00:00:00",
          "2023-04-02T00:00:00",
          "2023-04-03T00:00:00",
          "2023-04-04T00:00:00",
          "2023-04-05T00:00:00",
          "2023-04-06T00:00:00",
          "2023-04-07T00:00:00",
          "2023-04-08T00:00:00",
          "2023-04-09T00:00:00",
          "2023-04-10T00:00:00",
          "2023-04-11T00:00:00",
          "2023-04-12T00:00:00",
          "2023-04-13T00:00:00",
          "2023-04-14T00:00:00",
          "2023-04-15T00:00:00",
          "2023-04-16T00:00:00",
          "2023-04-17T00:00:00",
          "2023-04-18T00:00:00",
          "2023-04-19T00:00:00",
          "2023-04-20T00:00:00",
          "2023-04-21T00:00:00",
          "2023-04-22T00:00:00",
          "2023-04-23T00:00:00",
          "2023-04-24T00:00:00",
          "2023-04-25T00:00:00",
          "2023-04-26T00:00:00",
          "2023-04-27T00:00:00",
          "2023-04-28T00:00:00",
          "2023-04-29T00:00:00",
          "2023-04-30T00:00:00",
          "2023-05-01T00:00:00",
          "2023-05-02T00:00:00",
          "2023-05-03T00:00:00",
          "2023-05-04T00:00:00",
          "2023-05-05T00:00:00",
          "2023-05-06T00:00:00",
          "2023-05-07T00:00:00",
          "2023-05-08T00:00:00",
          "2023-05-09T00:00:00",
          "2023-05-10T00:00:00",
          "2023-05-11T00:00:00",
          "2023-05-12T00:00:00",
          "2023-05-13T00:00:00",
          "2023-05-14T00:00:00",
          "2023-05-15T00:00:00",
          "2023-05-16T00:00:00",
          "2023-05-17T00:00:00",
          "2023-05-18T00:00:00",
          "2023-05-19T00:00:00",
          "2023-05-20T00:00:00",
          "2023-05-21T00:00:00",
          "2023-05-22T00:00:00",
          "2023-05-23T00:00:00",
          "2023-05-24T00:00:00",
          "2023-05-25T00:00:00",
          "2023-05-26T00:00:00",
          "2023-05-27T00:00:00",
          "2023-05-28T00:00:00",
          "2023-05-29T00:00:00",
          "2023-05-30T00:00:00",
          "2023-05-31T00:00:00",
          "2023-06-01T00:00:00",
          "2023-06-02T00:00:00",
          "2023-06-03T00:00:00",
          "2023-06-04T00:00:00",
          "2023-06-05T00:00:00",
          "2023-06-06T00:00:00",
          "2023-06-07T00:00:00",
          "2023-06-08T00:00:00",
          "2023-06-09T00:00:00",
          "2023-06-10T00:00:00",
          "2023-06-11T00:00:00",
          "2023-06-12T00:00:00",
          "2023-06-13T00:00:00",
          "2023-06-14T00:00:00",
          "2023-06-15T00:00:00",
          "2023-06-16T00:00:00",
          "2023-06-17T00:00:00",
          "2023-06-18T00:00:00",
          "2023-06-19T00:00:00",
          "2023-06-20T00:00:00",
          "2023-06-21T00:00:00",
          "2023-06-22T00:00:00",
          "2023-06-23T00:00:00",
          "2023-06-24T00:00:00",
          "2023-06-25T00:00:00",
          "2023-06-26T00:00:00",
          "2023-06-27T00:00:00",
          "2023-06-28T00:00:00",
          "2023-06-29T00:00:00",
          "2023-06-30T00:00:00"
         ],
         "y": [
          16,
          20.2,
          22.3,
          20.3,
          20.7,
          19.5,
          20.5,
          18.3,
          22.5,
          19.6,
          23.1,
          24.5,
          29.4,
          24.1,
          21.5,
          21.1,
          23.5,
          27.5,
          34.5,
          38.6,
          24.6,
          20,
          20.7,
          23.1,
          28.9,
          22.4,
          19.5,
          20.2,
          21.9,
          22.2,
          24.7,
          23.6,
          23,
          26.3,
          26.3,
          22.7,
          20.3,
          21.1,
          21.6,
          23.3,
          23.2,
          26.3,
          29.1,
          29.8,
          31.6,
          30.7,
          25.7,
          27,
          21.7,
          23.6,
          22.2,
          22,
          22.7,
          28,
          26.3,
          26.6,
          24,
          22,
          22.2,
          22.4,
          22.1,
          23.1,
          22.9,
          26.5,
          25.6,
          24.6,
          23.4,
          25.3,
          25,
          22.7,
          21.7,
          19.3,
          19.7,
          21.8,
          25.8,
          21.9,
          16.8,
          18.4,
          16.3,
          15.6,
          16.7,
          16.8,
          17.1,
          17.7,
          19.5,
          18.3,
          17.1,
          15.6,
          14.7,
          13.6,
          13.6,
          15.2,
          17,
          18.2,
          16.6,
          17.2,
          18.1,
          18.2,
          17.5,
          17.7,
          15.1,
          17,
          14.5,
          15,
          15.7,
          13.6,
          16.5,
          17.6,
          17.5,
          18.2,
          18.5,
          17,
          19.6,
          20.5,
          18.5,
          19.5,
          17.2,
          17.1,
          20,
          20.5,
          20.6,
          21.7,
          17,
          16.1,
          16.2,
          14,
          14.2,
          12.7,
          11.2,
          11.2,
          15.1,
          16,
          14.1,
          14,
          12.1,
          9.5,
          14,
          9.2,
          12,
          11.6,
          12.7,
          11.6,
          11,
          10.6,
          9.1,
          10.1,
          12,
          11.1,
          11.5,
          11.2,
          8,
          11.5,
          7,
          9.1,
          7.7,
          5,
          3,
          2.2,
          5.5,
          7.1,
          7.2,
          5.5,
          5.2,
          5.6,
          1.2,
          -0.2,
          -0.7,
          1.7,
          5.2,
          4.2,
          1,
          1.5,
          9,
          11.7,
          9.1,
          10.6,
          13.1,
          11.2,
          10,
          9.7,
          9.1,
          11.6,
          11.5,
          13.1,
          15.7,
          13.5,
          11.6,
          10.1,
          13.1,
          12.1,
          11.6,
          10.6,
          9.7,
          9,
          12.3,
          12.4,
          11.2,
          10.2,
          12.2,
          8.1,
          6.2,
          4.5,
          5,
          5.5,
          6.5,
          4,
          4.5,
          4.5,
          3,
          2.5,
          8.2,
          6.5,
          5.2,
          9,
          8.6,
          9.7,
          9.2,
          10.6,
          11.7,
          9.7,
          8.5,
          7.7,
          5.7,
          6.5,
          7.1,
          9.6,
          9,
          8.5,
          11,
          12,
          12,
          11.6,
          11.6,
          12,
          11,
          9.2,
          8.5,
          9.5,
          8.7,
          7.7,
          7.2,
          5.7,
          6.2,
          4.7,
          6.1,
          6.7,
          7.4,
          7.6,
          6,
          7,
          6.2,
          2.5,
          13,
          9.2,
          7,
          12.2,
          15,
          9.7,
          8.5,
          13.7,
          14.7,
          14.2,
          9,
          11.7,
          13,
          12.2,
          15.5,
          13.7,
          12.5,
          9.7,
          6.9,
          9.5,
          16.2,
          14.1,
          11.6,
          9.7,
          8,
          10.6,
          9.7,
          11.6,
          12.7,
          10.2,
          11,
          16,
          13,
          13,
          10.7,
          12.2,
          12.5,
          12.6,
          11,
          11,
          13.2,
          15,
          9.6,
          11.2,
          13,
          13.1,
          10.6,
          9.2,
          10.6,
          14.2,
          14.5,
          12.2,
          16.2,
          14.2,
          13.2,
          14.5,
          22.5,
          17.2,
          18.2,
          17.7,
          16.5,
          15.5,
          16.5,
          14.5,
          13.7,
          14.2,
          13.4,
          12.1,
          14,
          15,
          13.2,
          16.1,
          16.6,
          16,
          14,
          14,
          15.7,
          16,
          15.7,
          16,
          17.7,
          14.7,
          14.7,
          17,
          14.8,
          14.5,
          19,
          17.7,
          15.7,
          16,
          17.2,
          18.2,
          24,
          31,
          31,
          24,
          28,
          25,
          25,
          22,
          28,
          26,
          23,
          27,
          23,
          20,
          26,
          23,
          32,
          21,
          20,
          24,
          20,
          21
         ]
        },
        {
         "mode": "lines",
         "name": "Predicted_ARIMA",
         "type": "scatter",
         "x": [
          "2022-06-30T00:00:00",
          "2022-07-01T00:00:00",
          "2022-07-02T00:00:00",
          "2022-07-03T00:00:00",
          "2022-07-04T00:00:00",
          "2022-07-05T00:00:00",
          "2022-07-06T00:00:00",
          "2022-07-07T00:00:00",
          "2022-07-08T00:00:00",
          "2022-07-09T00:00:00",
          "2022-07-10T00:00:00",
          "2022-07-11T00:00:00",
          "2022-07-12T00:00:00",
          "2022-07-13T00:00:00",
          "2022-07-14T00:00:00",
          "2022-07-15T00:00:00",
          "2022-07-16T00:00:00",
          "2022-07-17T00:00:00",
          "2022-07-18T00:00:00",
          "2022-07-19T00:00:00",
          "2022-07-20T00:00:00",
          "2022-07-21T00:00:00",
          "2022-07-22T00:00:00",
          "2022-07-23T00:00:00",
          "2022-07-24T00:00:00",
          "2022-07-25T00:00:00",
          "2022-07-26T00:00:00",
          "2022-07-27T00:00:00",
          "2022-07-28T00:00:00",
          "2022-07-29T00:00:00",
          "2022-07-30T00:00:00",
          "2022-07-31T00:00:00",
          "2022-08-01T00:00:00",
          "2022-08-02T00:00:00",
          "2022-08-03T00:00:00",
          "2022-08-04T00:00:00",
          "2022-08-05T00:00:00",
          "2022-08-06T00:00:00",
          "2022-08-07T00:00:00",
          "2022-08-08T00:00:00",
          "2022-08-09T00:00:00",
          "2022-08-10T00:00:00",
          "2022-08-11T00:00:00",
          "2022-08-12T00:00:00",
          "2022-08-13T00:00:00",
          "2022-08-14T00:00:00",
          "2022-08-15T00:00:00",
          "2022-08-16T00:00:00",
          "2022-08-17T00:00:00",
          "2022-08-18T00:00:00",
          "2022-08-19T00:00:00",
          "2022-08-20T00:00:00",
          "2022-08-21T00:00:00",
          "2022-08-22T00:00:00",
          "2022-08-23T00:00:00",
          "2022-08-24T00:00:00",
          "2022-08-25T00:00:00",
          "2022-08-26T00:00:00",
          "2022-08-27T00:00:00",
          "2022-08-28T00:00:00",
          "2022-08-29T00:00:00",
          "2022-08-30T00:00:00",
          "2022-08-31T00:00:00",
          "2022-09-01T00:00:00",
          "2022-09-02T00:00:00",
          "2022-09-03T00:00:00",
          "2022-09-04T00:00:00",
          "2022-09-05T00:00:00",
          "2022-09-06T00:00:00",
          "2022-09-07T00:00:00",
          "2022-09-08T00:00:00",
          "2022-09-09T00:00:00",
          "2022-09-10T00:00:00",
          "2022-09-11T00:00:00",
          "2022-09-12T00:00:00",
          "2022-09-13T00:00:00",
          "2022-09-14T00:00:00",
          "2022-09-15T00:00:00",
          "2022-09-16T00:00:00",
          "2022-09-17T00:00:00",
          "2022-09-18T00:00:00",
          "2022-09-19T00:00:00",
          "2022-09-20T00:00:00",
          "2022-09-21T00:00:00",
          "2022-09-22T00:00:00",
          "2022-09-23T00:00:00",
          "2022-09-24T00:00:00",
          "2022-09-25T00:00:00",
          "2022-09-26T00:00:00",
          "2022-09-27T00:00:00",
          "2022-09-28T00:00:00",
          "2022-09-29T00:00:00",
          "2022-09-30T00:00:00",
          "2022-10-01T00:00:00",
          "2022-10-02T00:00:00",
          "2022-10-03T00:00:00",
          "2022-10-04T00:00:00",
          "2022-10-05T00:00:00",
          "2022-10-06T00:00:00",
          "2022-10-07T00:00:00",
          "2022-10-08T00:00:00",
          "2022-10-09T00:00:00",
          "2022-10-10T00:00:00",
          "2022-10-11T00:00:00",
          "2022-10-12T00:00:00",
          "2022-10-13T00:00:00",
          "2022-10-14T00:00:00",
          "2022-10-15T00:00:00",
          "2022-10-16T00:00:00",
          "2022-10-17T00:00:00",
          "2022-10-18T00:00:00",
          "2022-10-19T00:00:00",
          "2022-10-20T00:00:00",
          "2022-10-21T00:00:00",
          "2022-10-22T00:00:00",
          "2022-10-23T00:00:00",
          "2022-10-24T00:00:00",
          "2022-10-25T00:00:00",
          "2022-10-26T00:00:00",
          "2022-10-27T00:00:00",
          "2022-10-28T00:00:00",
          "2022-10-29T00:00:00",
          "2022-10-30T00:00:00",
          "2022-10-31T00:00:00",
          "2022-11-01T00:00:00",
          "2022-11-02T00:00:00",
          "2022-11-03T00:00:00",
          "2022-11-04T00:00:00",
          "2022-11-05T00:00:00",
          "2022-11-06T00:00:00",
          "2022-11-07T00:00:00",
          "2022-11-08T00:00:00",
          "2022-11-09T00:00:00",
          "2022-11-10T00:00:00",
          "2022-11-11T00:00:00",
          "2022-11-12T00:00:00",
          "2022-11-13T00:00:00",
          "2022-11-14T00:00:00",
          "2022-11-15T00:00:00",
          "2022-11-16T00:00:00",
          "2022-11-17T00:00:00",
          "2022-11-18T00:00:00",
          "2022-11-19T00:00:00",
          "2022-11-20T00:00:00",
          "2022-11-21T00:00:00",
          "2022-11-22T00:00:00",
          "2022-11-23T00:00:00",
          "2022-11-24T00:00:00",
          "2022-11-25T00:00:00",
          "2022-11-26T00:00:00",
          "2022-11-27T00:00:00",
          "2022-11-28T00:00:00",
          "2022-11-29T00:00:00",
          "2022-11-30T00:00:00",
          "2022-12-01T00:00:00",
          "2022-12-02T00:00:00",
          "2022-12-03T00:00:00",
          "2022-12-04T00:00:00",
          "2022-12-05T00:00:00",
          "2022-12-06T00:00:00",
          "2022-12-07T00:00:00",
          "2022-12-08T00:00:00",
          "2022-12-09T00:00:00",
          "2022-12-10T00:00:00",
          "2022-12-11T00:00:00",
          "2022-12-12T00:00:00",
          "2022-12-13T00:00:00",
          "2022-12-14T00:00:00",
          "2022-12-15T00:00:00",
          "2022-12-16T00:00:00",
          "2022-12-17T00:00:00",
          "2022-12-18T00:00:00",
          "2022-12-19T00:00:00",
          "2022-12-20T00:00:00",
          "2022-12-21T00:00:00",
          "2022-12-22T00:00:00",
          "2022-12-23T00:00:00",
          "2022-12-24T00:00:00",
          "2022-12-25T00:00:00",
          "2022-12-26T00:00:00",
          "2022-12-27T00:00:00",
          "2022-12-28T00:00:00",
          "2022-12-29T00:00:00",
          "2022-12-30T00:00:00",
          "2022-12-31T00:00:00",
          "2023-01-01T00:00:00",
          "2023-01-02T00:00:00",
          "2023-01-03T00:00:00",
          "2023-01-04T00:00:00",
          "2023-01-05T00:00:00",
          "2023-01-06T00:00:00",
          "2023-01-07T00:00:00",
          "2023-01-08T00:00:00",
          "2023-01-09T00:00:00",
          "2023-01-10T00:00:00",
          "2023-01-11T00:00:00",
          "2023-01-12T00:00:00",
          "2023-01-13T00:00:00",
          "2023-01-14T00:00:00",
          "2023-01-15T00:00:00",
          "2023-01-16T00:00:00",
          "2023-01-17T00:00:00",
          "2023-01-18T00:00:00",
          "2023-01-19T00:00:00",
          "2023-01-20T00:00:00",
          "2023-01-21T00:00:00",
          "2023-01-22T00:00:00",
          "2023-01-23T00:00:00",
          "2023-01-24T00:00:00",
          "2023-01-25T00:00:00",
          "2023-01-26T00:00:00",
          "2023-01-27T00:00:00",
          "2023-01-28T00:00:00",
          "2023-01-29T00:00:00",
          "2023-01-30T00:00:00",
          "2023-01-31T00:00:00",
          "2023-02-01T00:00:00",
          "2023-02-02T00:00:00",
          "2023-02-03T00:00:00",
          "2023-02-04T00:00:00",
          "2023-02-05T00:00:00",
          "2023-02-06T00:00:00",
          "2023-02-07T00:00:00",
          "2023-02-08T00:00:00",
          "2023-02-09T00:00:00",
          "2023-02-10T00:00:00",
          "2023-02-11T00:00:00",
          "2023-02-12T00:00:00",
          "2023-02-13T00:00:00",
          "2023-02-14T00:00:00",
          "2023-02-15T00:00:00",
          "2023-02-16T00:00:00",
          "2023-02-17T00:00:00",
          "2023-02-18T00:00:00",
          "2023-02-19T00:00:00",
          "2023-02-20T00:00:00",
          "2023-02-21T00:00:00",
          "2023-02-22T00:00:00",
          "2023-02-23T00:00:00",
          "2023-02-24T00:00:00",
          "2023-02-25T00:00:00",
          "2023-02-26T00:00:00",
          "2023-02-27T00:00:00",
          "2023-02-28T00:00:00",
          "2023-03-01T00:00:00",
          "2023-03-02T00:00:00",
          "2023-03-03T00:00:00",
          "2023-03-04T00:00:00",
          "2023-03-05T00:00:00",
          "2023-03-06T00:00:00",
          "2023-03-07T00:00:00",
          "2023-03-08T00:00:00",
          "2023-03-09T00:00:00",
          "2023-03-10T00:00:00",
          "2023-03-11T00:00:00",
          "2023-03-12T00:00:00",
          "2023-03-13T00:00:00",
          "2023-03-14T00:00:00",
          "2023-03-15T00:00:00",
          "2023-03-16T00:00:00",
          "2023-03-17T00:00:00",
          "2023-03-18T00:00:00",
          "2023-03-19T00:00:00",
          "2023-03-20T00:00:00",
          "2023-03-21T00:00:00",
          "2023-03-22T00:00:00",
          "2023-03-23T00:00:00",
          "2023-03-24T00:00:00",
          "2023-03-25T00:00:00",
          "2023-03-26T00:00:00",
          "2023-03-27T00:00:00",
          "2023-03-28T00:00:00",
          "2023-03-29T00:00:00",
          "2023-03-30T00:00:00",
          "2023-03-31T00:00:00",
          "2023-04-01T00:00:00",
          "2023-04-02T00:00:00",
          "2023-04-03T00:00:00",
          "2023-04-04T00:00:00",
          "2023-04-05T00:00:00",
          "2023-04-06T00:00:00",
          "2023-04-07T00:00:00",
          "2023-04-08T00:00:00",
          "2023-04-09T00:00:00",
          "2023-04-10T00:00:00",
          "2023-04-11T00:00:00",
          "2023-04-12T00:00:00",
          "2023-04-13T00:00:00",
          "2023-04-14T00:00:00",
          "2023-04-15T00:00:00",
          "2023-04-16T00:00:00",
          "2023-04-17T00:00:00",
          "2023-04-18T00:00:00",
          "2023-04-19T00:00:00",
          "2023-04-20T00:00:00",
          "2023-04-21T00:00:00",
          "2023-04-22T00:00:00",
          "2023-04-23T00:00:00",
          "2023-04-24T00:00:00",
          "2023-04-25T00:00:00",
          "2023-04-26T00:00:00",
          "2023-04-27T00:00:00",
          "2023-04-28T00:00:00",
          "2023-04-29T00:00:00",
          "2023-04-30T00:00:00",
          "2023-05-01T00:00:00",
          "2023-05-02T00:00:00",
          "2023-05-03T00:00:00",
          "2023-05-04T00:00:00",
          "2023-05-05T00:00:00",
          "2023-05-06T00:00:00",
          "2023-05-07T00:00:00",
          "2023-05-08T00:00:00",
          "2023-05-09T00:00:00",
          "2023-05-10T00:00:00",
          "2023-05-11T00:00:00",
          "2023-05-12T00:00:00",
          "2023-05-13T00:00:00",
          "2023-05-14T00:00:00",
          "2023-05-15T00:00:00",
          "2023-05-16T00:00:00",
          "2023-05-17T00:00:00",
          "2023-05-18T00:00:00",
          "2023-05-19T00:00:00",
          "2023-05-20T00:00:00",
          "2023-05-21T00:00:00",
          "2023-05-22T00:00:00",
          "2023-05-23T00:00:00",
          "2023-05-24T00:00:00",
          "2023-05-25T00:00:00",
          "2023-05-26T00:00:00",
          "2023-05-27T00:00:00",
          "2023-05-28T00:00:00",
          "2023-05-29T00:00:00",
          "2023-05-30T00:00:00",
          "2023-05-31T00:00:00",
          "2023-06-01T00:00:00",
          "2023-06-02T00:00:00",
          "2023-06-03T00:00:00",
          "2023-06-04T00:00:00",
          "2023-06-05T00:00:00",
          "2023-06-06T00:00:00",
          "2023-06-07T00:00:00",
          "2023-06-08T00:00:00",
          "2023-06-09T00:00:00",
          "2023-06-10T00:00:00",
          "2023-06-11T00:00:00",
          "2023-06-12T00:00:00",
          "2023-06-13T00:00:00",
          "2023-06-14T00:00:00",
          "2023-06-15T00:00:00",
          "2023-06-16T00:00:00",
          "2023-06-17T00:00:00",
          "2023-06-18T00:00:00",
          "2023-06-19T00:00:00",
          "2023-06-20T00:00:00",
          "2023-06-21T00:00:00",
          "2023-06-22T00:00:00",
          "2023-06-23T00:00:00",
          "2023-06-24T00:00:00",
          "2023-06-25T00:00:00",
          "2023-06-26T00:00:00",
          "2023-06-27T00:00:00",
          "2023-06-28T00:00:00",
          "2023-06-29T00:00:00",
          "2023-06-30T00:00:00"
         ],
         "y": [
          null,
          null,
          19.52036734375153,
          20.997885291365456,
          19.622261275902076,
          20.32099180581774,
          19.48528959803529,
          20.35640962372957,
          18.66117000025533,
          21.899485661116884,
          19.481010461845965,
          22.396378659662812,
          23.25335481980682,
          27.05286543241249,
          23.250034324614088,
          22.100540528895024,
          21.91627589069597,
          23.5151292361572,
          26.215835291168545,
          31.306021767641464,
          34.44647486983217,
          24.77833258911773,
          22.78116761635585,
          23.04397016365041,
          24.129105355168747,
          27.892708170118656,
          22.760552819713432,
          21.19643800370057,
          21.567962506648406,
          22.39211364144877,
          22.309196681446988,
          24.09482597809497,
          23.183486486667096,
          22.963260662175788,
          25.470453896067355,
          25.34721949044271,
          22.939728445875254,
          21.477042095576596,
          22.00683578278524,
          22.055769755923517,
          23.13951260219369,
          22.932316772831733,
          25.300794829283078,
          27.309256909352573,
          28.00606279890648,
          29.732295682806733,
          29.371532410546195,
          26.122020826907203,
          27.48693666231984,
          23.313423418470503,
          24.840049924263475,
          23.285838530516305,
          22.99825339909057,
          23.274048729581985,
          26.963245456758138,
          25.433173251152827,
          26.05709406337832,
          24.249353256734896,
          22.97618306571335,
          23.074469342583782,
          22.97237479495647,
          22.580376926152947,
          23.223574713709752,
          22.940395133017343,
          25.607528350831288,
          24.805550534264675,
          24.36845741052156,
          23.646612237936743,
          25.108188762207355,
          24.74094435402281,
          23.14218665104566,
          22.525621626411542,
          20.64115537195624,
          20.83272814162575,
          22.0446886671204,
          24.71619242852347,
          21.70882841139803,
          18.39716908622397,
          19.68599181307951,
          17.63404999743026,
          16.98464166007955,
          17.506048150778025,
          17.255195228243807,
          17.3470584518496,
          17.694228421826825,
          18.96236247623887,
          18.03175910803626,
          17.340165877959535,
          16.293970150029576,
          15.602702343045614,
          14.647224873427655,
          14.486412131634664,
          15.43513520204176,
          16.536969352132292,
          17.358206540539395,
          16.27396347827216,
          16.967325512984644,
          17.63062875803695,
          17.73451642847487,
          17.329478934162285,
          17.593998344641307,
          15.6821277921297,
          17.20028506493923,
          15.106560417093666,
          15.574690693166074,
          15.88920491950574,
          14.217445387954887,
          16.412831155938377,
          16.948289353931525,
          16.93168766269876,
          17.607532719705752,
          17.91191996177993,
          16.927897128146213,
          19.02057422949825,
          19.568324013256657,
          18.243353376680098,
          19.25504641410716,
          17.518443358033966,
          17.598562517764623,
          19.618703652248065,
          19.788363851801083,
          19.996991230488327,
          20.956517216792943,
          17.568802666270877,
          17.24054152507733,
          17.10845307916638,
          15.236391494971166,
          15.287153639125906,
          13.874615015238533,
          12.614594047123983,
          12.39882458035559,
          14.963286277119096,
          15.260914362827636,
          13.95930147775186,
          14.118417642343124,
          12.695371126782842,
          10.816478640627825,
          14.061268868829494,
          10.038081145823902,
          12.380484530301985,
          11.696643011531483,
          12.52448865258882,
          11.645067641916556,
          11.303928524534031,
          10.990998327206407,
          9.822736732048924,
          10.526279187663206,
          11.713765934290803,
          10.928409975210345,
          11.361463406226733,
          11.135053370054589,
          8.821178860000959,
          11.519554355656576,
          7.831910233412957,
          9.62831841903242,
          8.239909691182033,
          6.250141271683623,
          4.725129413844412,
          3.889149035230133,
          5.964876575968308,
          6.68348501292662,
          6.701291455225114,
          5.566880657533528,
          5.503366505503346,
          5.750086939500365,
          2.4219560282707984,
          1.522602028860923,
          0.8467907679904267,
          2.2645826624428413,
          4.452292379703501,
          3.548904617747885,
          1.4608097426426945,
          2.039355364579823,
          7.382047653034768,
          9.024735311666737,
          7.527911771209677,
          9.31514508053757,
          11.342120632310124,
          10.142276185055362,
          9.729726905158582,
          9.702935083174582,
          9.290278164244237,
          11.147541735346175,
          10.934274390988808,
          12.273710905960934,
          14.244051390613162,
          12.73337245309884,
          11.758873441322423,
          10.806207929292064,
          12.990233654239322,
          11.971330896228862,
          11.739191259808509,
          11.016249372407644,
          10.34613515612864,
          9.753097328401326,
          12.063708564204603,
          11.858876060698298,
          11.10461453791732,
          10.515356385437164,
          12.012094085346398,
          8.828815732247783,
          7.658645736825131,
          6.217883584724879,
          6.312343060511402,
          6.286010530812032,
          6.766591581050279,
          4.74837158337801,
          5.179353776374802,
          4.9497973138943765,
          3.7248557465399794,
          3.320728011188092,
          7.364368594802799,
          5.740333955140947,
          5.155260752107337,
          8.10582325699873,
          7.652691811569241,
          8.75400524024302,
          8.51926192266638,
          9.782488440849846,
          10.664053159152006,
          9.3457580948556,
          8.759247841053583,
          8.224707221558218,
          6.6936589109324665,
          7.230213352458913,
          7.399222052078068,
          9.10411534711591,
          8.533185375132286,
          8.348347194338716,
          10.284861818377149,
          10.95228908935268,
          11.123548478048171,
          11.05790826476453,
          11.241188981058617,
          11.630411861995446,
          10.947873117854252,
          9.736183138641405,
          9.264821689453028,
          9.874785180296673,
          9.082953827692396,
          8.327115203350866,
          7.89699441379677,
          6.65889507260719,
          6.9315364032057705,
          5.581195357719418,
          6.538459546977178,
          6.721978525847502,
          7.170958903041814,
          7.306337321862284,
          6.18170216882347,
          7.0372904279976485,
          6.33386736808628,
          3.650470890361168,
          11.48072062868348,
          7.990481843241107,
          7.075686265316191,
          11.12088413351167,
          12.933573313660249,
          9.274135359215204,
          9.046924806969788,
          12.865486313334335,
          13.28556270813918,
          13.183849379829464,
          9.663632282501164,
          12.019202979176985,
          12.616464222835882,
          11.992320528818956,
          14.564930965189442,
          13.14080064689195,
          12.58734127876237,
          10.621678894945235,
          8.602567195409007,
          10.36451261653094,
          14.814861215459818,
          12.936348577928806,
          11.612686415219176,
          10.465000531348233,
          9.2059419107343,
          10.984467995172531,
          9.951183275559506,
          11.38060441394054,
          12.053893283583813,
          10.264439448670682,
          11.096003810964923,
          14.678684240886792,
          12.294612369854486,
          12.788971700094422,
          11.14667503263713,
          12.374126098327665,
          12.39514608373875,
          12.465462738279491,
          11.30946328244946,
          11.393507197092012,
          12.91419500981934,
          14.090575860534042,
          10.157441400132832,
          11.749583527540068,
          12.769046501758751,
          12.71760560959092,
          10.962264398049273,
          10.092043332507089,
          11.036146517963054,
          13.434501616226976,
          13.48495465687992,
          12.022315946501184,
          15.258512570477931,
          13.616212941993648,
          13.23744843738116,
          14.29033167843382,
          20.11571789508787,
          16.00293860406966,
          17.601515387458434,
          17.286059525952517,
          16.560397676618287,
          15.930331419037012,
          16.65887414650899,
          15.037909591555024,
          14.51292687090369,
          14.751569948381736,
          13.965025654041415,
          12.94006946164454,
          14.256506481337198,
          14.731322955889908,
          13.369972736590148,
          15.651618028823409,
          15.838851614009272,
          15.543795233783296,
          14.249062646593275,
          14.39020609275179,
          15.542720276368032,
          15.629914876880315,
          15.47447936336323,
          15.785936527526534,
          17.065783903529592,
          14.842260934513597,
          15.114574849544502,
          16.70355156812992,
          14.9200942419727,
          14.89423718447446,
          18.14326825036853,
          16.943823563921274,
          15.799905217123412,
          16.201544154658208,
          17.00348284495657,
          17.669206221968114,
          21.985901879853078,
          27.08152026598537,
          27.385631033282,
          23.165894342831766,
          27.059051985579707,
          24.67853431788677,
          25.072323539342328,
          22.83914784682496,
          27.357369472195806,
          25.43039636791765,
          23.571762976151767,
          26.68387381641091,
          23.4016044777806,
          21.49494522791384,
          25.841377732358804,
          23.049539715488308,
          29.988833010191478,
          21.46808383668589,
          21.74251639507873,
          24.34155648235301,
          20.88700416381389
         ]
        },
        {
         "mode": "lines",
         "name": "Predicted_RandomForest",
         "type": "scatter",
         "x": [
          "2022-06-30T00:00:00",
          "2022-07-01T00:00:00",
          "2022-07-02T00:00:00",
          "2022-07-03T00:00:00",
          "2022-07-04T00:00:00",
          "2022-07-05T00:00:00",
          "2022-07-06T00:00:00",
          "2022-07-07T00:00:00",
          "2022-07-08T00:00:00",
          "2022-07-09T00:00:00",
          "2022-07-10T00:00:00",
          "2022-07-11T00:00:00",
          "2022-07-12T00:00:00",
          "2022-07-13T00:00:00",
          "2022-07-14T00:00:00",
          "2022-07-15T00:00:00",
          "2022-07-16T00:00:00",
          "2022-07-17T00:00:00",
          "2022-07-18T00:00:00",
          "2022-07-19T00:00:00",
          "2022-07-20T00:00:00",
          "2022-07-21T00:00:00",
          "2022-07-22T00:00:00",
          "2022-07-23T00:00:00",
          "2022-07-24T00:00:00",
          "2022-07-25T00:00:00",
          "2022-07-26T00:00:00",
          "2022-07-27T00:00:00",
          "2022-07-28T00:00:00",
          "2022-07-29T00:00:00",
          "2022-07-30T00:00:00",
          "2022-07-31T00:00:00",
          "2022-08-01T00:00:00",
          "2022-08-02T00:00:00",
          "2022-08-03T00:00:00",
          "2022-08-04T00:00:00",
          "2022-08-05T00:00:00",
          "2022-08-06T00:00:00",
          "2022-08-07T00:00:00",
          "2022-08-08T00:00:00",
          "2022-08-09T00:00:00",
          "2022-08-10T00:00:00",
          "2022-08-11T00:00:00",
          "2022-08-12T00:00:00",
          "2022-08-13T00:00:00",
          "2022-08-14T00:00:00",
          "2022-08-15T00:00:00",
          "2022-08-16T00:00:00",
          "2022-08-17T00:00:00",
          "2022-08-18T00:00:00",
          "2022-08-19T00:00:00",
          "2022-08-20T00:00:00",
          "2022-08-21T00:00:00",
          "2022-08-22T00:00:00",
          "2022-08-23T00:00:00",
          "2022-08-24T00:00:00",
          "2022-08-25T00:00:00",
          "2022-08-26T00:00:00",
          "2022-08-27T00:00:00",
          "2022-08-28T00:00:00",
          "2022-08-29T00:00:00",
          "2022-08-30T00:00:00",
          "2022-08-31T00:00:00",
          "2022-09-01T00:00:00",
          "2022-09-02T00:00:00",
          "2022-09-03T00:00:00",
          "2022-09-04T00:00:00",
          "2022-09-05T00:00:00",
          "2022-09-06T00:00:00",
          "2022-09-07T00:00:00",
          "2022-09-08T00:00:00",
          "2022-09-09T00:00:00",
          "2022-09-10T00:00:00",
          "2022-09-11T00:00:00",
          "2022-09-12T00:00:00",
          "2022-09-13T00:00:00",
          "2022-09-14T00:00:00",
          "2022-09-15T00:00:00",
          "2022-09-16T00:00:00",
          "2022-09-17T00:00:00",
          "2022-09-18T00:00:00",
          "2022-09-19T00:00:00",
          "2022-09-20T00:00:00",
          "2022-09-21T00:00:00",
          "2022-09-22T00:00:00",
          "2022-09-23T00:00:00",
          "2022-09-24T00:00:00",
          "2022-09-25T00:00:00",
          "2022-09-26T00:00:00",
          "2022-09-27T00:00:00",
          "2022-09-28T00:00:00",
          "2022-09-29T00:00:00",
          "2022-09-30T00:00:00",
          "2022-10-01T00:00:00",
          "2022-10-02T00:00:00",
          "2022-10-03T00:00:00",
          "2022-10-04T00:00:00",
          "2022-10-05T00:00:00",
          "2022-10-06T00:00:00",
          "2022-10-07T00:00:00",
          "2022-10-08T00:00:00",
          "2022-10-09T00:00:00",
          "2022-10-10T00:00:00",
          "2022-10-11T00:00:00",
          "2022-10-12T00:00:00",
          "2022-10-13T00:00:00",
          "2022-10-14T00:00:00",
          "2022-10-15T00:00:00",
          "2022-10-16T00:00:00",
          "2022-10-17T00:00:00",
          "2022-10-18T00:00:00",
          "2022-10-19T00:00:00",
          "2022-10-20T00:00:00",
          "2022-10-21T00:00:00",
          "2022-10-22T00:00:00",
          "2022-10-23T00:00:00",
          "2022-10-24T00:00:00",
          "2022-10-25T00:00:00",
          "2022-10-26T00:00:00",
          "2022-10-27T00:00:00",
          "2022-10-28T00:00:00",
          "2022-10-29T00:00:00",
          "2022-10-30T00:00:00",
          "2022-10-31T00:00:00",
          "2022-11-01T00:00:00",
          "2022-11-02T00:00:00",
          "2022-11-03T00:00:00",
          "2022-11-04T00:00:00",
          "2022-11-05T00:00:00",
          "2022-11-06T00:00:00",
          "2022-11-07T00:00:00",
          "2022-11-08T00:00:00",
          "2022-11-09T00:00:00",
          "2022-11-10T00:00:00",
          "2022-11-11T00:00:00",
          "2022-11-12T00:00:00",
          "2022-11-13T00:00:00",
          "2022-11-14T00:00:00",
          "2022-11-15T00:00:00",
          "2022-11-16T00:00:00",
          "2022-11-17T00:00:00",
          "2022-11-18T00:00:00",
          "2022-11-19T00:00:00",
          "2022-11-20T00:00:00",
          "2022-11-21T00:00:00",
          "2022-11-22T00:00:00",
          "2022-11-23T00:00:00",
          "2022-11-24T00:00:00",
          "2022-11-25T00:00:00",
          "2022-11-26T00:00:00",
          "2022-11-27T00:00:00",
          "2022-11-28T00:00:00",
          "2022-11-29T00:00:00",
          "2022-11-30T00:00:00",
          "2022-12-01T00:00:00",
          "2022-12-02T00:00:00",
          "2022-12-03T00:00:00",
          "2022-12-04T00:00:00",
          "2022-12-05T00:00:00",
          "2022-12-06T00:00:00",
          "2022-12-07T00:00:00",
          "2022-12-08T00:00:00",
          "2022-12-09T00:00:00",
          "2022-12-10T00:00:00",
          "2022-12-11T00:00:00",
          "2022-12-12T00:00:00",
          "2022-12-13T00:00:00",
          "2022-12-14T00:00:00",
          "2022-12-15T00:00:00",
          "2022-12-16T00:00:00",
          "2022-12-17T00:00:00",
          "2022-12-18T00:00:00",
          "2022-12-19T00:00:00",
          "2022-12-20T00:00:00",
          "2022-12-21T00:00:00",
          "2022-12-22T00:00:00",
          "2022-12-23T00:00:00",
          "2022-12-24T00:00:00",
          "2022-12-25T00:00:00",
          "2022-12-26T00:00:00",
          "2022-12-27T00:00:00",
          "2022-12-28T00:00:00",
          "2022-12-29T00:00:00",
          "2022-12-30T00:00:00",
          "2022-12-31T00:00:00",
          "2023-01-01T00:00:00",
          "2023-01-02T00:00:00",
          "2023-01-03T00:00:00",
          "2023-01-04T00:00:00",
          "2023-01-05T00:00:00",
          "2023-01-06T00:00:00",
          "2023-01-07T00:00:00",
          "2023-01-08T00:00:00",
          "2023-01-09T00:00:00",
          "2023-01-10T00:00:00",
          "2023-01-11T00:00:00",
          "2023-01-12T00:00:00",
          "2023-01-13T00:00:00",
          "2023-01-14T00:00:00",
          "2023-01-15T00:00:00",
          "2023-01-16T00:00:00",
          "2023-01-17T00:00:00",
          "2023-01-18T00:00:00",
          "2023-01-19T00:00:00",
          "2023-01-20T00:00:00",
          "2023-01-21T00:00:00",
          "2023-01-22T00:00:00",
          "2023-01-23T00:00:00",
          "2023-01-24T00:00:00",
          "2023-01-25T00:00:00",
          "2023-01-26T00:00:00",
          "2023-01-27T00:00:00",
          "2023-01-28T00:00:00",
          "2023-01-29T00:00:00",
          "2023-01-30T00:00:00",
          "2023-01-31T00:00:00",
          "2023-02-01T00:00:00",
          "2023-02-02T00:00:00",
          "2023-02-03T00:00:00",
          "2023-02-04T00:00:00",
          "2023-02-05T00:00:00",
          "2023-02-06T00:00:00",
          "2023-02-07T00:00:00",
          "2023-02-08T00:00:00",
          "2023-02-09T00:00:00",
          "2023-02-10T00:00:00",
          "2023-02-11T00:00:00",
          "2023-02-12T00:00:00",
          "2023-02-13T00:00:00",
          "2023-02-14T00:00:00",
          "2023-02-15T00:00:00",
          "2023-02-16T00:00:00",
          "2023-02-17T00:00:00",
          "2023-02-18T00:00:00",
          "2023-02-19T00:00:00",
          "2023-02-20T00:00:00",
          "2023-02-21T00:00:00",
          "2023-02-22T00:00:00",
          "2023-02-23T00:00:00",
          "2023-02-24T00:00:00",
          "2023-02-25T00:00:00",
          "2023-02-26T00:00:00",
          "2023-02-27T00:00:00",
          "2023-02-28T00:00:00",
          "2023-03-01T00:00:00",
          "2023-03-02T00:00:00",
          "2023-03-03T00:00:00",
          "2023-03-04T00:00:00",
          "2023-03-05T00:00:00",
          "2023-03-06T00:00:00",
          "2023-03-07T00:00:00",
          "2023-03-08T00:00:00",
          "2023-03-09T00:00:00",
          "2023-03-10T00:00:00",
          "2023-03-11T00:00:00",
          "2023-03-12T00:00:00",
          "2023-03-13T00:00:00",
          "2023-03-14T00:00:00",
          "2023-03-15T00:00:00",
          "2023-03-16T00:00:00",
          "2023-03-17T00:00:00",
          "2023-03-18T00:00:00",
          "2023-03-19T00:00:00",
          "2023-03-20T00:00:00",
          "2023-03-21T00:00:00",
          "2023-03-22T00:00:00",
          "2023-03-23T00:00:00",
          "2023-03-24T00:00:00",
          "2023-03-25T00:00:00",
          "2023-03-26T00:00:00",
          "2023-03-27T00:00:00",
          "2023-03-28T00:00:00",
          "2023-03-29T00:00:00",
          "2023-03-30T00:00:00",
          "2023-03-31T00:00:00",
          "2023-04-01T00:00:00",
          "2023-04-02T00:00:00",
          "2023-04-03T00:00:00",
          "2023-04-04T00:00:00",
          "2023-04-05T00:00:00",
          "2023-04-06T00:00:00",
          "2023-04-07T00:00:00",
          "2023-04-08T00:00:00",
          "2023-04-09T00:00:00",
          "2023-04-10T00:00:00",
          "2023-04-11T00:00:00",
          "2023-04-12T00:00:00",
          "2023-04-13T00:00:00",
          "2023-04-14T00:00:00",
          "2023-04-15T00:00:00",
          "2023-04-16T00:00:00",
          "2023-04-17T00:00:00",
          "2023-04-18T00:00:00",
          "2023-04-19T00:00:00",
          "2023-04-20T00:00:00",
          "2023-04-21T00:00:00",
          "2023-04-22T00:00:00",
          "2023-04-23T00:00:00",
          "2023-04-24T00:00:00",
          "2023-04-25T00:00:00",
          "2023-04-26T00:00:00",
          "2023-04-27T00:00:00",
          "2023-04-28T00:00:00",
          "2023-04-29T00:00:00",
          "2023-04-30T00:00:00",
          "2023-05-01T00:00:00",
          "2023-05-02T00:00:00",
          "2023-05-03T00:00:00",
          "2023-05-04T00:00:00",
          "2023-05-05T00:00:00",
          "2023-05-06T00:00:00",
          "2023-05-07T00:00:00",
          "2023-05-08T00:00:00",
          "2023-05-09T00:00:00",
          "2023-05-10T00:00:00",
          "2023-05-11T00:00:00",
          "2023-05-12T00:00:00",
          "2023-05-13T00:00:00",
          "2023-05-14T00:00:00",
          "2023-05-15T00:00:00",
          "2023-05-16T00:00:00",
          "2023-05-17T00:00:00",
          "2023-05-18T00:00:00",
          "2023-05-19T00:00:00",
          "2023-05-20T00:00:00",
          "2023-05-21T00:00:00",
          "2023-05-22T00:00:00",
          "2023-05-23T00:00:00",
          "2023-05-24T00:00:00",
          "2023-05-25T00:00:00",
          "2023-05-26T00:00:00",
          "2023-05-27T00:00:00",
          "2023-05-28T00:00:00",
          "2023-05-29T00:00:00",
          "2023-05-30T00:00:00",
          "2023-05-31T00:00:00",
          "2023-06-01T00:00:00",
          "2023-06-02T00:00:00",
          "2023-06-03T00:00:00",
          "2023-06-04T00:00:00",
          "2023-06-05T00:00:00",
          "2023-06-06T00:00:00",
          "2023-06-07T00:00:00",
          "2023-06-08T00:00:00",
          "2023-06-09T00:00:00",
          "2023-06-10T00:00:00",
          "2023-06-11T00:00:00",
          "2023-06-12T00:00:00",
          "2023-06-13T00:00:00",
          "2023-06-14T00:00:00",
          "2023-06-15T00:00:00",
          "2023-06-16T00:00:00",
          "2023-06-17T00:00:00",
          "2023-06-18T00:00:00",
          "2023-06-19T00:00:00",
          "2023-06-20T00:00:00",
          "2023-06-21T00:00:00",
          "2023-06-22T00:00:00",
          "2023-06-23T00:00:00",
          "2023-06-24T00:00:00",
          "2023-06-25T00:00:00",
          "2023-06-26T00:00:00",
          "2023-06-27T00:00:00",
          "2023-06-28T00:00:00",
          "2023-06-29T00:00:00",
          "2023-06-30T00:00:00"
         ],
         "y": [
          21.293596620219738,
          20.84799423903676,
          20.973818733723427,
          20.70514835041164,
          20.90041330740623,
          21.463004568042464,
          21.97235549461957,
          20.094944282598348,
          21.41709858784653,
          21.36748600113508,
          21.200695872926204,
          22.01369289812353,
          22.566591294434502,
          23.37506983520533,
          21.71287420033583,
          22.22115939634837,
          21.980806569419663,
          22.656213206393083,
          22.78039148274148,
          29.34912053121015,
          23.106240821813323,
          22.6864713212884,
          21.80157845005737,
          22.83017746733549,
          25.19547735910425,
          22.87703413110405,
          23.851889566680168,
          23.117104429405018,
          21.95226187362711,
          22.245734890968208,
          22.264959836564092,
          22.63659372958273,
          22.273218041153783,
          23.30622089216657,
          22.73424897070416,
          20.668562181626186,
          21.99682083794402,
          22.32739456358077,
          22.427569140924653,
          21.88938064336853,
          22.386603847549186,
          22.203904354738675,
          23.777399317372183,
          23.500248801475504,
          25.4812871100888,
          24.03444056722065,
          21.689651627378105,
          22.108174135722837,
          21.650516160013748,
          22.58469477458189,
          22.165353615432185,
          22.1508632975006,
          22.348752226565978,
          21.118004292016863,
          23.64064597032221,
          23.78054358349241,
          22.663765524262526,
          21.42014900025208,
          19.95254899670249,
          20.64315042355907,
          21.81645471089883,
          21.645470626745205,
          21.293735196685503,
          22.383088274908246,
          21.51849684213872,
          22.2631565996956,
          20.44803436478252,
          20.96191909489753,
          21.93887163261148,
          22.256379533197283,
          21.979252249824523,
          25.443030334386712,
          21.94393707872283,
          21.199621679099945,
          20.364275043930583,
          19.984868683246983,
          19.541638118203025,
          19.732551479902117,
          18.46861054993466,
          18.42529540807176,
          19.287559879489624,
          19.82069237387991,
          19.89762928806724,
          17.776662181241942,
          17.99293186454311,
          17.113009511412113,
          17.073842851112605,
          16.57337048353013,
          15.966843532458922,
          16.58205157424161,
          16.31111526852444,
          17.028772243223884,
          17.86326905355559,
          16.686925296104306,
          16.701979424060546,
          16.79463735548206,
          15.91647270569968,
          15.418309097723563,
          14.282249988725122,
          15.35677745507136,
          15.172029135281162,
          16.282814641360197,
          16.274383059155866,
          16.602883788951825,
          15.57307026791993,
          16.13907844520992,
          17.181523070844104,
          15.644517364647715,
          16.20280086594533,
          16.193910186861956,
          14.723947213155247,
          14.809076706169686,
          16.785327017372346,
          14.406533738677906,
          14.742436500335478,
          16.56094020614478,
          15.13328528673636,
          15.97443979149562,
          15.017544364168218,
          16.96854964005682,
          17.96186289026559,
          17.734613668829535,
          16.880375911548242,
          15.808436298743349,
          14.951580801335249,
          16.98480638336928,
          16.28116592809826,
          16.840417223496917,
          16.49578444937628,
          14.518415234135936,
          15.568204003897794,
          15.656614699550282,
          15.013470664324034,
          13.364385082837376,
          13.03951149536403,
          12.057613918642838,
          11.80923807644722,
          12.604405773616527,
          13.414561865538989,
          12.922714051102163,
          12.630472411325067,
          12.090647338148765,
          11.822614635355674,
          11.7651982983067,
          10.763905722138322,
          11.316182675306395,
          10.575297162586187,
          11.471581622847602,
          10.866124231485763,
          9.96312460588669,
          9.80852659934153,
          9.42274908886357,
          9.350313204411004,
          10.31147820300828,
          10.144713670160364,
          9.16770604691594,
          8.725722626003542,
          8.537223515454787,
          8.849269398840528,
          8.319339452533134,
          8.488256572057761,
          8.32946770487242,
          7.381893652073336,
          6.941641793229054,
          6.79134132925015,
          6.110882119729014,
          7.338479106645753,
          8.204427548936616,
          8.065642532451681,
          7.256189202466283,
          6.544527130286421,
          7.342619471127131,
          7.253704290341156,
          8.469018819618663,
          8.480150984816904,
          7.813752758285369,
          9.22573605339758,
          9.740461750467777,
          9.136993920928608,
          7.888653161021629,
          8.54214204041469,
          8.850679774445565,
          9.411274570066412,
          9.486136778276885,
          9.030529697942791,
          9.064194453420209,
          8.065947270730248,
          8.509167459586912,
          7.778000942493454,
          7.912805551908455,
          9.5884670076105,
          9.31077403340434,
          8.890473669647278,
          8.364123004639302,
          8.412683385585773,
          8.993678899259955,
          9.355446702044006,
          7.907810235520848,
          8.100179425703951,
          7.875039988818542,
          7.807945893452366,
          8.802301290756432,
          8.478451713303475,
          7.548164819916028,
          7.453524819593712,
          7.840831875024458,
          6.72298769258939,
          7.80518184402739,
          7.307386974483623,
          8.049292671186763,
          7.432925547494252,
          7.193272755535955,
          6.952193633737178,
          8.431012668556964,
          8.440738867275773,
          8.104614432171585,
          7.83293738997811,
          7.762261700881334,
          8.57442230644092,
          7.862663982140848,
          8.251473671027204,
          8.189654093592347,
          7.679695314033454,
          7.843871598740543,
          7.62503578499484,
          8.233959442975593,
          8.293402211277622,
          8.141008527494012,
          7.977707896957859,
          6.816357747253322,
          7.909021547790456,
          8.769215860659187,
          9.3606104555012,
          8.98715404560614,
          9.845326960053734,
          9.924258087182952,
          9.943327104851804,
          9.979828199584114,
          8.40509234392789,
          9.517243385119086,
          10.230322155638596,
          8.757139310051276,
          9.051802068424676,
          7.461583651076988,
          8.982232977591368,
          8.815190640201902,
          8.813193001888816,
          8.633031468388479,
          7.11588853566393,
          8.17718187995523,
          8.188905207044296,
          9.120070530782964,
          10.03837543567766,
          9.710472141865086,
          9.875101239219363,
          12.088171469612124,
          10.520217172364948,
          10.91756923478767,
          10.02805019456212,
          12.949227586697017,
          12.517516453244182,
          11.51265426516548,
          11.26816909067707,
          11.506577566277862,
          10.711392121065709,
          10.690641906598763,
          12.285542299799312,
          12.125183849768304,
          12.585931458205764,
          10.692579122900964,
          11.339623362056464,
          11.494021269699,
          13.222214094581462,
          12.350970964386802,
          13.233753225159528,
          12.394539677950622,
          10.741993492751764,
          11.510448037769825,
          11.128767535654248,
          12.256410461979932,
          12.78166006688632,
          10.397879307509882,
          11.968146445175815,
          11.778173570225317,
          11.7931016053214,
          11.263145674785758,
          9.20251292000928,
          11.025117716963424,
          10.663166007728917,
          12.127935635996009,
          12.50601568968847,
          11.49710755395361,
          13.029803095315716,
          10.632242194426764,
          11.925813110757948,
          12.60661472567574,
          13.483628384178378,
          12.91595328829491,
          12.329253830180408,
          12.567247723166975,
          12.54895675439056,
          12.141086368768024,
          12.783440943800889,
          12.287489232892344,
          14.651229629284732,
          13.227384431531403,
          13.66934635325918,
          14.001064813776631,
          15.168628164412375,
          15.524328364204656,
          13.589941683144112,
          14.036091516530044,
          15.577543688051724,
          14.786496804397316,
          15.675497296196044,
          14.846614727461736,
          15.719937256943242,
          16.53325632280948,
          16.349338853895297,
          15.750605014927698,
          17.98092330523912,
          16.582963012580333,
          16.857015560669904,
          16.03411645884365,
          15.430770163460403,
          16.112259342172923,
          16.641279724807426,
          16.366369932666885,
          16.487210957785727,
          16.67871503879775,
          15.816009618097503,
          16.848945339771973,
          16.420433974767537,
          16.564094932225586,
          15.784934227605738,
          16.77578008609193,
          16.97198917857764,
          17.37057034773933,
          17.53135017748532,
          17.5529734222195,
          16.73776783364314,
          16.77979901491636,
          16.439309745150474,
          15.898315407399322,
          17.601570792304003,
          17.534802426202017,
          17.6702502746739,
          19.33230436572917,
          21.130594003990364,
          19.170043282153376,
          19.429782578362577,
          19.852315209026347,
          23.90946291839946,
          23.22121648009613,
          20.610091709123456,
          23.952148074590603,
          21.862601527442685,
          21.449243746137626,
          22.41030224186321,
          22.342958822815604,
          21.27025067885199,
          20.540650740464503,
          21.84906404328428,
          21.691065843924303,
          20.752515501403938,
          21.70330837593988
         ]
        }
       ],
       "layout": {
        "template": {
         "data": {
          "bar": [
           {
            "error_x": {
             "color": "#2a3f5f"
            },
            "error_y": {
             "color": "#2a3f5f"
            },
            "marker": {
             "line": {
              "color": "#E5ECF6",
              "width": 0.5
             },
             "pattern": {
              "fillmode": "overlay",
              "size": 10,
              "solidity": 0.2
             }
            },
            "type": "bar"
           }
          ],
          "barpolar": [
           {
            "marker": {
             "line": {
              "color": "#E5ECF6",
              "width": 0.5
             },
             "pattern": {
              "fillmode": "overlay",
              "size": 10,
              "solidity": 0.2
             }
            },
            "type": "barpolar"
           }
          ],
          "carpet": [
           {
            "aaxis": {
             "endlinecolor": "#2a3f5f",
             "gridcolor": "white",
             "linecolor": "white",
             "minorgridcolor": "white",
             "startlinecolor": "#2a3f5f"
            },
            "baxis": {
             "endlinecolor": "#2a3f5f",
             "gridcolor": "white",
             "linecolor": "white",
             "minorgridcolor": "white",
             "startlinecolor": "#2a3f5f"
            },
            "type": "carpet"
           }
          ],
          "choropleth": [
           {
            "colorbar": {
             "outlinewidth": 0,
             "ticks": ""
            },
            "type": "choropleth"
           }
          ],
          "contour": [
           {
            "colorbar": {
             "outlinewidth": 0,
             "ticks": ""
            },
            "colorscale": [
             [
              0,
              "#0d0887"
             ],
             [
              0.1111111111111111,
              "#46039f"
             ],
             [
              0.2222222222222222,
              "#7201a8"
             ],
             [
              0.3333333333333333,
              "#9c179e"
             ],
             [
              0.4444444444444444,
              "#bd3786"
             ],
             [
              0.5555555555555556,
              "#d8576b"
             ],
             [
              0.6666666666666666,
              "#ed7953"
             ],
             [
              0.7777777777777778,
              "#fb9f3a"
             ],
             [
              0.8888888888888888,
              "#fdca26"
             ],
             [
              1,
              "#f0f921"
             ]
            ],
            "type": "contour"
           }
          ],
          "contourcarpet": [
           {
            "colorbar": {
             "outlinewidth": 0,
             "ticks": ""
            },
            "type": "contourcarpet"
           }
          ],
          "heatmap": [
           {
            "colorbar": {
             "outlinewidth": 0,
             "ticks": ""
            },
            "colorscale": [
             [
              0,
              "#0d0887"
             ],
             [
              0.1111111111111111,
              "#46039f"
             ],
             [
              0.2222222222222222,
              "#7201a8"
             ],
             [
              0.3333333333333333,
              "#9c179e"
             ],
             [
              0.4444444444444444,
              "#bd3786"
             ],
             [
              0.5555555555555556,
              "#d8576b"
             ],
             [
              0.6666666666666666,
              "#ed7953"
             ],
             [
              0.7777777777777778,
              "#fb9f3a"
             ],
             [
              0.8888888888888888,
              "#fdca26"
             ],
             [
              1,
              "#f0f921"
             ]
            ],
            "type": "heatmap"
           }
          ],
          "heatmapgl": [
           {
            "colorbar": {
             "outlinewidth": 0,
             "ticks": ""
            },
            "colorscale": [
             [
              0,
              "#0d0887"
             ],
             [
              0.1111111111111111,
              "#46039f"
             ],
             [
              0.2222222222222222,
              "#7201a8"
             ],
             [
              0.3333333333333333,
              "#9c179e"
             ],
             [
              0.4444444444444444,
              "#bd3786"
             ],
             [
              0.5555555555555556,
              "#d8576b"
             ],
             [
              0.6666666666666666,
              "#ed7953"
             ],
             [
              0.7777777777777778,
              "#fb9f3a"
             ],
             [
              0.8888888888888888,
              "#fdca26"
             ],
             [
              1,
              "#f0f921"
             ]
            ],
            "type": "heatmapgl"
           }
          ],
          "histogram": [
           {
            "marker": {
             "pattern": {
              "fillmode": "overlay",
              "size": 10,
              "solidity": 0.2
             }
            },
            "type": "histogram"
           }
          ],
          "histogram2d": [
           {
            "colorbar": {
             "outlinewidth": 0,
             "ticks": ""
            },
            "colorscale": [
             [
              0,
              "#0d0887"
             ],
             [
              0.1111111111111111,
              "#46039f"
             ],
             [
              0.2222222222222222,
              "#7201a8"
             ],
             [
              0.3333333333333333,
              "#9c179e"
             ],
             [
              0.4444444444444444,
              "#bd3786"
             ],
             [
              0.5555555555555556,
              "#d8576b"
             ],
             [
              0.6666666666666666,
              "#ed7953"
             ],
             [
              0.7777777777777778,
              "#fb9f3a"
             ],
             [
              0.8888888888888888,
              "#fdca26"
             ],
             [
              1,
              "#f0f921"
             ]
            ],
            "type": "histogram2d"
           }
          ],
          "histogram2dcontour": [
           {
            "colorbar": {
             "outlinewidth": 0,
             "ticks": ""
            },
            "colorscale": [
             [
              0,
              "#0d0887"
             ],
             [
              0.1111111111111111,
              "#46039f"
             ],
             [
              0.2222222222222222,
              "#7201a8"
             ],
             [
              0.3333333333333333,
              "#9c179e"
             ],
             [
              0.4444444444444444,
              "#bd3786"
             ],
             [
              0.5555555555555556,
              "#d8576b"
             ],
             [
              0.6666666666666666,
              "#ed7953"
             ],
             [
              0.7777777777777778,
              "#fb9f3a"
             ],
             [
              0.8888888888888888,
              "#fdca26"
             ],
             [
              1,
              "#f0f921"
             ]
            ],
            "type": "histogram2dcontour"
           }
          ],
          "mesh3d": [
           {
            "colorbar": {
             "outlinewidth": 0,
             "ticks": ""
            },
            "type": "mesh3d"
           }
          ],
          "parcoords": [
           {
            "line": {
             "colorbar": {
              "outlinewidth": 0,
              "ticks": ""
             }
            },
            "type": "parcoords"
           }
          ],
          "pie": [
           {
            "automargin": true,
            "type": "pie"
           }
          ],
          "scatter": [
           {
            "fillpattern": {
             "fillmode": "overlay",
             "size": 10,
             "solidity": 0.2
            },
            "type": "scatter"
           }
          ],
          "scatter3d": [
           {
            "line": {
             "colorbar": {
              "outlinewidth": 0,
              "ticks": ""
             }
            },
            "marker": {
             "colorbar": {
              "outlinewidth": 0,
              "ticks": ""
             }
            },
            "type": "scatter3d"
           }
          ],
          "scattercarpet": [
           {
            "marker": {
             "colorbar": {
              "outlinewidth": 0,
              "ticks": ""
             }
            },
            "type": "scattercarpet"
           }
          ],
          "scattergeo": [
           {
            "marker": {
             "colorbar": {
              "outlinewidth": 0,
              "ticks": ""
             }
            },
            "type": "scattergeo"
           }
          ],
          "scattergl": [
           {
            "marker": {
             "colorbar": {
              "outlinewidth": 0,
              "ticks": ""
             }
            },
            "type": "scattergl"
           }
          ],
          "scattermapbox": [
           {
            "marker": {
             "colorbar": {
              "outlinewidth": 0,
              "ticks": ""
             }
            },
            "type": "scattermapbox"
           }
          ],
          "scatterpolar": [
           {
            "marker": {
             "colorbar": {
              "outlinewidth": 0,
              "ticks": ""
             }
            },
            "type": "scatterpolar"
           }
          ],
          "scatterpolargl": [
           {
            "marker": {
             "colorbar": {
              "outlinewidth": 0,
              "ticks": ""
             }
            },
            "type": "scatterpolargl"
           }
          ],
          "scatterternary": [
           {
            "marker": {
             "colorbar": {
              "outlinewidth": 0,
              "ticks": ""
             }
            },
            "type": "scatterternary"
           }
          ],
          "surface": [
           {
            "colorbar": {
             "outlinewidth": 0,
             "ticks": ""
            },
            "colorscale": [
             [
              0,
              "#0d0887"
             ],
             [
              0.1111111111111111,
              "#46039f"
             ],
             [
              0.2222222222222222,
              "#7201a8"
             ],
             [
              0.3333333333333333,
              "#9c179e"
             ],
             [
              0.4444444444444444,
              "#bd3786"
             ],
             [
              0.5555555555555556,
              "#d8576b"
             ],
             [
              0.6666666666666666,
              "#ed7953"
             ],
             [
              0.7777777777777778,
              "#fb9f3a"
             ],
             [
              0.8888888888888888,
              "#fdca26"
             ],
             [
              1,
              "#f0f921"
             ]
            ],
            "type": "surface"
           }
          ],
          "table": [
           {
            "cells": {
             "fill": {
              "color": "#EBF0F8"
             },
             "line": {
              "color": "white"
             }
            },
            "header": {
             "fill": {
              "color": "#C8D4E3"
             },
             "line": {
              "color": "white"
             }
            },
            "type": "table"
           }
          ]
         },
         "layout": {
          "annotationdefaults": {
           "arrowcolor": "#2a3f5f",
           "arrowhead": 0,
           "arrowwidth": 1
          },
          "autotypenumbers": "strict",
          "coloraxis": {
           "colorbar": {
            "outlinewidth": 0,
            "ticks": ""
           }
          },
          "colorscale": {
           "diverging": [
            [
             0,
             "#8e0152"
            ],
            [
             0.1,
             "#c51b7d"
            ],
            [
             0.2,
             "#de77ae"
            ],
            [
             0.3,
             "#f1b6da"
            ],
            [
             0.4,
             "#fde0ef"
            ],
            [
             0.5,
             "#f7f7f7"
            ],
            [
             0.6,
             "#e6f5d0"
            ],
            [
             0.7,
             "#b8e186"
            ],
            [
             0.8,
             "#7fbc41"
            ],
            [
             0.9,
             "#4d9221"
            ],
            [
             1,
             "#276419"
            ]
           ],
           "sequential": [
            [
             0,
             "#0d0887"
            ],
            [
             0.1111111111111111,
             "#46039f"
            ],
            [
             0.2222222222222222,
             "#7201a8"
            ],
            [
             0.3333333333333333,
             "#9c179e"
            ],
            [
             0.4444444444444444,
             "#bd3786"
            ],
            [
             0.5555555555555556,
             "#d8576b"
            ],
            [
             0.6666666666666666,
             "#ed7953"
            ],
            [
             0.7777777777777778,
             "#fb9f3a"
            ],
            [
             0.8888888888888888,
             "#fdca26"
            ],
            [
             1,
             "#f0f921"
            ]
           ],
           "sequentialminus": [
            [
             0,
             "#0d0887"
            ],
            [
             0.1111111111111111,
             "#46039f"
            ],
            [
             0.2222222222222222,
             "#7201a8"
            ],
            [
             0.3333333333333333,
             "#9c179e"
            ],
            [
             0.4444444444444444,
             "#bd3786"
            ],
            [
             0.5555555555555556,
             "#d8576b"
            ],
            [
             0.6666666666666666,
             "#ed7953"
            ],
            [
             0.7777777777777778,
             "#fb9f3a"
            ],
            [
             0.8888888888888888,
             "#fdca26"
            ],
            [
             1,
             "#f0f921"
            ]
           ]
          },
          "colorway": [
           "#636efa",
           "#EF553B",
           "#00cc96",
           "#ab63fa",
           "#FFA15A",
           "#19d3f3",
           "#FF6692",
           "#B6E880",
           "#FF97FF",
           "#FECB52"
          ],
          "font": {
           "color": "#2a3f5f"
          },
          "geo": {
           "bgcolor": "white",
           "lakecolor": "white",
           "landcolor": "#E5ECF6",
           "showlakes": true,
           "showland": true,
           "subunitcolor": "white"
          },
          "hoverlabel": {
           "align": "left"
          },
          "hovermode": "closest",
          "mapbox": {
           "style": "light"
          },
          "paper_bgcolor": "white",
          "plot_bgcolor": "#E5ECF6",
          "polar": {
           "angularaxis": {
            "gridcolor": "white",
            "linecolor": "white",
            "ticks": ""
           },
           "bgcolor": "#E5ECF6",
           "radialaxis": {
            "gridcolor": "white",
            "linecolor": "white",
            "ticks": ""
           }
          },
          "scene": {
           "xaxis": {
            "backgroundcolor": "#E5ECF6",
            "gridcolor": "white",
            "gridwidth": 2,
            "linecolor": "white",
            "showbackground": true,
            "ticks": "",
            "zerolinecolor": "white"
           },
           "yaxis": {
            "backgroundcolor": "#E5ECF6",
            "gridcolor": "white",
            "gridwidth": 2,
            "linecolor": "white",
            "showbackground": true,
            "ticks": "",
            "zerolinecolor": "white"
           },
           "zaxis": {
            "backgroundcolor": "#E5ECF6",
            "gridcolor": "white",
            "gridwidth": 2,
            "linecolor": "white",
            "showbackground": true,
            "ticks": "",
            "zerolinecolor": "white"
           }
          },
          "shapedefaults": {
           "line": {
            "color": "#2a3f5f"
           }
          },
          "ternary": {
           "aaxis": {
            "gridcolor": "white",
            "linecolor": "white",
            "ticks": ""
           },
           "baxis": {
            "gridcolor": "white",
            "linecolor": "white",
            "ticks": ""
           },
           "bgcolor": "#E5ECF6",
           "caxis": {
            "gridcolor": "white",
            "linecolor": "white",
            "ticks": ""
           }
          },
          "title": {
           "x": 0.05
          },
          "xaxis": {
           "automargin": true,
           "gridcolor": "white",
           "linecolor": "white",
           "ticks": "",
           "title": {
            "standoff": 15
           },
           "zerolinecolor": "white",
           "zerolinewidth": 2
          },
          "yaxis": {
           "automargin": true,
           "gridcolor": "white",
           "linecolor": "white",
           "ticks": "",
           "title": {
            "standoff": 15
           },
           "zerolinecolor": "white",
           "zerolinewidth": 2
          }
         }
        }
       }
      },
      "text/html": [
       "<div>                            <div id=\"5b55db2b-d9fa-4c4c-b03d-e5541ab7464b\" class=\"plotly-graph-div\" style=\"height:525px; width:100%;\"></div>            <script type=\"text/javascript\">                require([\"plotly\"], function(Plotly) {                    window.PLOTLYENV=window.PLOTLYENV || {};                                    if (document.getElementById(\"5b55db2b-d9fa-4c4c-b03d-e5541ab7464b\")) {                    Plotly.newPlot(                        \"5b55db2b-d9fa-4c4c-b03d-e5541ab7464b\",                        [{\"mode\":\"lines\",\"name\":\"True value\",\"x\":[\"2022-06-30T00:00:00\",\"2022-07-01T00:00:00\",\"2022-07-02T00:00:00\",\"2022-07-03T00:00:00\",\"2022-07-04T00:00:00\",\"2022-07-05T00:00:00\",\"2022-07-06T00:00:00\",\"2022-07-07T00:00:00\",\"2022-07-08T00:00:00\",\"2022-07-09T00:00:00\",\"2022-07-10T00:00:00\",\"2022-07-11T00:00:00\",\"2022-07-12T00:00:00\",\"2022-07-13T00:00:00\",\"2022-07-14T00:00:00\",\"2022-07-15T00:00:00\",\"2022-07-16T00:00:00\",\"2022-07-17T00:00:00\",\"2022-07-18T00:00:00\",\"2022-07-19T00:00:00\",\"2022-07-20T00:00:00\",\"2022-07-21T00:00:00\",\"2022-07-22T00:00:00\",\"2022-07-23T00:00:00\",\"2022-07-24T00:00:00\",\"2022-07-25T00:00:00\",\"2022-07-26T00:00:00\",\"2022-07-27T00:00:00\",\"2022-07-28T00:00:00\",\"2022-07-29T00:00:00\",\"2022-07-30T00:00:00\",\"2022-07-31T00:00:00\",\"2022-08-01T00:00:00\",\"2022-08-02T00:00:00\",\"2022-08-03T00:00:00\",\"2022-08-04T00:00:00\",\"2022-08-05T00:00:00\",\"2022-08-06T00:00:00\",\"2022-08-07T00:00:00\",\"2022-08-08T00:00:00\",\"2022-08-09T00:00:00\",\"2022-08-10T00:00:00\",\"2022-08-11T00:00:00\",\"2022-08-12T00:00:00\",\"2022-08-13T00:00:00\",\"2022-08-14T00:00:00\",\"2022-08-15T00:00:00\",\"2022-08-16T00:00:00\",\"2022-08-17T00:00:00\",\"2022-08-18T00:00:00\",\"2022-08-19T00:00:00\",\"2022-08-20T00:00:00\",\"2022-08-21T00:00:00\",\"2022-08-22T00:00:00\",\"2022-08-23T00:00:00\",\"2022-08-24T00:00:00\",\"2022-08-25T00:00:00\",\"2022-08-26T00:00:00\",\"2022-08-27T00:00:00\",\"2022-08-28T00:00:00\",\"2022-08-29T00:00:00\",\"2022-08-30T00:00:00\",\"2022-08-31T00:00:00\",\"2022-09-01T00:00:00\",\"2022-09-02T00:00:00\",\"2022-09-03T00:00:00\",\"2022-09-04T00:00:00\",\"2022-09-05T00:00:00\",\"2022-09-06T00:00:00\",\"2022-09-07T00:00:00\",\"2022-09-08T00:00:00\",\"2022-09-09T00:00:00\",\"2022-09-10T00:00:00\",\"2022-09-11T00:00:00\",\"2022-09-12T00:00:00\",\"2022-09-13T00:00:00\",\"2022-09-14T00:00:00\",\"2022-09-15T00:00:00\",\"2022-09-16T00:00:00\",\"2022-09-17T00:00:00\",\"2022-09-18T00:00:00\",\"2022-09-19T00:00:00\",\"2022-09-20T00:00:00\",\"2022-09-21T00:00:00\",\"2022-09-22T00:00:00\",\"2022-09-23T00:00:00\",\"2022-09-24T00:00:00\",\"2022-09-25T00:00:00\",\"2022-09-26T00:00:00\",\"2022-09-27T00:00:00\",\"2022-09-28T00:00:00\",\"2022-09-29T00:00:00\",\"2022-09-30T00:00:00\",\"2022-10-01T00:00:00\",\"2022-10-02T00:00:00\",\"2022-10-03T00:00:00\",\"2022-10-04T00:00:00\",\"2022-10-05T00:00:00\",\"2022-10-06T00:00:00\",\"2022-10-07T00:00:00\",\"2022-10-08T00:00:00\",\"2022-10-09T00:00:00\",\"2022-10-10T00:00:00\",\"2022-10-11T00:00:00\",\"2022-10-12T00:00:00\",\"2022-10-13T00:00:00\",\"2022-10-14T00:00:00\",\"2022-10-15T00:00:00\",\"2022-10-16T00:00:00\",\"2022-10-17T00:00:00\",\"2022-10-18T00:00:00\",\"2022-10-19T00:00:00\",\"2022-10-20T00:00:00\",\"2022-10-21T00:00:00\",\"2022-10-22T00:00:00\",\"2022-10-23T00:00:00\",\"2022-10-24T00:00:00\",\"2022-10-25T00:00:00\",\"2022-10-26T00:00:00\",\"2022-10-27T00:00:00\",\"2022-10-28T00:00:00\",\"2022-10-29T00:00:00\",\"2022-10-30T00:00:00\",\"2022-10-31T00:00:00\",\"2022-11-01T00:00:00\",\"2022-11-02T00:00:00\",\"2022-11-03T00:00:00\",\"2022-11-04T00:00:00\",\"2022-11-05T00:00:00\",\"2022-11-06T00:00:00\",\"2022-11-07T00:00:00\",\"2022-11-08T00:00:00\",\"2022-11-09T00:00:00\",\"2022-11-10T00:00:00\",\"2022-11-11T00:00:00\",\"2022-11-12T00:00:00\",\"2022-11-13T00:00:00\",\"2022-11-14T00:00:00\",\"2022-11-15T00:00:00\",\"2022-11-16T00:00:00\",\"2022-11-17T00:00:00\",\"2022-11-18T00:00:00\",\"2022-11-19T00:00:00\",\"2022-11-20T00:00:00\",\"2022-11-21T00:00:00\",\"2022-11-22T00:00:00\",\"2022-11-23T00:00:00\",\"2022-11-24T00:00:00\",\"2022-11-25T00:00:00\",\"2022-11-26T00:00:00\",\"2022-11-27T00:00:00\",\"2022-11-28T00:00:00\",\"2022-11-29T00:00:00\",\"2022-11-30T00:00:00\",\"2022-12-01T00:00:00\",\"2022-12-02T00:00:00\",\"2022-12-03T00:00:00\",\"2022-12-04T00:00:00\",\"2022-12-05T00:00:00\",\"2022-12-06T00:00:00\",\"2022-12-07T00:00:00\",\"2022-12-08T00:00:00\",\"2022-12-09T00:00:00\",\"2022-12-10T00:00:00\",\"2022-12-11T00:00:00\",\"2022-12-12T00:00:00\",\"2022-12-13T00:00:00\",\"2022-12-14T00:00:00\",\"2022-12-15T00:00:00\",\"2022-12-16T00:00:00\",\"2022-12-17T00:00:00\",\"2022-12-18T00:00:00\",\"2022-12-19T00:00:00\",\"2022-12-20T00:00:00\",\"2022-12-21T00:00:00\",\"2022-12-22T00:00:00\",\"2022-12-23T00:00:00\",\"2022-12-24T00:00:00\",\"2022-12-25T00:00:00\",\"2022-12-26T00:00:00\",\"2022-12-27T00:00:00\",\"2022-12-28T00:00:00\",\"2022-12-29T00:00:00\",\"2022-12-30T00:00:00\",\"2022-12-31T00:00:00\",\"2023-01-01T00:00:00\",\"2023-01-02T00:00:00\",\"2023-01-03T00:00:00\",\"2023-01-04T00:00:00\",\"2023-01-05T00:00:00\",\"2023-01-06T00:00:00\",\"2023-01-07T00:00:00\",\"2023-01-08T00:00:00\",\"2023-01-09T00:00:00\",\"2023-01-10T00:00:00\",\"2023-01-11T00:00:00\",\"2023-01-12T00:00:00\",\"2023-01-13T00:00:00\",\"2023-01-14T00:00:00\",\"2023-01-15T00:00:00\",\"2023-01-16T00:00:00\",\"2023-01-17T00:00:00\",\"2023-01-18T00:00:00\",\"2023-01-19T00:00:00\",\"2023-01-20T00:00:00\",\"2023-01-21T00:00:00\",\"2023-01-22T00:00:00\",\"2023-01-23T00:00:00\",\"2023-01-24T00:00:00\",\"2023-01-25T00:00:00\",\"2023-01-26T00:00:00\",\"2023-01-27T00:00:00\",\"2023-01-28T00:00:00\",\"2023-01-29T00:00:00\",\"2023-01-30T00:00:00\",\"2023-01-31T00:00:00\",\"2023-02-01T00:00:00\",\"2023-02-02T00:00:00\",\"2023-02-03T00:00:00\",\"2023-02-04T00:00:00\",\"2023-02-05T00:00:00\",\"2023-02-06T00:00:00\",\"2023-02-07T00:00:00\",\"2023-02-08T00:00:00\",\"2023-02-09T00:00:00\",\"2023-02-10T00:00:00\",\"2023-02-11T00:00:00\",\"2023-02-12T00:00:00\",\"2023-02-13T00:00:00\",\"2023-02-14T00:00:00\",\"2023-02-15T00:00:00\",\"2023-02-16T00:00:00\",\"2023-02-17T00:00:00\",\"2023-02-18T00:00:00\",\"2023-02-19T00:00:00\",\"2023-02-20T00:00:00\",\"2023-02-21T00:00:00\",\"2023-02-22T00:00:00\",\"2023-02-23T00:00:00\",\"2023-02-24T00:00:00\",\"2023-02-25T00:00:00\",\"2023-02-26T00:00:00\",\"2023-02-27T00:00:00\",\"2023-02-28T00:00:00\",\"2023-03-01T00:00:00\",\"2023-03-02T00:00:00\",\"2023-03-03T00:00:00\",\"2023-03-04T00:00:00\",\"2023-03-05T00:00:00\",\"2023-03-06T00:00:00\",\"2023-03-07T00:00:00\",\"2023-03-08T00:00:00\",\"2023-03-09T00:00:00\",\"2023-03-10T00:00:00\",\"2023-03-11T00:00:00\",\"2023-03-12T00:00:00\",\"2023-03-13T00:00:00\",\"2023-03-14T00:00:00\",\"2023-03-15T00:00:00\",\"2023-03-16T00:00:00\",\"2023-03-17T00:00:00\",\"2023-03-18T00:00:00\",\"2023-03-19T00:00:00\",\"2023-03-20T00:00:00\",\"2023-03-21T00:00:00\",\"2023-03-22T00:00:00\",\"2023-03-23T00:00:00\",\"2023-03-24T00:00:00\",\"2023-03-25T00:00:00\",\"2023-03-26T00:00:00\",\"2023-03-27T00:00:00\",\"2023-03-28T00:00:00\",\"2023-03-29T00:00:00\",\"2023-03-30T00:00:00\",\"2023-03-31T00:00:00\",\"2023-04-01T00:00:00\",\"2023-04-02T00:00:00\",\"2023-04-03T00:00:00\",\"2023-04-04T00:00:00\",\"2023-04-05T00:00:00\",\"2023-04-06T00:00:00\",\"2023-04-07T00:00:00\",\"2023-04-08T00:00:00\",\"2023-04-09T00:00:00\",\"2023-04-10T00:00:00\",\"2023-04-11T00:00:00\",\"2023-04-12T00:00:00\",\"2023-04-13T00:00:00\",\"2023-04-14T00:00:00\",\"2023-04-15T00:00:00\",\"2023-04-16T00:00:00\",\"2023-04-17T00:00:00\",\"2023-04-18T00:00:00\",\"2023-04-19T00:00:00\",\"2023-04-20T00:00:00\",\"2023-04-21T00:00:00\",\"2023-04-22T00:00:00\",\"2023-04-23T00:00:00\",\"2023-04-24T00:00:00\",\"2023-04-25T00:00:00\",\"2023-04-26T00:00:00\",\"2023-04-27T00:00:00\",\"2023-04-28T00:00:00\",\"2023-04-29T00:00:00\",\"2023-04-30T00:00:00\",\"2023-05-01T00:00:00\",\"2023-05-02T00:00:00\",\"2023-05-03T00:00:00\",\"2023-05-04T00:00:00\",\"2023-05-05T00:00:00\",\"2023-05-06T00:00:00\",\"2023-05-07T00:00:00\",\"2023-05-08T00:00:00\",\"2023-05-09T00:00:00\",\"2023-05-10T00:00:00\",\"2023-05-11T00:00:00\",\"2023-05-12T00:00:00\",\"2023-05-13T00:00:00\",\"2023-05-14T00:00:00\",\"2023-05-15T00:00:00\",\"2023-05-16T00:00:00\",\"2023-05-17T00:00:00\",\"2023-05-18T00:00:00\",\"2023-05-19T00:00:00\",\"2023-05-20T00:00:00\",\"2023-05-21T00:00:00\",\"2023-05-22T00:00:00\",\"2023-05-23T00:00:00\",\"2023-05-24T00:00:00\",\"2023-05-25T00:00:00\",\"2023-05-26T00:00:00\",\"2023-05-27T00:00:00\",\"2023-05-28T00:00:00\",\"2023-05-29T00:00:00\",\"2023-05-30T00:00:00\",\"2023-05-31T00:00:00\",\"2023-06-01T00:00:00\",\"2023-06-02T00:00:00\",\"2023-06-03T00:00:00\",\"2023-06-04T00:00:00\",\"2023-06-05T00:00:00\",\"2023-06-06T00:00:00\",\"2023-06-07T00:00:00\",\"2023-06-08T00:00:00\",\"2023-06-09T00:00:00\",\"2023-06-10T00:00:00\",\"2023-06-11T00:00:00\",\"2023-06-12T00:00:00\",\"2023-06-13T00:00:00\",\"2023-06-14T00:00:00\",\"2023-06-15T00:00:00\",\"2023-06-16T00:00:00\",\"2023-06-17T00:00:00\",\"2023-06-18T00:00:00\",\"2023-06-19T00:00:00\",\"2023-06-20T00:00:00\",\"2023-06-21T00:00:00\",\"2023-06-22T00:00:00\",\"2023-06-23T00:00:00\",\"2023-06-24T00:00:00\",\"2023-06-25T00:00:00\",\"2023-06-26T00:00:00\",\"2023-06-27T00:00:00\",\"2023-06-28T00:00:00\",\"2023-06-29T00:00:00\",\"2023-06-30T00:00:00\"],\"y\":[16.0,20.2,22.3,20.3,20.7,19.5,20.5,18.3,22.5,19.6,23.1,24.5,29.4,24.1,21.5,21.1,23.5,27.5,34.5,38.6,24.6,20.0,20.7,23.1,28.9,22.4,19.5,20.2,21.9,22.2,24.7,23.6,23.0,26.3,26.3,22.7,20.3,21.1,21.6,23.3,23.2,26.3,29.1,29.8,31.6,30.7,25.7,27.0,21.7,23.6,22.2,22.0,22.7,28.0,26.3,26.6,24.0,22.0,22.2,22.4,22.1,23.1,22.9,26.5,25.6,24.6,23.4,25.3,25.0,22.7,21.7,19.3,19.7,21.8,25.8,21.9,16.8,18.4,16.3,15.6,16.7,16.8,17.1,17.7,19.5,18.3,17.1,15.6,14.7,13.6,13.6,15.2,17.0,18.2,16.6,17.2,18.1,18.2,17.5,17.7,15.1,17.0,14.5,15.0,15.7,13.6,16.5,17.6,17.5,18.2,18.5,17.0,19.6,20.5,18.5,19.5,17.2,17.1,20.0,20.5,20.6,21.7,17.0,16.1,16.2,14.0,14.2,12.7,11.2,11.2,15.1,16.0,14.1,14.0,12.1,9.5,14.0,9.2,12.0,11.6,12.7,11.6,11.0,10.6,9.1,10.1,12.0,11.1,11.5,11.2,8.0,11.5,7.0,9.1,7.7,5.0,3.0,2.2,5.5,7.1,7.2,5.5,5.2,5.6,1.2,-0.2,-0.7,1.7,5.2,4.2,1.0,1.5,9.0,11.7,9.1,10.6,13.1,11.2,10.0,9.7,9.1,11.6,11.5,13.1,15.7,13.5,11.6,10.1,13.1,12.1,11.6,10.6,9.7,9.0,12.3,12.4,11.2,10.2,12.2,8.1,6.2,4.5,5.0,5.5,6.5,4.0,4.5,4.5,3.0,2.5,8.2,6.5,5.2,9.0,8.6,9.7,9.2,10.6,11.7,9.7,8.5,7.7,5.7,6.5,7.1,9.6,9.0,8.5,11.0,12.0,12.0,11.6,11.6,12.0,11.0,9.2,8.5,9.5,8.7,7.7,7.2,5.7,6.2,4.7,6.1,6.7,7.4,7.6,6.0,7.0,6.2,2.5,13.0,9.2,7.0,12.2,15.0,9.7,8.5,13.7,14.7,14.2,9.0,11.7,13.0,12.2,15.5,13.7,12.5,9.7,6.9,9.5,16.2,14.1,11.6,9.7,8.0,10.6,9.7,11.6,12.7,10.2,11.0,16.0,13.0,13.0,10.7,12.2,12.5,12.6,11.0,11.0,13.2,15.0,9.6,11.2,13.0,13.1,10.6,9.2,10.6,14.2,14.5,12.2,16.2,14.2,13.2,14.5,22.5,17.2,18.2,17.7,16.5,15.5,16.5,14.5,13.7,14.2,13.4,12.1,14.0,15.0,13.2,16.1,16.6,16.0,14.0,14.0,15.7,16.0,15.7,16.0,17.7,14.7,14.7,17.0,14.8,14.5,19.0,17.7,15.7,16.0,17.2,18.2,24.0,31.0,31.0,24.0,28.0,25.0,25.0,22.0,28.0,26.0,23.0,27.0,23.0,20.0,26.0,23.0,32.0,21.0,20.0,24.0,20.0,21.0],\"type\":\"scatter\"},{\"mode\":\"lines\",\"name\":\"Predicted_ARIMA\",\"x\":[\"2022-06-30T00:00:00\",\"2022-07-01T00:00:00\",\"2022-07-02T00:00:00\",\"2022-07-03T00:00:00\",\"2022-07-04T00:00:00\",\"2022-07-05T00:00:00\",\"2022-07-06T00:00:00\",\"2022-07-07T00:00:00\",\"2022-07-08T00:00:00\",\"2022-07-09T00:00:00\",\"2022-07-10T00:00:00\",\"2022-07-11T00:00:00\",\"2022-07-12T00:00:00\",\"2022-07-13T00:00:00\",\"2022-07-14T00:00:00\",\"2022-07-15T00:00:00\",\"2022-07-16T00:00:00\",\"2022-07-17T00:00:00\",\"2022-07-18T00:00:00\",\"2022-07-19T00:00:00\",\"2022-07-20T00:00:00\",\"2022-07-21T00:00:00\",\"2022-07-22T00:00:00\",\"2022-07-23T00:00:00\",\"2022-07-24T00:00:00\",\"2022-07-25T00:00:00\",\"2022-07-26T00:00:00\",\"2022-07-27T00:00:00\",\"2022-07-28T00:00:00\",\"2022-07-29T00:00:00\",\"2022-07-30T00:00:00\",\"2022-07-31T00:00:00\",\"2022-08-01T00:00:00\",\"2022-08-02T00:00:00\",\"2022-08-03T00:00:00\",\"2022-08-04T00:00:00\",\"2022-08-05T00:00:00\",\"2022-08-06T00:00:00\",\"2022-08-07T00:00:00\",\"2022-08-08T00:00:00\",\"2022-08-09T00:00:00\",\"2022-08-10T00:00:00\",\"2022-08-11T00:00:00\",\"2022-08-12T00:00:00\",\"2022-08-13T00:00:00\",\"2022-08-14T00:00:00\",\"2022-08-15T00:00:00\",\"2022-08-16T00:00:00\",\"2022-08-17T00:00:00\",\"2022-08-18T00:00:00\",\"2022-08-19T00:00:00\",\"2022-08-20T00:00:00\",\"2022-08-21T00:00:00\",\"2022-08-22T00:00:00\",\"2022-08-23T00:00:00\",\"2022-08-24T00:00:00\",\"2022-08-25T00:00:00\",\"2022-08-26T00:00:00\",\"2022-08-27T00:00:00\",\"2022-08-28T00:00:00\",\"2022-08-29T00:00:00\",\"2022-08-30T00:00:00\",\"2022-08-31T00:00:00\",\"2022-09-01T00:00:00\",\"2022-09-02T00:00:00\",\"2022-09-03T00:00:00\",\"2022-09-04T00:00:00\",\"2022-09-05T00:00:00\",\"2022-09-06T00:00:00\",\"2022-09-07T00:00:00\",\"2022-09-08T00:00:00\",\"2022-09-09T00:00:00\",\"2022-09-10T00:00:00\",\"2022-09-11T00:00:00\",\"2022-09-12T00:00:00\",\"2022-09-13T00:00:00\",\"2022-09-14T00:00:00\",\"2022-09-15T00:00:00\",\"2022-09-16T00:00:00\",\"2022-09-17T00:00:00\",\"2022-09-18T00:00:00\",\"2022-09-19T00:00:00\",\"2022-09-20T00:00:00\",\"2022-09-21T00:00:00\",\"2022-09-22T00:00:00\",\"2022-09-23T00:00:00\",\"2022-09-24T00:00:00\",\"2022-09-25T00:00:00\",\"2022-09-26T00:00:00\",\"2022-09-27T00:00:00\",\"2022-09-28T00:00:00\",\"2022-09-29T00:00:00\",\"2022-09-30T00:00:00\",\"2022-10-01T00:00:00\",\"2022-10-02T00:00:00\",\"2022-10-03T00:00:00\",\"2022-10-04T00:00:00\",\"2022-10-05T00:00:00\",\"2022-10-06T00:00:00\",\"2022-10-07T00:00:00\",\"2022-10-08T00:00:00\",\"2022-10-09T00:00:00\",\"2022-10-10T00:00:00\",\"2022-10-11T00:00:00\",\"2022-10-12T00:00:00\",\"2022-10-13T00:00:00\",\"2022-10-14T00:00:00\",\"2022-10-15T00:00:00\",\"2022-10-16T00:00:00\",\"2022-10-17T00:00:00\",\"2022-10-18T00:00:00\",\"2022-10-19T00:00:00\",\"2022-10-20T00:00:00\",\"2022-10-21T00:00:00\",\"2022-10-22T00:00:00\",\"2022-10-23T00:00:00\",\"2022-10-24T00:00:00\",\"2022-10-25T00:00:00\",\"2022-10-26T00:00:00\",\"2022-10-27T00:00:00\",\"2022-10-28T00:00:00\",\"2022-10-29T00:00:00\",\"2022-10-30T00:00:00\",\"2022-10-31T00:00:00\",\"2022-11-01T00:00:00\",\"2022-11-02T00:00:00\",\"2022-11-03T00:00:00\",\"2022-11-04T00:00:00\",\"2022-11-05T00:00:00\",\"2022-11-06T00:00:00\",\"2022-11-07T00:00:00\",\"2022-11-08T00:00:00\",\"2022-11-09T00:00:00\",\"2022-11-10T00:00:00\",\"2022-11-11T00:00:00\",\"2022-11-12T00:00:00\",\"2022-11-13T00:00:00\",\"2022-11-14T00:00:00\",\"2022-11-15T00:00:00\",\"2022-11-16T00:00:00\",\"2022-11-17T00:00:00\",\"2022-11-18T00:00:00\",\"2022-11-19T00:00:00\",\"2022-11-20T00:00:00\",\"2022-11-21T00:00:00\",\"2022-11-22T00:00:00\",\"2022-11-23T00:00:00\",\"2022-11-24T00:00:00\",\"2022-11-25T00:00:00\",\"2022-11-26T00:00:00\",\"2022-11-27T00:00:00\",\"2022-11-28T00:00:00\",\"2022-11-29T00:00:00\",\"2022-11-30T00:00:00\",\"2022-12-01T00:00:00\",\"2022-12-02T00:00:00\",\"2022-12-03T00:00:00\",\"2022-12-04T00:00:00\",\"2022-12-05T00:00:00\",\"2022-12-06T00:00:00\",\"2022-12-07T00:00:00\",\"2022-12-08T00:00:00\",\"2022-12-09T00:00:00\",\"2022-12-10T00:00:00\",\"2022-12-11T00:00:00\",\"2022-12-12T00:00:00\",\"2022-12-13T00:00:00\",\"2022-12-14T00:00:00\",\"2022-12-15T00:00:00\",\"2022-12-16T00:00:00\",\"2022-12-17T00:00:00\",\"2022-12-18T00:00:00\",\"2022-12-19T00:00:00\",\"2022-12-20T00:00:00\",\"2022-12-21T00:00:00\",\"2022-12-22T00:00:00\",\"2022-12-23T00:00:00\",\"2022-12-24T00:00:00\",\"2022-12-25T00:00:00\",\"2022-12-26T00:00:00\",\"2022-12-27T00:00:00\",\"2022-12-28T00:00:00\",\"2022-12-29T00:00:00\",\"2022-12-30T00:00:00\",\"2022-12-31T00:00:00\",\"2023-01-01T00:00:00\",\"2023-01-02T00:00:00\",\"2023-01-03T00:00:00\",\"2023-01-04T00:00:00\",\"2023-01-05T00:00:00\",\"2023-01-06T00:00:00\",\"2023-01-07T00:00:00\",\"2023-01-08T00:00:00\",\"2023-01-09T00:00:00\",\"2023-01-10T00:00:00\",\"2023-01-11T00:00:00\",\"2023-01-12T00:00:00\",\"2023-01-13T00:00:00\",\"2023-01-14T00:00:00\",\"2023-01-15T00:00:00\",\"2023-01-16T00:00:00\",\"2023-01-17T00:00:00\",\"2023-01-18T00:00:00\",\"2023-01-19T00:00:00\",\"2023-01-20T00:00:00\",\"2023-01-21T00:00:00\",\"2023-01-22T00:00:00\",\"2023-01-23T00:00:00\",\"2023-01-24T00:00:00\",\"2023-01-25T00:00:00\",\"2023-01-26T00:00:00\",\"2023-01-27T00:00:00\",\"2023-01-28T00:00:00\",\"2023-01-29T00:00:00\",\"2023-01-30T00:00:00\",\"2023-01-31T00:00:00\",\"2023-02-01T00:00:00\",\"2023-02-02T00:00:00\",\"2023-02-03T00:00:00\",\"2023-02-04T00:00:00\",\"2023-02-05T00:00:00\",\"2023-02-06T00:00:00\",\"2023-02-07T00:00:00\",\"2023-02-08T00:00:00\",\"2023-02-09T00:00:00\",\"2023-02-10T00:00:00\",\"2023-02-11T00:00:00\",\"2023-02-12T00:00:00\",\"2023-02-13T00:00:00\",\"2023-02-14T00:00:00\",\"2023-02-15T00:00:00\",\"2023-02-16T00:00:00\",\"2023-02-17T00:00:00\",\"2023-02-18T00:00:00\",\"2023-02-19T00:00:00\",\"2023-02-20T00:00:00\",\"2023-02-21T00:00:00\",\"2023-02-22T00:00:00\",\"2023-02-23T00:00:00\",\"2023-02-24T00:00:00\",\"2023-02-25T00:00:00\",\"2023-02-26T00:00:00\",\"2023-02-27T00:00:00\",\"2023-02-28T00:00:00\",\"2023-03-01T00:00:00\",\"2023-03-02T00:00:00\",\"2023-03-03T00:00:00\",\"2023-03-04T00:00:00\",\"2023-03-05T00:00:00\",\"2023-03-06T00:00:00\",\"2023-03-07T00:00:00\",\"2023-03-08T00:00:00\",\"2023-03-09T00:00:00\",\"2023-03-10T00:00:00\",\"2023-03-11T00:00:00\",\"2023-03-12T00:00:00\",\"2023-03-13T00:00:00\",\"2023-03-14T00:00:00\",\"2023-03-15T00:00:00\",\"2023-03-16T00:00:00\",\"2023-03-17T00:00:00\",\"2023-03-18T00:00:00\",\"2023-03-19T00:00:00\",\"2023-03-20T00:00:00\",\"2023-03-21T00:00:00\",\"2023-03-22T00:00:00\",\"2023-03-23T00:00:00\",\"2023-03-24T00:00:00\",\"2023-03-25T00:00:00\",\"2023-03-26T00:00:00\",\"2023-03-27T00:00:00\",\"2023-03-28T00:00:00\",\"2023-03-29T00:00:00\",\"2023-03-30T00:00:00\",\"2023-03-31T00:00:00\",\"2023-04-01T00:00:00\",\"2023-04-02T00:00:00\",\"2023-04-03T00:00:00\",\"2023-04-04T00:00:00\",\"2023-04-05T00:00:00\",\"2023-04-06T00:00:00\",\"2023-04-07T00:00:00\",\"2023-04-08T00:00:00\",\"2023-04-09T00:00:00\",\"2023-04-10T00:00:00\",\"2023-04-11T00:00:00\",\"2023-04-12T00:00:00\",\"2023-04-13T00:00:00\",\"2023-04-14T00:00:00\",\"2023-04-15T00:00:00\",\"2023-04-16T00:00:00\",\"2023-04-17T00:00:00\",\"2023-04-18T00:00:00\",\"2023-04-19T00:00:00\",\"2023-04-20T00:00:00\",\"2023-04-21T00:00:00\",\"2023-04-22T00:00:00\",\"2023-04-23T00:00:00\",\"2023-04-24T00:00:00\",\"2023-04-25T00:00:00\",\"2023-04-26T00:00:00\",\"2023-04-27T00:00:00\",\"2023-04-28T00:00:00\",\"2023-04-29T00:00:00\",\"2023-04-30T00:00:00\",\"2023-05-01T00:00:00\",\"2023-05-02T00:00:00\",\"2023-05-03T00:00:00\",\"2023-05-04T00:00:00\",\"2023-05-05T00:00:00\",\"2023-05-06T00:00:00\",\"2023-05-07T00:00:00\",\"2023-05-08T00:00:00\",\"2023-05-09T00:00:00\",\"2023-05-10T00:00:00\",\"2023-05-11T00:00:00\",\"2023-05-12T00:00:00\",\"2023-05-13T00:00:00\",\"2023-05-14T00:00:00\",\"2023-05-15T00:00:00\",\"2023-05-16T00:00:00\",\"2023-05-17T00:00:00\",\"2023-05-18T00:00:00\",\"2023-05-19T00:00:00\",\"2023-05-20T00:00:00\",\"2023-05-21T00:00:00\",\"2023-05-22T00:00:00\",\"2023-05-23T00:00:00\",\"2023-05-24T00:00:00\",\"2023-05-25T00:00:00\",\"2023-05-26T00:00:00\",\"2023-05-27T00:00:00\",\"2023-05-28T00:00:00\",\"2023-05-29T00:00:00\",\"2023-05-30T00:00:00\",\"2023-05-31T00:00:00\",\"2023-06-01T00:00:00\",\"2023-06-02T00:00:00\",\"2023-06-03T00:00:00\",\"2023-06-04T00:00:00\",\"2023-06-05T00:00:00\",\"2023-06-06T00:00:00\",\"2023-06-07T00:00:00\",\"2023-06-08T00:00:00\",\"2023-06-09T00:00:00\",\"2023-06-10T00:00:00\",\"2023-06-11T00:00:00\",\"2023-06-12T00:00:00\",\"2023-06-13T00:00:00\",\"2023-06-14T00:00:00\",\"2023-06-15T00:00:00\",\"2023-06-16T00:00:00\",\"2023-06-17T00:00:00\",\"2023-06-18T00:00:00\",\"2023-06-19T00:00:00\",\"2023-06-20T00:00:00\",\"2023-06-21T00:00:00\",\"2023-06-22T00:00:00\",\"2023-06-23T00:00:00\",\"2023-06-24T00:00:00\",\"2023-06-25T00:00:00\",\"2023-06-26T00:00:00\",\"2023-06-27T00:00:00\",\"2023-06-28T00:00:00\",\"2023-06-29T00:00:00\",\"2023-06-30T00:00:00\"],\"y\":[null,null,19.52036734375153,20.997885291365456,19.622261275902076,20.32099180581774,19.48528959803529,20.35640962372957,18.66117000025533,21.899485661116884,19.481010461845965,22.396378659662812,23.25335481980682,27.05286543241249,23.250034324614088,22.100540528895024,21.91627589069597,23.5151292361572,26.215835291168545,31.306021767641464,34.44647486983217,24.77833258911773,22.78116761635585,23.04397016365041,24.129105355168747,27.892708170118656,22.760552819713432,21.19643800370057,21.567962506648406,22.39211364144877,22.309196681446988,24.09482597809497,23.183486486667096,22.963260662175788,25.470453896067355,25.34721949044271,22.939728445875254,21.477042095576596,22.00683578278524,22.055769755923517,23.13951260219369,22.932316772831733,25.300794829283078,27.309256909352573,28.00606279890648,29.732295682806733,29.371532410546195,26.122020826907203,27.48693666231984,23.313423418470503,24.840049924263475,23.285838530516305,22.99825339909057,23.274048729581985,26.963245456758138,25.433173251152827,26.05709406337832,24.249353256734896,22.97618306571335,23.074469342583782,22.97237479495647,22.580376926152947,23.223574713709752,22.940395133017343,25.607528350831288,24.805550534264675,24.36845741052156,23.646612237936743,25.108188762207355,24.74094435402281,23.14218665104566,22.525621626411542,20.64115537195624,20.83272814162575,22.0446886671204,24.71619242852347,21.70882841139803,18.39716908622397,19.68599181307951,17.63404999743026,16.98464166007955,17.506048150778025,17.255195228243807,17.3470584518496,17.694228421826825,18.96236247623887,18.03175910803626,17.340165877959535,16.293970150029576,15.602702343045614,14.647224873427655,14.486412131634664,15.43513520204176,16.536969352132292,17.358206540539395,16.27396347827216,16.967325512984644,17.63062875803695,17.73451642847487,17.329478934162285,17.593998344641307,15.6821277921297,17.20028506493923,15.106560417093666,15.574690693166074,15.88920491950574,14.217445387954887,16.412831155938377,16.948289353931525,16.93168766269876,17.607532719705752,17.91191996177993,16.927897128146213,19.02057422949825,19.568324013256657,18.243353376680098,19.25504641410716,17.518443358033966,17.598562517764623,19.618703652248065,19.788363851801083,19.996991230488327,20.956517216792943,17.568802666270877,17.24054152507733,17.10845307916638,15.236391494971166,15.287153639125906,13.874615015238533,12.614594047123983,12.39882458035559,14.963286277119096,15.260914362827636,13.95930147775186,14.118417642343124,12.695371126782842,10.816478640627825,14.061268868829494,10.038081145823902,12.380484530301985,11.696643011531483,12.52448865258882,11.645067641916556,11.303928524534031,10.990998327206407,9.822736732048924,10.526279187663206,11.713765934290803,10.928409975210345,11.361463406226733,11.135053370054589,8.821178860000959,11.519554355656576,7.831910233412957,9.62831841903242,8.239909691182033,6.250141271683623,4.725129413844412,3.889149035230133,5.964876575968308,6.68348501292662,6.701291455225114,5.566880657533528,5.503366505503346,5.750086939500365,2.4219560282707984,1.522602028860923,0.8467907679904267,2.2645826624428413,4.452292379703501,3.548904617747885,1.4608097426426945,2.039355364579823,7.382047653034768,9.024735311666737,7.527911771209677,9.31514508053757,11.342120632310124,10.142276185055362,9.729726905158582,9.702935083174582,9.290278164244237,11.147541735346175,10.934274390988808,12.273710905960934,14.244051390613162,12.73337245309884,11.758873441322423,10.806207929292064,12.990233654239322,11.971330896228862,11.739191259808509,11.016249372407644,10.34613515612864,9.753097328401326,12.063708564204603,11.858876060698298,11.10461453791732,10.515356385437164,12.012094085346398,8.828815732247783,7.658645736825131,6.217883584724879,6.312343060511402,6.286010530812032,6.766591581050279,4.74837158337801,5.179353776374802,4.9497973138943765,3.7248557465399794,3.320728011188092,7.364368594802799,5.740333955140947,5.155260752107337,8.10582325699873,7.652691811569241,8.75400524024302,8.51926192266638,9.782488440849846,10.664053159152006,9.3457580948556,8.759247841053583,8.224707221558218,6.6936589109324665,7.230213352458913,7.399222052078068,9.10411534711591,8.533185375132286,8.348347194338716,10.284861818377149,10.95228908935268,11.123548478048171,11.05790826476453,11.241188981058617,11.630411861995446,10.947873117854252,9.736183138641405,9.264821689453028,9.874785180296673,9.082953827692396,8.327115203350866,7.89699441379677,6.65889507260719,6.9315364032057705,5.581195357719418,6.538459546977178,6.721978525847502,7.170958903041814,7.306337321862284,6.18170216882347,7.0372904279976485,6.33386736808628,3.650470890361168,11.48072062868348,7.990481843241107,7.075686265316191,11.12088413351167,12.933573313660249,9.274135359215204,9.046924806969788,12.865486313334335,13.28556270813918,13.183849379829464,9.663632282501164,12.019202979176985,12.616464222835882,11.992320528818956,14.564930965189442,13.14080064689195,12.58734127876237,10.621678894945235,8.602567195409007,10.36451261653094,14.814861215459818,12.936348577928806,11.612686415219176,10.465000531348233,9.2059419107343,10.984467995172531,9.951183275559506,11.38060441394054,12.053893283583813,10.264439448670682,11.096003810964923,14.678684240886792,12.294612369854486,12.788971700094422,11.14667503263713,12.374126098327665,12.39514608373875,12.465462738279491,11.30946328244946,11.393507197092012,12.91419500981934,14.090575860534042,10.157441400132832,11.749583527540068,12.769046501758751,12.71760560959092,10.962264398049273,10.092043332507089,11.036146517963054,13.434501616226976,13.48495465687992,12.022315946501184,15.258512570477931,13.616212941993648,13.23744843738116,14.29033167843382,20.11571789508787,16.00293860406966,17.601515387458434,17.286059525952517,16.560397676618287,15.930331419037012,16.65887414650899,15.037909591555024,14.51292687090369,14.751569948381736,13.965025654041415,12.94006946164454,14.256506481337198,14.731322955889908,13.369972736590148,15.651618028823409,15.838851614009272,15.543795233783296,14.249062646593275,14.39020609275179,15.542720276368032,15.629914876880315,15.47447936336323,15.785936527526534,17.065783903529592,14.842260934513597,15.114574849544502,16.70355156812992,14.9200942419727,14.89423718447446,18.14326825036853,16.943823563921274,15.799905217123412,16.201544154658208,17.00348284495657,17.669206221968114,21.985901879853078,27.08152026598537,27.385631033282,23.165894342831766,27.059051985579707,24.67853431788677,25.072323539342328,22.83914784682496,27.357369472195806,25.43039636791765,23.571762976151767,26.68387381641091,23.4016044777806,21.49494522791384,25.841377732358804,23.049539715488308,29.988833010191478,21.46808383668589,21.74251639507873,24.34155648235301,20.88700416381389],\"type\":\"scatter\"},{\"mode\":\"lines\",\"name\":\"Predicted_RandomForest\",\"x\":[\"2022-06-30T00:00:00\",\"2022-07-01T00:00:00\",\"2022-07-02T00:00:00\",\"2022-07-03T00:00:00\",\"2022-07-04T00:00:00\",\"2022-07-05T00:00:00\",\"2022-07-06T00:00:00\",\"2022-07-07T00:00:00\",\"2022-07-08T00:00:00\",\"2022-07-09T00:00:00\",\"2022-07-10T00:00:00\",\"2022-07-11T00:00:00\",\"2022-07-12T00:00:00\",\"2022-07-13T00:00:00\",\"2022-07-14T00:00:00\",\"2022-07-15T00:00:00\",\"2022-07-16T00:00:00\",\"2022-07-17T00:00:00\",\"2022-07-18T00:00:00\",\"2022-07-19T00:00:00\",\"2022-07-20T00:00:00\",\"2022-07-21T00:00:00\",\"2022-07-22T00:00:00\",\"2022-07-23T00:00:00\",\"2022-07-24T00:00:00\",\"2022-07-25T00:00:00\",\"2022-07-26T00:00:00\",\"2022-07-27T00:00:00\",\"2022-07-28T00:00:00\",\"2022-07-29T00:00:00\",\"2022-07-30T00:00:00\",\"2022-07-31T00:00:00\",\"2022-08-01T00:00:00\",\"2022-08-02T00:00:00\",\"2022-08-03T00:00:00\",\"2022-08-04T00:00:00\",\"2022-08-05T00:00:00\",\"2022-08-06T00:00:00\",\"2022-08-07T00:00:00\",\"2022-08-08T00:00:00\",\"2022-08-09T00:00:00\",\"2022-08-10T00:00:00\",\"2022-08-11T00:00:00\",\"2022-08-12T00:00:00\",\"2022-08-13T00:00:00\",\"2022-08-14T00:00:00\",\"2022-08-15T00:00:00\",\"2022-08-16T00:00:00\",\"2022-08-17T00:00:00\",\"2022-08-18T00:00:00\",\"2022-08-19T00:00:00\",\"2022-08-20T00:00:00\",\"2022-08-21T00:00:00\",\"2022-08-22T00:00:00\",\"2022-08-23T00:00:00\",\"2022-08-24T00:00:00\",\"2022-08-25T00:00:00\",\"2022-08-26T00:00:00\",\"2022-08-27T00:00:00\",\"2022-08-28T00:00:00\",\"2022-08-29T00:00:00\",\"2022-08-30T00:00:00\",\"2022-08-31T00:00:00\",\"2022-09-01T00:00:00\",\"2022-09-02T00:00:00\",\"2022-09-03T00:00:00\",\"2022-09-04T00:00:00\",\"2022-09-05T00:00:00\",\"2022-09-06T00:00:00\",\"2022-09-07T00:00:00\",\"2022-09-08T00:00:00\",\"2022-09-09T00:00:00\",\"2022-09-10T00:00:00\",\"2022-09-11T00:00:00\",\"2022-09-12T00:00:00\",\"2022-09-13T00:00:00\",\"2022-09-14T00:00:00\",\"2022-09-15T00:00:00\",\"2022-09-16T00:00:00\",\"2022-09-17T00:00:00\",\"2022-09-18T00:00:00\",\"2022-09-19T00:00:00\",\"2022-09-20T00:00:00\",\"2022-09-21T00:00:00\",\"2022-09-22T00:00:00\",\"2022-09-23T00:00:00\",\"2022-09-24T00:00:00\",\"2022-09-25T00:00:00\",\"2022-09-26T00:00:00\",\"2022-09-27T00:00:00\",\"2022-09-28T00:00:00\",\"2022-09-29T00:00:00\",\"2022-09-30T00:00:00\",\"2022-10-01T00:00:00\",\"2022-10-02T00:00:00\",\"2022-10-03T00:00:00\",\"2022-10-04T00:00:00\",\"2022-10-05T00:00:00\",\"2022-10-06T00:00:00\",\"2022-10-07T00:00:00\",\"2022-10-08T00:00:00\",\"2022-10-09T00:00:00\",\"2022-10-10T00:00:00\",\"2022-10-11T00:00:00\",\"2022-10-12T00:00:00\",\"2022-10-13T00:00:00\",\"2022-10-14T00:00:00\",\"2022-10-15T00:00:00\",\"2022-10-16T00:00:00\",\"2022-10-17T00:00:00\",\"2022-10-18T00:00:00\",\"2022-10-19T00:00:00\",\"2022-10-20T00:00:00\",\"2022-10-21T00:00:00\",\"2022-10-22T00:00:00\",\"2022-10-23T00:00:00\",\"2022-10-24T00:00:00\",\"2022-10-25T00:00:00\",\"2022-10-26T00:00:00\",\"2022-10-27T00:00:00\",\"2022-10-28T00:00:00\",\"2022-10-29T00:00:00\",\"2022-10-30T00:00:00\",\"2022-10-31T00:00:00\",\"2022-11-01T00:00:00\",\"2022-11-02T00:00:00\",\"2022-11-03T00:00:00\",\"2022-11-04T00:00:00\",\"2022-11-05T00:00:00\",\"2022-11-06T00:00:00\",\"2022-11-07T00:00:00\",\"2022-11-08T00:00:00\",\"2022-11-09T00:00:00\",\"2022-11-10T00:00:00\",\"2022-11-11T00:00:00\",\"2022-11-12T00:00:00\",\"2022-11-13T00:00:00\",\"2022-11-14T00:00:00\",\"2022-11-15T00:00:00\",\"2022-11-16T00:00:00\",\"2022-11-17T00:00:00\",\"2022-11-18T00:00:00\",\"2022-11-19T00:00:00\",\"2022-11-20T00:00:00\",\"2022-11-21T00:00:00\",\"2022-11-22T00:00:00\",\"2022-11-23T00:00:00\",\"2022-11-24T00:00:00\",\"2022-11-25T00:00:00\",\"2022-11-26T00:00:00\",\"2022-11-27T00:00:00\",\"2022-11-28T00:00:00\",\"2022-11-29T00:00:00\",\"2022-11-30T00:00:00\",\"2022-12-01T00:00:00\",\"2022-12-02T00:00:00\",\"2022-12-03T00:00:00\",\"2022-12-04T00:00:00\",\"2022-12-05T00:00:00\",\"2022-12-06T00:00:00\",\"2022-12-07T00:00:00\",\"2022-12-08T00:00:00\",\"2022-12-09T00:00:00\",\"2022-12-10T00:00:00\",\"2022-12-11T00:00:00\",\"2022-12-12T00:00:00\",\"2022-12-13T00:00:00\",\"2022-12-14T00:00:00\",\"2022-12-15T00:00:00\",\"2022-12-16T00:00:00\",\"2022-12-17T00:00:00\",\"2022-12-18T00:00:00\",\"2022-12-19T00:00:00\",\"2022-12-20T00:00:00\",\"2022-12-21T00:00:00\",\"2022-12-22T00:00:00\",\"2022-12-23T00:00:00\",\"2022-12-24T00:00:00\",\"2022-12-25T00:00:00\",\"2022-12-26T00:00:00\",\"2022-12-27T00:00:00\",\"2022-12-28T00:00:00\",\"2022-12-29T00:00:00\",\"2022-12-30T00:00:00\",\"2022-12-31T00:00:00\",\"2023-01-01T00:00:00\",\"2023-01-02T00:00:00\",\"2023-01-03T00:00:00\",\"2023-01-04T00:00:00\",\"2023-01-05T00:00:00\",\"2023-01-06T00:00:00\",\"2023-01-07T00:00:00\",\"2023-01-08T00:00:00\",\"2023-01-09T00:00:00\",\"2023-01-10T00:00:00\",\"2023-01-11T00:00:00\",\"2023-01-12T00:00:00\",\"2023-01-13T00:00:00\",\"2023-01-14T00:00:00\",\"2023-01-15T00:00:00\",\"2023-01-16T00:00:00\",\"2023-01-17T00:00:00\",\"2023-01-18T00:00:00\",\"2023-01-19T00:00:00\",\"2023-01-20T00:00:00\",\"2023-01-21T00:00:00\",\"2023-01-22T00:00:00\",\"2023-01-23T00:00:00\",\"2023-01-24T00:00:00\",\"2023-01-25T00:00:00\",\"2023-01-26T00:00:00\",\"2023-01-27T00:00:00\",\"2023-01-28T00:00:00\",\"2023-01-29T00:00:00\",\"2023-01-30T00:00:00\",\"2023-01-31T00:00:00\",\"2023-02-01T00:00:00\",\"2023-02-02T00:00:00\",\"2023-02-03T00:00:00\",\"2023-02-04T00:00:00\",\"2023-02-05T00:00:00\",\"2023-02-06T00:00:00\",\"2023-02-07T00:00:00\",\"2023-02-08T00:00:00\",\"2023-02-09T00:00:00\",\"2023-02-10T00:00:00\",\"2023-02-11T00:00:00\",\"2023-02-12T00:00:00\",\"2023-02-13T00:00:00\",\"2023-02-14T00:00:00\",\"2023-02-15T00:00:00\",\"2023-02-16T00:00:00\",\"2023-02-17T00:00:00\",\"2023-02-18T00:00:00\",\"2023-02-19T00:00:00\",\"2023-02-20T00:00:00\",\"2023-02-21T00:00:00\",\"2023-02-22T00:00:00\",\"2023-02-23T00:00:00\",\"2023-02-24T00:00:00\",\"2023-02-25T00:00:00\",\"2023-02-26T00:00:00\",\"2023-02-27T00:00:00\",\"2023-02-28T00:00:00\",\"2023-03-01T00:00:00\",\"2023-03-02T00:00:00\",\"2023-03-03T00:00:00\",\"2023-03-04T00:00:00\",\"2023-03-05T00:00:00\",\"2023-03-06T00:00:00\",\"2023-03-07T00:00:00\",\"2023-03-08T00:00:00\",\"2023-03-09T00:00:00\",\"2023-03-10T00:00:00\",\"2023-03-11T00:00:00\",\"2023-03-12T00:00:00\",\"2023-03-13T00:00:00\",\"2023-03-14T00:00:00\",\"2023-03-15T00:00:00\",\"2023-03-16T00:00:00\",\"2023-03-17T00:00:00\",\"2023-03-18T00:00:00\",\"2023-03-19T00:00:00\",\"2023-03-20T00:00:00\",\"2023-03-21T00:00:00\",\"2023-03-22T00:00:00\",\"2023-03-23T00:00:00\",\"2023-03-24T00:00:00\",\"2023-03-25T00:00:00\",\"2023-03-26T00:00:00\",\"2023-03-27T00:00:00\",\"2023-03-28T00:00:00\",\"2023-03-29T00:00:00\",\"2023-03-30T00:00:00\",\"2023-03-31T00:00:00\",\"2023-04-01T00:00:00\",\"2023-04-02T00:00:00\",\"2023-04-03T00:00:00\",\"2023-04-04T00:00:00\",\"2023-04-05T00:00:00\",\"2023-04-06T00:00:00\",\"2023-04-07T00:00:00\",\"2023-04-08T00:00:00\",\"2023-04-09T00:00:00\",\"2023-04-10T00:00:00\",\"2023-04-11T00:00:00\",\"2023-04-12T00:00:00\",\"2023-04-13T00:00:00\",\"2023-04-14T00:00:00\",\"2023-04-15T00:00:00\",\"2023-04-16T00:00:00\",\"2023-04-17T00:00:00\",\"2023-04-18T00:00:00\",\"2023-04-19T00:00:00\",\"2023-04-20T00:00:00\",\"2023-04-21T00:00:00\",\"2023-04-22T00:00:00\",\"2023-04-23T00:00:00\",\"2023-04-24T00:00:00\",\"2023-04-25T00:00:00\",\"2023-04-26T00:00:00\",\"2023-04-27T00:00:00\",\"2023-04-28T00:00:00\",\"2023-04-29T00:00:00\",\"2023-04-30T00:00:00\",\"2023-05-01T00:00:00\",\"2023-05-02T00:00:00\",\"2023-05-03T00:00:00\",\"2023-05-04T00:00:00\",\"2023-05-05T00:00:00\",\"2023-05-06T00:00:00\",\"2023-05-07T00:00:00\",\"2023-05-08T00:00:00\",\"2023-05-09T00:00:00\",\"2023-05-10T00:00:00\",\"2023-05-11T00:00:00\",\"2023-05-12T00:00:00\",\"2023-05-13T00:00:00\",\"2023-05-14T00:00:00\",\"2023-05-15T00:00:00\",\"2023-05-16T00:00:00\",\"2023-05-17T00:00:00\",\"2023-05-18T00:00:00\",\"2023-05-19T00:00:00\",\"2023-05-20T00:00:00\",\"2023-05-21T00:00:00\",\"2023-05-22T00:00:00\",\"2023-05-23T00:00:00\",\"2023-05-24T00:00:00\",\"2023-05-25T00:00:00\",\"2023-05-26T00:00:00\",\"2023-05-27T00:00:00\",\"2023-05-28T00:00:00\",\"2023-05-29T00:00:00\",\"2023-05-30T00:00:00\",\"2023-05-31T00:00:00\",\"2023-06-01T00:00:00\",\"2023-06-02T00:00:00\",\"2023-06-03T00:00:00\",\"2023-06-04T00:00:00\",\"2023-06-05T00:00:00\",\"2023-06-06T00:00:00\",\"2023-06-07T00:00:00\",\"2023-06-08T00:00:00\",\"2023-06-09T00:00:00\",\"2023-06-10T00:00:00\",\"2023-06-11T00:00:00\",\"2023-06-12T00:00:00\",\"2023-06-13T00:00:00\",\"2023-06-14T00:00:00\",\"2023-06-15T00:00:00\",\"2023-06-16T00:00:00\",\"2023-06-17T00:00:00\",\"2023-06-18T00:00:00\",\"2023-06-19T00:00:00\",\"2023-06-20T00:00:00\",\"2023-06-21T00:00:00\",\"2023-06-22T00:00:00\",\"2023-06-23T00:00:00\",\"2023-06-24T00:00:00\",\"2023-06-25T00:00:00\",\"2023-06-26T00:00:00\",\"2023-06-27T00:00:00\",\"2023-06-28T00:00:00\",\"2023-06-29T00:00:00\",\"2023-06-30T00:00:00\"],\"y\":[21.293596620219738,20.84799423903676,20.973818733723427,20.70514835041164,20.90041330740623,21.463004568042464,21.97235549461957,20.094944282598348,21.41709858784653,21.36748600113508,21.200695872926204,22.01369289812353,22.566591294434502,23.37506983520533,21.71287420033583,22.22115939634837,21.980806569419663,22.656213206393083,22.78039148274148,29.34912053121015,23.106240821813323,22.6864713212884,21.80157845005737,22.83017746733549,25.19547735910425,22.87703413110405,23.851889566680168,23.117104429405018,21.95226187362711,22.245734890968208,22.264959836564092,22.63659372958273,22.273218041153783,23.30622089216657,22.73424897070416,20.668562181626186,21.99682083794402,22.32739456358077,22.427569140924653,21.88938064336853,22.386603847549186,22.203904354738675,23.777399317372183,23.500248801475504,25.4812871100888,24.03444056722065,21.689651627378105,22.108174135722837,21.650516160013748,22.58469477458189,22.165353615432185,22.1508632975006,22.348752226565978,21.118004292016863,23.64064597032221,23.78054358349241,22.663765524262526,21.42014900025208,19.95254899670249,20.64315042355907,21.81645471089883,21.645470626745205,21.293735196685503,22.383088274908246,21.51849684213872,22.2631565996956,20.44803436478252,20.96191909489753,21.93887163261148,22.256379533197283,21.979252249824523,25.443030334386712,21.94393707872283,21.199621679099945,20.364275043930583,19.984868683246983,19.541638118203025,19.732551479902117,18.46861054993466,18.42529540807176,19.287559879489624,19.82069237387991,19.89762928806724,17.776662181241942,17.99293186454311,17.113009511412113,17.073842851112605,16.57337048353013,15.966843532458922,16.58205157424161,16.31111526852444,17.028772243223884,17.86326905355559,16.686925296104306,16.701979424060546,16.79463735548206,15.91647270569968,15.418309097723563,14.282249988725122,15.35677745507136,15.172029135281162,16.282814641360197,16.274383059155866,16.602883788951825,15.57307026791993,16.13907844520992,17.181523070844104,15.644517364647715,16.20280086594533,16.193910186861956,14.723947213155247,14.809076706169686,16.785327017372346,14.406533738677906,14.742436500335478,16.56094020614478,15.13328528673636,15.97443979149562,15.017544364168218,16.96854964005682,17.96186289026559,17.734613668829535,16.880375911548242,15.808436298743349,14.951580801335249,16.98480638336928,16.28116592809826,16.840417223496917,16.49578444937628,14.518415234135936,15.568204003897794,15.656614699550282,15.013470664324034,13.364385082837376,13.03951149536403,12.057613918642838,11.80923807644722,12.604405773616527,13.414561865538989,12.922714051102163,12.630472411325067,12.090647338148765,11.822614635355674,11.7651982983067,10.763905722138322,11.316182675306395,10.575297162586187,11.471581622847602,10.866124231485763,9.96312460588669,9.80852659934153,9.42274908886357,9.350313204411004,10.31147820300828,10.144713670160364,9.16770604691594,8.725722626003542,8.537223515454787,8.849269398840528,8.319339452533134,8.488256572057761,8.32946770487242,7.381893652073336,6.941641793229054,6.79134132925015,6.110882119729014,7.338479106645753,8.204427548936616,8.065642532451681,7.256189202466283,6.544527130286421,7.342619471127131,7.253704290341156,8.469018819618663,8.480150984816904,7.813752758285369,9.22573605339758,9.740461750467777,9.136993920928608,7.888653161021629,8.54214204041469,8.850679774445565,9.411274570066412,9.486136778276885,9.030529697942791,9.064194453420209,8.065947270730248,8.509167459586912,7.778000942493454,7.912805551908455,9.5884670076105,9.31077403340434,8.890473669647278,8.364123004639302,8.412683385585773,8.993678899259955,9.355446702044006,7.907810235520848,8.100179425703951,7.875039988818542,7.807945893452366,8.802301290756432,8.478451713303475,7.548164819916028,7.453524819593712,7.840831875024458,6.72298769258939,7.80518184402739,7.307386974483623,8.049292671186763,7.432925547494252,7.193272755535955,6.952193633737178,8.431012668556964,8.440738867275773,8.104614432171585,7.83293738997811,7.762261700881334,8.57442230644092,7.862663982140848,8.251473671027204,8.189654093592347,7.679695314033454,7.843871598740543,7.62503578499484,8.233959442975593,8.293402211277622,8.141008527494012,7.977707896957859,6.816357747253322,7.909021547790456,8.769215860659187,9.3606104555012,8.98715404560614,9.845326960053734,9.924258087182952,9.943327104851804,9.979828199584114,8.40509234392789,9.517243385119086,10.230322155638596,8.757139310051276,9.051802068424676,7.461583651076988,8.982232977591368,8.815190640201902,8.813193001888816,8.633031468388479,7.11588853566393,8.17718187995523,8.188905207044296,9.120070530782964,10.03837543567766,9.710472141865086,9.875101239219363,12.088171469612124,10.520217172364948,10.91756923478767,10.02805019456212,12.949227586697017,12.517516453244182,11.51265426516548,11.26816909067707,11.506577566277862,10.711392121065709,10.690641906598763,12.285542299799312,12.125183849768304,12.585931458205764,10.692579122900964,11.339623362056464,11.494021269699,13.222214094581462,12.350970964386802,13.233753225159528,12.394539677950622,10.741993492751764,11.510448037769825,11.128767535654248,12.256410461979932,12.78166006688632,10.397879307509882,11.968146445175815,11.778173570225317,11.7931016053214,11.263145674785758,9.20251292000928,11.025117716963424,10.663166007728917,12.127935635996009,12.50601568968847,11.49710755395361,13.029803095315716,10.632242194426764,11.925813110757948,12.60661472567574,13.483628384178378,12.91595328829491,12.329253830180408,12.567247723166975,12.54895675439056,12.141086368768024,12.783440943800889,12.287489232892344,14.651229629284732,13.227384431531403,13.66934635325918,14.001064813776631,15.168628164412375,15.524328364204656,13.589941683144112,14.036091516530044,15.577543688051724,14.786496804397316,15.675497296196044,14.846614727461736,15.719937256943242,16.53325632280948,16.349338853895297,15.750605014927698,17.98092330523912,16.582963012580333,16.857015560669904,16.03411645884365,15.430770163460403,16.112259342172923,16.641279724807426,16.366369932666885,16.487210957785727,16.67871503879775,15.816009618097503,16.848945339771973,16.420433974767537,16.564094932225586,15.784934227605738,16.77578008609193,16.97198917857764,17.37057034773933,17.53135017748532,17.5529734222195,16.73776783364314,16.77979901491636,16.439309745150474,15.898315407399322,17.601570792304003,17.534802426202017,17.6702502746739,19.33230436572917,21.130594003990364,19.170043282153376,19.429782578362577,19.852315209026347,23.90946291839946,23.22121648009613,20.610091709123456,23.952148074590603,21.862601527442685,21.449243746137626,22.41030224186321,22.342958822815604,21.27025067885199,20.540650740464503,21.84906404328428,21.691065843924303,20.752515501403938,21.70330837593988],\"type\":\"scatter\"}],                        {\"template\":{\"data\":{\"histogram2dcontour\":[{\"type\":\"histogram2dcontour\",\"colorbar\":{\"outlinewidth\":0,\"ticks\":\"\"},\"colorscale\":[[0.0,\"#0d0887\"],[0.1111111111111111,\"#46039f\"],[0.2222222222222222,\"#7201a8\"],[0.3333333333333333,\"#9c179e\"],[0.4444444444444444,\"#bd3786\"],[0.5555555555555556,\"#d8576b\"],[0.6666666666666666,\"#ed7953\"],[0.7777777777777778,\"#fb9f3a\"],[0.8888888888888888,\"#fdca26\"],[1.0,\"#f0f921\"]]}],\"choropleth\":[{\"type\":\"choropleth\",\"colorbar\":{\"outlinewidth\":0,\"ticks\":\"\"}}],\"histogram2d\":[{\"type\":\"histogram2d\",\"colorbar\":{\"outlinewidth\":0,\"ticks\":\"\"},\"colorscale\":[[0.0,\"#0d0887\"],[0.1111111111111111,\"#46039f\"],[0.2222222222222222,\"#7201a8\"],[0.3333333333333333,\"#9c179e\"],[0.4444444444444444,\"#bd3786\"],[0.5555555555555556,\"#d8576b\"],[0.6666666666666666,\"#ed7953\"],[0.7777777777777778,\"#fb9f3a\"],[0.8888888888888888,\"#fdca26\"],[1.0,\"#f0f921\"]]}],\"heatmap\":[{\"type\":\"heatmap\",\"colorbar\":{\"outlinewidth\":0,\"ticks\":\"\"},\"colorscale\":[[0.0,\"#0d0887\"],[0.1111111111111111,\"#46039f\"],[0.2222222222222222,\"#7201a8\"],[0.3333333333333333,\"#9c179e\"],[0.4444444444444444,\"#bd3786\"],[0.5555555555555556,\"#d8576b\"],[0.6666666666666666,\"#ed7953\"],[0.7777777777777778,\"#fb9f3a\"],[0.8888888888888888,\"#fdca26\"],[1.0,\"#f0f921\"]]}],\"heatmapgl\":[{\"type\":\"heatmapgl\",\"colorbar\":{\"outlinewidth\":0,\"ticks\":\"\"},\"colorscale\":[[0.0,\"#0d0887\"],[0.1111111111111111,\"#46039f\"],[0.2222222222222222,\"#7201a8\"],[0.3333333333333333,\"#9c179e\"],[0.4444444444444444,\"#bd3786\"],[0.5555555555555556,\"#d8576b\"],[0.6666666666666666,\"#ed7953\"],[0.7777777777777778,\"#fb9f3a\"],[0.8888888888888888,\"#fdca26\"],[1.0,\"#f0f921\"]]}],\"contourcarpet\":[{\"type\":\"contourcarpet\",\"colorbar\":{\"outlinewidth\":0,\"ticks\":\"\"}}],\"contour\":[{\"type\":\"contour\",\"colorbar\":{\"outlinewidth\":0,\"ticks\":\"\"},\"colorscale\":[[0.0,\"#0d0887\"],[0.1111111111111111,\"#46039f\"],[0.2222222222222222,\"#7201a8\"],[0.3333333333333333,\"#9c179e\"],[0.4444444444444444,\"#bd3786\"],[0.5555555555555556,\"#d8576b\"],[0.6666666666666666,\"#ed7953\"],[0.7777777777777778,\"#fb9f3a\"],[0.8888888888888888,\"#fdca26\"],[1.0,\"#f0f921\"]]}],\"surface\":[{\"type\":\"surface\",\"colorbar\":{\"outlinewidth\":0,\"ticks\":\"\"},\"colorscale\":[[0.0,\"#0d0887\"],[0.1111111111111111,\"#46039f\"],[0.2222222222222222,\"#7201a8\"],[0.3333333333333333,\"#9c179e\"],[0.4444444444444444,\"#bd3786\"],[0.5555555555555556,\"#d8576b\"],[0.6666666666666666,\"#ed7953\"],[0.7777777777777778,\"#fb9f3a\"],[0.8888888888888888,\"#fdca26\"],[1.0,\"#f0f921\"]]}],\"mesh3d\":[{\"type\":\"mesh3d\",\"colorbar\":{\"outlinewidth\":0,\"ticks\":\"\"}}],\"scatter\":[{\"fillpattern\":{\"fillmode\":\"overlay\",\"size\":10,\"solidity\":0.2},\"type\":\"scatter\"}],\"parcoords\":[{\"type\":\"parcoords\",\"line\":{\"colorbar\":{\"outlinewidth\":0,\"ticks\":\"\"}}}],\"scatterpolargl\":[{\"type\":\"scatterpolargl\",\"marker\":{\"colorbar\":{\"outlinewidth\":0,\"ticks\":\"\"}}}],\"bar\":[{\"error_x\":{\"color\":\"#2a3f5f\"},\"error_y\":{\"color\":\"#2a3f5f\"},\"marker\":{\"line\":{\"color\":\"#E5ECF6\",\"width\":0.5},\"pattern\":{\"fillmode\":\"overlay\",\"size\":10,\"solidity\":0.2}},\"type\":\"bar\"}],\"scattergeo\":[{\"type\":\"scattergeo\",\"marker\":{\"colorbar\":{\"outlinewidth\":0,\"ticks\":\"\"}}}],\"scatterpolar\":[{\"type\":\"scatterpolar\",\"marker\":{\"colorbar\":{\"outlinewidth\":0,\"ticks\":\"\"}}}],\"histogram\":[{\"marker\":{\"pattern\":{\"fillmode\":\"overlay\",\"size\":10,\"solidity\":0.2}},\"type\":\"histogram\"}],\"scattergl\":[{\"type\":\"scattergl\",\"marker\":{\"colorbar\":{\"outlinewidth\":0,\"ticks\":\"\"}}}],\"scatter3d\":[{\"type\":\"scatter3d\",\"line\":{\"colorbar\":{\"outlinewidth\":0,\"ticks\":\"\"}},\"marker\":{\"colorbar\":{\"outlinewidth\":0,\"ticks\":\"\"}}}],\"scattermapbox\":[{\"type\":\"scattermapbox\",\"marker\":{\"colorbar\":{\"outlinewidth\":0,\"ticks\":\"\"}}}],\"scatterternary\":[{\"type\":\"scatterternary\",\"marker\":{\"colorbar\":{\"outlinewidth\":0,\"ticks\":\"\"}}}],\"scattercarpet\":[{\"type\":\"scattercarpet\",\"marker\":{\"colorbar\":{\"outlinewidth\":0,\"ticks\":\"\"}}}],\"carpet\":[{\"aaxis\":{\"endlinecolor\":\"#2a3f5f\",\"gridcolor\":\"white\",\"linecolor\":\"white\",\"minorgridcolor\":\"white\",\"startlinecolor\":\"#2a3f5f\"},\"baxis\":{\"endlinecolor\":\"#2a3f5f\",\"gridcolor\":\"white\",\"linecolor\":\"white\",\"minorgridcolor\":\"white\",\"startlinecolor\":\"#2a3f5f\"},\"type\":\"carpet\"}],\"table\":[{\"cells\":{\"fill\":{\"color\":\"#EBF0F8\"},\"line\":{\"color\":\"white\"}},\"header\":{\"fill\":{\"color\":\"#C8D4E3\"},\"line\":{\"color\":\"white\"}},\"type\":\"table\"}],\"barpolar\":[{\"marker\":{\"line\":{\"color\":\"#E5ECF6\",\"width\":0.5},\"pattern\":{\"fillmode\":\"overlay\",\"size\":10,\"solidity\":0.2}},\"type\":\"barpolar\"}],\"pie\":[{\"automargin\":true,\"type\":\"pie\"}]},\"layout\":{\"autotypenumbers\":\"strict\",\"colorway\":[\"#636efa\",\"#EF553B\",\"#00cc96\",\"#ab63fa\",\"#FFA15A\",\"#19d3f3\",\"#FF6692\",\"#B6E880\",\"#FF97FF\",\"#FECB52\"],\"font\":{\"color\":\"#2a3f5f\"},\"hovermode\":\"closest\",\"hoverlabel\":{\"align\":\"left\"},\"paper_bgcolor\":\"white\",\"plot_bgcolor\":\"#E5ECF6\",\"polar\":{\"bgcolor\":\"#E5ECF6\",\"angularaxis\":{\"gridcolor\":\"white\",\"linecolor\":\"white\",\"ticks\":\"\"},\"radialaxis\":{\"gridcolor\":\"white\",\"linecolor\":\"white\",\"ticks\":\"\"}},\"ternary\":{\"bgcolor\":\"#E5ECF6\",\"aaxis\":{\"gridcolor\":\"white\",\"linecolor\":\"white\",\"ticks\":\"\"},\"baxis\":{\"gridcolor\":\"white\",\"linecolor\":\"white\",\"ticks\":\"\"},\"caxis\":{\"gridcolor\":\"white\",\"linecolor\":\"white\",\"ticks\":\"\"}},\"coloraxis\":{\"colorbar\":{\"outlinewidth\":0,\"ticks\":\"\"}},\"colorscale\":{\"sequential\":[[0.0,\"#0d0887\"],[0.1111111111111111,\"#46039f\"],[0.2222222222222222,\"#7201a8\"],[0.3333333333333333,\"#9c179e\"],[0.4444444444444444,\"#bd3786\"],[0.5555555555555556,\"#d8576b\"],[0.6666666666666666,\"#ed7953\"],[0.7777777777777778,\"#fb9f3a\"],[0.8888888888888888,\"#fdca26\"],[1.0,\"#f0f921\"]],\"sequentialminus\":[[0.0,\"#0d0887\"],[0.1111111111111111,\"#46039f\"],[0.2222222222222222,\"#7201a8\"],[0.3333333333333333,\"#9c179e\"],[0.4444444444444444,\"#bd3786\"],[0.5555555555555556,\"#d8576b\"],[0.6666666666666666,\"#ed7953\"],[0.7777777777777778,\"#fb9f3a\"],[0.8888888888888888,\"#fdca26\"],[1.0,\"#f0f921\"]],\"diverging\":[[0,\"#8e0152\"],[0.1,\"#c51b7d\"],[0.2,\"#de77ae\"],[0.3,\"#f1b6da\"],[0.4,\"#fde0ef\"],[0.5,\"#f7f7f7\"],[0.6,\"#e6f5d0\"],[0.7,\"#b8e186\"],[0.8,\"#7fbc41\"],[0.9,\"#4d9221\"],[1,\"#276419\"]]},\"xaxis\":{\"gridcolor\":\"white\",\"linecolor\":\"white\",\"ticks\":\"\",\"title\":{\"standoff\":15},\"zerolinecolor\":\"white\",\"automargin\":true,\"zerolinewidth\":2},\"yaxis\":{\"gridcolor\":\"white\",\"linecolor\":\"white\",\"ticks\":\"\",\"title\":{\"standoff\":15},\"zerolinecolor\":\"white\",\"automargin\":true,\"zerolinewidth\":2},\"scene\":{\"xaxis\":{\"backgroundcolor\":\"#E5ECF6\",\"gridcolor\":\"white\",\"linecolor\":\"white\",\"showbackground\":true,\"ticks\":\"\",\"zerolinecolor\":\"white\",\"gridwidth\":2},\"yaxis\":{\"backgroundcolor\":\"#E5ECF6\",\"gridcolor\":\"white\",\"linecolor\":\"white\",\"showbackground\":true,\"ticks\":\"\",\"zerolinecolor\":\"white\",\"gridwidth\":2},\"zaxis\":{\"backgroundcolor\":\"#E5ECF6\",\"gridcolor\":\"white\",\"linecolor\":\"white\",\"showbackground\":true,\"ticks\":\"\",\"zerolinecolor\":\"white\",\"gridwidth\":2}},\"shapedefaults\":{\"line\":{\"color\":\"#2a3f5f\"}},\"annotationdefaults\":{\"arrowcolor\":\"#2a3f5f\",\"arrowhead\":0,\"arrowwidth\":1},\"geo\":{\"bgcolor\":\"white\",\"landcolor\":\"#E5ECF6\",\"subunitcolor\":\"white\",\"showland\":true,\"showlakes\":true,\"lakecolor\":\"white\"},\"title\":{\"x\":0.05},\"mapbox\":{\"style\":\"light\"}}}},                        {\"responsive\": true}                    ).then(function(){\n",
       "                            \n",
       "var gd = document.getElementById('5b55db2b-d9fa-4c4c-b03d-e5541ab7464b');\n",
       "var x = new MutationObserver(function (mutations, observer) {{\n",
       "        var display = window.getComputedStyle(gd).display;\n",
       "        if (!display || display === 'none') {{\n",
       "            console.log([gd, 'removed!']);\n",
       "            Plotly.purge(gd);\n",
       "            observer.disconnect();\n",
       "        }}\n",
       "}});\n",
       "\n",
       "// Listen for the removal of the full notebook cells\n",
       "var notebookContainer = gd.closest('#notebook-container');\n",
       "if (notebookContainer) {{\n",
       "    x.observe(notebookContainer, {childList: true});\n",
       "}}\n",
       "\n",
       "// Listen for the clearing of the current output cell\n",
       "var outputEl = gd.closest('.output');\n",
       "if (outputEl) {{\n",
       "    x.observe(outputEl, {childList: true});\n",
       "}}\n",
       "\n",
       "                        })                };                });            </script>        </div>"
      ]
     },
     "metadata": {},
     "output_type": "display_data"
    }
   ],
   "source": [
    "df_tem_pre= pd.read_csv('https://github.com/hongdoudahongdou/MDA/blob/main/data/temperature_result.csv?raw=true')\n",
    "df_tem_pre['Date']=pd.date_range(start='2022-06-30', end='2023-06-30')\n",
    "df_tem_pre.rename(columns={'tmax': 'True value'}, inplace=True)\n",
    "fig_tem_pre = go.Figure()\n",
    "fig_tem_pre.add_trace(go.Scatter(x=df_tem_pre['Date'], y=df_tem_pre['True value'], mode='lines', name='True value'))\n",
    "fig_tem_pre.add_trace(go.Scatter(x=df_tem_pre['Date'], y=df_tem_pre['Predicted_ARIMA'], mode='lines', name='Predicted_ARIMA'))\n",
    "fig_tem_pre.add_trace(go.Scatter(x=df_tem_pre['Date'], y=df_tem_pre['Predicted_rf'], mode='lines', name='Predicted_RandomForest'))\n",
    "fig_tem_pre"
   ]
  },
  {
   "cell_type": "code",
   "execution_count": 51,
   "id": "ec2d19cd",
   "metadata": {},
   "outputs": [
    {
     "data": {
      "application/vnd.plotly.v1+json": {
       "config": {
        "plotlyServerURL": "https://plot.ly"
       },
       "data": [
        {
         "mode": "lines",
         "name": "ARIMA_ERROR",
         "type": "scatter",
         "x": [
          "2022-06-30T00:00:00",
          "2022-07-01T00:00:00",
          "2022-07-02T00:00:00",
          "2022-07-03T00:00:00",
          "2022-07-04T00:00:00",
          "2022-07-05T00:00:00",
          "2022-07-06T00:00:00",
          "2022-07-07T00:00:00",
          "2022-07-08T00:00:00",
          "2022-07-09T00:00:00",
          "2022-07-10T00:00:00",
          "2022-07-11T00:00:00",
          "2022-07-12T00:00:00",
          "2022-07-13T00:00:00",
          "2022-07-14T00:00:00",
          "2022-07-15T00:00:00",
          "2022-07-16T00:00:00",
          "2022-07-17T00:00:00",
          "2022-07-18T00:00:00",
          "2022-07-19T00:00:00",
          "2022-07-20T00:00:00",
          "2022-07-21T00:00:00",
          "2022-07-22T00:00:00",
          "2022-07-23T00:00:00",
          "2022-07-24T00:00:00",
          "2022-07-25T00:00:00",
          "2022-07-26T00:00:00",
          "2022-07-27T00:00:00",
          "2022-07-28T00:00:00",
          "2022-07-29T00:00:00",
          "2022-07-30T00:00:00",
          "2022-07-31T00:00:00",
          "2022-08-01T00:00:00",
          "2022-08-02T00:00:00",
          "2022-08-03T00:00:00",
          "2022-08-04T00:00:00",
          "2022-08-05T00:00:00",
          "2022-08-06T00:00:00",
          "2022-08-07T00:00:00",
          "2022-08-08T00:00:00",
          "2022-08-09T00:00:00",
          "2022-08-10T00:00:00",
          "2022-08-11T00:00:00",
          "2022-08-12T00:00:00",
          "2022-08-13T00:00:00",
          "2022-08-14T00:00:00",
          "2022-08-15T00:00:00",
          "2022-08-16T00:00:00",
          "2022-08-17T00:00:00",
          "2022-08-18T00:00:00",
          "2022-08-19T00:00:00",
          "2022-08-20T00:00:00",
          "2022-08-21T00:00:00",
          "2022-08-22T00:00:00",
          "2022-08-23T00:00:00",
          "2022-08-24T00:00:00",
          "2022-08-25T00:00:00",
          "2022-08-26T00:00:00",
          "2022-08-27T00:00:00",
          "2022-08-28T00:00:00",
          "2022-08-29T00:00:00",
          "2022-08-30T00:00:00",
          "2022-08-31T00:00:00",
          "2022-09-01T00:00:00",
          "2022-09-02T00:00:00",
          "2022-09-03T00:00:00",
          "2022-09-04T00:00:00",
          "2022-09-05T00:00:00",
          "2022-09-06T00:00:00",
          "2022-09-07T00:00:00",
          "2022-09-08T00:00:00",
          "2022-09-09T00:00:00",
          "2022-09-10T00:00:00",
          "2022-09-11T00:00:00",
          "2022-09-12T00:00:00",
          "2022-09-13T00:00:00",
          "2022-09-14T00:00:00",
          "2022-09-15T00:00:00",
          "2022-09-16T00:00:00",
          "2022-09-17T00:00:00",
          "2022-09-18T00:00:00",
          "2022-09-19T00:00:00",
          "2022-09-20T00:00:00",
          "2022-09-21T00:00:00",
          "2022-09-22T00:00:00",
          "2022-09-23T00:00:00",
          "2022-09-24T00:00:00",
          "2022-09-25T00:00:00",
          "2022-09-26T00:00:00",
          "2022-09-27T00:00:00",
          "2022-09-28T00:00:00",
          "2022-09-29T00:00:00",
          "2022-09-30T00:00:00",
          "2022-10-01T00:00:00",
          "2022-10-02T00:00:00",
          "2022-10-03T00:00:00",
          "2022-10-04T00:00:00",
          "2022-10-05T00:00:00",
          "2022-10-06T00:00:00",
          "2022-10-07T00:00:00",
          "2022-10-08T00:00:00",
          "2022-10-09T00:00:00",
          "2022-10-10T00:00:00",
          "2022-10-11T00:00:00",
          "2022-10-12T00:00:00",
          "2022-10-13T00:00:00",
          "2022-10-14T00:00:00",
          "2022-10-15T00:00:00",
          "2022-10-16T00:00:00",
          "2022-10-17T00:00:00",
          "2022-10-18T00:00:00",
          "2022-10-19T00:00:00",
          "2022-10-20T00:00:00",
          "2022-10-21T00:00:00",
          "2022-10-22T00:00:00",
          "2022-10-23T00:00:00",
          "2022-10-24T00:00:00",
          "2022-10-25T00:00:00",
          "2022-10-26T00:00:00",
          "2022-10-27T00:00:00",
          "2022-10-28T00:00:00",
          "2022-10-29T00:00:00",
          "2022-10-30T00:00:00",
          "2022-10-31T00:00:00",
          "2022-11-01T00:00:00",
          "2022-11-02T00:00:00",
          "2022-11-03T00:00:00",
          "2022-11-04T00:00:00",
          "2022-11-05T00:00:00",
          "2022-11-06T00:00:00",
          "2022-11-07T00:00:00",
          "2022-11-08T00:00:00",
          "2022-11-09T00:00:00",
          "2022-11-10T00:00:00",
          "2022-11-11T00:00:00",
          "2022-11-12T00:00:00",
          "2022-11-13T00:00:00",
          "2022-11-14T00:00:00",
          "2022-11-15T00:00:00",
          "2022-11-16T00:00:00",
          "2022-11-17T00:00:00",
          "2022-11-18T00:00:00",
          "2022-11-19T00:00:00",
          "2022-11-20T00:00:00",
          "2022-11-21T00:00:00",
          "2022-11-22T00:00:00",
          "2022-11-23T00:00:00",
          "2022-11-24T00:00:00",
          "2022-11-25T00:00:00",
          "2022-11-26T00:00:00",
          "2022-11-27T00:00:00",
          "2022-11-28T00:00:00",
          "2022-11-29T00:00:00",
          "2022-11-30T00:00:00",
          "2022-12-01T00:00:00",
          "2022-12-02T00:00:00",
          "2022-12-03T00:00:00",
          "2022-12-04T00:00:00",
          "2022-12-05T00:00:00",
          "2022-12-06T00:00:00",
          "2022-12-07T00:00:00",
          "2022-12-08T00:00:00",
          "2022-12-09T00:00:00",
          "2022-12-10T00:00:00",
          "2022-12-11T00:00:00",
          "2022-12-12T00:00:00",
          "2022-12-13T00:00:00",
          "2022-12-14T00:00:00",
          "2022-12-15T00:00:00",
          "2022-12-16T00:00:00",
          "2022-12-17T00:00:00",
          "2022-12-18T00:00:00",
          "2022-12-19T00:00:00",
          "2022-12-20T00:00:00",
          "2022-12-21T00:00:00",
          "2022-12-22T00:00:00",
          "2022-12-23T00:00:00",
          "2022-12-24T00:00:00",
          "2022-12-25T00:00:00",
          "2022-12-26T00:00:00",
          "2022-12-27T00:00:00",
          "2022-12-28T00:00:00",
          "2022-12-29T00:00:00",
          "2022-12-30T00:00:00",
          "2022-12-31T00:00:00",
          "2023-01-01T00:00:00",
          "2023-01-02T00:00:00",
          "2023-01-03T00:00:00",
          "2023-01-04T00:00:00",
          "2023-01-05T00:00:00",
          "2023-01-06T00:00:00",
          "2023-01-07T00:00:00",
          "2023-01-08T00:00:00",
          "2023-01-09T00:00:00",
          "2023-01-10T00:00:00",
          "2023-01-11T00:00:00",
          "2023-01-12T00:00:00",
          "2023-01-13T00:00:00",
          "2023-01-14T00:00:00",
          "2023-01-15T00:00:00",
          "2023-01-16T00:00:00",
          "2023-01-17T00:00:00",
          "2023-01-18T00:00:00",
          "2023-01-19T00:00:00",
          "2023-01-20T00:00:00",
          "2023-01-21T00:00:00",
          "2023-01-22T00:00:00",
          "2023-01-23T00:00:00",
          "2023-01-24T00:00:00",
          "2023-01-25T00:00:00",
          "2023-01-26T00:00:00",
          "2023-01-27T00:00:00",
          "2023-01-28T00:00:00",
          "2023-01-29T00:00:00",
          "2023-01-30T00:00:00",
          "2023-01-31T00:00:00",
          "2023-02-01T00:00:00",
          "2023-02-02T00:00:00",
          "2023-02-03T00:00:00",
          "2023-02-04T00:00:00",
          "2023-02-05T00:00:00",
          "2023-02-06T00:00:00",
          "2023-02-07T00:00:00",
          "2023-02-08T00:00:00",
          "2023-02-09T00:00:00",
          "2023-02-10T00:00:00",
          "2023-02-11T00:00:00",
          "2023-02-12T00:00:00",
          "2023-02-13T00:00:00",
          "2023-02-14T00:00:00",
          "2023-02-15T00:00:00",
          "2023-02-16T00:00:00",
          "2023-02-17T00:00:00",
          "2023-02-18T00:00:00",
          "2023-02-19T00:00:00",
          "2023-02-20T00:00:00",
          "2023-02-21T00:00:00",
          "2023-02-22T00:00:00",
          "2023-02-23T00:00:00",
          "2023-02-24T00:00:00",
          "2023-02-25T00:00:00",
          "2023-02-26T00:00:00",
          "2023-02-27T00:00:00",
          "2023-02-28T00:00:00",
          "2023-03-01T00:00:00",
          "2023-03-02T00:00:00",
          "2023-03-03T00:00:00",
          "2023-03-04T00:00:00",
          "2023-03-05T00:00:00",
          "2023-03-06T00:00:00",
          "2023-03-07T00:00:00",
          "2023-03-08T00:00:00",
          "2023-03-09T00:00:00",
          "2023-03-10T00:00:00",
          "2023-03-11T00:00:00",
          "2023-03-12T00:00:00",
          "2023-03-13T00:00:00",
          "2023-03-14T00:00:00",
          "2023-03-15T00:00:00",
          "2023-03-16T00:00:00",
          "2023-03-17T00:00:00",
          "2023-03-18T00:00:00",
          "2023-03-19T00:00:00",
          "2023-03-20T00:00:00",
          "2023-03-21T00:00:00",
          "2023-03-22T00:00:00",
          "2023-03-23T00:00:00",
          "2023-03-24T00:00:00",
          "2023-03-25T00:00:00",
          "2023-03-26T00:00:00",
          "2023-03-27T00:00:00",
          "2023-03-28T00:00:00",
          "2023-03-29T00:00:00",
          "2023-03-30T00:00:00",
          "2023-03-31T00:00:00",
          "2023-04-01T00:00:00",
          "2023-04-02T00:00:00",
          "2023-04-03T00:00:00",
          "2023-04-04T00:00:00",
          "2023-04-05T00:00:00",
          "2023-04-06T00:00:00",
          "2023-04-07T00:00:00",
          "2023-04-08T00:00:00",
          "2023-04-09T00:00:00",
          "2023-04-10T00:00:00",
          "2023-04-11T00:00:00",
          "2023-04-12T00:00:00",
          "2023-04-13T00:00:00",
          "2023-04-14T00:00:00",
          "2023-04-15T00:00:00",
          "2023-04-16T00:00:00",
          "2023-04-17T00:00:00",
          "2023-04-18T00:00:00",
          "2023-04-19T00:00:00",
          "2023-04-20T00:00:00",
          "2023-04-21T00:00:00",
          "2023-04-22T00:00:00",
          "2023-04-23T00:00:00",
          "2023-04-24T00:00:00",
          "2023-04-25T00:00:00",
          "2023-04-26T00:00:00",
          "2023-04-27T00:00:00",
          "2023-04-28T00:00:00",
          "2023-04-29T00:00:00",
          "2023-04-30T00:00:00",
          "2023-05-01T00:00:00",
          "2023-05-02T00:00:00",
          "2023-05-03T00:00:00",
          "2023-05-04T00:00:00",
          "2023-05-05T00:00:00",
          "2023-05-06T00:00:00",
          "2023-05-07T00:00:00",
          "2023-05-08T00:00:00",
          "2023-05-09T00:00:00",
          "2023-05-10T00:00:00",
          "2023-05-11T00:00:00",
          "2023-05-12T00:00:00",
          "2023-05-13T00:00:00",
          "2023-05-14T00:00:00",
          "2023-05-15T00:00:00",
          "2023-05-16T00:00:00",
          "2023-05-17T00:00:00",
          "2023-05-18T00:00:00",
          "2023-05-19T00:00:00",
          "2023-05-20T00:00:00",
          "2023-05-21T00:00:00",
          "2023-05-22T00:00:00",
          "2023-05-23T00:00:00",
          "2023-05-24T00:00:00",
          "2023-05-25T00:00:00",
          "2023-05-26T00:00:00",
          "2023-05-27T00:00:00",
          "2023-05-28T00:00:00",
          "2023-05-29T00:00:00",
          "2023-05-30T00:00:00",
          "2023-05-31T00:00:00",
          "2023-06-01T00:00:00",
          "2023-06-02T00:00:00",
          "2023-06-03T00:00:00",
          "2023-06-04T00:00:00",
          "2023-06-05T00:00:00",
          "2023-06-06T00:00:00",
          "2023-06-07T00:00:00",
          "2023-06-08T00:00:00",
          "2023-06-09T00:00:00",
          "2023-06-10T00:00:00",
          "2023-06-11T00:00:00",
          "2023-06-12T00:00:00",
          "2023-06-13T00:00:00",
          "2023-06-14T00:00:00",
          "2023-06-15T00:00:00",
          "2023-06-16T00:00:00",
          "2023-06-17T00:00:00",
          "2023-06-18T00:00:00",
          "2023-06-19T00:00:00",
          "2023-06-20T00:00:00",
          "2023-06-21T00:00:00",
          "2023-06-22T00:00:00",
          "2023-06-23T00:00:00",
          "2023-06-24T00:00:00",
          "2023-06-25T00:00:00",
          "2023-06-26T00:00:00",
          "2023-06-27T00:00:00",
          "2023-06-28T00:00:00",
          "2023-06-29T00:00:00",
          "2023-06-30T00:00:00"
         ],
         "y": [
          null,
          null,
          -2.77963265624847,
          0.6978852913654556,
          -1.077738724097923,
          0.8209918058177408,
          -1.0147104019647095,
          2.056409623729568,
          -3.8388299997446715,
          2.299485661116883,
          -3.618989538154036,
          -2.103621340337188,
          -6.146645180193179,
          2.9528654324124872,
          1.750034324614088,
          1.0005405288950229,
          -1.583724109304029,
          -3.9848707638427996,
          -8.284164708831455,
          -7.293978232358537,
          9.846474869832171,
          4.778332589117731,
          2.0811676163558523,
          -0.05602983634959102,
          -4.770894644831252,
          5.492708170118657,
          3.260552819713432,
          0.9964380037005718,
          -0.33203749335159216,
          0.19211364144877052,
          -2.3908033185530115,
          0.4948259780949691,
          0.18348648666709622,
          -3.3367393378242127,
          -0.8295461039326462,
          2.647219490442712,
          2.639728445875253,
          0.37704209557659496,
          0.40683578278524024,
          -1.2442302440764834,
          -0.06048739780630896,
          -3.3676832271682677,
          -3.799205170716924,
          -2.4907430906474275,
          -3.593937201093521,
          -0.9677043171932667,
          3.6715324105461953,
          -0.8779791730927968,
          5.786936662319842,
          -0.2865765815294985,
          2.640049924263476,
          1.2858385305163047,
          0.29825339909056936,
          -4.725951270418015,
          0.663245456758137,
          -1.1668267488471749,
          2.057094063378319,
          2.2493532567348957,
          0.7761830657133508,
          0.6744693425837838,
          0.8723747949564675,
          -0.519623073847054,
          0.3235747137097533,
          -3.5596048669826565,
          0.0075283508312864456,
          0.20555053426467396,
          0.9684574105215624,
          -1.6533877620632573,
          0.10818876220735518,
          2.040944354022809,
          1.4421866510456596,
          3.2256216264115416,
          0.941155371956242,
          -0.9672718583742501,
          -3.7553113328796,
          2.816192428523472,
          4.90882841139803,
          -0.002830913776030286,
          3.38599181307951,
          2.0340499974302606,
          0.2846416600795507,
          0.7060481507780239,
          0.15519522824380516,
          -0.352941548150401,
          -1.8057715781731751,
          0.6623624762388687,
          0.9317591080362568,
          1.7401658779595355,
          1.5939701500295769,
          2.0027023430456143,
          1.0472248734276555,
          -0.7135878683653356,
          -1.56486479795824,
          -1.663030647867707,
          0.7582065405393941,
          -0.9260365217278377,
          -1.1326744870153576,
          -0.5693712419630508,
          0.2345164284748691,
          -0.37052106583771405,
          2.493998344641307,
          -1.3178722078703,
          2.70028506493923,
          0.10656041709366626,
          -0.12530930683392505,
          2.2892049195057407,
          -2.2825546120451126,
          -1.187168844061624,
          -0.5517106460684751,
          -1.2683123373012393,
          -0.8924672802942482,
          0.9119199617799296,
          -2.672102871853788,
          -1.4794257705017486,
          1.0683240132566567,
          -1.2566466233199023,
          2.05504641410716,
          0.41844335803396504,
          -2.4014374822353766,
          -0.8812963477519347,
          -0.811636148198918,
          -1.7030087695116727,
          3.9565172167929425,
          1.468802666270875,
          1.0405415250773302,
          3.108453079166381,
          1.0363914949711663,
          2.5871536391259067,
          2.6746150152385333,
          1.414594047123984,
          -2.701175419644409,
          -1.0367137228809042,
          1.1609143628276364,
          -0.040698522248140634,
          2.018417642343124,
          3.1953711267828417,
          -3.1835213593721754,
          4.8612688688294945,
          -1.9619188541760977,
          0.780484530301985,
          -1.003356988468516,
          0.9244886525888205,
          0.6450676419165564,
          0.7039285245340317,
          1.8909983272064075,
          -0.27726326795107603,
          -1.4737208123367935,
          0.6137659342908037,
          -0.5715900247896553,
          0.1614634062267335,
          3.135053370054589,
          -2.678821139999041,
          4.519554355656576,
          -1.2680897665870425,
          1.9283184190324194,
          3.2399096911820333,
          3.2501412716836233,
          2.525129413844412,
          -1.6108509647698672,
          -1.1351234240316916,
          -0.5165149870733803,
          1.201291455225114,
          0.36688065753352817,
          -0.09663349449665404,
          4.550086939500365,
          2.6219560282707985,
          2.2226020288609227,
          -0.8532092320095732,
          -2.935417337557159,
          0.2522923797035004,
          2.548904617747885,
          -0.039190257357305525,
          -6.960644635420177,
          -4.317952346965232,
          -0.07526468833326305,
          -3.0720882287903226,
          -3.784854919462429,
          0.1421206323101245,
          0.142276185055362,
          0.029726905158582895,
          0.6029350831745823,
          -2.309721835755763,
          -0.35245826465382457,
          -2.165725609011192,
          -3.426289094039065,
          0.7440513906131621,
          1.1333724530988398,
          1.6588734413224238,
          -2.2937920707079353,
          0.8902336542393225,
          0.3713308962288622,
          1.1391912598085092,
          1.3162493724076452,
          1.3461351561286392,
          -2.5469026715986747,
          -0.3362914357953972,
          0.6588760606982991,
          0.90461453791732,
          -1.6846436145628356,
          3.912094085346398,
          2.6288157322477828,
          3.1586457368251306,
          1.2178835847248788,
          0.8123430605114024,
          -0.21398946918796824,
          2.766591581050279,
          0.24837158337800957,
          0.6793537763748017,
          1.9497973138943765,
          1.2248557465399794,
          -4.879271988811907,
          0.8643685948027988,
          0.5403339551409472,
          -3.8447392478926634,
          -0.4941767430012689,
          -2.0473081884307582,
          -0.4459947597569798,
          -2.080738077333619,
          -1.917511559150153,
          0.964053159152007,
          0.8457580948556007,
          1.0592478410535824,
          2.5247072215582174,
          0.19365891093246645,
          0.13021335245891308,
          -2.2007779479219316,
          0.10411534711590953,
          0.0331853751322857,
          -2.651652805661284,
          -1.7151381816228515,
          -1.0477109106473197,
          -0.4764515219518284,
          -0.5420917352354699,
          -0.7588110189413833,
          0.6304118619954462,
          1.7478731178542528,
          1.2361831386414046,
          -0.23517831054697247,
          1.1747851802966736,
          1.382953827692396,
          1.1271152033508658,
          2.1969944137967694,
          0.45889507260718965,
          2.2315364032057703,
          -0.5188046422805819,
          -0.16154045302282238,
          -0.6780214741524979,
          -0.42904109695818526,
          1.3063373218622836,
          -0.8182978311765297,
          0.8372904279976483,
          3.8338673680862803,
          -9.349529109638832,
          2.280720628683481,
          0.9904818432411071,
          -5.124313734683808,
          -3.8791158664883305,
          3.2335733136602496,
          0.7741353592152045,
          -4.653075193030212,
          -1.8345136866656642,
          -0.9144372918608195,
          4.183849379829464,
          -2.0363677174988357,
          -0.9807970208230152,
          0.4164642228358826,
          -3.507679471181044,
          0.8649309651894423,
          0.6408006468919503,
          2.8873412787623707,
          3.721678894945235,
          -0.8974328045909932,
          -5.83548738346906,
          0.714861215459818,
          1.3363485779288062,
          1.9126864152191771,
          2.465000531348233,
          -1.3940580892657,
          1.2844679951725322,
          -1.6488167244404934,
          -1.3193955860594588,
          1.8538932835838136,
          -0.7355605513293177,
          -4.903996189035077,
          1.678684240886792,
          -0.7053876301455144,
          2.0889717000944223,
          -1.0533249673628688,
          -0.12587390167233536,
          -0.20485391626124994,
          1.4654627382794914,
          0.3094632824494603,
          -1.8064928029079876,
          -2.0858049901806606,
          4.490575860534042,
          -1.0425585998671671,
          -1.250416472459932,
          -0.3309534982412483,
          2.117605609590921,
          1.7622643980492736,
          -0.5079566674929108,
          -3.163853482036945,
          -1.0654983837730239,
          1.2849546568799202,
          -4.177684053498815,
          1.058512570477932,
          0.4162129419936491,
          -1.2625515626188406,
          -8.20966832156618,
          2.9157178950878695,
          -2.1970613959303407,
          -0.09848461254156504,
          0.7860595259525169,
          1.0603976766182868,
          -0.569668580962988,
          2.158874146508989,
          1.3379095915550252,
          0.3129268709036914,
          1.3515699483817354,
          1.8650256540414158,
          -1.0599305383554594,
          -0.7434935186628024,
          1.5313229558899089,
          -2.7300272634098537,
          -0.9483819711765928,
          -0.16114838599072812,
          1.543795233783296,
          0.24906264659327526,
          -1.3097939072482099,
          -0.45727972363196834,
          -0.07008512311968396,
          -0.5255206366367702,
          -1.9140634724734653,
          2.365783903529593,
          0.14226093451359745,
          -1.8854251504554984,
          1.9035515681299202,
          0.4200942419727003,
          -4.105762815525541,
          0.44326825036852924,
          1.243823563921275,
          -0.20009478287658844,
          -0.9984558453417911,
          -1.1965171550434306,
          -6.330793778031886,
          -9.014098120146922,
          -3.9184797340146282,
          3.3856310332819994,
          -4.834105657168234,
          2.059051985579707,
          -0.32146568211323157,
          3.072323539342328,
          -5.160852153175039,
          1.3573694721958063,
          2.4303963679176483,
          -3.428237023848233,
          3.683873816410909,
          3.4016044777806016,
          -4.505054772086162,
          2.8413777323588043,
          -8.950460284511692,
          8.988833010191478,
          1.4680838366858886,
          -2.257483604921269,
          4.34155648235301,
          -0.11299583618610853
         ]
        },
        {
         "mode": "lines",
         "name": "RandomForest_ERROR",
         "type": "scatter",
         "x": [
          "2022-06-30T00:00:00",
          "2022-07-01T00:00:00",
          "2022-07-02T00:00:00",
          "2022-07-03T00:00:00",
          "2022-07-04T00:00:00",
          "2022-07-05T00:00:00",
          "2022-07-06T00:00:00",
          "2022-07-07T00:00:00",
          "2022-07-08T00:00:00",
          "2022-07-09T00:00:00",
          "2022-07-10T00:00:00",
          "2022-07-11T00:00:00",
          "2022-07-12T00:00:00",
          "2022-07-13T00:00:00",
          "2022-07-14T00:00:00",
          "2022-07-15T00:00:00",
          "2022-07-16T00:00:00",
          "2022-07-17T00:00:00",
          "2022-07-18T00:00:00",
          "2022-07-19T00:00:00",
          "2022-07-20T00:00:00",
          "2022-07-21T00:00:00",
          "2022-07-22T00:00:00",
          "2022-07-23T00:00:00",
          "2022-07-24T00:00:00",
          "2022-07-25T00:00:00",
          "2022-07-26T00:00:00",
          "2022-07-27T00:00:00",
          "2022-07-28T00:00:00",
          "2022-07-29T00:00:00",
          "2022-07-30T00:00:00",
          "2022-07-31T00:00:00",
          "2022-08-01T00:00:00",
          "2022-08-02T00:00:00",
          "2022-08-03T00:00:00",
          "2022-08-04T00:00:00",
          "2022-08-05T00:00:00",
          "2022-08-06T00:00:00",
          "2022-08-07T00:00:00",
          "2022-08-08T00:00:00",
          "2022-08-09T00:00:00",
          "2022-08-10T00:00:00",
          "2022-08-11T00:00:00",
          "2022-08-12T00:00:00",
          "2022-08-13T00:00:00",
          "2022-08-14T00:00:00",
          "2022-08-15T00:00:00",
          "2022-08-16T00:00:00",
          "2022-08-17T00:00:00",
          "2022-08-18T00:00:00",
          "2022-08-19T00:00:00",
          "2022-08-20T00:00:00",
          "2022-08-21T00:00:00",
          "2022-08-22T00:00:00",
          "2022-08-23T00:00:00",
          "2022-08-24T00:00:00",
          "2022-08-25T00:00:00",
          "2022-08-26T00:00:00",
          "2022-08-27T00:00:00",
          "2022-08-28T00:00:00",
          "2022-08-29T00:00:00",
          "2022-08-30T00:00:00",
          "2022-08-31T00:00:00",
          "2022-09-01T00:00:00",
          "2022-09-02T00:00:00",
          "2022-09-03T00:00:00",
          "2022-09-04T00:00:00",
          "2022-09-05T00:00:00",
          "2022-09-06T00:00:00",
          "2022-09-07T00:00:00",
          "2022-09-08T00:00:00",
          "2022-09-09T00:00:00",
          "2022-09-10T00:00:00",
          "2022-09-11T00:00:00",
          "2022-09-12T00:00:00",
          "2022-09-13T00:00:00",
          "2022-09-14T00:00:00",
          "2022-09-15T00:00:00",
          "2022-09-16T00:00:00",
          "2022-09-17T00:00:00",
          "2022-09-18T00:00:00",
          "2022-09-19T00:00:00",
          "2022-09-20T00:00:00",
          "2022-09-21T00:00:00",
          "2022-09-22T00:00:00",
          "2022-09-23T00:00:00",
          "2022-09-24T00:00:00",
          "2022-09-25T00:00:00",
          "2022-09-26T00:00:00",
          "2022-09-27T00:00:00",
          "2022-09-28T00:00:00",
          "2022-09-29T00:00:00",
          "2022-09-30T00:00:00",
          "2022-10-01T00:00:00",
          "2022-10-02T00:00:00",
          "2022-10-03T00:00:00",
          "2022-10-04T00:00:00",
          "2022-10-05T00:00:00",
          "2022-10-06T00:00:00",
          "2022-10-07T00:00:00",
          "2022-10-08T00:00:00",
          "2022-10-09T00:00:00",
          "2022-10-10T00:00:00",
          "2022-10-11T00:00:00",
          "2022-10-12T00:00:00",
          "2022-10-13T00:00:00",
          "2022-10-14T00:00:00",
          "2022-10-15T00:00:00",
          "2022-10-16T00:00:00",
          "2022-10-17T00:00:00",
          "2022-10-18T00:00:00",
          "2022-10-19T00:00:00",
          "2022-10-20T00:00:00",
          "2022-10-21T00:00:00",
          "2022-10-22T00:00:00",
          "2022-10-23T00:00:00",
          "2022-10-24T00:00:00",
          "2022-10-25T00:00:00",
          "2022-10-26T00:00:00",
          "2022-10-27T00:00:00",
          "2022-10-28T00:00:00",
          "2022-10-29T00:00:00",
          "2022-10-30T00:00:00",
          "2022-10-31T00:00:00",
          "2022-11-01T00:00:00",
          "2022-11-02T00:00:00",
          "2022-11-03T00:00:00",
          "2022-11-04T00:00:00",
          "2022-11-05T00:00:00",
          "2022-11-06T00:00:00",
          "2022-11-07T00:00:00",
          "2022-11-08T00:00:00",
          "2022-11-09T00:00:00",
          "2022-11-10T00:00:00",
          "2022-11-11T00:00:00",
          "2022-11-12T00:00:00",
          "2022-11-13T00:00:00",
          "2022-11-14T00:00:00",
          "2022-11-15T00:00:00",
          "2022-11-16T00:00:00",
          "2022-11-17T00:00:00",
          "2022-11-18T00:00:00",
          "2022-11-19T00:00:00",
          "2022-11-20T00:00:00",
          "2022-11-21T00:00:00",
          "2022-11-22T00:00:00",
          "2022-11-23T00:00:00",
          "2022-11-24T00:00:00",
          "2022-11-25T00:00:00",
          "2022-11-26T00:00:00",
          "2022-11-27T00:00:00",
          "2022-11-28T00:00:00",
          "2022-11-29T00:00:00",
          "2022-11-30T00:00:00",
          "2022-12-01T00:00:00",
          "2022-12-02T00:00:00",
          "2022-12-03T00:00:00",
          "2022-12-04T00:00:00",
          "2022-12-05T00:00:00",
          "2022-12-06T00:00:00",
          "2022-12-07T00:00:00",
          "2022-12-08T00:00:00",
          "2022-12-09T00:00:00",
          "2022-12-10T00:00:00",
          "2022-12-11T00:00:00",
          "2022-12-12T00:00:00",
          "2022-12-13T00:00:00",
          "2022-12-14T00:00:00",
          "2022-12-15T00:00:00",
          "2022-12-16T00:00:00",
          "2022-12-17T00:00:00",
          "2022-12-18T00:00:00",
          "2022-12-19T00:00:00",
          "2022-12-20T00:00:00",
          "2022-12-21T00:00:00",
          "2022-12-22T00:00:00",
          "2022-12-23T00:00:00",
          "2022-12-24T00:00:00",
          "2022-12-25T00:00:00",
          "2022-12-26T00:00:00",
          "2022-12-27T00:00:00",
          "2022-12-28T00:00:00",
          "2022-12-29T00:00:00",
          "2022-12-30T00:00:00",
          "2022-12-31T00:00:00",
          "2023-01-01T00:00:00",
          "2023-01-02T00:00:00",
          "2023-01-03T00:00:00",
          "2023-01-04T00:00:00",
          "2023-01-05T00:00:00",
          "2023-01-06T00:00:00",
          "2023-01-07T00:00:00",
          "2023-01-08T00:00:00",
          "2023-01-09T00:00:00",
          "2023-01-10T00:00:00",
          "2023-01-11T00:00:00",
          "2023-01-12T00:00:00",
          "2023-01-13T00:00:00",
          "2023-01-14T00:00:00",
          "2023-01-15T00:00:00",
          "2023-01-16T00:00:00",
          "2023-01-17T00:00:00",
          "2023-01-18T00:00:00",
          "2023-01-19T00:00:00",
          "2023-01-20T00:00:00",
          "2023-01-21T00:00:00",
          "2023-01-22T00:00:00",
          "2023-01-23T00:00:00",
          "2023-01-24T00:00:00",
          "2023-01-25T00:00:00",
          "2023-01-26T00:00:00",
          "2023-01-27T00:00:00",
          "2023-01-28T00:00:00",
          "2023-01-29T00:00:00",
          "2023-01-30T00:00:00",
          "2023-01-31T00:00:00",
          "2023-02-01T00:00:00",
          "2023-02-02T00:00:00",
          "2023-02-03T00:00:00",
          "2023-02-04T00:00:00",
          "2023-02-05T00:00:00",
          "2023-02-06T00:00:00",
          "2023-02-07T00:00:00",
          "2023-02-08T00:00:00",
          "2023-02-09T00:00:00",
          "2023-02-10T00:00:00",
          "2023-02-11T00:00:00",
          "2023-02-12T00:00:00",
          "2023-02-13T00:00:00",
          "2023-02-14T00:00:00",
          "2023-02-15T00:00:00",
          "2023-02-16T00:00:00",
          "2023-02-17T00:00:00",
          "2023-02-18T00:00:00",
          "2023-02-19T00:00:00",
          "2023-02-20T00:00:00",
          "2023-02-21T00:00:00",
          "2023-02-22T00:00:00",
          "2023-02-23T00:00:00",
          "2023-02-24T00:00:00",
          "2023-02-25T00:00:00",
          "2023-02-26T00:00:00",
          "2023-02-27T00:00:00",
          "2023-02-28T00:00:00",
          "2023-03-01T00:00:00",
          "2023-03-02T00:00:00",
          "2023-03-03T00:00:00",
          "2023-03-04T00:00:00",
          "2023-03-05T00:00:00",
          "2023-03-06T00:00:00",
          "2023-03-07T00:00:00",
          "2023-03-08T00:00:00",
          "2023-03-09T00:00:00",
          "2023-03-10T00:00:00",
          "2023-03-11T00:00:00",
          "2023-03-12T00:00:00",
          "2023-03-13T00:00:00",
          "2023-03-14T00:00:00",
          "2023-03-15T00:00:00",
          "2023-03-16T00:00:00",
          "2023-03-17T00:00:00",
          "2023-03-18T00:00:00",
          "2023-03-19T00:00:00",
          "2023-03-20T00:00:00",
          "2023-03-21T00:00:00",
          "2023-03-22T00:00:00",
          "2023-03-23T00:00:00",
          "2023-03-24T00:00:00",
          "2023-03-25T00:00:00",
          "2023-03-26T00:00:00",
          "2023-03-27T00:00:00",
          "2023-03-28T00:00:00",
          "2023-03-29T00:00:00",
          "2023-03-30T00:00:00",
          "2023-03-31T00:00:00",
          "2023-04-01T00:00:00",
          "2023-04-02T00:00:00",
          "2023-04-03T00:00:00",
          "2023-04-04T00:00:00",
          "2023-04-05T00:00:00",
          "2023-04-06T00:00:00",
          "2023-04-07T00:00:00",
          "2023-04-08T00:00:00",
          "2023-04-09T00:00:00",
          "2023-04-10T00:00:00",
          "2023-04-11T00:00:00",
          "2023-04-12T00:00:00",
          "2023-04-13T00:00:00",
          "2023-04-14T00:00:00",
          "2023-04-15T00:00:00",
          "2023-04-16T00:00:00",
          "2023-04-17T00:00:00",
          "2023-04-18T00:00:00",
          "2023-04-19T00:00:00",
          "2023-04-20T00:00:00",
          "2023-04-21T00:00:00",
          "2023-04-22T00:00:00",
          "2023-04-23T00:00:00",
          "2023-04-24T00:00:00",
          "2023-04-25T00:00:00",
          "2023-04-26T00:00:00",
          "2023-04-27T00:00:00",
          "2023-04-28T00:00:00",
          "2023-04-29T00:00:00",
          "2023-04-30T00:00:00",
          "2023-05-01T00:00:00",
          "2023-05-02T00:00:00",
          "2023-05-03T00:00:00",
          "2023-05-04T00:00:00",
          "2023-05-05T00:00:00",
          "2023-05-06T00:00:00",
          "2023-05-07T00:00:00",
          "2023-05-08T00:00:00",
          "2023-05-09T00:00:00",
          "2023-05-10T00:00:00",
          "2023-05-11T00:00:00",
          "2023-05-12T00:00:00",
          "2023-05-13T00:00:00",
          "2023-05-14T00:00:00",
          "2023-05-15T00:00:00",
          "2023-05-16T00:00:00",
          "2023-05-17T00:00:00",
          "2023-05-18T00:00:00",
          "2023-05-19T00:00:00",
          "2023-05-20T00:00:00",
          "2023-05-21T00:00:00",
          "2023-05-22T00:00:00",
          "2023-05-23T00:00:00",
          "2023-05-24T00:00:00",
          "2023-05-25T00:00:00",
          "2023-05-26T00:00:00",
          "2023-05-27T00:00:00",
          "2023-05-28T00:00:00",
          "2023-05-29T00:00:00",
          "2023-05-30T00:00:00",
          "2023-05-31T00:00:00",
          "2023-06-01T00:00:00",
          "2023-06-02T00:00:00",
          "2023-06-03T00:00:00",
          "2023-06-04T00:00:00",
          "2023-06-05T00:00:00",
          "2023-06-06T00:00:00",
          "2023-06-07T00:00:00",
          "2023-06-08T00:00:00",
          "2023-06-09T00:00:00",
          "2023-06-10T00:00:00",
          "2023-06-11T00:00:00",
          "2023-06-12T00:00:00",
          "2023-06-13T00:00:00",
          "2023-06-14T00:00:00",
          "2023-06-15T00:00:00",
          "2023-06-16T00:00:00",
          "2023-06-17T00:00:00",
          "2023-06-18T00:00:00",
          "2023-06-19T00:00:00",
          "2023-06-20T00:00:00",
          "2023-06-21T00:00:00",
          "2023-06-22T00:00:00",
          "2023-06-23T00:00:00",
          "2023-06-24T00:00:00",
          "2023-06-25T00:00:00",
          "2023-06-26T00:00:00",
          "2023-06-27T00:00:00",
          "2023-06-28T00:00:00",
          "2023-06-29T00:00:00",
          "2023-06-30T00:00:00"
         ],
         "y": [
          5.293596620219738,
          0.647994239036759,
          -1.3261812662765742,
          0.40514835041163977,
          0.20041330740622953,
          1.9630045680424644,
          1.4723554946195705,
          1.7949442825983475,
          -1.0829014121534684,
          1.7674860011350795,
          -1.8993041270737976,
          -2.48630710187647,
          -6.833408705565496,
          -0.7249301647946709,
          0.21287420033582904,
          1.121159396348368,
          -1.5191934305803372,
          -4.843786793606917,
          -11.719608517258521,
          -9.25087946878985,
          -1.4937591781866786,
          2.6864713212884013,
          1.1015784500573709,
          -0.26982253266451295,
          -3.7045226408957497,
          0.4770341311040518,
          4.351889566680168,
          2.9171044294050184,
          0.05226187362710988,
          0.04573489096820893,
          -2.4350401634359073,
          -0.9634062704172699,
          -0.7267819588462174,
          -2.9937791078334293,
          -3.565751029295839,
          -2.0314378183738135,
          1.6968208379440206,
          1.22739456358077,
          0.827569140924652,
          -1.4106193566314715,
          -0.8133961524508138,
          -4.096095645261325,
          -5.322600682627819,
          -6.299751198524497,
          -6.118712889911201,
          -6.66555943277935,
          -4.010348372621895,
          -4.891825864277163,
          -0.04948383998625161,
          -1.0153052254181105,
          -0.03464638456781444,
          0.15086329750059946,
          -0.3512477734340216,
          -6.881995707983137,
          -2.6593540296777896,
          -2.8194564165075917,
          -1.3362344757374736,
          -0.5798509997479186,
          -2.2474510032975097,
          -1.7568495764409278,
          -0.28354528910116983,
          -1.4545293732547968,
          -1.6062648033144953,
          -4.116911725091754,
          -4.081503157861281,
          -2.336843400304403,
          -2.95196563521748,
          -4.338080905102469,
          -3.0611283673885197,
          -0.4436204668027166,
          0.27925224982452335,
          6.143030334386712,
          2.24393707872283,
          -0.6003783209000559,
          -5.435724956069418,
          -1.9151313167530155,
          2.7416381182030243,
          1.3325514799021185,
          2.168610549934659,
          2.825295408071762,
          2.587559879489625,
          3.0206923738799105,
          2.797629288067238,
          0.07666218124194302,
          -1.5070681354568904,
          -1.1869904885878881,
          -0.026157148887396175,
          0.9733704835301307,
          1.266843532458923,
          2.982051574241611,
          2.7111152685244395,
          1.8287722432238844,
          0.8632690535555909,
          -1.5130747038956933,
          0.10197942406054494,
          -0.4053626445179397,
          -2.1835272943003208,
          -2.781690902276436,
          -3.2177500112748785,
          -2.34322254492864,
          0.07202913528116284,
          -0.7171853586398029,
          1.7743830591558662,
          1.602883788951825,
          -0.12692973208006997,
          2.5390784452099187,
          0.6815230708441042,
          -1.9554826353522863,
          -1.2971991340546687,
          -2.0060898131380434,
          -3.776052786844753,
          -2.1909232938303145,
          -2.8146729826276555,
          -6.093466261322094,
          -3.7575634996645224,
          -2.9390597938552183,
          -2.0667147132636394,
          -1.1255602085043819,
          -4.982455635831782,
          -3.531450359943179,
          -2.638137109734412,
          -3.965386331170464,
          -0.11962408845175787,
          -0.29156370125665276,
          -1.2484191986647506,
          2.9848063833692784,
          2.0811659280982617,
          4.140417223496918,
          5.295784449376281,
          3.318415234135937,
          0.46820400389779415,
          -0.34338530044971805,
          0.9134706643240342,
          -0.6356149171626235,
          0.9395114953640302,
          2.557613918642838,
          -2.1907619235527793,
          3.404405773616528,
          1.4145618655389889,
          1.3227140511021638,
          -0.0695275886749318,
          0.49064733814876504,
          0.8226146353556736,
          1.1651982983067004,
          1.6639057221383222,
          1.2161826753063956,
          -1.4247028374138129,
          0.3715816228476019,
          -0.6338757685142369,
          -1.2368753941133086,
          1.8085265993415298,
          -2.0772509111364297,
          2.3503132044110036,
          1.21147820300828,
          2.444713670160364,
          4.16770604691594,
          5.725722626003542,
          6.337223515454787,
          3.349269398840528,
          1.2193394525331342,
          1.2882565720577608,
          2.8294677048724193,
          2.1818936520733354,
          1.341641793229054,
          5.59134132925015,
          6.310882119729015,
          8.038479106645752,
          6.504427548936616,
          2.865642532451681,
          3.0561892024662827,
          5.544527130286421,
          5.842619471127131,
          -1.7462957096588436,
          -3.2309811803813364,
          -0.619849015183096,
          -2.786247241714631,
          -3.8742639466024205,
          -1.4595382495322227,
          -0.8630060790713916,
          -1.8113468389783707,
          -0.5578579595853093,
          -2.7493202255544347,
          -2.0887254299335876,
          -3.613863221723115,
          -6.669470302057208,
          -4.435805546579791,
          -3.5340527292697512,
          -1.5908325404130874,
          -5.321999057506545,
          -4.187194448091545,
          -2.0115329923894993,
          -1.2892259665956605,
          -0.8095263303527211,
          -0.6358769953606984,
          -3.887316614414228,
          -3.406321100740046,
          -1.8445532979559935,
          -2.2921897644791516,
          -4.099820574296048,
          -0.2249600111814578,
          1.6079458934523654,
          4.302301290756432,
          3.4784517133034747,
          2.0481648199160283,
          0.9535248195937118,
          3.840831875024458,
          2.22298769258939,
          3.3051818440273903,
          4.307386974483623,
          5.5492926711867625,
          -0.7670744525057476,
          0.693272755535955,
          1.7521936337371775,
          -0.5689873314430365,
          -0.15926113272422704,
          -1.595385567828414,
          -1.3670626100218897,
          -2.8377382991186657,
          -3.1255776935590784,
          -1.8373360178591511,
          -0.2485263289727957,
          0.489654093592347,
          1.979695314033454,
          1.3438715987405434,
          0.5250357849948406,
          -1.366040557024407,
          -0.7065977887223784,
          -0.35899147250598773,
          -3.0222921030421412,
          -5.183642252746678,
          -4.090978452209544,
          -2.830784139340812,
          -2.239389544498799,
          -3.0128459543938604,
          -1.1546730399462657,
          0.7242580871829531,
          1.4433271048518037,
          0.47982819958411405,
          -0.2949076560721089,
          1.8172433851190855,
          3.030322155638596,
          3.0571393100512756,
          2.851802068424676,
          2.7615836510769878,
          2.882232977591368,
          2.1151906402019014,
          1.413193001888816,
          1.0330314683884794,
          1.11588853566393,
          1.1771818799552296,
          1.9889052070442963,
          6.620070530782964,
          -2.9616245643223404,
          0.5104721418650868,
          2.8751012392193633,
          -0.11182853038787499,
          -4.479782827635052,
          1.2175692347876712,
          1.5280501945621197,
          -0.7507724133029825,
          -2.182483546755817,
          -2.687345734834519,
          2.2681690906770697,
          -0.1934224337221373,
          -2.2886078789342914,
          -1.5093580934012358,
          -3.214457700200688,
          -1.5748161502316957,
          0.08593145820576353,
          0.9925791229009651,
          4.439623362056464,
          1.9940212696989992,
          -2.9777859054185374,
          -1.749029035613198,
          1.6337532251595288,
          2.6945396779506225,
          2.7419934927517637,
          0.9104480377698252,
          1.4287675356542486,
          0.6564104619799327,
          0.08166006688631988,
          0.1978793075098828,
          0.9681464451758153,
          -4.2218264297746835,
          -1.2068983946785998,
          -1.7368543252142423,
          -1.4974870799907194,
          -1.1748822830365757,
          -1.8368339922710835,
          -0.472064364003991,
          1.5060156896884695,
          0.49710755395360984,
          -0.17019690468428372,
          -4.367757805573236,
          2.3258131107579487,
          1.406614725675741,
          0.4836283841783775,
          -0.1840467117050899,
          1.729253830180408,
          3.367247723166976,
          1.9489567543905597,
          -2.0589136312319756,
          -1.7165590561991113,
          0.08748923289234511,
          -1.5487703707152676,
          -0.972615568468596,
          0.46934635325917995,
          -0.49893518622336863,
          -7.331371835587625,
          -1.675671635795343,
          -4.610058316855888,
          -3.663908483469955,
          -0.9224563119482756,
          -0.7135031956026836,
          -0.8245027038039563,
          0.34661472746173594,
          2.0199372569432423,
          2.333256322809479,
          2.9493388538952967,
          3.6506050149276987,
          3.98092330523912,
          1.5829630125803327,
          3.6570155606699046,
          -0.06588354115635298,
          -1.169229836539598,
          0.11225934217292277,
          2.6412797248074256,
          2.366369932666885,
          0.787210957785728,
          0.6787150387977512,
          0.11600961809750387,
          0.8489453397719728,
          -1.2795660252324623,
          1.864094932225587,
          1.0849342276057392,
          -0.22421991390806895,
          2.1719891785776397,
          2.8705703477393314,
          -1.4686498225146813,
          -0.14702657778049755,
          1.0377678336431408,
          0.7797990149163603,
          -0.7606902548495249,
          -2.3016845926006777,
          -6.398429207695997,
          -13.465197573797983,
          -13.3297497253261,
          -4.667695634270832,
          -6.869405996009636,
          -5.829956717846624,
          -5.570217421637423,
          -2.1476847909736527,
          -4.090537081600541,
          -2.7787835199038717,
          -2.3899082908765443,
          -3.0478519254093968,
          -1.1373984725573152,
          1.4492437461376255,
          -3.58969775813679,
          -0.6570411771843965,
          -10.72974932114801,
          -0.45934925953549666,
          1.8490640432842795,
          -2.308934156075697,
          0.7525155014039377,
          0.7033083759398799
         ]
        }
       ],
       "layout": {
        "template": {
         "data": {
          "bar": [
           {
            "error_x": {
             "color": "#2a3f5f"
            },
            "error_y": {
             "color": "#2a3f5f"
            },
            "marker": {
             "line": {
              "color": "#E5ECF6",
              "width": 0.5
             },
             "pattern": {
              "fillmode": "overlay",
              "size": 10,
              "solidity": 0.2
             }
            },
            "type": "bar"
           }
          ],
          "barpolar": [
           {
            "marker": {
             "line": {
              "color": "#E5ECF6",
              "width": 0.5
             },
             "pattern": {
              "fillmode": "overlay",
              "size": 10,
              "solidity": 0.2
             }
            },
            "type": "barpolar"
           }
          ],
          "carpet": [
           {
            "aaxis": {
             "endlinecolor": "#2a3f5f",
             "gridcolor": "white",
             "linecolor": "white",
             "minorgridcolor": "white",
             "startlinecolor": "#2a3f5f"
            },
            "baxis": {
             "endlinecolor": "#2a3f5f",
             "gridcolor": "white",
             "linecolor": "white",
             "minorgridcolor": "white",
             "startlinecolor": "#2a3f5f"
            },
            "type": "carpet"
           }
          ],
          "choropleth": [
           {
            "colorbar": {
             "outlinewidth": 0,
             "ticks": ""
            },
            "type": "choropleth"
           }
          ],
          "contour": [
           {
            "colorbar": {
             "outlinewidth": 0,
             "ticks": ""
            },
            "colorscale": [
             [
              0,
              "#0d0887"
             ],
             [
              0.1111111111111111,
              "#46039f"
             ],
             [
              0.2222222222222222,
              "#7201a8"
             ],
             [
              0.3333333333333333,
              "#9c179e"
             ],
             [
              0.4444444444444444,
              "#bd3786"
             ],
             [
              0.5555555555555556,
              "#d8576b"
             ],
             [
              0.6666666666666666,
              "#ed7953"
             ],
             [
              0.7777777777777778,
              "#fb9f3a"
             ],
             [
              0.8888888888888888,
              "#fdca26"
             ],
             [
              1,
              "#f0f921"
             ]
            ],
            "type": "contour"
           }
          ],
          "contourcarpet": [
           {
            "colorbar": {
             "outlinewidth": 0,
             "ticks": ""
            },
            "type": "contourcarpet"
           }
          ],
          "heatmap": [
           {
            "colorbar": {
             "outlinewidth": 0,
             "ticks": ""
            },
            "colorscale": [
             [
              0,
              "#0d0887"
             ],
             [
              0.1111111111111111,
              "#46039f"
             ],
             [
              0.2222222222222222,
              "#7201a8"
             ],
             [
              0.3333333333333333,
              "#9c179e"
             ],
             [
              0.4444444444444444,
              "#bd3786"
             ],
             [
              0.5555555555555556,
              "#d8576b"
             ],
             [
              0.6666666666666666,
              "#ed7953"
             ],
             [
              0.7777777777777778,
              "#fb9f3a"
             ],
             [
              0.8888888888888888,
              "#fdca26"
             ],
             [
              1,
              "#f0f921"
             ]
            ],
            "type": "heatmap"
           }
          ],
          "heatmapgl": [
           {
            "colorbar": {
             "outlinewidth": 0,
             "ticks": ""
            },
            "colorscale": [
             [
              0,
              "#0d0887"
             ],
             [
              0.1111111111111111,
              "#46039f"
             ],
             [
              0.2222222222222222,
              "#7201a8"
             ],
             [
              0.3333333333333333,
              "#9c179e"
             ],
             [
              0.4444444444444444,
              "#bd3786"
             ],
             [
              0.5555555555555556,
              "#d8576b"
             ],
             [
              0.6666666666666666,
              "#ed7953"
             ],
             [
              0.7777777777777778,
              "#fb9f3a"
             ],
             [
              0.8888888888888888,
              "#fdca26"
             ],
             [
              1,
              "#f0f921"
             ]
            ],
            "type": "heatmapgl"
           }
          ],
          "histogram": [
           {
            "marker": {
             "pattern": {
              "fillmode": "overlay",
              "size": 10,
              "solidity": 0.2
             }
            },
            "type": "histogram"
           }
          ],
          "histogram2d": [
           {
            "colorbar": {
             "outlinewidth": 0,
             "ticks": ""
            },
            "colorscale": [
             [
              0,
              "#0d0887"
             ],
             [
              0.1111111111111111,
              "#46039f"
             ],
             [
              0.2222222222222222,
              "#7201a8"
             ],
             [
              0.3333333333333333,
              "#9c179e"
             ],
             [
              0.4444444444444444,
              "#bd3786"
             ],
             [
              0.5555555555555556,
              "#d8576b"
             ],
             [
              0.6666666666666666,
              "#ed7953"
             ],
             [
              0.7777777777777778,
              "#fb9f3a"
             ],
             [
              0.8888888888888888,
              "#fdca26"
             ],
             [
              1,
              "#f0f921"
             ]
            ],
            "type": "histogram2d"
           }
          ],
          "histogram2dcontour": [
           {
            "colorbar": {
             "outlinewidth": 0,
             "ticks": ""
            },
            "colorscale": [
             [
              0,
              "#0d0887"
             ],
             [
              0.1111111111111111,
              "#46039f"
             ],
             [
              0.2222222222222222,
              "#7201a8"
             ],
             [
              0.3333333333333333,
              "#9c179e"
             ],
             [
              0.4444444444444444,
              "#bd3786"
             ],
             [
              0.5555555555555556,
              "#d8576b"
             ],
             [
              0.6666666666666666,
              "#ed7953"
             ],
             [
              0.7777777777777778,
              "#fb9f3a"
             ],
             [
              0.8888888888888888,
              "#fdca26"
             ],
             [
              1,
              "#f0f921"
             ]
            ],
            "type": "histogram2dcontour"
           }
          ],
          "mesh3d": [
           {
            "colorbar": {
             "outlinewidth": 0,
             "ticks": ""
            },
            "type": "mesh3d"
           }
          ],
          "parcoords": [
           {
            "line": {
             "colorbar": {
              "outlinewidth": 0,
              "ticks": ""
             }
            },
            "type": "parcoords"
           }
          ],
          "pie": [
           {
            "automargin": true,
            "type": "pie"
           }
          ],
          "scatter": [
           {
            "fillpattern": {
             "fillmode": "overlay",
             "size": 10,
             "solidity": 0.2
            },
            "type": "scatter"
           }
          ],
          "scatter3d": [
           {
            "line": {
             "colorbar": {
              "outlinewidth": 0,
              "ticks": ""
             }
            },
            "marker": {
             "colorbar": {
              "outlinewidth": 0,
              "ticks": ""
             }
            },
            "type": "scatter3d"
           }
          ],
          "scattercarpet": [
           {
            "marker": {
             "colorbar": {
              "outlinewidth": 0,
              "ticks": ""
             }
            },
            "type": "scattercarpet"
           }
          ],
          "scattergeo": [
           {
            "marker": {
             "colorbar": {
              "outlinewidth": 0,
              "ticks": ""
             }
            },
            "type": "scattergeo"
           }
          ],
          "scattergl": [
           {
            "marker": {
             "colorbar": {
              "outlinewidth": 0,
              "ticks": ""
             }
            },
            "type": "scattergl"
           }
          ],
          "scattermapbox": [
           {
            "marker": {
             "colorbar": {
              "outlinewidth": 0,
              "ticks": ""
             }
            },
            "type": "scattermapbox"
           }
          ],
          "scatterpolar": [
           {
            "marker": {
             "colorbar": {
              "outlinewidth": 0,
              "ticks": ""
             }
            },
            "type": "scatterpolar"
           }
          ],
          "scatterpolargl": [
           {
            "marker": {
             "colorbar": {
              "outlinewidth": 0,
              "ticks": ""
             }
            },
            "type": "scatterpolargl"
           }
          ],
          "scatterternary": [
           {
            "marker": {
             "colorbar": {
              "outlinewidth": 0,
              "ticks": ""
             }
            },
            "type": "scatterternary"
           }
          ],
          "surface": [
           {
            "colorbar": {
             "outlinewidth": 0,
             "ticks": ""
            },
            "colorscale": [
             [
              0,
              "#0d0887"
             ],
             [
              0.1111111111111111,
              "#46039f"
             ],
             [
              0.2222222222222222,
              "#7201a8"
             ],
             [
              0.3333333333333333,
              "#9c179e"
             ],
             [
              0.4444444444444444,
              "#bd3786"
             ],
             [
              0.5555555555555556,
              "#d8576b"
             ],
             [
              0.6666666666666666,
              "#ed7953"
             ],
             [
              0.7777777777777778,
              "#fb9f3a"
             ],
             [
              0.8888888888888888,
              "#fdca26"
             ],
             [
              1,
              "#f0f921"
             ]
            ],
            "type": "surface"
           }
          ],
          "table": [
           {
            "cells": {
             "fill": {
              "color": "#EBF0F8"
             },
             "line": {
              "color": "white"
             }
            },
            "header": {
             "fill": {
              "color": "#C8D4E3"
             },
             "line": {
              "color": "white"
             }
            },
            "type": "table"
           }
          ]
         },
         "layout": {
          "annotationdefaults": {
           "arrowcolor": "#2a3f5f",
           "arrowhead": 0,
           "arrowwidth": 1
          },
          "autotypenumbers": "strict",
          "coloraxis": {
           "colorbar": {
            "outlinewidth": 0,
            "ticks": ""
           }
          },
          "colorscale": {
           "diverging": [
            [
             0,
             "#8e0152"
            ],
            [
             0.1,
             "#c51b7d"
            ],
            [
             0.2,
             "#de77ae"
            ],
            [
             0.3,
             "#f1b6da"
            ],
            [
             0.4,
             "#fde0ef"
            ],
            [
             0.5,
             "#f7f7f7"
            ],
            [
             0.6,
             "#e6f5d0"
            ],
            [
             0.7,
             "#b8e186"
            ],
            [
             0.8,
             "#7fbc41"
            ],
            [
             0.9,
             "#4d9221"
            ],
            [
             1,
             "#276419"
            ]
           ],
           "sequential": [
            [
             0,
             "#0d0887"
            ],
            [
             0.1111111111111111,
             "#46039f"
            ],
            [
             0.2222222222222222,
             "#7201a8"
            ],
            [
             0.3333333333333333,
             "#9c179e"
            ],
            [
             0.4444444444444444,
             "#bd3786"
            ],
            [
             0.5555555555555556,
             "#d8576b"
            ],
            [
             0.6666666666666666,
             "#ed7953"
            ],
            [
             0.7777777777777778,
             "#fb9f3a"
            ],
            [
             0.8888888888888888,
             "#fdca26"
            ],
            [
             1,
             "#f0f921"
            ]
           ],
           "sequentialminus": [
            [
             0,
             "#0d0887"
            ],
            [
             0.1111111111111111,
             "#46039f"
            ],
            [
             0.2222222222222222,
             "#7201a8"
            ],
            [
             0.3333333333333333,
             "#9c179e"
            ],
            [
             0.4444444444444444,
             "#bd3786"
            ],
            [
             0.5555555555555556,
             "#d8576b"
            ],
            [
             0.6666666666666666,
             "#ed7953"
            ],
            [
             0.7777777777777778,
             "#fb9f3a"
            ],
            [
             0.8888888888888888,
             "#fdca26"
            ],
            [
             1,
             "#f0f921"
            ]
           ]
          },
          "colorway": [
           "#636efa",
           "#EF553B",
           "#00cc96",
           "#ab63fa",
           "#FFA15A",
           "#19d3f3",
           "#FF6692",
           "#B6E880",
           "#FF97FF",
           "#FECB52"
          ],
          "font": {
           "color": "#2a3f5f"
          },
          "geo": {
           "bgcolor": "white",
           "lakecolor": "white",
           "landcolor": "#E5ECF6",
           "showlakes": true,
           "showland": true,
           "subunitcolor": "white"
          },
          "hoverlabel": {
           "align": "left"
          },
          "hovermode": "closest",
          "mapbox": {
           "style": "light"
          },
          "paper_bgcolor": "white",
          "plot_bgcolor": "#E5ECF6",
          "polar": {
           "angularaxis": {
            "gridcolor": "white",
            "linecolor": "white",
            "ticks": ""
           },
           "bgcolor": "#E5ECF6",
           "radialaxis": {
            "gridcolor": "white",
            "linecolor": "white",
            "ticks": ""
           }
          },
          "scene": {
           "xaxis": {
            "backgroundcolor": "#E5ECF6",
            "gridcolor": "white",
            "gridwidth": 2,
            "linecolor": "white",
            "showbackground": true,
            "ticks": "",
            "zerolinecolor": "white"
           },
           "yaxis": {
            "backgroundcolor": "#E5ECF6",
            "gridcolor": "white",
            "gridwidth": 2,
            "linecolor": "white",
            "showbackground": true,
            "ticks": "",
            "zerolinecolor": "white"
           },
           "zaxis": {
            "backgroundcolor": "#E5ECF6",
            "gridcolor": "white",
            "gridwidth": 2,
            "linecolor": "white",
            "showbackground": true,
            "ticks": "",
            "zerolinecolor": "white"
           }
          },
          "shapedefaults": {
           "line": {
            "color": "#2a3f5f"
           }
          },
          "ternary": {
           "aaxis": {
            "gridcolor": "white",
            "linecolor": "white",
            "ticks": ""
           },
           "baxis": {
            "gridcolor": "white",
            "linecolor": "white",
            "ticks": ""
           },
           "bgcolor": "#E5ECF6",
           "caxis": {
            "gridcolor": "white",
            "linecolor": "white",
            "ticks": ""
           }
          },
          "title": {
           "x": 0.05
          },
          "xaxis": {
           "automargin": true,
           "gridcolor": "white",
           "linecolor": "white",
           "ticks": "",
           "title": {
            "standoff": 15
           },
           "zerolinecolor": "white",
           "zerolinewidth": 2
          },
          "yaxis": {
           "automargin": true,
           "gridcolor": "white",
           "linecolor": "white",
           "ticks": "",
           "title": {
            "standoff": 15
           },
           "zerolinecolor": "white",
           "zerolinewidth": 2
          }
         }
        }
       }
      },
      "text/html": [
       "<div>                            <div id=\"6f0e3b37-dc0a-46d2-a0df-4380330a5379\" class=\"plotly-graph-div\" style=\"height:525px; width:100%;\"></div>            <script type=\"text/javascript\">                require([\"plotly\"], function(Plotly) {                    window.PLOTLYENV=window.PLOTLYENV || {};                                    if (document.getElementById(\"6f0e3b37-dc0a-46d2-a0df-4380330a5379\")) {                    Plotly.newPlot(                        \"6f0e3b37-dc0a-46d2-a0df-4380330a5379\",                        [{\"mode\":\"lines\",\"name\":\"ARIMA_ERROR\",\"x\":[\"2022-06-30T00:00:00\",\"2022-07-01T00:00:00\",\"2022-07-02T00:00:00\",\"2022-07-03T00:00:00\",\"2022-07-04T00:00:00\",\"2022-07-05T00:00:00\",\"2022-07-06T00:00:00\",\"2022-07-07T00:00:00\",\"2022-07-08T00:00:00\",\"2022-07-09T00:00:00\",\"2022-07-10T00:00:00\",\"2022-07-11T00:00:00\",\"2022-07-12T00:00:00\",\"2022-07-13T00:00:00\",\"2022-07-14T00:00:00\",\"2022-07-15T00:00:00\",\"2022-07-16T00:00:00\",\"2022-07-17T00:00:00\",\"2022-07-18T00:00:00\",\"2022-07-19T00:00:00\",\"2022-07-20T00:00:00\",\"2022-07-21T00:00:00\",\"2022-07-22T00:00:00\",\"2022-07-23T00:00:00\",\"2022-07-24T00:00:00\",\"2022-07-25T00:00:00\",\"2022-07-26T00:00:00\",\"2022-07-27T00:00:00\",\"2022-07-28T00:00:00\",\"2022-07-29T00:00:00\",\"2022-07-30T00:00:00\",\"2022-07-31T00:00:00\",\"2022-08-01T00:00:00\",\"2022-08-02T00:00:00\",\"2022-08-03T00:00:00\",\"2022-08-04T00:00:00\",\"2022-08-05T00:00:00\",\"2022-08-06T00:00:00\",\"2022-08-07T00:00:00\",\"2022-08-08T00:00:00\",\"2022-08-09T00:00:00\",\"2022-08-10T00:00:00\",\"2022-08-11T00:00:00\",\"2022-08-12T00:00:00\",\"2022-08-13T00:00:00\",\"2022-08-14T00:00:00\",\"2022-08-15T00:00:00\",\"2022-08-16T00:00:00\",\"2022-08-17T00:00:00\",\"2022-08-18T00:00:00\",\"2022-08-19T00:00:00\",\"2022-08-20T00:00:00\",\"2022-08-21T00:00:00\",\"2022-08-22T00:00:00\",\"2022-08-23T00:00:00\",\"2022-08-24T00:00:00\",\"2022-08-25T00:00:00\",\"2022-08-26T00:00:00\",\"2022-08-27T00:00:00\",\"2022-08-28T00:00:00\",\"2022-08-29T00:00:00\",\"2022-08-30T00:00:00\",\"2022-08-31T00:00:00\",\"2022-09-01T00:00:00\",\"2022-09-02T00:00:00\",\"2022-09-03T00:00:00\",\"2022-09-04T00:00:00\",\"2022-09-05T00:00:00\",\"2022-09-06T00:00:00\",\"2022-09-07T00:00:00\",\"2022-09-08T00:00:00\",\"2022-09-09T00:00:00\",\"2022-09-10T00:00:00\",\"2022-09-11T00:00:00\",\"2022-09-12T00:00:00\",\"2022-09-13T00:00:00\",\"2022-09-14T00:00:00\",\"2022-09-15T00:00:00\",\"2022-09-16T00:00:00\",\"2022-09-17T00:00:00\",\"2022-09-18T00:00:00\",\"2022-09-19T00:00:00\",\"2022-09-20T00:00:00\",\"2022-09-21T00:00:00\",\"2022-09-22T00:00:00\",\"2022-09-23T00:00:00\",\"2022-09-24T00:00:00\",\"2022-09-25T00:00:00\",\"2022-09-26T00:00:00\",\"2022-09-27T00:00:00\",\"2022-09-28T00:00:00\",\"2022-09-29T00:00:00\",\"2022-09-30T00:00:00\",\"2022-10-01T00:00:00\",\"2022-10-02T00:00:00\",\"2022-10-03T00:00:00\",\"2022-10-04T00:00:00\",\"2022-10-05T00:00:00\",\"2022-10-06T00:00:00\",\"2022-10-07T00:00:00\",\"2022-10-08T00:00:00\",\"2022-10-09T00:00:00\",\"2022-10-10T00:00:00\",\"2022-10-11T00:00:00\",\"2022-10-12T00:00:00\",\"2022-10-13T00:00:00\",\"2022-10-14T00:00:00\",\"2022-10-15T00:00:00\",\"2022-10-16T00:00:00\",\"2022-10-17T00:00:00\",\"2022-10-18T00:00:00\",\"2022-10-19T00:00:00\",\"2022-10-20T00:00:00\",\"2022-10-21T00:00:00\",\"2022-10-22T00:00:00\",\"2022-10-23T00:00:00\",\"2022-10-24T00:00:00\",\"2022-10-25T00:00:00\",\"2022-10-26T00:00:00\",\"2022-10-27T00:00:00\",\"2022-10-28T00:00:00\",\"2022-10-29T00:00:00\",\"2022-10-30T00:00:00\",\"2022-10-31T00:00:00\",\"2022-11-01T00:00:00\",\"2022-11-02T00:00:00\",\"2022-11-03T00:00:00\",\"2022-11-04T00:00:00\",\"2022-11-05T00:00:00\",\"2022-11-06T00:00:00\",\"2022-11-07T00:00:00\",\"2022-11-08T00:00:00\",\"2022-11-09T00:00:00\",\"2022-11-10T00:00:00\",\"2022-11-11T00:00:00\",\"2022-11-12T00:00:00\",\"2022-11-13T00:00:00\",\"2022-11-14T00:00:00\",\"2022-11-15T00:00:00\",\"2022-11-16T00:00:00\",\"2022-11-17T00:00:00\",\"2022-11-18T00:00:00\",\"2022-11-19T00:00:00\",\"2022-11-20T00:00:00\",\"2022-11-21T00:00:00\",\"2022-11-22T00:00:00\",\"2022-11-23T00:00:00\",\"2022-11-24T00:00:00\",\"2022-11-25T00:00:00\",\"2022-11-26T00:00:00\",\"2022-11-27T00:00:00\",\"2022-11-28T00:00:00\",\"2022-11-29T00:00:00\",\"2022-11-30T00:00:00\",\"2022-12-01T00:00:00\",\"2022-12-02T00:00:00\",\"2022-12-03T00:00:00\",\"2022-12-04T00:00:00\",\"2022-12-05T00:00:00\",\"2022-12-06T00:00:00\",\"2022-12-07T00:00:00\",\"2022-12-08T00:00:00\",\"2022-12-09T00:00:00\",\"2022-12-10T00:00:00\",\"2022-12-11T00:00:00\",\"2022-12-12T00:00:00\",\"2022-12-13T00:00:00\",\"2022-12-14T00:00:00\",\"2022-12-15T00:00:00\",\"2022-12-16T00:00:00\",\"2022-12-17T00:00:00\",\"2022-12-18T00:00:00\",\"2022-12-19T00:00:00\",\"2022-12-20T00:00:00\",\"2022-12-21T00:00:00\",\"2022-12-22T00:00:00\",\"2022-12-23T00:00:00\",\"2022-12-24T00:00:00\",\"2022-12-25T00:00:00\",\"2022-12-26T00:00:00\",\"2022-12-27T00:00:00\",\"2022-12-28T00:00:00\",\"2022-12-29T00:00:00\",\"2022-12-30T00:00:00\",\"2022-12-31T00:00:00\",\"2023-01-01T00:00:00\",\"2023-01-02T00:00:00\",\"2023-01-03T00:00:00\",\"2023-01-04T00:00:00\",\"2023-01-05T00:00:00\",\"2023-01-06T00:00:00\",\"2023-01-07T00:00:00\",\"2023-01-08T00:00:00\",\"2023-01-09T00:00:00\",\"2023-01-10T00:00:00\",\"2023-01-11T00:00:00\",\"2023-01-12T00:00:00\",\"2023-01-13T00:00:00\",\"2023-01-14T00:00:00\",\"2023-01-15T00:00:00\",\"2023-01-16T00:00:00\",\"2023-01-17T00:00:00\",\"2023-01-18T00:00:00\",\"2023-01-19T00:00:00\",\"2023-01-20T00:00:00\",\"2023-01-21T00:00:00\",\"2023-01-22T00:00:00\",\"2023-01-23T00:00:00\",\"2023-01-24T00:00:00\",\"2023-01-25T00:00:00\",\"2023-01-26T00:00:00\",\"2023-01-27T00:00:00\",\"2023-01-28T00:00:00\",\"2023-01-29T00:00:00\",\"2023-01-30T00:00:00\",\"2023-01-31T00:00:00\",\"2023-02-01T00:00:00\",\"2023-02-02T00:00:00\",\"2023-02-03T00:00:00\",\"2023-02-04T00:00:00\",\"2023-02-05T00:00:00\",\"2023-02-06T00:00:00\",\"2023-02-07T00:00:00\",\"2023-02-08T00:00:00\",\"2023-02-09T00:00:00\",\"2023-02-10T00:00:00\",\"2023-02-11T00:00:00\",\"2023-02-12T00:00:00\",\"2023-02-13T00:00:00\",\"2023-02-14T00:00:00\",\"2023-02-15T00:00:00\",\"2023-02-16T00:00:00\",\"2023-02-17T00:00:00\",\"2023-02-18T00:00:00\",\"2023-02-19T00:00:00\",\"2023-02-20T00:00:00\",\"2023-02-21T00:00:00\",\"2023-02-22T00:00:00\",\"2023-02-23T00:00:00\",\"2023-02-24T00:00:00\",\"2023-02-25T00:00:00\",\"2023-02-26T00:00:00\",\"2023-02-27T00:00:00\",\"2023-02-28T00:00:00\",\"2023-03-01T00:00:00\",\"2023-03-02T00:00:00\",\"2023-03-03T00:00:00\",\"2023-03-04T00:00:00\",\"2023-03-05T00:00:00\",\"2023-03-06T00:00:00\",\"2023-03-07T00:00:00\",\"2023-03-08T00:00:00\",\"2023-03-09T00:00:00\",\"2023-03-10T00:00:00\",\"2023-03-11T00:00:00\",\"2023-03-12T00:00:00\",\"2023-03-13T00:00:00\",\"2023-03-14T00:00:00\",\"2023-03-15T00:00:00\",\"2023-03-16T00:00:00\",\"2023-03-17T00:00:00\",\"2023-03-18T00:00:00\",\"2023-03-19T00:00:00\",\"2023-03-20T00:00:00\",\"2023-03-21T00:00:00\",\"2023-03-22T00:00:00\",\"2023-03-23T00:00:00\",\"2023-03-24T00:00:00\",\"2023-03-25T00:00:00\",\"2023-03-26T00:00:00\",\"2023-03-27T00:00:00\",\"2023-03-28T00:00:00\",\"2023-03-29T00:00:00\",\"2023-03-30T00:00:00\",\"2023-03-31T00:00:00\",\"2023-04-01T00:00:00\",\"2023-04-02T00:00:00\",\"2023-04-03T00:00:00\",\"2023-04-04T00:00:00\",\"2023-04-05T00:00:00\",\"2023-04-06T00:00:00\",\"2023-04-07T00:00:00\",\"2023-04-08T00:00:00\",\"2023-04-09T00:00:00\",\"2023-04-10T00:00:00\",\"2023-04-11T00:00:00\",\"2023-04-12T00:00:00\",\"2023-04-13T00:00:00\",\"2023-04-14T00:00:00\",\"2023-04-15T00:00:00\",\"2023-04-16T00:00:00\",\"2023-04-17T00:00:00\",\"2023-04-18T00:00:00\",\"2023-04-19T00:00:00\",\"2023-04-20T00:00:00\",\"2023-04-21T00:00:00\",\"2023-04-22T00:00:00\",\"2023-04-23T00:00:00\",\"2023-04-24T00:00:00\",\"2023-04-25T00:00:00\",\"2023-04-26T00:00:00\",\"2023-04-27T00:00:00\",\"2023-04-28T00:00:00\",\"2023-04-29T00:00:00\",\"2023-04-30T00:00:00\",\"2023-05-01T00:00:00\",\"2023-05-02T00:00:00\",\"2023-05-03T00:00:00\",\"2023-05-04T00:00:00\",\"2023-05-05T00:00:00\",\"2023-05-06T00:00:00\",\"2023-05-07T00:00:00\",\"2023-05-08T00:00:00\",\"2023-05-09T00:00:00\",\"2023-05-10T00:00:00\",\"2023-05-11T00:00:00\",\"2023-05-12T00:00:00\",\"2023-05-13T00:00:00\",\"2023-05-14T00:00:00\",\"2023-05-15T00:00:00\",\"2023-05-16T00:00:00\",\"2023-05-17T00:00:00\",\"2023-05-18T00:00:00\",\"2023-05-19T00:00:00\",\"2023-05-20T00:00:00\",\"2023-05-21T00:00:00\",\"2023-05-22T00:00:00\",\"2023-05-23T00:00:00\",\"2023-05-24T00:00:00\",\"2023-05-25T00:00:00\",\"2023-05-26T00:00:00\",\"2023-05-27T00:00:00\",\"2023-05-28T00:00:00\",\"2023-05-29T00:00:00\",\"2023-05-30T00:00:00\",\"2023-05-31T00:00:00\",\"2023-06-01T00:00:00\",\"2023-06-02T00:00:00\",\"2023-06-03T00:00:00\",\"2023-06-04T00:00:00\",\"2023-06-05T00:00:00\",\"2023-06-06T00:00:00\",\"2023-06-07T00:00:00\",\"2023-06-08T00:00:00\",\"2023-06-09T00:00:00\",\"2023-06-10T00:00:00\",\"2023-06-11T00:00:00\",\"2023-06-12T00:00:00\",\"2023-06-13T00:00:00\",\"2023-06-14T00:00:00\",\"2023-06-15T00:00:00\",\"2023-06-16T00:00:00\",\"2023-06-17T00:00:00\",\"2023-06-18T00:00:00\",\"2023-06-19T00:00:00\",\"2023-06-20T00:00:00\",\"2023-06-21T00:00:00\",\"2023-06-22T00:00:00\",\"2023-06-23T00:00:00\",\"2023-06-24T00:00:00\",\"2023-06-25T00:00:00\",\"2023-06-26T00:00:00\",\"2023-06-27T00:00:00\",\"2023-06-28T00:00:00\",\"2023-06-29T00:00:00\",\"2023-06-30T00:00:00\"],\"y\":[null,null,-2.77963265624847,0.6978852913654556,-1.077738724097923,0.8209918058177408,-1.0147104019647095,2.056409623729568,-3.8388299997446715,2.299485661116883,-3.618989538154036,-2.103621340337188,-6.146645180193179,2.9528654324124872,1.750034324614088,1.0005405288950229,-1.583724109304029,-3.9848707638427996,-8.284164708831455,-7.293978232358537,9.846474869832171,4.778332589117731,2.0811676163558523,-0.05602983634959102,-4.770894644831252,5.492708170118657,3.260552819713432,0.9964380037005718,-0.33203749335159216,0.19211364144877052,-2.3908033185530115,0.4948259780949691,0.18348648666709622,-3.3367393378242127,-0.8295461039326462,2.647219490442712,2.639728445875253,0.37704209557659496,0.40683578278524024,-1.2442302440764834,-0.06048739780630896,-3.3676832271682677,-3.799205170716924,-2.4907430906474275,-3.593937201093521,-0.9677043171932667,3.6715324105461953,-0.8779791730927968,5.786936662319842,-0.2865765815294985,2.640049924263476,1.2858385305163047,0.29825339909056936,-4.725951270418015,0.663245456758137,-1.1668267488471749,2.057094063378319,2.2493532567348957,0.7761830657133508,0.6744693425837838,0.8723747949564675,-0.519623073847054,0.3235747137097533,-3.5596048669826565,0.0075283508312864456,0.20555053426467396,0.9684574105215624,-1.6533877620632573,0.10818876220735518,2.040944354022809,1.4421866510456596,3.2256216264115416,0.941155371956242,-0.9672718583742501,-3.7553113328796,2.816192428523472,4.90882841139803,-0.002830913776030286,3.38599181307951,2.0340499974302606,0.2846416600795507,0.7060481507780239,0.15519522824380516,-0.352941548150401,-1.8057715781731751,0.6623624762388687,0.9317591080362568,1.7401658779595355,1.5939701500295769,2.0027023430456143,1.0472248734276555,-0.7135878683653356,-1.56486479795824,-1.663030647867707,0.7582065405393941,-0.9260365217278377,-1.1326744870153576,-0.5693712419630508,0.2345164284748691,-0.37052106583771405,2.493998344641307,-1.3178722078703,2.70028506493923,0.10656041709366626,-0.12530930683392505,2.2892049195057407,-2.2825546120451126,-1.187168844061624,-0.5517106460684751,-1.2683123373012393,-0.8924672802942482,0.9119199617799296,-2.672102871853788,-1.4794257705017486,1.0683240132566567,-1.2566466233199023,2.05504641410716,0.41844335803396504,-2.4014374822353766,-0.8812963477519347,-0.811636148198918,-1.7030087695116727,3.9565172167929425,1.468802666270875,1.0405415250773302,3.108453079166381,1.0363914949711663,2.5871536391259067,2.6746150152385333,1.414594047123984,-2.701175419644409,-1.0367137228809042,1.1609143628276364,-0.040698522248140634,2.018417642343124,3.1953711267828417,-3.1835213593721754,4.8612688688294945,-1.9619188541760977,0.780484530301985,-1.003356988468516,0.9244886525888205,0.6450676419165564,0.7039285245340317,1.8909983272064075,-0.27726326795107603,-1.4737208123367935,0.6137659342908037,-0.5715900247896553,0.1614634062267335,3.135053370054589,-2.678821139999041,4.519554355656576,-1.2680897665870425,1.9283184190324194,3.2399096911820333,3.2501412716836233,2.525129413844412,-1.6108509647698672,-1.1351234240316916,-0.5165149870733803,1.201291455225114,0.36688065753352817,-0.09663349449665404,4.550086939500365,2.6219560282707985,2.2226020288609227,-0.8532092320095732,-2.935417337557159,0.2522923797035004,2.548904617747885,-0.039190257357305525,-6.960644635420177,-4.317952346965232,-0.07526468833326305,-3.0720882287903226,-3.784854919462429,0.1421206323101245,0.142276185055362,0.029726905158582895,0.6029350831745823,-2.309721835755763,-0.35245826465382457,-2.165725609011192,-3.426289094039065,0.7440513906131621,1.1333724530988398,1.6588734413224238,-2.2937920707079353,0.8902336542393225,0.3713308962288622,1.1391912598085092,1.3162493724076452,1.3461351561286392,-2.5469026715986747,-0.3362914357953972,0.6588760606982991,0.90461453791732,-1.6846436145628356,3.912094085346398,2.6288157322477828,3.1586457368251306,1.2178835847248788,0.8123430605114024,-0.21398946918796824,2.766591581050279,0.24837158337800957,0.6793537763748017,1.9497973138943765,1.2248557465399794,-4.879271988811907,0.8643685948027988,0.5403339551409472,-3.8447392478926634,-0.4941767430012689,-2.0473081884307582,-0.4459947597569798,-2.080738077333619,-1.917511559150153,0.964053159152007,0.8457580948556007,1.0592478410535824,2.5247072215582174,0.19365891093246645,0.13021335245891308,-2.2007779479219316,0.10411534711590953,0.0331853751322857,-2.651652805661284,-1.7151381816228515,-1.0477109106473197,-0.4764515219518284,-0.5420917352354699,-0.7588110189413833,0.6304118619954462,1.7478731178542528,1.2361831386414046,-0.23517831054697247,1.1747851802966736,1.382953827692396,1.1271152033508658,2.1969944137967694,0.45889507260718965,2.2315364032057703,-0.5188046422805819,-0.16154045302282238,-0.6780214741524979,-0.42904109695818526,1.3063373218622836,-0.8182978311765297,0.8372904279976483,3.8338673680862803,-9.349529109638832,2.280720628683481,0.9904818432411071,-5.124313734683808,-3.8791158664883305,3.2335733136602496,0.7741353592152045,-4.653075193030212,-1.8345136866656642,-0.9144372918608195,4.183849379829464,-2.0363677174988357,-0.9807970208230152,0.4164642228358826,-3.507679471181044,0.8649309651894423,0.6408006468919503,2.8873412787623707,3.721678894945235,-0.8974328045909932,-5.83548738346906,0.714861215459818,1.3363485779288062,1.9126864152191771,2.465000531348233,-1.3940580892657,1.2844679951725322,-1.6488167244404934,-1.3193955860594588,1.8538932835838136,-0.7355605513293177,-4.903996189035077,1.678684240886792,-0.7053876301455144,2.0889717000944223,-1.0533249673628688,-0.12587390167233536,-0.20485391626124994,1.4654627382794914,0.3094632824494603,-1.8064928029079876,-2.0858049901806606,4.490575860534042,-1.0425585998671671,-1.250416472459932,-0.3309534982412483,2.117605609590921,1.7622643980492736,-0.5079566674929108,-3.163853482036945,-1.0654983837730239,1.2849546568799202,-4.177684053498815,1.058512570477932,0.4162129419936491,-1.2625515626188406,-8.20966832156618,2.9157178950878695,-2.1970613959303407,-0.09848461254156504,0.7860595259525169,1.0603976766182868,-0.569668580962988,2.158874146508989,1.3379095915550252,0.3129268709036914,1.3515699483817354,1.8650256540414158,-1.0599305383554594,-0.7434935186628024,1.5313229558899089,-2.7300272634098537,-0.9483819711765928,-0.16114838599072812,1.543795233783296,0.24906264659327526,-1.3097939072482099,-0.45727972363196834,-0.07008512311968396,-0.5255206366367702,-1.9140634724734653,2.365783903529593,0.14226093451359745,-1.8854251504554984,1.9035515681299202,0.4200942419727003,-4.105762815525541,0.44326825036852924,1.243823563921275,-0.20009478287658844,-0.9984558453417911,-1.1965171550434306,-6.330793778031886,-9.014098120146922,-3.9184797340146282,3.3856310332819994,-4.834105657168234,2.059051985579707,-0.32146568211323157,3.072323539342328,-5.160852153175039,1.3573694721958063,2.4303963679176483,-3.428237023848233,3.683873816410909,3.4016044777806016,-4.505054772086162,2.8413777323588043,-8.950460284511692,8.988833010191478,1.4680838366858886,-2.257483604921269,4.34155648235301,-0.11299583618610853],\"type\":\"scatter\"},{\"mode\":\"lines\",\"name\":\"RandomForest_ERROR\",\"x\":[\"2022-06-30T00:00:00\",\"2022-07-01T00:00:00\",\"2022-07-02T00:00:00\",\"2022-07-03T00:00:00\",\"2022-07-04T00:00:00\",\"2022-07-05T00:00:00\",\"2022-07-06T00:00:00\",\"2022-07-07T00:00:00\",\"2022-07-08T00:00:00\",\"2022-07-09T00:00:00\",\"2022-07-10T00:00:00\",\"2022-07-11T00:00:00\",\"2022-07-12T00:00:00\",\"2022-07-13T00:00:00\",\"2022-07-14T00:00:00\",\"2022-07-15T00:00:00\",\"2022-07-16T00:00:00\",\"2022-07-17T00:00:00\",\"2022-07-18T00:00:00\",\"2022-07-19T00:00:00\",\"2022-07-20T00:00:00\",\"2022-07-21T00:00:00\",\"2022-07-22T00:00:00\",\"2022-07-23T00:00:00\",\"2022-07-24T00:00:00\",\"2022-07-25T00:00:00\",\"2022-07-26T00:00:00\",\"2022-07-27T00:00:00\",\"2022-07-28T00:00:00\",\"2022-07-29T00:00:00\",\"2022-07-30T00:00:00\",\"2022-07-31T00:00:00\",\"2022-08-01T00:00:00\",\"2022-08-02T00:00:00\",\"2022-08-03T00:00:00\",\"2022-08-04T00:00:00\",\"2022-08-05T00:00:00\",\"2022-08-06T00:00:00\",\"2022-08-07T00:00:00\",\"2022-08-08T00:00:00\",\"2022-08-09T00:00:00\",\"2022-08-10T00:00:00\",\"2022-08-11T00:00:00\",\"2022-08-12T00:00:00\",\"2022-08-13T00:00:00\",\"2022-08-14T00:00:00\",\"2022-08-15T00:00:00\",\"2022-08-16T00:00:00\",\"2022-08-17T00:00:00\",\"2022-08-18T00:00:00\",\"2022-08-19T00:00:00\",\"2022-08-20T00:00:00\",\"2022-08-21T00:00:00\",\"2022-08-22T00:00:00\",\"2022-08-23T00:00:00\",\"2022-08-24T00:00:00\",\"2022-08-25T00:00:00\",\"2022-08-26T00:00:00\",\"2022-08-27T00:00:00\",\"2022-08-28T00:00:00\",\"2022-08-29T00:00:00\",\"2022-08-30T00:00:00\",\"2022-08-31T00:00:00\",\"2022-09-01T00:00:00\",\"2022-09-02T00:00:00\",\"2022-09-03T00:00:00\",\"2022-09-04T00:00:00\",\"2022-09-05T00:00:00\",\"2022-09-06T00:00:00\",\"2022-09-07T00:00:00\",\"2022-09-08T00:00:00\",\"2022-09-09T00:00:00\",\"2022-09-10T00:00:00\",\"2022-09-11T00:00:00\",\"2022-09-12T00:00:00\",\"2022-09-13T00:00:00\",\"2022-09-14T00:00:00\",\"2022-09-15T00:00:00\",\"2022-09-16T00:00:00\",\"2022-09-17T00:00:00\",\"2022-09-18T00:00:00\",\"2022-09-19T00:00:00\",\"2022-09-20T00:00:00\",\"2022-09-21T00:00:00\",\"2022-09-22T00:00:00\",\"2022-09-23T00:00:00\",\"2022-09-24T00:00:00\",\"2022-09-25T00:00:00\",\"2022-09-26T00:00:00\",\"2022-09-27T00:00:00\",\"2022-09-28T00:00:00\",\"2022-09-29T00:00:00\",\"2022-09-30T00:00:00\",\"2022-10-01T00:00:00\",\"2022-10-02T00:00:00\",\"2022-10-03T00:00:00\",\"2022-10-04T00:00:00\",\"2022-10-05T00:00:00\",\"2022-10-06T00:00:00\",\"2022-10-07T00:00:00\",\"2022-10-08T00:00:00\",\"2022-10-09T00:00:00\",\"2022-10-10T00:00:00\",\"2022-10-11T00:00:00\",\"2022-10-12T00:00:00\",\"2022-10-13T00:00:00\",\"2022-10-14T00:00:00\",\"2022-10-15T00:00:00\",\"2022-10-16T00:00:00\",\"2022-10-17T00:00:00\",\"2022-10-18T00:00:00\",\"2022-10-19T00:00:00\",\"2022-10-20T00:00:00\",\"2022-10-21T00:00:00\",\"2022-10-22T00:00:00\",\"2022-10-23T00:00:00\",\"2022-10-24T00:00:00\",\"2022-10-25T00:00:00\",\"2022-10-26T00:00:00\",\"2022-10-27T00:00:00\",\"2022-10-28T00:00:00\",\"2022-10-29T00:00:00\",\"2022-10-30T00:00:00\",\"2022-10-31T00:00:00\",\"2022-11-01T00:00:00\",\"2022-11-02T00:00:00\",\"2022-11-03T00:00:00\",\"2022-11-04T00:00:00\",\"2022-11-05T00:00:00\",\"2022-11-06T00:00:00\",\"2022-11-07T00:00:00\",\"2022-11-08T00:00:00\",\"2022-11-09T00:00:00\",\"2022-11-10T00:00:00\",\"2022-11-11T00:00:00\",\"2022-11-12T00:00:00\",\"2022-11-13T00:00:00\",\"2022-11-14T00:00:00\",\"2022-11-15T00:00:00\",\"2022-11-16T00:00:00\",\"2022-11-17T00:00:00\",\"2022-11-18T00:00:00\",\"2022-11-19T00:00:00\",\"2022-11-20T00:00:00\",\"2022-11-21T00:00:00\",\"2022-11-22T00:00:00\",\"2022-11-23T00:00:00\",\"2022-11-24T00:00:00\",\"2022-11-25T00:00:00\",\"2022-11-26T00:00:00\",\"2022-11-27T00:00:00\",\"2022-11-28T00:00:00\",\"2022-11-29T00:00:00\",\"2022-11-30T00:00:00\",\"2022-12-01T00:00:00\",\"2022-12-02T00:00:00\",\"2022-12-03T00:00:00\",\"2022-12-04T00:00:00\",\"2022-12-05T00:00:00\",\"2022-12-06T00:00:00\",\"2022-12-07T00:00:00\",\"2022-12-08T00:00:00\",\"2022-12-09T00:00:00\",\"2022-12-10T00:00:00\",\"2022-12-11T00:00:00\",\"2022-12-12T00:00:00\",\"2022-12-13T00:00:00\",\"2022-12-14T00:00:00\",\"2022-12-15T00:00:00\",\"2022-12-16T00:00:00\",\"2022-12-17T00:00:00\",\"2022-12-18T00:00:00\",\"2022-12-19T00:00:00\",\"2022-12-20T00:00:00\",\"2022-12-21T00:00:00\",\"2022-12-22T00:00:00\",\"2022-12-23T00:00:00\",\"2022-12-24T00:00:00\",\"2022-12-25T00:00:00\",\"2022-12-26T00:00:00\",\"2022-12-27T00:00:00\",\"2022-12-28T00:00:00\",\"2022-12-29T00:00:00\",\"2022-12-30T00:00:00\",\"2022-12-31T00:00:00\",\"2023-01-01T00:00:00\",\"2023-01-02T00:00:00\",\"2023-01-03T00:00:00\",\"2023-01-04T00:00:00\",\"2023-01-05T00:00:00\",\"2023-01-06T00:00:00\",\"2023-01-07T00:00:00\",\"2023-01-08T00:00:00\",\"2023-01-09T00:00:00\",\"2023-01-10T00:00:00\",\"2023-01-11T00:00:00\",\"2023-01-12T00:00:00\",\"2023-01-13T00:00:00\",\"2023-01-14T00:00:00\",\"2023-01-15T00:00:00\",\"2023-01-16T00:00:00\",\"2023-01-17T00:00:00\",\"2023-01-18T00:00:00\",\"2023-01-19T00:00:00\",\"2023-01-20T00:00:00\",\"2023-01-21T00:00:00\",\"2023-01-22T00:00:00\",\"2023-01-23T00:00:00\",\"2023-01-24T00:00:00\",\"2023-01-25T00:00:00\",\"2023-01-26T00:00:00\",\"2023-01-27T00:00:00\",\"2023-01-28T00:00:00\",\"2023-01-29T00:00:00\",\"2023-01-30T00:00:00\",\"2023-01-31T00:00:00\",\"2023-02-01T00:00:00\",\"2023-02-02T00:00:00\",\"2023-02-03T00:00:00\",\"2023-02-04T00:00:00\",\"2023-02-05T00:00:00\",\"2023-02-06T00:00:00\",\"2023-02-07T00:00:00\",\"2023-02-08T00:00:00\",\"2023-02-09T00:00:00\",\"2023-02-10T00:00:00\",\"2023-02-11T00:00:00\",\"2023-02-12T00:00:00\",\"2023-02-13T00:00:00\",\"2023-02-14T00:00:00\",\"2023-02-15T00:00:00\",\"2023-02-16T00:00:00\",\"2023-02-17T00:00:00\",\"2023-02-18T00:00:00\",\"2023-02-19T00:00:00\",\"2023-02-20T00:00:00\",\"2023-02-21T00:00:00\",\"2023-02-22T00:00:00\",\"2023-02-23T00:00:00\",\"2023-02-24T00:00:00\",\"2023-02-25T00:00:00\",\"2023-02-26T00:00:00\",\"2023-02-27T00:00:00\",\"2023-02-28T00:00:00\",\"2023-03-01T00:00:00\",\"2023-03-02T00:00:00\",\"2023-03-03T00:00:00\",\"2023-03-04T00:00:00\",\"2023-03-05T00:00:00\",\"2023-03-06T00:00:00\",\"2023-03-07T00:00:00\",\"2023-03-08T00:00:00\",\"2023-03-09T00:00:00\",\"2023-03-10T00:00:00\",\"2023-03-11T00:00:00\",\"2023-03-12T00:00:00\",\"2023-03-13T00:00:00\",\"2023-03-14T00:00:00\",\"2023-03-15T00:00:00\",\"2023-03-16T00:00:00\",\"2023-03-17T00:00:00\",\"2023-03-18T00:00:00\",\"2023-03-19T00:00:00\",\"2023-03-20T00:00:00\",\"2023-03-21T00:00:00\",\"2023-03-22T00:00:00\",\"2023-03-23T00:00:00\",\"2023-03-24T00:00:00\",\"2023-03-25T00:00:00\",\"2023-03-26T00:00:00\",\"2023-03-27T00:00:00\",\"2023-03-28T00:00:00\",\"2023-03-29T00:00:00\",\"2023-03-30T00:00:00\",\"2023-03-31T00:00:00\",\"2023-04-01T00:00:00\",\"2023-04-02T00:00:00\",\"2023-04-03T00:00:00\",\"2023-04-04T00:00:00\",\"2023-04-05T00:00:00\",\"2023-04-06T00:00:00\",\"2023-04-07T00:00:00\",\"2023-04-08T00:00:00\",\"2023-04-09T00:00:00\",\"2023-04-10T00:00:00\",\"2023-04-11T00:00:00\",\"2023-04-12T00:00:00\",\"2023-04-13T00:00:00\",\"2023-04-14T00:00:00\",\"2023-04-15T00:00:00\",\"2023-04-16T00:00:00\",\"2023-04-17T00:00:00\",\"2023-04-18T00:00:00\",\"2023-04-19T00:00:00\",\"2023-04-20T00:00:00\",\"2023-04-21T00:00:00\",\"2023-04-22T00:00:00\",\"2023-04-23T00:00:00\",\"2023-04-24T00:00:00\",\"2023-04-25T00:00:00\",\"2023-04-26T00:00:00\",\"2023-04-27T00:00:00\",\"2023-04-28T00:00:00\",\"2023-04-29T00:00:00\",\"2023-04-30T00:00:00\",\"2023-05-01T00:00:00\",\"2023-05-02T00:00:00\",\"2023-05-03T00:00:00\",\"2023-05-04T00:00:00\",\"2023-05-05T00:00:00\",\"2023-05-06T00:00:00\",\"2023-05-07T00:00:00\",\"2023-05-08T00:00:00\",\"2023-05-09T00:00:00\",\"2023-05-10T00:00:00\",\"2023-05-11T00:00:00\",\"2023-05-12T00:00:00\",\"2023-05-13T00:00:00\",\"2023-05-14T00:00:00\",\"2023-05-15T00:00:00\",\"2023-05-16T00:00:00\",\"2023-05-17T00:00:00\",\"2023-05-18T00:00:00\",\"2023-05-19T00:00:00\",\"2023-05-20T00:00:00\",\"2023-05-21T00:00:00\",\"2023-05-22T00:00:00\",\"2023-05-23T00:00:00\",\"2023-05-24T00:00:00\",\"2023-05-25T00:00:00\",\"2023-05-26T00:00:00\",\"2023-05-27T00:00:00\",\"2023-05-28T00:00:00\",\"2023-05-29T00:00:00\",\"2023-05-30T00:00:00\",\"2023-05-31T00:00:00\",\"2023-06-01T00:00:00\",\"2023-06-02T00:00:00\",\"2023-06-03T00:00:00\",\"2023-06-04T00:00:00\",\"2023-06-05T00:00:00\",\"2023-06-06T00:00:00\",\"2023-06-07T00:00:00\",\"2023-06-08T00:00:00\",\"2023-06-09T00:00:00\",\"2023-06-10T00:00:00\",\"2023-06-11T00:00:00\",\"2023-06-12T00:00:00\",\"2023-06-13T00:00:00\",\"2023-06-14T00:00:00\",\"2023-06-15T00:00:00\",\"2023-06-16T00:00:00\",\"2023-06-17T00:00:00\",\"2023-06-18T00:00:00\",\"2023-06-19T00:00:00\",\"2023-06-20T00:00:00\",\"2023-06-21T00:00:00\",\"2023-06-22T00:00:00\",\"2023-06-23T00:00:00\",\"2023-06-24T00:00:00\",\"2023-06-25T00:00:00\",\"2023-06-26T00:00:00\",\"2023-06-27T00:00:00\",\"2023-06-28T00:00:00\",\"2023-06-29T00:00:00\",\"2023-06-30T00:00:00\"],\"y\":[5.293596620219738,0.647994239036759,-1.3261812662765742,0.40514835041163977,0.20041330740622953,1.9630045680424644,1.4723554946195705,1.7949442825983475,-1.0829014121534684,1.7674860011350795,-1.8993041270737976,-2.48630710187647,-6.833408705565496,-0.7249301647946709,0.21287420033582904,1.121159396348368,-1.5191934305803372,-4.843786793606917,-11.719608517258521,-9.25087946878985,-1.4937591781866786,2.6864713212884013,1.1015784500573709,-0.26982253266451295,-3.7045226408957497,0.4770341311040518,4.351889566680168,2.9171044294050184,0.05226187362710988,0.04573489096820893,-2.4350401634359073,-0.9634062704172699,-0.7267819588462174,-2.9937791078334293,-3.565751029295839,-2.0314378183738135,1.6968208379440206,1.22739456358077,0.827569140924652,-1.4106193566314715,-0.8133961524508138,-4.096095645261325,-5.322600682627819,-6.299751198524497,-6.118712889911201,-6.66555943277935,-4.010348372621895,-4.891825864277163,-0.04948383998625161,-1.0153052254181105,-0.03464638456781444,0.15086329750059946,-0.3512477734340216,-6.881995707983137,-2.6593540296777896,-2.8194564165075917,-1.3362344757374736,-0.5798509997479186,-2.2474510032975097,-1.7568495764409278,-0.28354528910116983,-1.4545293732547968,-1.6062648033144953,-4.116911725091754,-4.081503157861281,-2.336843400304403,-2.95196563521748,-4.338080905102469,-3.0611283673885197,-0.4436204668027166,0.27925224982452335,6.143030334386712,2.24393707872283,-0.6003783209000559,-5.435724956069418,-1.9151313167530155,2.7416381182030243,1.3325514799021185,2.168610549934659,2.825295408071762,2.587559879489625,3.0206923738799105,2.797629288067238,0.07666218124194302,-1.5070681354568904,-1.1869904885878881,-0.026157148887396175,0.9733704835301307,1.266843532458923,2.982051574241611,2.7111152685244395,1.8287722432238844,0.8632690535555909,-1.5130747038956933,0.10197942406054494,-0.4053626445179397,-2.1835272943003208,-2.781690902276436,-3.2177500112748785,-2.34322254492864,0.07202913528116284,-0.7171853586398029,1.7743830591558662,1.602883788951825,-0.12692973208006997,2.5390784452099187,0.6815230708441042,-1.9554826353522863,-1.2971991340546687,-2.0060898131380434,-3.776052786844753,-2.1909232938303145,-2.8146729826276555,-6.093466261322094,-3.7575634996645224,-2.9390597938552183,-2.0667147132636394,-1.1255602085043819,-4.982455635831782,-3.531450359943179,-2.638137109734412,-3.965386331170464,-0.11962408845175787,-0.29156370125665276,-1.2484191986647506,2.9848063833692784,2.0811659280982617,4.140417223496918,5.295784449376281,3.318415234135937,0.46820400389779415,-0.34338530044971805,0.9134706643240342,-0.6356149171626235,0.9395114953640302,2.557613918642838,-2.1907619235527793,3.404405773616528,1.4145618655389889,1.3227140511021638,-0.0695275886749318,0.49064733814876504,0.8226146353556736,1.1651982983067004,1.6639057221383222,1.2161826753063956,-1.4247028374138129,0.3715816228476019,-0.6338757685142369,-1.2368753941133086,1.8085265993415298,-2.0772509111364297,2.3503132044110036,1.21147820300828,2.444713670160364,4.16770604691594,5.725722626003542,6.337223515454787,3.349269398840528,1.2193394525331342,1.2882565720577608,2.8294677048724193,2.1818936520733354,1.341641793229054,5.59134132925015,6.310882119729015,8.038479106645752,6.504427548936616,2.865642532451681,3.0561892024662827,5.544527130286421,5.842619471127131,-1.7462957096588436,-3.2309811803813364,-0.619849015183096,-2.786247241714631,-3.8742639466024205,-1.4595382495322227,-0.8630060790713916,-1.8113468389783707,-0.5578579595853093,-2.7493202255544347,-2.0887254299335876,-3.613863221723115,-6.669470302057208,-4.435805546579791,-3.5340527292697512,-1.5908325404130874,-5.321999057506545,-4.187194448091545,-2.0115329923894993,-1.2892259665956605,-0.8095263303527211,-0.6358769953606984,-3.887316614414228,-3.406321100740046,-1.8445532979559935,-2.2921897644791516,-4.099820574296048,-0.2249600111814578,1.6079458934523654,4.302301290756432,3.4784517133034747,2.0481648199160283,0.9535248195937118,3.840831875024458,2.22298769258939,3.3051818440273903,4.307386974483623,5.5492926711867625,-0.7670744525057476,0.693272755535955,1.7521936337371775,-0.5689873314430365,-0.15926113272422704,-1.595385567828414,-1.3670626100218897,-2.8377382991186657,-3.1255776935590784,-1.8373360178591511,-0.2485263289727957,0.489654093592347,1.979695314033454,1.3438715987405434,0.5250357849948406,-1.366040557024407,-0.7065977887223784,-0.35899147250598773,-3.0222921030421412,-5.183642252746678,-4.090978452209544,-2.830784139340812,-2.239389544498799,-3.0128459543938604,-1.1546730399462657,0.7242580871829531,1.4433271048518037,0.47982819958411405,-0.2949076560721089,1.8172433851190855,3.030322155638596,3.0571393100512756,2.851802068424676,2.7615836510769878,2.882232977591368,2.1151906402019014,1.413193001888816,1.0330314683884794,1.11588853566393,1.1771818799552296,1.9889052070442963,6.620070530782964,-2.9616245643223404,0.5104721418650868,2.8751012392193633,-0.11182853038787499,-4.479782827635052,1.2175692347876712,1.5280501945621197,-0.7507724133029825,-2.182483546755817,-2.687345734834519,2.2681690906770697,-0.1934224337221373,-2.2886078789342914,-1.5093580934012358,-3.214457700200688,-1.5748161502316957,0.08593145820576353,0.9925791229009651,4.439623362056464,1.9940212696989992,-2.9777859054185374,-1.749029035613198,1.6337532251595288,2.6945396779506225,2.7419934927517637,0.9104480377698252,1.4287675356542486,0.6564104619799327,0.08166006688631988,0.1978793075098828,0.9681464451758153,-4.2218264297746835,-1.2068983946785998,-1.7368543252142423,-1.4974870799907194,-1.1748822830365757,-1.8368339922710835,-0.472064364003991,1.5060156896884695,0.49710755395360984,-0.17019690468428372,-4.367757805573236,2.3258131107579487,1.406614725675741,0.4836283841783775,-0.1840467117050899,1.729253830180408,3.367247723166976,1.9489567543905597,-2.0589136312319756,-1.7165590561991113,0.08748923289234511,-1.5487703707152676,-0.972615568468596,0.46934635325917995,-0.49893518622336863,-7.331371835587625,-1.675671635795343,-4.610058316855888,-3.663908483469955,-0.9224563119482756,-0.7135031956026836,-0.8245027038039563,0.34661472746173594,2.0199372569432423,2.333256322809479,2.9493388538952967,3.6506050149276987,3.98092330523912,1.5829630125803327,3.6570155606699046,-0.06588354115635298,-1.169229836539598,0.11225934217292277,2.6412797248074256,2.366369932666885,0.787210957785728,0.6787150387977512,0.11600961809750387,0.8489453397719728,-1.2795660252324623,1.864094932225587,1.0849342276057392,-0.22421991390806895,2.1719891785776397,2.8705703477393314,-1.4686498225146813,-0.14702657778049755,1.0377678336431408,0.7797990149163603,-0.7606902548495249,-2.3016845926006777,-6.398429207695997,-13.465197573797983,-13.3297497253261,-4.667695634270832,-6.869405996009636,-5.829956717846624,-5.570217421637423,-2.1476847909736527,-4.090537081600541,-2.7787835199038717,-2.3899082908765443,-3.0478519254093968,-1.1373984725573152,1.4492437461376255,-3.58969775813679,-0.6570411771843965,-10.72974932114801,-0.45934925953549666,1.8490640432842795,-2.308934156075697,0.7525155014039377,0.7033083759398799],\"type\":\"scatter\"}],                        {\"template\":{\"data\":{\"histogram2dcontour\":[{\"type\":\"histogram2dcontour\",\"colorbar\":{\"outlinewidth\":0,\"ticks\":\"\"},\"colorscale\":[[0.0,\"#0d0887\"],[0.1111111111111111,\"#46039f\"],[0.2222222222222222,\"#7201a8\"],[0.3333333333333333,\"#9c179e\"],[0.4444444444444444,\"#bd3786\"],[0.5555555555555556,\"#d8576b\"],[0.6666666666666666,\"#ed7953\"],[0.7777777777777778,\"#fb9f3a\"],[0.8888888888888888,\"#fdca26\"],[1.0,\"#f0f921\"]]}],\"choropleth\":[{\"type\":\"choropleth\",\"colorbar\":{\"outlinewidth\":0,\"ticks\":\"\"}}],\"histogram2d\":[{\"type\":\"histogram2d\",\"colorbar\":{\"outlinewidth\":0,\"ticks\":\"\"},\"colorscale\":[[0.0,\"#0d0887\"],[0.1111111111111111,\"#46039f\"],[0.2222222222222222,\"#7201a8\"],[0.3333333333333333,\"#9c179e\"],[0.4444444444444444,\"#bd3786\"],[0.5555555555555556,\"#d8576b\"],[0.6666666666666666,\"#ed7953\"],[0.7777777777777778,\"#fb9f3a\"],[0.8888888888888888,\"#fdca26\"],[1.0,\"#f0f921\"]]}],\"heatmap\":[{\"type\":\"heatmap\",\"colorbar\":{\"outlinewidth\":0,\"ticks\":\"\"},\"colorscale\":[[0.0,\"#0d0887\"],[0.1111111111111111,\"#46039f\"],[0.2222222222222222,\"#7201a8\"],[0.3333333333333333,\"#9c179e\"],[0.4444444444444444,\"#bd3786\"],[0.5555555555555556,\"#d8576b\"],[0.6666666666666666,\"#ed7953\"],[0.7777777777777778,\"#fb9f3a\"],[0.8888888888888888,\"#fdca26\"],[1.0,\"#f0f921\"]]}],\"heatmapgl\":[{\"type\":\"heatmapgl\",\"colorbar\":{\"outlinewidth\":0,\"ticks\":\"\"},\"colorscale\":[[0.0,\"#0d0887\"],[0.1111111111111111,\"#46039f\"],[0.2222222222222222,\"#7201a8\"],[0.3333333333333333,\"#9c179e\"],[0.4444444444444444,\"#bd3786\"],[0.5555555555555556,\"#d8576b\"],[0.6666666666666666,\"#ed7953\"],[0.7777777777777778,\"#fb9f3a\"],[0.8888888888888888,\"#fdca26\"],[1.0,\"#f0f921\"]]}],\"contourcarpet\":[{\"type\":\"contourcarpet\",\"colorbar\":{\"outlinewidth\":0,\"ticks\":\"\"}}],\"contour\":[{\"type\":\"contour\",\"colorbar\":{\"outlinewidth\":0,\"ticks\":\"\"},\"colorscale\":[[0.0,\"#0d0887\"],[0.1111111111111111,\"#46039f\"],[0.2222222222222222,\"#7201a8\"],[0.3333333333333333,\"#9c179e\"],[0.4444444444444444,\"#bd3786\"],[0.5555555555555556,\"#d8576b\"],[0.6666666666666666,\"#ed7953\"],[0.7777777777777778,\"#fb9f3a\"],[0.8888888888888888,\"#fdca26\"],[1.0,\"#f0f921\"]]}],\"surface\":[{\"type\":\"surface\",\"colorbar\":{\"outlinewidth\":0,\"ticks\":\"\"},\"colorscale\":[[0.0,\"#0d0887\"],[0.1111111111111111,\"#46039f\"],[0.2222222222222222,\"#7201a8\"],[0.3333333333333333,\"#9c179e\"],[0.4444444444444444,\"#bd3786\"],[0.5555555555555556,\"#d8576b\"],[0.6666666666666666,\"#ed7953\"],[0.7777777777777778,\"#fb9f3a\"],[0.8888888888888888,\"#fdca26\"],[1.0,\"#f0f921\"]]}],\"mesh3d\":[{\"type\":\"mesh3d\",\"colorbar\":{\"outlinewidth\":0,\"ticks\":\"\"}}],\"scatter\":[{\"fillpattern\":{\"fillmode\":\"overlay\",\"size\":10,\"solidity\":0.2},\"type\":\"scatter\"}],\"parcoords\":[{\"type\":\"parcoords\",\"line\":{\"colorbar\":{\"outlinewidth\":0,\"ticks\":\"\"}}}],\"scatterpolargl\":[{\"type\":\"scatterpolargl\",\"marker\":{\"colorbar\":{\"outlinewidth\":0,\"ticks\":\"\"}}}],\"bar\":[{\"error_x\":{\"color\":\"#2a3f5f\"},\"error_y\":{\"color\":\"#2a3f5f\"},\"marker\":{\"line\":{\"color\":\"#E5ECF6\",\"width\":0.5},\"pattern\":{\"fillmode\":\"overlay\",\"size\":10,\"solidity\":0.2}},\"type\":\"bar\"}],\"scattergeo\":[{\"type\":\"scattergeo\",\"marker\":{\"colorbar\":{\"outlinewidth\":0,\"ticks\":\"\"}}}],\"scatterpolar\":[{\"type\":\"scatterpolar\",\"marker\":{\"colorbar\":{\"outlinewidth\":0,\"ticks\":\"\"}}}],\"histogram\":[{\"marker\":{\"pattern\":{\"fillmode\":\"overlay\",\"size\":10,\"solidity\":0.2}},\"type\":\"histogram\"}],\"scattergl\":[{\"type\":\"scattergl\",\"marker\":{\"colorbar\":{\"outlinewidth\":0,\"ticks\":\"\"}}}],\"scatter3d\":[{\"type\":\"scatter3d\",\"line\":{\"colorbar\":{\"outlinewidth\":0,\"ticks\":\"\"}},\"marker\":{\"colorbar\":{\"outlinewidth\":0,\"ticks\":\"\"}}}],\"scattermapbox\":[{\"type\":\"scattermapbox\",\"marker\":{\"colorbar\":{\"outlinewidth\":0,\"ticks\":\"\"}}}],\"scatterternary\":[{\"type\":\"scatterternary\",\"marker\":{\"colorbar\":{\"outlinewidth\":0,\"ticks\":\"\"}}}],\"scattercarpet\":[{\"type\":\"scattercarpet\",\"marker\":{\"colorbar\":{\"outlinewidth\":0,\"ticks\":\"\"}}}],\"carpet\":[{\"aaxis\":{\"endlinecolor\":\"#2a3f5f\",\"gridcolor\":\"white\",\"linecolor\":\"white\",\"minorgridcolor\":\"white\",\"startlinecolor\":\"#2a3f5f\"},\"baxis\":{\"endlinecolor\":\"#2a3f5f\",\"gridcolor\":\"white\",\"linecolor\":\"white\",\"minorgridcolor\":\"white\",\"startlinecolor\":\"#2a3f5f\"},\"type\":\"carpet\"}],\"table\":[{\"cells\":{\"fill\":{\"color\":\"#EBF0F8\"},\"line\":{\"color\":\"white\"}},\"header\":{\"fill\":{\"color\":\"#C8D4E3\"},\"line\":{\"color\":\"white\"}},\"type\":\"table\"}],\"barpolar\":[{\"marker\":{\"line\":{\"color\":\"#E5ECF6\",\"width\":0.5},\"pattern\":{\"fillmode\":\"overlay\",\"size\":10,\"solidity\":0.2}},\"type\":\"barpolar\"}],\"pie\":[{\"automargin\":true,\"type\":\"pie\"}]},\"layout\":{\"autotypenumbers\":\"strict\",\"colorway\":[\"#636efa\",\"#EF553B\",\"#00cc96\",\"#ab63fa\",\"#FFA15A\",\"#19d3f3\",\"#FF6692\",\"#B6E880\",\"#FF97FF\",\"#FECB52\"],\"font\":{\"color\":\"#2a3f5f\"},\"hovermode\":\"closest\",\"hoverlabel\":{\"align\":\"left\"},\"paper_bgcolor\":\"white\",\"plot_bgcolor\":\"#E5ECF6\",\"polar\":{\"bgcolor\":\"#E5ECF6\",\"angularaxis\":{\"gridcolor\":\"white\",\"linecolor\":\"white\",\"ticks\":\"\"},\"radialaxis\":{\"gridcolor\":\"white\",\"linecolor\":\"white\",\"ticks\":\"\"}},\"ternary\":{\"bgcolor\":\"#E5ECF6\",\"aaxis\":{\"gridcolor\":\"white\",\"linecolor\":\"white\",\"ticks\":\"\"},\"baxis\":{\"gridcolor\":\"white\",\"linecolor\":\"white\",\"ticks\":\"\"},\"caxis\":{\"gridcolor\":\"white\",\"linecolor\":\"white\",\"ticks\":\"\"}},\"coloraxis\":{\"colorbar\":{\"outlinewidth\":0,\"ticks\":\"\"}},\"colorscale\":{\"sequential\":[[0.0,\"#0d0887\"],[0.1111111111111111,\"#46039f\"],[0.2222222222222222,\"#7201a8\"],[0.3333333333333333,\"#9c179e\"],[0.4444444444444444,\"#bd3786\"],[0.5555555555555556,\"#d8576b\"],[0.6666666666666666,\"#ed7953\"],[0.7777777777777778,\"#fb9f3a\"],[0.8888888888888888,\"#fdca26\"],[1.0,\"#f0f921\"]],\"sequentialminus\":[[0.0,\"#0d0887\"],[0.1111111111111111,\"#46039f\"],[0.2222222222222222,\"#7201a8\"],[0.3333333333333333,\"#9c179e\"],[0.4444444444444444,\"#bd3786\"],[0.5555555555555556,\"#d8576b\"],[0.6666666666666666,\"#ed7953\"],[0.7777777777777778,\"#fb9f3a\"],[0.8888888888888888,\"#fdca26\"],[1.0,\"#f0f921\"]],\"diverging\":[[0,\"#8e0152\"],[0.1,\"#c51b7d\"],[0.2,\"#de77ae\"],[0.3,\"#f1b6da\"],[0.4,\"#fde0ef\"],[0.5,\"#f7f7f7\"],[0.6,\"#e6f5d0\"],[0.7,\"#b8e186\"],[0.8,\"#7fbc41\"],[0.9,\"#4d9221\"],[1,\"#276419\"]]},\"xaxis\":{\"gridcolor\":\"white\",\"linecolor\":\"white\",\"ticks\":\"\",\"title\":{\"standoff\":15},\"zerolinecolor\":\"white\",\"automargin\":true,\"zerolinewidth\":2},\"yaxis\":{\"gridcolor\":\"white\",\"linecolor\":\"white\",\"ticks\":\"\",\"title\":{\"standoff\":15},\"zerolinecolor\":\"white\",\"automargin\":true,\"zerolinewidth\":2},\"scene\":{\"xaxis\":{\"backgroundcolor\":\"#E5ECF6\",\"gridcolor\":\"white\",\"linecolor\":\"white\",\"showbackground\":true,\"ticks\":\"\",\"zerolinecolor\":\"white\",\"gridwidth\":2},\"yaxis\":{\"backgroundcolor\":\"#E5ECF6\",\"gridcolor\":\"white\",\"linecolor\":\"white\",\"showbackground\":true,\"ticks\":\"\",\"zerolinecolor\":\"white\",\"gridwidth\":2},\"zaxis\":{\"backgroundcolor\":\"#E5ECF6\",\"gridcolor\":\"white\",\"linecolor\":\"white\",\"showbackground\":true,\"ticks\":\"\",\"zerolinecolor\":\"white\",\"gridwidth\":2}},\"shapedefaults\":{\"line\":{\"color\":\"#2a3f5f\"}},\"annotationdefaults\":{\"arrowcolor\":\"#2a3f5f\",\"arrowhead\":0,\"arrowwidth\":1},\"geo\":{\"bgcolor\":\"white\",\"landcolor\":\"#E5ECF6\",\"subunitcolor\":\"white\",\"showland\":true,\"showlakes\":true,\"lakecolor\":\"white\"},\"title\":{\"x\":0.05},\"mapbox\":{\"style\":\"light\"}}}},                        {\"responsive\": true}                    ).then(function(){\n",
       "                            \n",
       "var gd = document.getElementById('6f0e3b37-dc0a-46d2-a0df-4380330a5379');\n",
       "var x = new MutationObserver(function (mutations, observer) {{\n",
       "        var display = window.getComputedStyle(gd).display;\n",
       "        if (!display || display === 'none') {{\n",
       "            console.log([gd, 'removed!']);\n",
       "            Plotly.purge(gd);\n",
       "            observer.disconnect();\n",
       "        }}\n",
       "}});\n",
       "\n",
       "// Listen for the removal of the full notebook cells\n",
       "var notebookContainer = gd.closest('#notebook-container');\n",
       "if (notebookContainer) {{\n",
       "    x.observe(notebookContainer, {childList: true});\n",
       "}}\n",
       "\n",
       "// Listen for the clearing of the current output cell\n",
       "var outputEl = gd.closest('.output');\n",
       "if (outputEl) {{\n",
       "    x.observe(outputEl, {childList: true});\n",
       "}}\n",
       "\n",
       "                        })                };                });            </script>        </div>"
      ]
     },
     "metadata": {},
     "output_type": "display_data"
    }
   ],
   "source": [
    "df_tem_pre['ARIMA_ERR']=df_tem_pre['Predicted_ARIMA']-df_tem_pre['True value']\n",
    "df_tem_pre['RF_ERR']=df_tem_pre['Predicted_rf']-df_tem_pre['True value']\n",
    "fig_pre_err = go.Figure()\n",
    "fig_pre_err.add_trace(go.Scatter(x=df_tem_pre['Date'], y=df_tem_pre['ARIMA_ERR'], mode='lines', name='ARIMA_ERROR'))\n",
    "fig_pre_err.add_trace(go.Scatter(x=df_tem_pre['Date'], y=df_tem_pre['RF_ERR'], mode='lines', name='RandomForest_ERROR'))\n",
    "fig_pre_err"
   ]
  },
  {
   "cell_type": "markdown",
   "id": "927bb087",
   "metadata": {},
   "source": [
    "## APP"
   ]
  },
  {
   "cell_type": "code",
   "execution_count": 224,
   "id": "78ce0d32",
   "metadata": {},
   "outputs": [
    {
     "name": "stdout",
     "output_type": "stream",
     "text": [
      "Dash app running on http://127.0.0.1:8050/\n"
     ]
    }
   ],
   "source": [
    "app=JupyterDash(__name__,suppress_callback_exceptions=True)\n",
    "dates = pd.date_range(start=\"2022-07-02\", end=\"2023-06-30\")\n",
    "\n",
    "tabs_styles = {\n",
    "    'height': '44px'\n",
    "}\n",
    "tab_style = {\n",
    "    'borderBottom': '1px solid #d6d6d6',\n",
    "    'padding': '6px',\n",
    "    'fontWeight': 'bold'\n",
    "}\n",
    "\n",
    "tab_selected_style = {\n",
    "    'borderTop': '1px solid #d6d6d6',\n",
    "    'borderBottom': '1px solid #d6d6d6',\n",
    "    'backgroundColor': '#119DFF',\n",
    "    'color': 'white',\n",
    "    'padding': '6px'\n",
    "}\n",
    "\n",
    "app.layout = html.Div([\n",
    "    html.H1('MDA Project Heatwave', style={'textAlign': 'center'}),\n",
    "    html.H3('Yang Zhao R0823619', style={'textAlign': 'center'}),\n",
    "    html.Div(\n",
    "        [html.Div([\n",
    "            html.Img(\n",
    "                src='https://github.com/hongdoudahongdou/MDA/blob/main/APP/coverpic.jpg?raw=true',style={\n",
    "        'height': '300px',  \n",
    "        'width': '400px'   \n",
    "    })\n",
    "        ])\n",
    "        ], style={'textAlign': 'center'}),\n",
    "    dcc.Tabs(id=\"tabs-inline\", value='tab-1', parent_className='custom-tabs', className='custom-tabs-container',\n",
    "             children=[\n",
    "                 dcc.Tab(label='Homepage', value='Homepage', style=tab_style, selected_style=tab_selected_style),\n",
    "                 dcc.Tab(label='Predict Deaths', value='Predict Deaths', style=tab_style,\n",
    "                         selected_style=tab_selected_style),\n",
    "                 dcc.Tab(label='Predict Heatwaves', value='Predict Heatwaves', style=tab_style,\n",
    "                         selected_style=tab_selected_style)\n",
    "                      \n",
    "             ], style=tabs_styles),\n",
    "    html.Div(id='tabs-content'),\n",
    "\n",
    "])\n",
    "\n",
    "\n",
    "@app.callback(Output('tabs-content', 'children'),\n",
    "              Input('tabs-inline', 'value'))\n",
    "def render_content(tab):\n",
    "    if tab == 'Homepage':\n",
    "        return html.Div([\n",
    "            html.H1('MDA Project Heatwave', style={'textAlign': 'center'}),\n",
    "            html.H3('These years, public are paying more and more attention to heat waves as such '\n",
    "                    'extreme meteorological may could lead to massive deaths . '\n",
    "                    'In order to have a better knowledge on the damage due to heat waves, '\n",
    "                    'our group decide to predict the heatwave and deaths caused by heatwaves.'),\n",
    "\n",
    "            html.Div([\n",
    "                dcc.Graph(id='World Heatwave',figure=fig_map_heatwave),\n",
    "\n",
    "                ], style={'width': '60%', 'textAlign': 'center', 'float': 'center', 'display': 'inline',\n",
    "                           'margin-left': '-300px', 'margin-right': '-300px'}),\n",
    "            html.H6('Worldwide Heatwave Map', style={'textAlign': 'center'})\n",
    "        ])\n",
    "    \n",
    "    elif tab == 'Predict Deaths':\n",
    "        return html.Div([\n",
    "            html.Div([\n",
    "                html.H1('Predict deaths', style={'textAlign': 'center'}),\n",
    "                html.H3('World Heatwave Deaths Map',style={'textAlign': 'center'}),\n",
    "                html.Div([\n",
    "                    dcc.Graph(id='World Heatwave Deaths', figure=fig_death_map\n",
    "                                                                        ),\n",
    "\n",
    "                ], style={'width': '60%', 'textAlign': 'center', 'float': 'center', 'display': 'inline',\n",
    "                          'margin-left': '-300px', 'margin-right': '-300px'})]),\n",
    "              ## \n",
    "              html.H3('Predict Deaths Map', style={'textAlign': 'center'}),\n",
    "              html.Div([\n",
    "                    html.H5('Associate Drought', style={'textAlign': 'center'}),\n",
    "                    dcc.Dropdown(id='dropdown-drought',options=[{'label': i, 'value': i} for i in [0, 1]],value=0),\n",
    "\n",
    "                ], style={'width': '33%', 'display': 'inline-block'}),\n",
    "              html.Div([\n",
    "                    html.H5('Associate Wildfire', style={'textAlign': 'center'}),\n",
    "                    dcc.Dropdown(id='dropdown-wildfire',options=[{'label': i, 'value': i} for i in [0, 1]],value=0),\n",
    "\n",
    "                ], style={'width': '33%', 'display': 'inline-block'}),\n",
    "              html.Div([\n",
    "                    html.H5('Appeal or Declare', style={'textAlign': 'center'}),\n",
    "                    dcc.Dropdown(id='dropdown-appeal',options=[{'label': i, 'value': i} for i in [0, 1]],value=0),\n",
    "\n",
    "                ], style={'width': '33%', 'display': 'inline-block'}),\n",
    "           html.Div([\n",
    "                dcc.Graph(id='Predict deaths map'),\n",
    "\n",
    "                dcc.Slider(id='slider-temp',min=30,max=45,value=30,step=1\n",
    "                    \n",
    "\n",
    "                )], style={'width': '48%', 'textAlign': 'center', 'float': 'center', 'display': 'inline',\n",
    "                           'margin-left': '-300px', 'margin-right': '-300px'}),\n",
    "        ])\n",
    "\n",
    "    \n",
    "    \n",
    "    \n",
    "    \n",
    "    elif tab == 'Predict Heatwaves':\n",
    "        return html.Div([\n",
    "            html.H1('Predict Heatwaves', style={'textAlign': 'center'}),\n",
    "            html.H3('Belgium defines a heat wave as a period of at least five consecutive days in which the maximum' \n",
    "                    'temperature exceeds 25 °C. During this period the maximum temperature must exceed 30 °C for at least three days.'\n",
    "                    'Based on this defination, we can predict the occurance of heatwaves by predicting temperature. '\n",
    "                   'We use 2 different model to predict the temperature. One is the ARIMA model, which can give'\n",
    "                   'a precise prediction of the prediction of tomorrow. The other is Random Forest, which utilize'\n",
    "                   'the temperature of the last 100 days to predict the temperature of 7 days from now.'),\n",
    "            html.Div([\n",
    "                dcc.Graph(id='World Heatwave Deaths', figure=fig_tem_pre),\n",
    "\n",
    "                ], style={'width': '60%', 'textAlign': 'center', 'float': 'center', 'display': 'inline',\n",
    "                          'margin-left': '-300px', 'margin-right': '-300px'}),\n",
    "                \n",
    "            html.H3('The following chart provides a more intuitive representation of the prediction errors of the two models.'),\n",
    "            html.Div([\n",
    "                html.Div([\n",
    "                dcc.Graph(id='Heatwavetemperaturem',figure=fig_pre_err),\n",
    "                    ])\n",
    "                 ], style={'textAlign': 'center'}),\n",
    "            html.H3('The following is an AI for temperature prediction based on our results.'),\n",
    "            html.Div([\n",
    "                dcc.Dropdown(\n",
    "                id='date-dropdown',\n",
    "                \n",
    "                options=[{'label': date.strftime('%Y-%m-%d'), 'value': date.strftime('%Y-%m-%d')} for date in dates],\n",
    "                value=dates[0].strftime('%Y-%m-%d')\n",
    "        )\n",
    "    ], style={'width': '48%', 'display': 'inline-block'}),\n",
    "        html.Div([\n",
    "        html.Div(id='output1'),\n",
    "        html.Div(id='output2'),\n",
    "        html.Div(id='output3')\n",
    "    ], style={'width': '48%', 'float': 'right', 'display': 'inline-block'})\n",
    "])   \n",
    "    \n",
    "    \n",
    "\n",
    "@app.callback(\n",
    "    Output('Predict deaths map', 'figure'),\n",
    "    [\n",
    "        Input('dropdown-drought', 'value'),\n",
    "        Input('dropdown-wildfire', 'value'),\n",
    "        Input('dropdown-appeal', 'value'),\n",
    "        Input('slider-temp', 'value'),\n",
    "    ]\n",
    ")\n",
    "def update_map(drought, wildfire, appeal, temp):\n",
    "    df_new['Associated Drought']=drought\n",
    "    df_new['Associated Wildfire']=wildfire\n",
    "    df_new['Appeal or Declaration']=appeal\n",
    "    df_new['max_temperature']=temp\n",
    "    data = df_new[['log_GDP(million dollars)','log_Population(e+07)','Health expenditure (% of GDP)','max_temperature','Associated Drought','Associated Wildfire',\n",
    "        'Appeal or Declaration','duration']]\n",
    "    pred_death(data)\n",
    "    df_new['Prediction']=pred_death(data)\n",
    "    fig_death_pre_map=px.choropleth(df_new, locations=\"ISO\",color=\"Prediction\",range_color=(0, 5000))\n",
    "    return fig_death_pre_map\n",
    " \n",
    "\n",
    "\n",
    "@app.callback(\n",
    "    [Output('output1', 'children'),\n",
    "     Output('output2', 'children'),\n",
    "     Output('output3', 'children')],\n",
    "    [Input('date-dropdown', 'value')]\n",
    ")\n",
    "def update_output(selected_date):\n",
    "    selected_row = df_tem_pre[df_tem_pre['Date'] == pd.to_datetime(selected_date)].iloc[0]\n",
    "    ARIMA_value = round(selected_row['Predicted_ARIMA'],2)\n",
    "    RF_value = round(selected_row['Predicted_rf'],2)\n",
    "    output1= f\"One-day-ahead Prediction for {selected_date} is {ARIMA_value}\"\n",
    "    output2= f\"Seven-day-ahead Prediction for {selected_date} is {RF_value}\"\n",
    "    if ARIMA_value >= 25 and RF_value >= 25:\n",
    "        output3 = \"Please be cautious against heat.\"\n",
    "          \n",
    "    else:\n",
    "        output3 = \"The weather is suitable.\"\n",
    "\n",
    "    return output1, output2, output3\n",
    "\n",
    "\n",
    "\n",
    "if __name__ == '__main__':\n",
    "    app.run_server(debug=True, threaded=True,dev_tools_ui=False,dev_tools_props_check=False)\n",
    "\n",
    "\n"
   ]
  }
 ],
 "metadata": {
  "kernelspec": {
   "display_name": "Python 3 (ipykernel)",
   "language": "python",
   "name": "python3"
  },
  "language_info": {
   "codemirror_mode": {
    "name": "ipython",
    "version": 3
   },
   "file_extension": ".py",
   "mimetype": "text/x-python",
   "name": "python",
   "nbconvert_exporter": "python",
   "pygments_lexer": "ipython3",
   "version": "3.10.4"
  }
 },
 "nbformat": 4,
 "nbformat_minor": 5
}
